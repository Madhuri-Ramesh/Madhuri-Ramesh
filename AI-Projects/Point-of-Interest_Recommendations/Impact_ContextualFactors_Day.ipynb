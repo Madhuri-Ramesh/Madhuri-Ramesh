{
  "cells": [
    {
      "cell_type": "markdown",
      "metadata": {
        "application/vnd.databricks.v1+cell": {
          "cellMetadata": {
            "byteLimit": 2048000,
            "rowLimit": 10000
          },
          "inputWidgets": {},
          "nuid": "96816ed7-b08a-4ca3-abb9-f99880c3535d",
          "showTitle": false,
          "title": ""
        },
        "id": "BTUhLzxDBEhu"
      },
      "source": [
        "\n",
        "## Overview\n",
        "\n",
        "This notebook will show you how to create and query a table or DataFrame that you uploaded to DBFS. [DBFS](https://docs.databricks.com/user-guide/dbfs-databricks-file-system.html) is a Databricks File System that allows you to store data for querying inside of Databricks. This notebook assumes that you have a file already inside of DBFS that you would like to read from.\n",
        "\n",
        "This notebook is written in **Python** so the default cell type is Python. However, you can use different languages by using the `%LANGUAGE` syntax. Python, Scala, SQL, and R are all supported."
      ]
    },
    {
      "cell_type": "code",
      "execution_count": 58,
      "metadata": {
        "application/vnd.databricks.v1+cell": {
          "cellMetadata": {
            "byteLimit": 2048000,
            "rowLimit": 10000
          },
          "inputWidgets": {},
          "nuid": "661def2a-22d2-4fac-b186-d26851dd6a62",
          "showTitle": false,
          "title": ""
        },
        "colab": {
          "base_uri": "https://localhost:8080/"
        },
        "id": "HmQ37nS4BEhx",
        "outputId": "e83366d6-9a3b-4ac6-8822-a55959e22d4f"
      },
      "outputs": [
        {
          "output_type": "stream",
          "name": "stdout",
          "text": [
            "Requirement already satisfied: pip in /usr/local/lib/python3.10/dist-packages (23.2.1)\n",
            "\u001b[33mWARNING: Running pip as the 'root' user can result in broken permissions and conflicting behaviour with the system package manager. It is recommended to use a virtual environment instead: https://pip.pypa.io/warnings/venv\u001b[0m\u001b[33m\n",
            "\u001b[0m"
          ]
        }
      ],
      "source": [
        "!pip install --upgrade pip"
      ]
    },
    {
      "cell_type": "code",
      "execution_count": 59,
      "metadata": {
        "application/vnd.databricks.v1+cell": {
          "cellMetadata": {
            "byteLimit": 2048000,
            "rowLimit": 10000
          },
          "inputWidgets": {},
          "nuid": "6324f8c3-d08a-4cbc-836b-c6c9897d23b9",
          "showTitle": false,
          "title": ""
        },
        "colab": {
          "base_uri": "https://localhost:8080/"
        },
        "id": "GZYr98P5BEhy",
        "outputId": "53d9ccbd-6200-421d-8e9c-e5474d79bfa2"
      },
      "outputs": [
        {
          "output_type": "stream",
          "name": "stdout",
          "text": [
            "\u001b[33mWARNING: Running pip as the 'root' user can result in broken permissions and conflicting behaviour with the system package manager. It is recommended to use a virtual environment instead: https://pip.pypa.io/warnings/venv\u001b[0m\u001b[33m\n",
            "\u001b[0m"
          ]
        }
      ],
      "source": [
        "!pip install -q tensorflow-recommenders\n"
      ]
    },
    {
      "cell_type": "code",
      "execution_count": 60,
      "metadata": {
        "application/vnd.databricks.v1+cell": {
          "cellMetadata": {
            "byteLimit": 2048000,
            "rowLimit": 10000
          },
          "inputWidgets": {},
          "nuid": "a3bd3f6e-cbd5-45ad-82cd-924d55ac04f2",
          "showTitle": false,
          "title": ""
        },
        "id": "JK5hDokGBEhz"
      },
      "outputs": [],
      "source": [
        "import tensorflow as tf\n",
        "import pandas as pd\n",
        "import numpy as np\n",
        "import tensorflow_recommenders as tfrs\n",
        "from tensorflow.keras import regularizers\n",
        "import os\n",
        "import tempfile\n",
        "import sys\n",
        "import numpy\n",
        "import matplotlib\n"
      ]
    },
    {
      "cell_type": "code",
      "source": [
        "from google.colab import drive\n",
        "drive.mount('/content/drive')\n",
        "import os\n",
        "\n",
        "os.chdir('/content/drive/MyDrive/')"
      ],
      "metadata": {
        "colab": {
          "base_uri": "https://localhost:8080/"
        },
        "id": "X5mGVLvYDH3b",
        "outputId": "f9782ddc-d401-4f34-b061-41162298105b"
      },
      "execution_count": 61,
      "outputs": [
        {
          "output_type": "stream",
          "name": "stdout",
          "text": [
            "Drive already mounted at /content/drive; to attempt to forcibly remount, call drive.mount(\"/content/drive\", force_remount=True).\n"
          ]
        }
      ]
    },
    {
      "cell_type": "code",
      "execution_count": 62,
      "metadata": {
        "application/vnd.databricks.v1+cell": {
          "cellMetadata": {
            "byteLimit": 2048000,
            "rowLimit": 10000
          },
          "inputWidgets": {},
          "nuid": "6482be4c-f067-47c9-b0ac-35c938b94601",
          "showTitle": false,
          "title": ""
        },
        "colab": {
          "base_uri": "https://localhost:8080/"
        },
        "id": "PBDxsinzBEhz",
        "outputId": "06ccb73b-26f0-43fd-e737-ee513b0c101c"
      },
      "outputs": [
        {
          "output_type": "stream",
          "name": "stdout",
          "text": [
            "944\n"
          ]
        }
      ],
      "source": [
        "df = pd.read_csv('/content/drive/MyDrive/Book2.csv')\n",
        "feature_names = ['identifier','poi','event_ts','fueltype','day']\n",
        "features = df[feature_names].astype(str)\n",
        "dataset = tf.data.Dataset.from_tensor_slices(dict(features))\n",
        "poi_dataset = dataset.map(lambda x: x[\"poi\"])\n",
        "dataset = dataset.map(lambda x: {\n",
        "    \"identifier\": (x[\"identifier\"]),\n",
        "    \"poi\": (x[\"poi\"]),\n",
        "    \"event_ts\": int(x[\"event_ts\"]),\n",
        "    \"fueltype\": (x[\"fueltype\"]),\n",
        "    \"day\": (x[\"day\"]),\n",
        " })\n",
        "\n",
        "print(len(dataset))\n",
        "\n",
        "\n"
      ]
    },
    {
      "cell_type": "code",
      "execution_count": 63,
      "metadata": {
        "application/vnd.databricks.v1+cell": {
          "cellMetadata": {
            "byteLimit": 2048000,
            "rowLimit": 10000
          },
          "inputWidgets": {},
          "nuid": "b5749363-c98a-43ed-911f-24cf39c33b4c",
          "showTitle": false,
          "title": ""
        },
        "id": "a5ea75RuBEhz"
      },
      "outputs": [],
      "source": [
        "timestamps = np.concatenate(list(dataset.map(lambda x: x[\"event_ts\"]).batch(100)))\n",
        "max_timestamp = timestamps.max()\n",
        "min_timestamp = timestamps.min()\n",
        "timestamp_buckets = np.linspace(\n",
        "    min_timestamp, max_timestamp, num=1000,)\n",
        "unique_user_ids = np.unique(np.concatenate(list(dataset.batch(1_000).map(\n",
        "    lambda x: x[\"identifier\"]))))\n",
        "unique_fueltype_ids = np.unique(np.concatenate(list(dataset.batch(1_000).map(\n",
        "    lambda x: x[\"fueltype\"]))))\n",
        "unique_day_ids = np.unique(np.concatenate(list(dataset.batch(1_000).map(\n",
        "    lambda x: x[\"day\"]))))\n",
        "unique_poi_ids = np.unique(np.concatenate(list(poi_dataset.batch(1_000))))\n"
      ]
    },
    {
      "cell_type": "code",
      "execution_count": 64,
      "metadata": {
        "application/vnd.databricks.v1+cell": {
          "cellMetadata": {
            "byteLimit": 2048000,
            "rowLimit": 10000
          },
          "inputWidgets": {},
          "nuid": "c6769647-9494-46d6-99c5-fe53d3280a11",
          "showTitle": false,
          "title": ""
        },
        "id": "DIcyNqE7BEhz"
      },
      "outputs": [],
      "source": [
        "class PoiModel(tf.keras.Model):\n",
        "\n",
        "  def __init__(self):\n",
        "    super().__init__()\n",
        "\n",
        "    max_tokens = 10_000\n",
        "\n",
        "    self.poi_embedding = tf.keras.Sequential([\n",
        "      tf.keras.layers.StringLookup(\n",
        "          vocabulary=unique_poi_ids, mask_token=None),\n",
        "      tf.keras.layers.Embedding(len(unique_poi_ids) + 1, 32)\n",
        "    ])\n",
        "\n",
        "  def call(self,titles):\n",
        "\n",
        "    return self.poi_embedding(titles)"
      ]
    },
    {
      "cell_type": "code",
      "execution_count": 65,
      "metadata": {
        "application/vnd.databricks.v1+cell": {
          "cellMetadata": {
            "byteLimit": 2048000,
            "rowLimit": 10000
          },
          "inputWidgets": {},
          "nuid": "79527b9b-09d8-4460-8efe-6a84e839ac1b",
          "showTitle": false,
          "title": ""
        },
        "id": "94obYi5VBEh0"
      },
      "outputs": [],
      "source": [
        "class UserModel(tf.keras.Model):\n",
        "\n",
        "    def __init__(self):\n",
        "        super().__init__()\n",
        "\n",
        "        self.user_embedding = tf.keras.Sequential([\n",
        "            tf.keras.layers.StringLookup(\n",
        "                vocabulary=unique_user_ids, mask_token=None),\n",
        "            tf.keras.layers.Embedding(len(unique_user_ids) + 1, 32),\n",
        "        ])\n",
        "\n",
        "        self.day_embedding = tf.keras.Sequential([\n",
        "            tf.keras.layers.StringLookup(\n",
        "                vocabulary=unique_day_ids, mask_token=None),\n",
        "            tf.keras.layers.Embedding(len(unique_day_ids) + 1, 32),\n",
        "        ])\n",
        "\n",
        "        #self.fueltype_embedding = tf.keras.Sequential([\n",
        "            #tf.keras.layers.StringLookup(\n",
        "                #vocabulary=unique_fueltype_ids, mask_token=None),\n",
        "\n",
        "            #tf.keras.layers.Embedding(len(unique_fueltype_ids) + 1, 32),\n",
        "        #])\n",
        "\n",
        "        #self.timestamp_embedding = tf.keras.Sequential([\n",
        "            #tf.keras.layers.Discretization(timestamp_buckets.tolist()),\n",
        "            #tf.keras.layers.Embedding(len(timestamp_buckets) + 1, 32),\n",
        "        #])\n",
        "        #self.normalized_timestamp = tf.keras.layers.Normalization(axis=None)\n",
        "\n",
        "        #self.normalized_timestamp.adapt(timestamps)\n",
        "\n",
        "    def call(self, inputs):\n",
        "\n",
        "       return tf.concat([\n",
        "        self.user_embedding(inputs[\"identifier\"]),\n",
        "        self.day_embedding(inputs[\"day\"]),\n",
        "        #self.fueltype_embedding(inputs[\"fueltype\"]),\n",
        "        #self.timestamp_embedding(inputs[\"event_ts\"]),\n",
        "        #tf.reshape(self.normalized_timestamp(inputs[\"event_ts\"]), (-1, 1)),\n",
        "        ], axis=1)\n",
        ""
      ]
    },
    {
      "cell_type": "code",
      "execution_count": 66,
      "metadata": {
        "application/vnd.databricks.v1+cell": {
          "cellMetadata": {
            "byteLimit": 2048000,
            "rowLimit": 10000
          },
          "inputWidgets": {},
          "nuid": "d73be0d2-c38f-4dfb-b4a0-b05f430a61d1",
          "showTitle": false,
          "title": ""
        },
        "id": "4YN-N1SpBEh0"
      },
      "outputs": [],
      "source": [
        "class QueryModel(tf.keras.Model):\n",
        " def __init__(self, layer_sizes):\n",
        "\n",
        "  super().__init__()\n",
        "\n",
        "\n",
        "  self.embedding_model = UserModel()\n",
        "\n",
        "\n",
        "  self.dense_layers = tf.keras.Sequential()\n",
        "\n",
        "\n",
        "  for layer_size in layer_sizes[:-1]:\n",
        "\n",
        "\n",
        "      self.dense_layers.add(tf.keras.layers.Dense(layer_size, activation=\"relu\"))\n",
        "\n",
        "\n",
        "  for layer_size in layer_sizes[-1:]:\n",
        "      self.dense_layers.add(tf.keras.layers.Dense(layer_size))\n",
        "\n",
        " def call(self, inputs):\n",
        "    feature_embedding = self.embedding_model(inputs)\n",
        "    return self.dense_layers(feature_embedding)"
      ]
    },
    {
      "cell_type": "code",
      "execution_count": 67,
      "metadata": {
        "application/vnd.databricks.v1+cell": {
          "cellMetadata": {
            "byteLimit": 2048000,
            "rowLimit": 10000
          },
          "inputWidgets": {},
          "nuid": "ce2467f8-9b83-45fe-b598-a2555896ef33",
          "showTitle": false,
          "title": ""
        },
        "id": "oo1waGEgBEh0"
      },
      "outputs": [],
      "source": [
        "class CandidateModel(tf.keras.Model):\n",
        "\n",
        "\n",
        "  def __init__(self, layer_sizes):\n",
        "\n",
        "    super().__init__()\n",
        "\n",
        "    self.embedding_model = PoiModel()\n",
        "\n",
        "\n",
        "    self.dense_layers = tf.keras.Sequential()\n",
        "\n",
        "\n",
        "    for layer_size in layer_sizes[:-1]:\n",
        "\n",
        "      self.dense_layers.add(tf.keras.layers.Dense(layer_size, activation=\"relu\"))\n",
        "\n",
        "\n",
        "    for layer_size in layer_sizes[-1:]:\n",
        "      self.dense_layers.add(tf.keras.layers.Dense(layer_size))\n",
        "\n",
        "  def call(self, inputs):\n",
        "    feature_embedding = self.embedding_model(inputs)\n",
        "    return self.dense_layers(feature_embedding)"
      ]
    },
    {
      "cell_type": "code",
      "execution_count": 68,
      "metadata": {
        "application/vnd.databricks.v1+cell": {
          "cellMetadata": {
            "byteLimit": 2048000,
            "rowLimit": 10000
          },
          "inputWidgets": {},
          "nuid": "d98ae2db-39f3-46fb-9017-5b3ba9d87042",
          "showTitle": false,
          "title": ""
        },
        "id": "HaC6jIR7BEh0"
      },
      "outputs": [],
      "source": [
        "class MainModel(tfrs.models.Model):\n",
        "\n",
        "\n",
        "    def __init__(self, layer_sizes):\n",
        "      super().__init__()\n",
        "      self.query_model = QueryModel(layer_sizes)\n",
        "      self.candidate_model = CandidateModel(layer_sizes)\n",
        "\n",
        "      self.task = tfrs.tasks.Retrieval(\n",
        "        metrics=tfrs.metrics.FactorizedTopK(\n",
        "            candidates=poi_dataset.batch(128).map(self.candidate_model),\n",
        "        ),\n",
        "    )\n",
        "\n",
        "    def compute_loss(self, features, training=False):\n",
        "\n",
        "     query_embeddings = self.query_model({\n",
        "        \"identifier\":features[\"identifier\"],\n",
        "        #\"event_ts\":features[\"event_ts\"],\n",
        "        #\"fueltype\":features[\"fueltype\"],\n",
        "        \"day\":features[\"day\"],\n",
        "      })\n",
        "\n",
        "     poi_embeddings = self.candidate_model(\n",
        "       features[\"poi\"]\n",
        "         )\n",
        "\n",
        "\n",
        "     return self.task(query_embeddings,poi_embeddings)"
      ]
    },
    {
      "cell_type": "code",
      "execution_count": 69,
      "metadata": {
        "application/vnd.databricks.v1+cell": {
          "cellMetadata": {
            "byteLimit": 2048000,
            "rowLimit": 10000
          },
          "inputWidgets": {},
          "nuid": "5d96cd92-a78f-48c2-b693-f07fbf019751",
          "showTitle": false,
          "title": ""
        },
        "colab": {
          "base_uri": "https://localhost:8080/"
        },
        "id": "vNl6cZtFBEh1",
        "outputId": "c5b574ef-683e-4014-e06f-a9a9b77c3f56"
      },
      "outputs": [
        {
          "output_type": "stream",
          "name": "stdout",
          "text": [
            "Epoch 1/50\n",
            "24/24 [==============================] - 6s 171ms/step - factorized_top_k/top_1_categorical_accuracy: 0.0940 - factorized_top_k/top_5_categorical_accuracy: 0.0940 - factorized_top_k/top_10_categorical_accuracy: 0.0993 - factorized_top_k/top_50_categorical_accuracy: 0.1510 - factorized_top_k/top_100_categorical_accuracy: 0.2265 - loss: 94.6547 - regularization_loss: 0.0000e+00 - total_loss: 94.6547\n",
            "Epoch 2/50\n",
            "24/24 [==============================] - 4s 176ms/step - factorized_top_k/top_1_categorical_accuracy: 0.1232 - factorized_top_k/top_5_categorical_accuracy: 0.1351 - factorized_top_k/top_10_categorical_accuracy: 0.1642 - factorized_top_k/top_50_categorical_accuracy: 0.2980 - factorized_top_k/top_100_categorical_accuracy: 0.3987 - loss: 82.6390 - regularization_loss: 0.0000e+00 - total_loss: 82.6390\n",
            "Epoch 3/50\n",
            "24/24 [==============================] - 7s 293ms/step - factorized_top_k/top_1_categorical_accuracy: 0.1152 - factorized_top_k/top_5_categorical_accuracy: 0.1391 - factorized_top_k/top_10_categorical_accuracy: 0.1828 - factorized_top_k/top_50_categorical_accuracy: 0.3603 - factorized_top_k/top_100_categorical_accuracy: 0.4967 - loss: 73.6458 - regularization_loss: 0.0000e+00 - total_loss: 73.6458\n",
            "Epoch 4/50\n",
            "24/24 [==============================] - 5s 188ms/step - factorized_top_k/top_1_categorical_accuracy: 0.1272 - factorized_top_k/top_5_categorical_accuracy: 0.1894 - factorized_top_k/top_10_categorical_accuracy: 0.2278 - factorized_top_k/top_50_categorical_accuracy: 0.4318 - factorized_top_k/top_100_categorical_accuracy: 0.5695 - loss: 66.7201 - regularization_loss: 0.0000e+00 - total_loss: 66.7201\n",
            "Epoch 5/50\n",
            "24/24 [==============================] - 5s 193ms/step - factorized_top_k/top_1_categorical_accuracy: 0.1417 - factorized_top_k/top_5_categorical_accuracy: 0.2132 - factorized_top_k/top_10_categorical_accuracy: 0.2662 - factorized_top_k/top_50_categorical_accuracy: 0.4556 - factorized_top_k/top_100_categorical_accuracy: 0.5881 - loss: 64.9184 - regularization_loss: 0.0000e+00 - total_loss: 64.9184\n",
            "Epoch 6/50\n",
            "24/24 [==============================] - 3s 104ms/step - factorized_top_k/top_1_categorical_accuracy: 0.1483 - factorized_top_k/top_5_categorical_accuracy: 0.2212 - factorized_top_k/top_10_categorical_accuracy: 0.2795 - factorized_top_k/top_50_categorical_accuracy: 0.4808 - factorized_top_k/top_100_categorical_accuracy: 0.5828 - loss: 61.2976 - regularization_loss: 0.0000e+00 - total_loss: 61.2976\n",
            "Epoch 7/50\n",
            "24/24 [==============================] - 2s 79ms/step - factorized_top_k/top_1_categorical_accuracy: 0.1576 - factorized_top_k/top_5_categorical_accuracy: 0.2437 - factorized_top_k/top_10_categorical_accuracy: 0.2993 - factorized_top_k/top_50_categorical_accuracy: 0.4808 - factorized_top_k/top_100_categorical_accuracy: 0.6000 - loss: 58.6645 - regularization_loss: 0.0000e+00 - total_loss: 58.6645\n",
            "Epoch 8/50\n",
            "24/24 [==============================] - 2s 83ms/step - factorized_top_k/top_1_categorical_accuracy: 0.1709 - factorized_top_k/top_5_categorical_accuracy: 0.2543 - factorized_top_k/top_10_categorical_accuracy: 0.3179 - factorized_top_k/top_50_categorical_accuracy: 0.5073 - factorized_top_k/top_100_categorical_accuracy: 0.6106 - loss: 58.3682 - regularization_loss: 0.0000e+00 - total_loss: 58.3682\n",
            "Epoch 9/50\n",
            "24/24 [==============================] - 2s 79ms/step - factorized_top_k/top_1_categorical_accuracy: 0.1417 - factorized_top_k/top_5_categorical_accuracy: 0.2556 - factorized_top_k/top_10_categorical_accuracy: 0.2967 - factorized_top_k/top_50_categorical_accuracy: 0.4901 - factorized_top_k/top_100_categorical_accuracy: 0.6146 - loss: 57.4485 - regularization_loss: 0.0000e+00 - total_loss: 57.4485\n",
            "Epoch 10/50\n",
            "24/24 [==============================] - 3s 137ms/step - factorized_top_k/top_1_categorical_accuracy: 0.1695 - factorized_top_k/top_5_categorical_accuracy: 0.2689 - factorized_top_k/top_10_categorical_accuracy: 0.3311 - factorized_top_k/top_50_categorical_accuracy: 0.4980 - factorized_top_k/top_100_categorical_accuracy: 0.6225 - loss: 56.8439 - regularization_loss: 0.0000e+00 - total_loss: 56.8439\n",
            "Epoch 11/50\n",
            "24/24 [==============================] - 2s 80ms/step - factorized_top_k/top_1_categorical_accuracy: 0.1497 - factorized_top_k/top_5_categorical_accuracy: 0.2450 - factorized_top_k/top_10_categorical_accuracy: 0.3086 - factorized_top_k/top_50_categorical_accuracy: 0.4901 - factorized_top_k/top_100_categorical_accuracy: 0.5974 - loss: 56.2712 - regularization_loss: 0.0000e+00 - total_loss: 56.2712\n",
            "Epoch 12/50\n",
            "24/24 [==============================] - 2s 77ms/step - factorized_top_k/top_1_categorical_accuracy: 0.1788 - factorized_top_k/top_5_categorical_accuracy: 0.2781 - factorized_top_k/top_10_categorical_accuracy: 0.3510 - factorized_top_k/top_50_categorical_accuracy: 0.5205 - factorized_top_k/top_100_categorical_accuracy: 0.6397 - loss: 55.8832 - regularization_loss: 0.0000e+00 - total_loss: 55.8832\n",
            "Epoch 13/50\n",
            "24/24 [==============================] - 2s 81ms/step - factorized_top_k/top_1_categorical_accuracy: 0.1775 - factorized_top_k/top_5_categorical_accuracy: 0.2742 - factorized_top_k/top_10_categorical_accuracy: 0.3272 - factorized_top_k/top_50_categorical_accuracy: 0.4914 - factorized_top_k/top_100_categorical_accuracy: 0.6265 - loss: 55.4238 - regularization_loss: 0.0000e+00 - total_loss: 55.4238\n",
            "Epoch 14/50\n",
            "24/24 [==============================] - 2s 80ms/step - factorized_top_k/top_1_categorical_accuracy: 0.1656 - factorized_top_k/top_5_categorical_accuracy: 0.2649 - factorized_top_k/top_10_categorical_accuracy: 0.3126 - factorized_top_k/top_50_categorical_accuracy: 0.5099 - factorized_top_k/top_100_categorical_accuracy: 0.6291 - loss: 55.7843 - regularization_loss: 0.0000e+00 - total_loss: 55.7843\n",
            "Epoch 15/50\n",
            "24/24 [==============================] - 3s 128ms/step - factorized_top_k/top_1_categorical_accuracy: 0.1642 - factorized_top_k/top_5_categorical_accuracy: 0.2570 - factorized_top_k/top_10_categorical_accuracy: 0.3139 - factorized_top_k/top_50_categorical_accuracy: 0.4861 - factorized_top_k/top_100_categorical_accuracy: 0.6132 - loss: 55.6578 - regularization_loss: 0.0000e+00 - total_loss: 55.6578\n",
            "Epoch 16/50\n",
            "24/24 [==============================] - 3s 118ms/step - factorized_top_k/top_1_categorical_accuracy: 0.1642 - factorized_top_k/top_5_categorical_accuracy: 0.2728 - factorized_top_k/top_10_categorical_accuracy: 0.3404 - factorized_top_k/top_50_categorical_accuracy: 0.5060 - factorized_top_k/top_100_categorical_accuracy: 0.6265 - loss: 54.1325 - regularization_loss: 0.0000e+00 - total_loss: 54.1325\n",
            "Epoch 17/50\n",
            "24/24 [==============================] - 2s 83ms/step - factorized_top_k/top_1_categorical_accuracy: 0.1854 - factorized_top_k/top_5_categorical_accuracy: 0.2808 - factorized_top_k/top_10_categorical_accuracy: 0.3258 - factorized_top_k/top_50_categorical_accuracy: 0.5192 - factorized_top_k/top_100_categorical_accuracy: 0.6305 - loss: 53.8374 - regularization_loss: 0.0000e+00 - total_loss: 53.8374\n",
            "Epoch 18/50\n",
            "24/24 [==============================] - 2s 85ms/step - factorized_top_k/top_1_categorical_accuracy: 0.1775 - factorized_top_k/top_5_categorical_accuracy: 0.2755 - factorized_top_k/top_10_categorical_accuracy: 0.3245 - factorized_top_k/top_50_categorical_accuracy: 0.5007 - factorized_top_k/top_100_categorical_accuracy: 0.6265 - loss: 54.0720 - regularization_loss: 0.0000e+00 - total_loss: 54.0720\n",
            "Epoch 19/50\n",
            "24/24 [==============================] - 2s 81ms/step - factorized_top_k/top_1_categorical_accuracy: 0.1272 - factorized_top_k/top_5_categorical_accuracy: 0.2265 - factorized_top_k/top_10_categorical_accuracy: 0.2887 - factorized_top_k/top_50_categorical_accuracy: 0.4702 - factorized_top_k/top_100_categorical_accuracy: 0.5854 - loss: 54.3074 - regularization_loss: 0.0000e+00 - total_loss: 54.3074\n",
            "Epoch 20/50\n",
            "24/24 [==============================] - 3s 136ms/step - factorized_top_k/top_1_categorical_accuracy: 0.1695 - factorized_top_k/top_5_categorical_accuracy: 0.2583 - factorized_top_k/top_10_categorical_accuracy: 0.3033 - factorized_top_k/top_50_categorical_accuracy: 0.4940 - factorized_top_k/top_100_categorical_accuracy: 0.6106 - loss: 53.7548 - regularization_loss: 0.0000e+00 - total_loss: 53.7548\n",
            "Epoch 21/50\n",
            "24/24 [==============================] - 2s 82ms/step - factorized_top_k/top_1_categorical_accuracy: 0.1536 - factorized_top_k/top_5_categorical_accuracy: 0.2742 - factorized_top_k/top_10_categorical_accuracy: 0.3258 - factorized_top_k/top_50_categorical_accuracy: 0.5099 - factorized_top_k/top_100_categorical_accuracy: 0.6159 - loss: 53.9982 - regularization_loss: 0.0000e+00 - total_loss: 53.9982\n",
            "Epoch 22/50\n",
            "24/24 [==============================] - 2s 81ms/step - factorized_top_k/top_1_categorical_accuracy: 0.1815 - factorized_top_k/top_5_categorical_accuracy: 0.2861 - factorized_top_k/top_10_categorical_accuracy: 0.3298 - factorized_top_k/top_50_categorical_accuracy: 0.5139 - factorized_top_k/top_100_categorical_accuracy: 0.6344 - loss: 53.9061 - regularization_loss: 0.0000e+00 - total_loss: 53.9061\n",
            "Epoch 23/50\n",
            "24/24 [==============================] - 2s 81ms/step - factorized_top_k/top_1_categorical_accuracy: 0.1775 - factorized_top_k/top_5_categorical_accuracy: 0.2768 - factorized_top_k/top_10_categorical_accuracy: 0.3298 - factorized_top_k/top_50_categorical_accuracy: 0.4993 - factorized_top_k/top_100_categorical_accuracy: 0.6212 - loss: 52.3712 - regularization_loss: 0.0000e+00 - total_loss: 52.3712\n",
            "Epoch 24/50\n",
            "24/24 [==============================] - 2s 81ms/step - factorized_top_k/top_1_categorical_accuracy: 0.1868 - factorized_top_k/top_5_categorical_accuracy: 0.2954 - factorized_top_k/top_10_categorical_accuracy: 0.3483 - factorized_top_k/top_50_categorical_accuracy: 0.5272 - factorized_top_k/top_100_categorical_accuracy: 0.6517 - loss: 53.4911 - regularization_loss: 0.0000e+00 - total_loss: 53.4911\n",
            "Epoch 25/50\n",
            "24/24 [==============================] - 3s 136ms/step - factorized_top_k/top_1_categorical_accuracy: 0.1497 - factorized_top_k/top_5_categorical_accuracy: 0.2649 - factorized_top_k/top_10_categorical_accuracy: 0.3139 - factorized_top_k/top_50_categorical_accuracy: 0.5192 - factorized_top_k/top_100_categorical_accuracy: 0.6371 - loss: 53.5853 - regularization_loss: 0.0000e+00 - total_loss: 53.5853\n",
            "Epoch 26/50\n",
            "24/24 [==============================] - 2s 81ms/step - factorized_top_k/top_1_categorical_accuracy: 0.1642 - factorized_top_k/top_5_categorical_accuracy: 0.2821 - factorized_top_k/top_10_categorical_accuracy: 0.3325 - factorized_top_k/top_50_categorical_accuracy: 0.5179 - factorized_top_k/top_100_categorical_accuracy: 0.6291 - loss: 54.2510 - regularization_loss: 0.0000e+00 - total_loss: 54.2510\n",
            "Epoch 27/50\n",
            "24/24 [==============================] - 2s 81ms/step - factorized_top_k/top_1_categorical_accuracy: 0.1841 - factorized_top_k/top_5_categorical_accuracy: 0.2795 - factorized_top_k/top_10_categorical_accuracy: 0.3430 - factorized_top_k/top_50_categorical_accuracy: 0.5272 - factorized_top_k/top_100_categorical_accuracy: 0.6503 - loss: 52.2197 - regularization_loss: 0.0000e+00 - total_loss: 52.2197\n",
            "Epoch 28/50\n",
            "24/24 [==============================] - 2s 84ms/step - factorized_top_k/top_1_categorical_accuracy: 0.1854 - factorized_top_k/top_5_categorical_accuracy: 0.2755 - factorized_top_k/top_10_categorical_accuracy: 0.3325 - factorized_top_k/top_50_categorical_accuracy: 0.5338 - factorized_top_k/top_100_categorical_accuracy: 0.6517 - loss: 52.0005 - regularization_loss: 0.0000e+00 - total_loss: 52.0005\n",
            "Epoch 29/50\n",
            "24/24 [==============================] - 2s 83ms/step - factorized_top_k/top_1_categorical_accuracy: 0.1682 - factorized_top_k/top_5_categorical_accuracy: 0.2662 - factorized_top_k/top_10_categorical_accuracy: 0.3272 - factorized_top_k/top_50_categorical_accuracy: 0.5298 - factorized_top_k/top_100_categorical_accuracy: 0.6490 - loss: 52.6627 - regularization_loss: 0.0000e+00 - total_loss: 52.6627\n",
            "Epoch 30/50\n",
            "24/24 [==============================] - 3s 135ms/step - factorized_top_k/top_1_categorical_accuracy: 0.2053 - factorized_top_k/top_5_categorical_accuracy: 0.3020 - factorized_top_k/top_10_categorical_accuracy: 0.3603 - factorized_top_k/top_50_categorical_accuracy: 0.5430 - factorized_top_k/top_100_categorical_accuracy: 0.6609 - loss: 52.4516 - regularization_loss: 0.0000e+00 - total_loss: 52.4516\n",
            "Epoch 31/50\n",
            "24/24 [==============================] - 2s 84ms/step - factorized_top_k/top_1_categorical_accuracy: 0.1801 - factorized_top_k/top_5_categorical_accuracy: 0.2808 - factorized_top_k/top_10_categorical_accuracy: 0.3417 - factorized_top_k/top_50_categorical_accuracy: 0.5232 - factorized_top_k/top_100_categorical_accuracy: 0.6252 - loss: 52.8274 - regularization_loss: 0.0000e+00 - total_loss: 52.8274\n",
            "Epoch 32/50\n",
            "24/24 [==============================] - 2s 82ms/step - factorized_top_k/top_1_categorical_accuracy: 0.1815 - factorized_top_k/top_5_categorical_accuracy: 0.2675 - factorized_top_k/top_10_categorical_accuracy: 0.3113 - factorized_top_k/top_50_categorical_accuracy: 0.5007 - factorized_top_k/top_100_categorical_accuracy: 0.6159 - loss: 53.7027 - regularization_loss: 0.0000e+00 - total_loss: 53.7027\n",
            "Epoch 33/50\n",
            "24/24 [==============================] - 2s 80ms/step - factorized_top_k/top_1_categorical_accuracy: 0.2040 - factorized_top_k/top_5_categorical_accuracy: 0.3099 - factorized_top_k/top_10_categorical_accuracy: 0.3642 - factorized_top_k/top_50_categorical_accuracy: 0.5550 - factorized_top_k/top_100_categorical_accuracy: 0.6609 - loss: 53.3332 - regularization_loss: 0.0000e+00 - total_loss: 53.3332\n",
            "Epoch 34/50\n",
            "24/24 [==============================] - 2s 83ms/step - factorized_top_k/top_1_categorical_accuracy: 0.1735 - factorized_top_k/top_5_categorical_accuracy: 0.2808 - factorized_top_k/top_10_categorical_accuracy: 0.3351 - factorized_top_k/top_50_categorical_accuracy: 0.5219 - factorized_top_k/top_100_categorical_accuracy: 0.6344 - loss: 52.5619 - regularization_loss: 0.0000e+00 - total_loss: 52.5619\n",
            "Epoch 35/50\n",
            "24/24 [==============================] - 4s 170ms/step - factorized_top_k/top_1_categorical_accuracy: 0.1947 - factorized_top_k/top_5_categorical_accuracy: 0.2980 - factorized_top_k/top_10_categorical_accuracy: 0.3377 - factorized_top_k/top_50_categorical_accuracy: 0.5444 - factorized_top_k/top_100_categorical_accuracy: 0.6570 - loss: 51.1759 - regularization_loss: 0.0000e+00 - total_loss: 51.1759\n",
            "Epoch 36/50\n",
            "24/24 [==============================] - 2s 81ms/step - factorized_top_k/top_1_categorical_accuracy: 0.1669 - factorized_top_k/top_5_categorical_accuracy: 0.2781 - factorized_top_k/top_10_categorical_accuracy: 0.3364 - factorized_top_k/top_50_categorical_accuracy: 0.5179 - factorized_top_k/top_100_categorical_accuracy: 0.6212 - loss: 52.3479 - regularization_loss: 0.0000e+00 - total_loss: 52.3479\n",
            "Epoch 37/50\n",
            "24/24 [==============================] - 2s 82ms/step - factorized_top_k/top_1_categorical_accuracy: 0.1841 - factorized_top_k/top_5_categorical_accuracy: 0.2675 - factorized_top_k/top_10_categorical_accuracy: 0.3338 - factorized_top_k/top_50_categorical_accuracy: 0.5351 - factorized_top_k/top_100_categorical_accuracy: 0.6278 - loss: 52.5604 - regularization_loss: 0.0000e+00 - total_loss: 52.5604\n",
            "Epoch 38/50\n",
            "24/24 [==============================] - 3s 121ms/step - factorized_top_k/top_1_categorical_accuracy: 0.1801 - factorized_top_k/top_5_categorical_accuracy: 0.2636 - factorized_top_k/top_10_categorical_accuracy: 0.3205 - factorized_top_k/top_50_categorical_accuracy: 0.5113 - factorized_top_k/top_100_categorical_accuracy: 0.6159 - loss: 51.5647 - regularization_loss: 0.0000e+00 - total_loss: 51.5647\n",
            "Epoch 39/50\n",
            "24/24 [==============================] - 3s 134ms/step - factorized_top_k/top_1_categorical_accuracy: 0.1828 - factorized_top_k/top_5_categorical_accuracy: 0.2967 - factorized_top_k/top_10_categorical_accuracy: 0.3536 - factorized_top_k/top_50_categorical_accuracy: 0.5311 - factorized_top_k/top_100_categorical_accuracy: 0.6570 - loss: 52.0620 - regularization_loss: 0.0000e+00 - total_loss: 52.0620\n",
            "Epoch 40/50\n",
            "24/24 [==============================] - 2s 83ms/step - factorized_top_k/top_1_categorical_accuracy: 0.1947 - factorized_top_k/top_5_categorical_accuracy: 0.2808 - factorized_top_k/top_10_categorical_accuracy: 0.3470 - factorized_top_k/top_50_categorical_accuracy: 0.5298 - factorized_top_k/top_100_categorical_accuracy: 0.6556 - loss: 52.9584 - regularization_loss: 0.0000e+00 - total_loss: 52.9584\n",
            "Epoch 41/50\n",
            "24/24 [==============================] - 2s 82ms/step - factorized_top_k/top_1_categorical_accuracy: 0.1841 - factorized_top_k/top_5_categorical_accuracy: 0.2808 - factorized_top_k/top_10_categorical_accuracy: 0.3364 - factorized_top_k/top_50_categorical_accuracy: 0.5046 - factorized_top_k/top_100_categorical_accuracy: 0.6344 - loss: 52.4285 - regularization_loss: 0.0000e+00 - total_loss: 52.4285\n",
            "Epoch 42/50\n",
            "24/24 [==============================] - 2s 83ms/step - factorized_top_k/top_1_categorical_accuracy: 0.2026 - factorized_top_k/top_5_categorical_accuracy: 0.3007 - factorized_top_k/top_10_categorical_accuracy: 0.3536 - factorized_top_k/top_50_categorical_accuracy: 0.5695 - factorized_top_k/top_100_categorical_accuracy: 0.6887 - loss: 52.3113 - regularization_loss: 0.0000e+00 - total_loss: 52.3113\n",
            "Epoch 43/50\n",
            "24/24 [==============================] - 2s 81ms/step - factorized_top_k/top_1_categorical_accuracy: 0.1960 - factorized_top_k/top_5_categorical_accuracy: 0.2901 - factorized_top_k/top_10_categorical_accuracy: 0.3576 - factorized_top_k/top_50_categorical_accuracy: 0.5272 - factorized_top_k/top_100_categorical_accuracy: 0.6450 - loss: 51.9697 - regularization_loss: 0.0000e+00 - total_loss: 51.9697\n",
            "Epoch 44/50\n",
            "24/24 [==============================] - 3s 134ms/step - factorized_top_k/top_1_categorical_accuracy: 0.1682 - factorized_top_k/top_5_categorical_accuracy: 0.2556 - factorized_top_k/top_10_categorical_accuracy: 0.3298 - factorized_top_k/top_50_categorical_accuracy: 0.5152 - factorized_top_k/top_100_categorical_accuracy: 0.6371 - loss: 51.5991 - regularization_loss: 0.0000e+00 - total_loss: 51.5991\n",
            "Epoch 45/50\n",
            "24/24 [==============================] - 3s 101ms/step - factorized_top_k/top_1_categorical_accuracy: 0.2106 - factorized_top_k/top_5_categorical_accuracy: 0.2954 - factorized_top_k/top_10_categorical_accuracy: 0.3669 - factorized_top_k/top_50_categorical_accuracy: 0.5457 - factorized_top_k/top_100_categorical_accuracy: 0.6556 - loss: 51.4993 - regularization_loss: 0.0000e+00 - total_loss: 51.4993\n",
            "Epoch 46/50\n",
            "24/24 [==============================] - 2s 82ms/step - factorized_top_k/top_1_categorical_accuracy: 0.1868 - factorized_top_k/top_5_categorical_accuracy: 0.2901 - factorized_top_k/top_10_categorical_accuracy: 0.3483 - factorized_top_k/top_50_categorical_accuracy: 0.5457 - factorized_top_k/top_100_categorical_accuracy: 0.6570 - loss: 51.4676 - regularization_loss: 0.0000e+00 - total_loss: 51.4676\n",
            "Epoch 47/50\n",
            "24/24 [==============================] - 2s 80ms/step - factorized_top_k/top_1_categorical_accuracy: 0.2040 - factorized_top_k/top_5_categorical_accuracy: 0.3073 - factorized_top_k/top_10_categorical_accuracy: 0.3709 - factorized_top_k/top_50_categorical_accuracy: 0.5563 - factorized_top_k/top_100_categorical_accuracy: 0.6623 - loss: 51.2291 - regularization_loss: 0.0000e+00 - total_loss: 51.2291\n",
            "Epoch 48/50\n",
            "24/24 [==============================] - 2s 81ms/step - factorized_top_k/top_1_categorical_accuracy: 0.1801 - factorized_top_k/top_5_categorical_accuracy: 0.2821 - factorized_top_k/top_10_categorical_accuracy: 0.3377 - factorized_top_k/top_50_categorical_accuracy: 0.5219 - factorized_top_k/top_100_categorical_accuracy: 0.6397 - loss: 51.3411 - regularization_loss: 0.0000e+00 - total_loss: 51.3411\n",
            "Epoch 49/50\n",
            "24/24 [==============================] - 2s 93ms/step - factorized_top_k/top_1_categorical_accuracy: 0.1921 - factorized_top_k/top_5_categorical_accuracy: 0.2834 - factorized_top_k/top_10_categorical_accuracy: 0.3457 - factorized_top_k/top_50_categorical_accuracy: 0.5351 - factorized_top_k/top_100_categorical_accuracy: 0.6583 - loss: 51.7684 - regularization_loss: 0.0000e+00 - total_loss: 51.7684\n",
            "Epoch 50/50\n",
            "24/24 [==============================] - 3s 136ms/step - factorized_top_k/top_1_categorical_accuracy: 0.1801 - factorized_top_k/top_5_categorical_accuracy: 0.2742 - factorized_top_k/top_10_categorical_accuracy: 0.3258 - factorized_top_k/top_50_categorical_accuracy: 0.5232 - factorized_top_k/top_100_categorical_accuracy: 0.6278 - loss: 51.9519 - regularization_loss: 0.0000e+00 - total_loss: 51.9519\n",
            "24/24 [==============================] - 3s 84ms/step - factorized_top_k/top_1_categorical_accuracy: 0.2967 - factorized_top_k/top_5_categorical_accuracy: 0.3775 - factorized_top_k/top_10_categorical_accuracy: 0.4556 - factorized_top_k/top_50_categorical_accuracy: 0.6768 - factorized_top_k/top_100_categorical_accuracy: 0.7603 - loss: 49.7984 - regularization_loss: 0.0000e+00 - total_loss: 49.7984\n",
            "6/6 [==============================] - 1s 83ms/step - factorized_top_k/top_1_categorical_accuracy: 0.1852 - factorized_top_k/top_5_categorical_accuracy: 0.2116 - factorized_top_k/top_10_categorical_accuracy: 0.2328 - factorized_top_k/top_50_categorical_accuracy: 0.4497 - factorized_top_k/top_100_categorical_accuracy: 0.5503 - loss: 94.4683 - regularization_loss: 0.0000e+00 - total_loss: 94.4683\n",
            "Top-100 accuracy (train): 0.76.\n",
            "Top-100 accuracy (test): 0.55.\n",
            "Epoch 1/50\n",
            "24/24 [==============================] - 3s 84ms/step - factorized_top_k/top_1_categorical_accuracy: 0.0848 - factorized_top_k/top_5_categorical_accuracy: 0.0861 - factorized_top_k/top_10_categorical_accuracy: 0.0940 - factorized_top_k/top_50_categorical_accuracy: 0.1404 - factorized_top_k/top_100_categorical_accuracy: 0.1947 - loss: 94.4066 - regularization_loss: 0.0000e+00 - total_loss: 94.4066\n",
            "Epoch 2/50\n",
            "24/24 [==============================] - 2s 86ms/step - factorized_top_k/top_1_categorical_accuracy: 0.1073 - factorized_top_k/top_5_categorical_accuracy: 0.1245 - factorized_top_k/top_10_categorical_accuracy: 0.1603 - factorized_top_k/top_50_categorical_accuracy: 0.2954 - factorized_top_k/top_100_categorical_accuracy: 0.4066 - loss: 81.7595 - regularization_loss: 0.0000e+00 - total_loss: 81.7595\n",
            "Epoch 3/50\n",
            "24/24 [==============================] - 2s 102ms/step - factorized_top_k/top_1_categorical_accuracy: 0.1338 - factorized_top_k/top_5_categorical_accuracy: 0.1616 - factorized_top_k/top_10_categorical_accuracy: 0.1974 - factorized_top_k/top_50_categorical_accuracy: 0.3947 - factorized_top_k/top_100_categorical_accuracy: 0.5073 - loss: 73.7647 - regularization_loss: 0.0000e+00 - total_loss: 73.7647\n",
            "Epoch 4/50\n",
            "24/24 [==============================] - 3s 134ms/step - factorized_top_k/top_1_categorical_accuracy: 0.1285 - factorized_top_k/top_5_categorical_accuracy: 0.1748 - factorized_top_k/top_10_categorical_accuracy: 0.2305 - factorized_top_k/top_50_categorical_accuracy: 0.4384 - factorized_top_k/top_100_categorical_accuracy: 0.5616 - loss: 67.1571 - regularization_loss: 0.0000e+00 - total_loss: 67.1571\n",
            "Epoch 5/50\n",
            "24/24 [==============================] - 2s 84ms/step - factorized_top_k/top_1_categorical_accuracy: 0.1510 - factorized_top_k/top_5_categorical_accuracy: 0.2119 - factorized_top_k/top_10_categorical_accuracy: 0.2570 - factorized_top_k/top_50_categorical_accuracy: 0.4371 - factorized_top_k/top_100_categorical_accuracy: 0.5801 - loss: 65.1214 - regularization_loss: 0.0000e+00 - total_loss: 65.1214\n",
            "Epoch 6/50\n",
            "24/24 [==============================] - 2s 86ms/step - factorized_top_k/top_1_categorical_accuracy: 0.1642 - factorized_top_k/top_5_categorical_accuracy: 0.2358 - factorized_top_k/top_10_categorical_accuracy: 0.2834 - factorized_top_k/top_50_categorical_accuracy: 0.4742 - factorized_top_k/top_100_categorical_accuracy: 0.5921 - loss: 61.8078 - regularization_loss: 0.0000e+00 - total_loss: 61.8078\n",
            "Epoch 7/50\n",
            "24/24 [==============================] - 2s 82ms/step - factorized_top_k/top_1_categorical_accuracy: 0.1444 - factorized_top_k/top_5_categorical_accuracy: 0.2424 - factorized_top_k/top_10_categorical_accuracy: 0.3113 - factorized_top_k/top_50_categorical_accuracy: 0.4795 - factorized_top_k/top_100_categorical_accuracy: 0.6066 - loss: 58.9053 - regularization_loss: 0.0000e+00 - total_loss: 58.9053\n",
            "Epoch 8/50\n",
            "24/24 [==============================] - 3s 112ms/step - factorized_top_k/top_1_categorical_accuracy: 0.1510 - factorized_top_k/top_5_categorical_accuracy: 0.2424 - factorized_top_k/top_10_categorical_accuracy: 0.3033 - factorized_top_k/top_50_categorical_accuracy: 0.4967 - factorized_top_k/top_100_categorical_accuracy: 0.5987 - loss: 59.1461 - regularization_loss: 0.0000e+00 - total_loss: 59.1461\n",
            "Epoch 9/50\n",
            "24/24 [==============================] - 2s 82ms/step - factorized_top_k/top_1_categorical_accuracy: 0.1325 - factorized_top_k/top_5_categorical_accuracy: 0.2397 - factorized_top_k/top_10_categorical_accuracy: 0.2874 - factorized_top_k/top_50_categorical_accuracy: 0.4808 - factorized_top_k/top_100_categorical_accuracy: 0.6132 - loss: 57.9246 - regularization_loss: 0.0000e+00 - total_loss: 57.9246\n",
            "Epoch 10/50\n",
            "24/24 [==============================] - 2s 83ms/step - factorized_top_k/top_1_categorical_accuracy: 0.1934 - factorized_top_k/top_5_categorical_accuracy: 0.2808 - factorized_top_k/top_10_categorical_accuracy: 0.3444 - factorized_top_k/top_50_categorical_accuracy: 0.5192 - factorized_top_k/top_100_categorical_accuracy: 0.6371 - loss: 57.4394 - regularization_loss: 0.0000e+00 - total_loss: 57.4394\n",
            "Epoch 11/50\n",
            "24/24 [==============================] - 2s 82ms/step - factorized_top_k/top_1_categorical_accuracy: 0.1364 - factorized_top_k/top_5_categorical_accuracy: 0.2424 - factorized_top_k/top_10_categorical_accuracy: 0.3046 - factorized_top_k/top_50_categorical_accuracy: 0.4821 - factorized_top_k/top_100_categorical_accuracy: 0.5709 - loss: 56.2457 - regularization_loss: 0.0000e+00 - total_loss: 56.2457\n",
            "Epoch 12/50\n",
            "24/24 [==============================] - 2s 84ms/step - factorized_top_k/top_1_categorical_accuracy: 0.1801 - factorized_top_k/top_5_categorical_accuracy: 0.2755 - factorized_top_k/top_10_categorical_accuracy: 0.3351 - factorized_top_k/top_50_categorical_accuracy: 0.5166 - factorized_top_k/top_100_categorical_accuracy: 0.6371 - loss: 56.2577 - regularization_loss: 0.0000e+00 - total_loss: 56.2577\n",
            "Epoch 13/50\n",
            "24/24 [==============================] - 2s 99ms/step - factorized_top_k/top_1_categorical_accuracy: 0.1709 - factorized_top_k/top_5_categorical_accuracy: 0.2662 - factorized_top_k/top_10_categorical_accuracy: 0.3232 - factorized_top_k/top_50_categorical_accuracy: 0.4980 - factorized_top_k/top_100_categorical_accuracy: 0.6172 - loss: 55.5792 - regularization_loss: 0.0000e+00 - total_loss: 55.5792\n",
            "Epoch 14/50\n",
            "24/24 [==============================] - 3s 139ms/step - factorized_top_k/top_1_categorical_accuracy: 0.1788 - factorized_top_k/top_5_categorical_accuracy: 0.2755 - factorized_top_k/top_10_categorical_accuracy: 0.3205 - factorized_top_k/top_50_categorical_accuracy: 0.5139 - factorized_top_k/top_100_categorical_accuracy: 0.6331 - loss: 55.8272 - regularization_loss: 0.0000e+00 - total_loss: 55.8272\n",
            "Epoch 15/50\n",
            "24/24 [==============================] - 2s 84ms/step - factorized_top_k/top_1_categorical_accuracy: 0.1669 - factorized_top_k/top_5_categorical_accuracy: 0.2662 - factorized_top_k/top_10_categorical_accuracy: 0.3245 - factorized_top_k/top_50_categorical_accuracy: 0.4901 - factorized_top_k/top_100_categorical_accuracy: 0.6106 - loss: 55.6226 - regularization_loss: 0.0000e+00 - total_loss: 55.6226\n",
            "Epoch 16/50\n",
            "24/24 [==============================] - 2s 83ms/step - factorized_top_k/top_1_categorical_accuracy: 0.1748 - factorized_top_k/top_5_categorical_accuracy: 0.2768 - factorized_top_k/top_10_categorical_accuracy: 0.3351 - factorized_top_k/top_50_categorical_accuracy: 0.5086 - factorized_top_k/top_100_categorical_accuracy: 0.6371 - loss: 54.5526 - regularization_loss: 0.0000e+00 - total_loss: 54.5526\n",
            "Epoch 17/50\n",
            "24/24 [==============================] - 2s 84ms/step - factorized_top_k/top_1_categorical_accuracy: 0.1921 - factorized_top_k/top_5_categorical_accuracy: 0.2887 - factorized_top_k/top_10_categorical_accuracy: 0.3272 - factorized_top_k/top_50_categorical_accuracy: 0.5060 - factorized_top_k/top_100_categorical_accuracy: 0.6238 - loss: 54.0458 - regularization_loss: 0.0000e+00 - total_loss: 54.0458\n",
            "Epoch 18/50\n",
            "24/24 [==============================] - 2s 100ms/step - factorized_top_k/top_1_categorical_accuracy: 0.2013 - factorized_top_k/top_5_categorical_accuracy: 0.2927 - factorized_top_k/top_10_categorical_accuracy: 0.3377 - factorized_top_k/top_50_categorical_accuracy: 0.5113 - factorized_top_k/top_100_categorical_accuracy: 0.6265 - loss: 54.0820 - regularization_loss: 0.0000e+00 - total_loss: 54.0820\n",
            "Epoch 19/50\n",
            "24/24 [==============================] - 3s 143ms/step - factorized_top_k/top_1_categorical_accuracy: 0.1616 - factorized_top_k/top_5_categorical_accuracy: 0.2596 - factorized_top_k/top_10_categorical_accuracy: 0.3020 - factorized_top_k/top_50_categorical_accuracy: 0.5073 - factorized_top_k/top_100_categorical_accuracy: 0.6093 - loss: 54.5655 - regularization_loss: 0.0000e+00 - total_loss: 54.5655\n",
            "Epoch 20/50\n",
            "24/24 [==============================] - 2s 83ms/step - factorized_top_k/top_1_categorical_accuracy: 0.2000 - factorized_top_k/top_5_categorical_accuracy: 0.2887 - factorized_top_k/top_10_categorical_accuracy: 0.3205 - factorized_top_k/top_50_categorical_accuracy: 0.5086 - factorized_top_k/top_100_categorical_accuracy: 0.6238 - loss: 53.5584 - regularization_loss: 0.0000e+00 - total_loss: 53.5584\n",
            "Epoch 21/50\n",
            "24/24 [==============================] - 2s 85ms/step - factorized_top_k/top_1_categorical_accuracy: 0.1563 - factorized_top_k/top_5_categorical_accuracy: 0.2675 - factorized_top_k/top_10_categorical_accuracy: 0.3258 - factorized_top_k/top_50_categorical_accuracy: 0.5060 - factorized_top_k/top_100_categorical_accuracy: 0.6252 - loss: 53.9210 - regularization_loss: 0.0000e+00 - total_loss: 53.9210\n",
            "Epoch 22/50\n",
            "24/24 [==============================] - 2s 85ms/step - factorized_top_k/top_1_categorical_accuracy: 0.1854 - factorized_top_k/top_5_categorical_accuracy: 0.2901 - factorized_top_k/top_10_categorical_accuracy: 0.3325 - factorized_top_k/top_50_categorical_accuracy: 0.5099 - factorized_top_k/top_100_categorical_accuracy: 0.6318 - loss: 54.1671 - regularization_loss: 0.0000e+00 - total_loss: 54.1671\n",
            "Epoch 23/50\n",
            "24/24 [==============================] - 2s 85ms/step - factorized_top_k/top_1_categorical_accuracy: 0.1868 - factorized_top_k/top_5_categorical_accuracy: 0.2848 - factorized_top_k/top_10_categorical_accuracy: 0.3377 - factorized_top_k/top_50_categorical_accuracy: 0.5073 - factorized_top_k/top_100_categorical_accuracy: 0.6358 - loss: 52.4884 - regularization_loss: 0.0000e+00 - total_loss: 52.4884\n",
            "Epoch 24/50\n",
            "24/24 [==============================] - 3s 140ms/step - factorized_top_k/top_1_categorical_accuracy: 0.1775 - factorized_top_k/top_5_categorical_accuracy: 0.2795 - factorized_top_k/top_10_categorical_accuracy: 0.3232 - factorized_top_k/top_50_categorical_accuracy: 0.4914 - factorized_top_k/top_100_categorical_accuracy: 0.6146 - loss: 53.6693 - regularization_loss: 0.0000e+00 - total_loss: 53.6693\n",
            "Epoch 25/50\n",
            "24/24 [==============================] - 2s 85ms/step - factorized_top_k/top_1_categorical_accuracy: 0.1801 - factorized_top_k/top_5_categorical_accuracy: 0.2861 - factorized_top_k/top_10_categorical_accuracy: 0.3417 - factorized_top_k/top_50_categorical_accuracy: 0.5272 - factorized_top_k/top_100_categorical_accuracy: 0.6291 - loss: 53.7191 - regularization_loss: 0.0000e+00 - total_loss: 53.7191\n",
            "Epoch 26/50\n",
            "24/24 [==============================] - 2s 81ms/step - factorized_top_k/top_1_categorical_accuracy: 0.1669 - factorized_top_k/top_5_categorical_accuracy: 0.2927 - factorized_top_k/top_10_categorical_accuracy: 0.3377 - factorized_top_k/top_50_categorical_accuracy: 0.5086 - factorized_top_k/top_100_categorical_accuracy: 0.6212 - loss: 54.3020 - regularization_loss: 0.0000e+00 - total_loss: 54.3020\n",
            "Epoch 27/50\n",
            "24/24 [==============================] - 2s 83ms/step - factorized_top_k/top_1_categorical_accuracy: 0.1868 - factorized_top_k/top_5_categorical_accuracy: 0.2914 - factorized_top_k/top_10_categorical_accuracy: 0.3430 - factorized_top_k/top_50_categorical_accuracy: 0.5219 - factorized_top_k/top_100_categorical_accuracy: 0.6464 - loss: 52.2568 - regularization_loss: 0.0000e+00 - total_loss: 52.2568\n",
            "Epoch 28/50\n",
            "24/24 [==============================] - 2s 84ms/step - factorized_top_k/top_1_categorical_accuracy: 0.1801 - factorized_top_k/top_5_categorical_accuracy: 0.2781 - factorized_top_k/top_10_categorical_accuracy: 0.3404 - factorized_top_k/top_50_categorical_accuracy: 0.5258 - factorized_top_k/top_100_categorical_accuracy: 0.6437 - loss: 52.2441 - regularization_loss: 0.0000e+00 - total_loss: 52.2441\n",
            "Epoch 29/50\n",
            "24/24 [==============================] - 3s 135ms/step - factorized_top_k/top_1_categorical_accuracy: 0.1656 - factorized_top_k/top_5_categorical_accuracy: 0.2623 - factorized_top_k/top_10_categorical_accuracy: 0.3245 - factorized_top_k/top_50_categorical_accuracy: 0.5166 - factorized_top_k/top_100_categorical_accuracy: 0.6199 - loss: 52.7423 - regularization_loss: 0.0000e+00 - total_loss: 52.7423\n",
            "Epoch 30/50\n",
            "24/24 [==============================] - 2s 85ms/step - factorized_top_k/top_1_categorical_accuracy: 0.1921 - factorized_top_k/top_5_categorical_accuracy: 0.2887 - factorized_top_k/top_10_categorical_accuracy: 0.3589 - factorized_top_k/top_50_categorical_accuracy: 0.5338 - factorized_top_k/top_100_categorical_accuracy: 0.6623 - loss: 52.5434 - regularization_loss: 0.0000e+00 - total_loss: 52.5434\n",
            "Epoch 31/50\n",
            "24/24 [==============================] - 2s 86ms/step - factorized_top_k/top_1_categorical_accuracy: 0.1656 - factorized_top_k/top_5_categorical_accuracy: 0.2702 - factorized_top_k/top_10_categorical_accuracy: 0.3285 - factorized_top_k/top_50_categorical_accuracy: 0.5073 - factorized_top_k/top_100_categorical_accuracy: 0.6106 - loss: 52.9318 - regularization_loss: 0.0000e+00 - total_loss: 52.9318\n",
            "Epoch 32/50\n",
            "24/24 [==============================] - 2s 84ms/step - factorized_top_k/top_1_categorical_accuracy: 0.1894 - factorized_top_k/top_5_categorical_accuracy: 0.2808 - factorized_top_k/top_10_categorical_accuracy: 0.3272 - factorized_top_k/top_50_categorical_accuracy: 0.5245 - factorized_top_k/top_100_categorical_accuracy: 0.6331 - loss: 53.9116 - regularization_loss: 0.0000e+00 - total_loss: 53.9116\n",
            "Epoch 33/50\n",
            "24/24 [==============================] - 2s 84ms/step - factorized_top_k/top_1_categorical_accuracy: 0.1934 - factorized_top_k/top_5_categorical_accuracy: 0.3060 - factorized_top_k/top_10_categorical_accuracy: 0.3603 - factorized_top_k/top_50_categorical_accuracy: 0.5444 - factorized_top_k/top_100_categorical_accuracy: 0.6649 - loss: 53.1293 - regularization_loss: 0.0000e+00 - total_loss: 53.1293\n",
            "Epoch 34/50\n",
            "24/24 [==============================] - 3s 131ms/step - factorized_top_k/top_1_categorical_accuracy: 0.1762 - factorized_top_k/top_5_categorical_accuracy: 0.2781 - factorized_top_k/top_10_categorical_accuracy: 0.3391 - factorized_top_k/top_50_categorical_accuracy: 0.5192 - factorized_top_k/top_100_categorical_accuracy: 0.6265 - loss: 52.6187 - regularization_loss: 0.0000e+00 - total_loss: 52.6187\n",
            "Epoch 35/50\n",
            "24/24 [==============================] - 2s 86ms/step - factorized_top_k/top_1_categorical_accuracy: 0.1841 - factorized_top_k/top_5_categorical_accuracy: 0.2848 - factorized_top_k/top_10_categorical_accuracy: 0.3311 - factorized_top_k/top_50_categorical_accuracy: 0.5351 - factorized_top_k/top_100_categorical_accuracy: 0.6530 - loss: 51.3298 - regularization_loss: 0.0000e+00 - total_loss: 51.3298\n",
            "Epoch 36/50\n",
            "24/24 [==============================] - 2s 86ms/step - factorized_top_k/top_1_categorical_accuracy: 0.1656 - factorized_top_k/top_5_categorical_accuracy: 0.2781 - factorized_top_k/top_10_categorical_accuracy: 0.3391 - factorized_top_k/top_50_categorical_accuracy: 0.5205 - factorized_top_k/top_100_categorical_accuracy: 0.6318 - loss: 52.3818 - regularization_loss: 0.0000e+00 - total_loss: 52.3818\n",
            "Epoch 37/50\n",
            "24/24 [==============================] - 2s 84ms/step - factorized_top_k/top_1_categorical_accuracy: 0.1868 - factorized_top_k/top_5_categorical_accuracy: 0.2689 - factorized_top_k/top_10_categorical_accuracy: 0.3364 - factorized_top_k/top_50_categorical_accuracy: 0.5232 - factorized_top_k/top_100_categorical_accuracy: 0.6331 - loss: 52.5159 - regularization_loss: 0.0000e+00 - total_loss: 52.5159\n",
            "Epoch 38/50\n",
            "24/24 [==============================] - 2s 95ms/step - factorized_top_k/top_1_categorical_accuracy: 0.1868 - factorized_top_k/top_5_categorical_accuracy: 0.2702 - factorized_top_k/top_10_categorical_accuracy: 0.3311 - factorized_top_k/top_50_categorical_accuracy: 0.5285 - factorized_top_k/top_100_categorical_accuracy: 0.6344 - loss: 51.5087 - regularization_loss: 0.0000e+00 - total_loss: 51.5087\n",
            "Epoch 39/50\n",
            "24/24 [==============================] - 3s 140ms/step - factorized_top_k/top_1_categorical_accuracy: 0.1881 - factorized_top_k/top_5_categorical_accuracy: 0.2993 - factorized_top_k/top_10_categorical_accuracy: 0.3483 - factorized_top_k/top_50_categorical_accuracy: 0.5325 - factorized_top_k/top_100_categorical_accuracy: 0.6517 - loss: 52.0623 - regularization_loss: 0.0000e+00 - total_loss: 52.0623\n",
            "Epoch 40/50\n",
            "24/24 [==============================] - 2s 93ms/step - factorized_top_k/top_1_categorical_accuracy: 0.1868 - factorized_top_k/top_5_categorical_accuracy: 0.2808 - factorized_top_k/top_10_categorical_accuracy: 0.3510 - factorized_top_k/top_50_categorical_accuracy: 0.5364 - factorized_top_k/top_100_categorical_accuracy: 0.6556 - loss: 53.0801 - regularization_loss: 0.0000e+00 - total_loss: 53.0801\n",
            "Epoch 41/50\n",
            "24/24 [==============================] - 2s 83ms/step - factorized_top_k/top_1_categorical_accuracy: 0.1960 - factorized_top_k/top_5_categorical_accuracy: 0.2940 - factorized_top_k/top_10_categorical_accuracy: 0.3457 - factorized_top_k/top_50_categorical_accuracy: 0.5139 - factorized_top_k/top_100_categorical_accuracy: 0.6424 - loss: 52.5021 - regularization_loss: 0.0000e+00 - total_loss: 52.5021\n",
            "Epoch 42/50\n",
            "24/24 [==============================] - 2s 83ms/step - factorized_top_k/top_1_categorical_accuracy: 0.1894 - factorized_top_k/top_5_categorical_accuracy: 0.2861 - factorized_top_k/top_10_categorical_accuracy: 0.3444 - factorized_top_k/top_50_categorical_accuracy: 0.5550 - factorized_top_k/top_100_categorical_accuracy: 0.6768 - loss: 52.3107 - regularization_loss: 0.0000e+00 - total_loss: 52.3107\n",
            "Epoch 43/50\n",
            "24/24 [==============================] - 2s 84ms/step - factorized_top_k/top_1_categorical_accuracy: 0.1947 - factorized_top_k/top_5_categorical_accuracy: 0.3020 - factorized_top_k/top_10_categorical_accuracy: 0.3709 - factorized_top_k/top_50_categorical_accuracy: 0.5338 - factorized_top_k/top_100_categorical_accuracy: 0.6450 - loss: 52.0383 - regularization_loss: 0.0000e+00 - total_loss: 52.0383\n",
            "Epoch 44/50\n",
            "24/24 [==============================] - 2s 98ms/step - factorized_top_k/top_1_categorical_accuracy: 0.1709 - factorized_top_k/top_5_categorical_accuracy: 0.2755 - factorized_top_k/top_10_categorical_accuracy: 0.3497 - factorized_top_k/top_50_categorical_accuracy: 0.5417 - factorized_top_k/top_100_categorical_accuracy: 0.6583 - loss: 51.5799 - regularization_loss: 0.0000e+00 - total_loss: 51.5799\n",
            "Epoch 45/50\n",
            "24/24 [==============================] - 3s 137ms/step - factorized_top_k/top_1_categorical_accuracy: 0.2093 - factorized_top_k/top_5_categorical_accuracy: 0.2980 - factorized_top_k/top_10_categorical_accuracy: 0.3682 - factorized_top_k/top_50_categorical_accuracy: 0.5510 - factorized_top_k/top_100_categorical_accuracy: 0.6556 - loss: 51.5696 - regularization_loss: 0.0000e+00 - total_loss: 51.5696\n",
            "Epoch 46/50\n",
            "24/24 [==============================] - 2s 85ms/step - factorized_top_k/top_1_categorical_accuracy: 0.1828 - factorized_top_k/top_5_categorical_accuracy: 0.2702 - factorized_top_k/top_10_categorical_accuracy: 0.3325 - factorized_top_k/top_50_categorical_accuracy: 0.5285 - factorized_top_k/top_100_categorical_accuracy: 0.6477 - loss: 51.5925 - regularization_loss: 0.0000e+00 - total_loss: 51.5925\n",
            "Epoch 47/50\n",
            "24/24 [==============================] - 2s 85ms/step - factorized_top_k/top_1_categorical_accuracy: 0.1960 - factorized_top_k/top_5_categorical_accuracy: 0.3020 - factorized_top_k/top_10_categorical_accuracy: 0.3629 - factorized_top_k/top_50_categorical_accuracy: 0.5444 - factorized_top_k/top_100_categorical_accuracy: 0.6530 - loss: 51.3194 - regularization_loss: 0.0000e+00 - total_loss: 51.3194\n",
            "Epoch 48/50\n",
            "24/24 [==============================] - 2s 85ms/step - factorized_top_k/top_1_categorical_accuracy: 0.1788 - factorized_top_k/top_5_categorical_accuracy: 0.2848 - factorized_top_k/top_10_categorical_accuracy: 0.3457 - factorized_top_k/top_50_categorical_accuracy: 0.5351 - factorized_top_k/top_100_categorical_accuracy: 0.6477 - loss: 51.4509 - regularization_loss: 0.0000e+00 - total_loss: 51.4509\n",
            "Epoch 49/50\n",
            "24/24 [==============================] - 2s 87ms/step - factorized_top_k/top_1_categorical_accuracy: 0.1788 - factorized_top_k/top_5_categorical_accuracy: 0.2636 - factorized_top_k/top_10_categorical_accuracy: 0.3311 - factorized_top_k/top_50_categorical_accuracy: 0.5192 - factorized_top_k/top_100_categorical_accuracy: 0.6397 - loss: 51.8280 - regularization_loss: 0.0000e+00 - total_loss: 51.8280\n",
            "Epoch 50/50\n",
            "24/24 [==============================] - 3s 138ms/step - factorized_top_k/top_1_categorical_accuracy: 0.1828 - factorized_top_k/top_5_categorical_accuracy: 0.2728 - factorized_top_k/top_10_categorical_accuracy: 0.3272 - factorized_top_k/top_50_categorical_accuracy: 0.5272 - factorized_top_k/top_100_categorical_accuracy: 0.6331 - loss: 52.0307 - regularization_loss: 0.0000e+00 - total_loss: 52.0307\n",
            "24/24 [==============================] - 2s 83ms/step - factorized_top_k/top_1_categorical_accuracy: 0.3007 - factorized_top_k/top_5_categorical_accuracy: 0.3748 - factorized_top_k/top_10_categorical_accuracy: 0.4450 - factorized_top_k/top_50_categorical_accuracy: 0.6609 - factorized_top_k/top_100_categorical_accuracy: 0.7656 - loss: 49.8305 - regularization_loss: 0.0000e+00 - total_loss: 49.8305\n",
            "6/6 [==============================] - 1s 89ms/step - factorized_top_k/top_1_categorical_accuracy: 0.1799 - factorized_top_k/top_5_categorical_accuracy: 0.2169 - factorized_top_k/top_10_categorical_accuracy: 0.2275 - factorized_top_k/top_50_categorical_accuracy: 0.4497 - factorized_top_k/top_100_categorical_accuracy: 0.5556 - loss: 95.4929 - regularization_loss: 0.0000e+00 - total_loss: 95.4929\n",
            "Top-100 accuracy (train): 0.77.\n",
            "Top-100 accuracy (test): 0.56.\n",
            "Epoch 1/50\n",
            "24/24 [==============================] - 3s 87ms/step - factorized_top_k/top_1_categorical_accuracy: 0.0993 - factorized_top_k/top_5_categorical_accuracy: 0.0993 - factorized_top_k/top_10_categorical_accuracy: 0.1007 - factorized_top_k/top_50_categorical_accuracy: 0.1616 - factorized_top_k/top_100_categorical_accuracy: 0.2172 - loss: 95.3530 - regularization_loss: 0.0000e+00 - total_loss: 95.3530\n",
            "Epoch 2/50\n",
            "24/24 [==============================] - 2s 85ms/step - factorized_top_k/top_1_categorical_accuracy: 0.1126 - factorized_top_k/top_5_categorical_accuracy: 0.1192 - factorized_top_k/top_10_categorical_accuracy: 0.1364 - factorized_top_k/top_50_categorical_accuracy: 0.2728 - factorized_top_k/top_100_categorical_accuracy: 0.3550 - loss: 83.0315 - regularization_loss: 0.0000e+00 - total_loss: 83.0315\n",
            "Epoch 3/50\n",
            "24/24 [==============================] - 3s 138ms/step - factorized_top_k/top_1_categorical_accuracy: 0.1179 - factorized_top_k/top_5_categorical_accuracy: 0.1497 - factorized_top_k/top_10_categorical_accuracy: 0.1854 - factorized_top_k/top_50_categorical_accuracy: 0.3589 - factorized_top_k/top_100_categorical_accuracy: 0.4901 - loss: 73.7658 - regularization_loss: 0.0000e+00 - total_loss: 73.7658\n",
            "Epoch 4/50\n",
            "24/24 [==============================] - 2s 84ms/step - factorized_top_k/top_1_categorical_accuracy: 0.1338 - factorized_top_k/top_5_categorical_accuracy: 0.1921 - factorized_top_k/top_10_categorical_accuracy: 0.2305 - factorized_top_k/top_50_categorical_accuracy: 0.4477 - factorized_top_k/top_100_categorical_accuracy: 0.5656 - loss: 66.7345 - regularization_loss: 0.0000e+00 - total_loss: 66.7345\n",
            "Epoch 5/50\n",
            "24/24 [==============================] - 2s 86ms/step - factorized_top_k/top_1_categorical_accuracy: 0.1417 - factorized_top_k/top_5_categorical_accuracy: 0.2026 - factorized_top_k/top_10_categorical_accuracy: 0.2437 - factorized_top_k/top_50_categorical_accuracy: 0.4305 - factorized_top_k/top_100_categorical_accuracy: 0.5629 - loss: 64.5575 - regularization_loss: 0.0000e+00 - total_loss: 64.5575\n",
            "Epoch 6/50\n",
            "24/24 [==============================] - 2s 87ms/step - factorized_top_k/top_1_categorical_accuracy: 0.1258 - factorized_top_k/top_5_categorical_accuracy: 0.1841 - factorized_top_k/top_10_categorical_accuracy: 0.2517 - factorized_top_k/top_50_categorical_accuracy: 0.4570 - factorized_top_k/top_100_categorical_accuracy: 0.5762 - loss: 61.7413 - regularization_loss: 0.0000e+00 - total_loss: 61.7413\n",
            "Epoch 7/50\n",
            "24/24 [==============================] - 2s 85ms/step - factorized_top_k/top_1_categorical_accuracy: 0.1311 - factorized_top_k/top_5_categorical_accuracy: 0.2159 - factorized_top_k/top_10_categorical_accuracy: 0.2861 - factorized_top_k/top_50_categorical_accuracy: 0.4715 - factorized_top_k/top_100_categorical_accuracy: 0.5868 - loss: 59.4140 - regularization_loss: 0.0000e+00 - total_loss: 59.4140\n",
            "Epoch 8/50\n",
            "24/24 [==============================] - 3s 112ms/step - factorized_top_k/top_1_categorical_accuracy: 0.1510 - factorized_top_k/top_5_categorical_accuracy: 0.2344 - factorized_top_k/top_10_categorical_accuracy: 0.2940 - factorized_top_k/top_50_categorical_accuracy: 0.4914 - factorized_top_k/top_100_categorical_accuracy: 0.5907 - loss: 59.0896 - regularization_loss: 0.0000e+00 - total_loss: 59.0896\n",
            "Epoch 9/50\n",
            "24/24 [==============================] - 2s 85ms/step - factorized_top_k/top_1_categorical_accuracy: 0.1258 - factorized_top_k/top_5_categorical_accuracy: 0.2358 - factorized_top_k/top_10_categorical_accuracy: 0.2874 - factorized_top_k/top_50_categorical_accuracy: 0.4675 - factorized_top_k/top_100_categorical_accuracy: 0.6053 - loss: 57.8969 - regularization_loss: 0.0000e+00 - total_loss: 57.8969\n",
            "Epoch 10/50\n",
            "24/24 [==============================] - 2s 86ms/step - factorized_top_k/top_1_categorical_accuracy: 0.2000 - factorized_top_k/top_5_categorical_accuracy: 0.2954 - factorized_top_k/top_10_categorical_accuracy: 0.3430 - factorized_top_k/top_50_categorical_accuracy: 0.5086 - factorized_top_k/top_100_categorical_accuracy: 0.6424 - loss: 56.9378 - regularization_loss: 0.0000e+00 - total_loss: 56.9378\n",
            "Epoch 11/50\n",
            "24/24 [==============================] - 2s 85ms/step - factorized_top_k/top_1_categorical_accuracy: 0.1470 - factorized_top_k/top_5_categorical_accuracy: 0.2464 - factorized_top_k/top_10_categorical_accuracy: 0.3126 - factorized_top_k/top_50_categorical_accuracy: 0.4861 - factorized_top_k/top_100_categorical_accuracy: 0.6013 - loss: 56.5613 - regularization_loss: 0.0000e+00 - total_loss: 56.5613\n",
            "Epoch 12/50\n",
            "24/24 [==============================] - 2s 86ms/step - factorized_top_k/top_1_categorical_accuracy: 0.1854 - factorized_top_k/top_5_categorical_accuracy: 0.2715 - factorized_top_k/top_10_categorical_accuracy: 0.3285 - factorized_top_k/top_50_categorical_accuracy: 0.5192 - factorized_top_k/top_100_categorical_accuracy: 0.6305 - loss: 56.1973 - regularization_loss: 0.0000e+00 - total_loss: 56.1973\n",
            "Epoch 13/50\n",
            "24/24 [==============================] - 3s 135ms/step - factorized_top_k/top_1_categorical_accuracy: 0.1775 - factorized_top_k/top_5_categorical_accuracy: 0.2662 - factorized_top_k/top_10_categorical_accuracy: 0.3258 - factorized_top_k/top_50_categorical_accuracy: 0.4874 - factorized_top_k/top_100_categorical_accuracy: 0.6119 - loss: 55.7372 - regularization_loss: 0.0000e+00 - total_loss: 55.7372\n",
            "Epoch 14/50\n",
            "24/24 [==============================] - 2s 87ms/step - factorized_top_k/top_1_categorical_accuracy: 0.1828 - factorized_top_k/top_5_categorical_accuracy: 0.2768 - factorized_top_k/top_10_categorical_accuracy: 0.3205 - factorized_top_k/top_50_categorical_accuracy: 0.5192 - factorized_top_k/top_100_categorical_accuracy: 0.6318 - loss: 55.9595 - regularization_loss: 0.0000e+00 - total_loss: 55.9595\n",
            "Epoch 15/50\n",
            "24/24 [==============================] - 2s 88ms/step - factorized_top_k/top_1_categorical_accuracy: 0.1669 - factorized_top_k/top_5_categorical_accuracy: 0.2662 - factorized_top_k/top_10_categorical_accuracy: 0.3232 - factorized_top_k/top_50_categorical_accuracy: 0.4954 - factorized_top_k/top_100_categorical_accuracy: 0.6066 - loss: 55.5427 - regularization_loss: 0.0000e+00 - total_loss: 55.5427\n",
            "Epoch 16/50\n",
            "24/24 [==============================] - 2s 89ms/step - factorized_top_k/top_1_categorical_accuracy: 0.1589 - factorized_top_k/top_5_categorical_accuracy: 0.2662 - factorized_top_k/top_10_categorical_accuracy: 0.3219 - factorized_top_k/top_50_categorical_accuracy: 0.5046 - factorized_top_k/top_100_categorical_accuracy: 0.6212 - loss: 54.5557 - regularization_loss: 0.0000e+00 - total_loss: 54.5557\n",
            "Epoch 17/50\n",
            "24/24 [==============================] - 2s 87ms/step - factorized_top_k/top_1_categorical_accuracy: 0.1709 - factorized_top_k/top_5_categorical_accuracy: 0.2649 - factorized_top_k/top_10_categorical_accuracy: 0.3205 - factorized_top_k/top_50_categorical_accuracy: 0.5152 - factorized_top_k/top_100_categorical_accuracy: 0.6331 - loss: 53.9448 - regularization_loss: 0.0000e+00 - total_loss: 53.9448\n",
            "Epoch 18/50\n",
            "24/24 [==============================] - 3s 140ms/step - factorized_top_k/top_1_categorical_accuracy: 0.1881 - factorized_top_k/top_5_categorical_accuracy: 0.2901 - factorized_top_k/top_10_categorical_accuracy: 0.3377 - factorized_top_k/top_50_categorical_accuracy: 0.5113 - factorized_top_k/top_100_categorical_accuracy: 0.6291 - loss: 54.1151 - regularization_loss: 0.0000e+00 - total_loss: 54.1151\n",
            "Epoch 19/50\n",
            "24/24 [==============================] - 2s 86ms/step - factorized_top_k/top_1_categorical_accuracy: 0.1550 - factorized_top_k/top_5_categorical_accuracy: 0.2490 - factorized_top_k/top_10_categorical_accuracy: 0.2954 - factorized_top_k/top_50_categorical_accuracy: 0.4914 - factorized_top_k/top_100_categorical_accuracy: 0.6013 - loss: 54.4889 - regularization_loss: 0.0000e+00 - total_loss: 54.4889\n",
            "Epoch 20/50\n",
            "24/24 [==============================] - 2s 87ms/step - factorized_top_k/top_1_categorical_accuracy: 0.1854 - factorized_top_k/top_5_categorical_accuracy: 0.2834 - factorized_top_k/top_10_categorical_accuracy: 0.3179 - factorized_top_k/top_50_categorical_accuracy: 0.5113 - factorized_top_k/top_100_categorical_accuracy: 0.6252 - loss: 53.8728 - regularization_loss: 0.0000e+00 - total_loss: 53.8728\n",
            "Epoch 21/50\n",
            "24/24 [==============================] - 2s 84ms/step - factorized_top_k/top_1_categorical_accuracy: 0.1682 - factorized_top_k/top_5_categorical_accuracy: 0.2728 - factorized_top_k/top_10_categorical_accuracy: 0.3311 - factorized_top_k/top_50_categorical_accuracy: 0.5192 - factorized_top_k/top_100_categorical_accuracy: 0.6318 - loss: 54.0425 - regularization_loss: 0.0000e+00 - total_loss: 54.0425\n",
            "Epoch 22/50\n",
            "24/24 [==============================] - 2s 84ms/step - factorized_top_k/top_1_categorical_accuracy: 0.1868 - factorized_top_k/top_5_categorical_accuracy: 0.2954 - factorized_top_k/top_10_categorical_accuracy: 0.3430 - factorized_top_k/top_50_categorical_accuracy: 0.5139 - factorized_top_k/top_100_categorical_accuracy: 0.6291 - loss: 54.0153 - regularization_loss: 0.0000e+00 - total_loss: 54.0153\n",
            "Epoch 23/50\n",
            "24/24 [==============================] - 3s 127ms/step - factorized_top_k/top_1_categorical_accuracy: 0.1841 - factorized_top_k/top_5_categorical_accuracy: 0.2901 - factorized_top_k/top_10_categorical_accuracy: 0.3457 - factorized_top_k/top_50_categorical_accuracy: 0.5152 - factorized_top_k/top_100_categorical_accuracy: 0.6371 - loss: 52.5680 - regularization_loss: 0.0000e+00 - total_loss: 52.5680\n",
            "Epoch 24/50\n",
            "24/24 [==============================] - 2s 88ms/step - factorized_top_k/top_1_categorical_accuracy: 0.1801 - factorized_top_k/top_5_categorical_accuracy: 0.2702 - factorized_top_k/top_10_categorical_accuracy: 0.3285 - factorized_top_k/top_50_categorical_accuracy: 0.4980 - factorized_top_k/top_100_categorical_accuracy: 0.6265 - loss: 53.6727 - regularization_loss: 0.0000e+00 - total_loss: 53.6727\n",
            "Epoch 25/50\n",
            "24/24 [==============================] - 2s 84ms/step - factorized_top_k/top_1_categorical_accuracy: 0.1642 - factorized_top_k/top_5_categorical_accuracy: 0.2768 - factorized_top_k/top_10_categorical_accuracy: 0.3325 - factorized_top_k/top_50_categorical_accuracy: 0.5272 - factorized_top_k/top_100_categorical_accuracy: 0.6358 - loss: 53.6374 - regularization_loss: 0.0000e+00 - total_loss: 53.6374\n",
            "Epoch 26/50\n",
            "24/24 [==============================] - 2s 99ms/step - factorized_top_k/top_1_categorical_accuracy: 0.1536 - factorized_top_k/top_5_categorical_accuracy: 0.2636 - factorized_top_k/top_10_categorical_accuracy: 0.3166 - factorized_top_k/top_50_categorical_accuracy: 0.5007 - factorized_top_k/top_100_categorical_accuracy: 0.6106 - loss: 54.4283 - regularization_loss: 0.0000e+00 - total_loss: 54.4283\n",
            "Epoch 27/50\n",
            "24/24 [==============================] - 4s 157ms/step - factorized_top_k/top_1_categorical_accuracy: 0.1775 - factorized_top_k/top_5_categorical_accuracy: 0.2689 - factorized_top_k/top_10_categorical_accuracy: 0.3272 - factorized_top_k/top_50_categorical_accuracy: 0.5046 - factorized_top_k/top_100_categorical_accuracy: 0.6397 - loss: 52.4351 - regularization_loss: 0.0000e+00 - total_loss: 52.4351\n",
            "Epoch 28/50\n",
            "24/24 [==============================] - 4s 150ms/step - factorized_top_k/top_1_categorical_accuracy: 0.1815 - factorized_top_k/top_5_categorical_accuracy: 0.2768 - factorized_top_k/top_10_categorical_accuracy: 0.3351 - factorized_top_k/top_50_categorical_accuracy: 0.5245 - factorized_top_k/top_100_categorical_accuracy: 0.6450 - loss: 52.2549 - regularization_loss: 0.0000e+00 - total_loss: 52.2549\n",
            "Epoch 29/50\n",
            "24/24 [==============================] - 2s 97ms/step - factorized_top_k/top_1_categorical_accuracy: 0.1576 - factorized_top_k/top_5_categorical_accuracy: 0.2623 - factorized_top_k/top_10_categorical_accuracy: 0.3245 - factorized_top_k/top_50_categorical_accuracy: 0.5192 - factorized_top_k/top_100_categorical_accuracy: 0.6185 - loss: 52.9037 - regularization_loss: 0.0000e+00 - total_loss: 52.9037\n",
            "Epoch 30/50\n",
            "24/24 [==============================] - 2s 90ms/step - factorized_top_k/top_1_categorical_accuracy: 0.1868 - factorized_top_k/top_5_categorical_accuracy: 0.2808 - factorized_top_k/top_10_categorical_accuracy: 0.3364 - factorized_top_k/top_50_categorical_accuracy: 0.5192 - factorized_top_k/top_100_categorical_accuracy: 0.6411 - loss: 52.7557 - regularization_loss: 0.0000e+00 - total_loss: 52.7557\n",
            "Epoch 31/50\n",
            "24/24 [==============================] - 2s 87ms/step - factorized_top_k/top_1_categorical_accuracy: 0.1563 - factorized_top_k/top_5_categorical_accuracy: 0.2596 - factorized_top_k/top_10_categorical_accuracy: 0.3245 - factorized_top_k/top_50_categorical_accuracy: 0.5086 - factorized_top_k/top_100_categorical_accuracy: 0.6146 - loss: 53.1574 - regularization_loss: 0.0000e+00 - total_loss: 53.1574\n",
            "Epoch 32/50\n",
            "24/24 [==============================] - 2s 85ms/step - factorized_top_k/top_1_categorical_accuracy: 0.1868 - factorized_top_k/top_5_categorical_accuracy: 0.2728 - factorized_top_k/top_10_categorical_accuracy: 0.3219 - factorized_top_k/top_50_categorical_accuracy: 0.5139 - factorized_top_k/top_100_categorical_accuracy: 0.6265 - loss: 53.8103 - regularization_loss: 0.0000e+00 - total_loss: 53.8103\n",
            "Epoch 33/50\n",
            "24/24 [==============================] - 3s 111ms/step - factorized_top_k/top_1_categorical_accuracy: 0.1881 - factorized_top_k/top_5_categorical_accuracy: 0.2980 - factorized_top_k/top_10_categorical_accuracy: 0.3470 - factorized_top_k/top_50_categorical_accuracy: 0.5430 - factorized_top_k/top_100_categorical_accuracy: 0.6702 - loss: 53.1246 - regularization_loss: 0.0000e+00 - total_loss: 53.1246\n",
            "Epoch 34/50\n",
            "24/24 [==============================] - 2s 86ms/step - factorized_top_k/top_1_categorical_accuracy: 0.1682 - factorized_top_k/top_5_categorical_accuracy: 0.2702 - factorized_top_k/top_10_categorical_accuracy: 0.3232 - factorized_top_k/top_50_categorical_accuracy: 0.5126 - factorized_top_k/top_100_categorical_accuracy: 0.6265 - loss: 52.6269 - regularization_loss: 0.0000e+00 - total_loss: 52.6269\n",
            "Epoch 35/50\n",
            "24/24 [==============================] - 2s 84ms/step - factorized_top_k/top_1_categorical_accuracy: 0.2026 - factorized_top_k/top_5_categorical_accuracy: 0.2887 - factorized_top_k/top_10_categorical_accuracy: 0.3338 - factorized_top_k/top_50_categorical_accuracy: 0.5311 - factorized_top_k/top_100_categorical_accuracy: 0.6477 - loss: 51.3868 - regularization_loss: 0.0000e+00 - total_loss: 51.3868\n",
            "Epoch 36/50\n",
            "24/24 [==============================] - 2s 83ms/step - factorized_top_k/top_1_categorical_accuracy: 0.1616 - factorized_top_k/top_5_categorical_accuracy: 0.2742 - factorized_top_k/top_10_categorical_accuracy: 0.3364 - factorized_top_k/top_50_categorical_accuracy: 0.5179 - factorized_top_k/top_100_categorical_accuracy: 0.6225 - loss: 52.4750 - regularization_loss: 0.0000e+00 - total_loss: 52.4750\n",
            "Epoch 37/50\n",
            "24/24 [==============================] - 2s 87ms/step - factorized_top_k/top_1_categorical_accuracy: 0.1894 - factorized_top_k/top_5_categorical_accuracy: 0.2702 - factorized_top_k/top_10_categorical_accuracy: 0.3338 - factorized_top_k/top_50_categorical_accuracy: 0.5298 - factorized_top_k/top_100_categorical_accuracy: 0.6238 - loss: 52.6457 - regularization_loss: 0.0000e+00 - total_loss: 52.6457\n",
            "Epoch 38/50\n",
            "24/24 [==============================] - 3s 128ms/step - factorized_top_k/top_1_categorical_accuracy: 0.1735 - factorized_top_k/top_5_categorical_accuracy: 0.2702 - factorized_top_k/top_10_categorical_accuracy: 0.3298 - factorized_top_k/top_50_categorical_accuracy: 0.5113 - factorized_top_k/top_100_categorical_accuracy: 0.6252 - loss: 51.7685 - regularization_loss: 0.0000e+00 - total_loss: 51.7685\n",
            "Epoch 39/50\n",
            "24/24 [==============================] - 2s 84ms/step - factorized_top_k/top_1_categorical_accuracy: 0.1921 - factorized_top_k/top_5_categorical_accuracy: 0.2967 - factorized_top_k/top_10_categorical_accuracy: 0.3523 - factorized_top_k/top_50_categorical_accuracy: 0.5351 - factorized_top_k/top_100_categorical_accuracy: 0.6596 - loss: 52.1654 - regularization_loss: 0.0000e+00 - total_loss: 52.1654\n",
            "Epoch 40/50\n",
            "24/24 [==============================] - 2s 86ms/step - factorized_top_k/top_1_categorical_accuracy: 0.1868 - factorized_top_k/top_5_categorical_accuracy: 0.2834 - factorized_top_k/top_10_categorical_accuracy: 0.3483 - factorized_top_k/top_50_categorical_accuracy: 0.5457 - factorized_top_k/top_100_categorical_accuracy: 0.6596 - loss: 53.1437 - regularization_loss: 0.0000e+00 - total_loss: 53.1437\n",
            "Epoch 41/50\n",
            "24/24 [==============================] - 2s 86ms/step - factorized_top_k/top_1_categorical_accuracy: 0.2026 - factorized_top_k/top_5_categorical_accuracy: 0.3007 - factorized_top_k/top_10_categorical_accuracy: 0.3589 - factorized_top_k/top_50_categorical_accuracy: 0.5285 - factorized_top_k/top_100_categorical_accuracy: 0.6570 - loss: 52.6089 - regularization_loss: 0.0000e+00 - total_loss: 52.6089\n",
            "Epoch 42/50\n",
            "24/24 [==============================] - 2s 89ms/step - factorized_top_k/top_1_categorical_accuracy: 0.1854 - factorized_top_k/top_5_categorical_accuracy: 0.2821 - factorized_top_k/top_10_categorical_accuracy: 0.3364 - factorized_top_k/top_50_categorical_accuracy: 0.5576 - factorized_top_k/top_100_categorical_accuracy: 0.6675 - loss: 52.5424 - regularization_loss: 0.0000e+00 - total_loss: 52.5424\n",
            "Epoch 43/50\n",
            "24/24 [==============================] - 3s 125ms/step - factorized_top_k/top_1_categorical_accuracy: 0.1788 - factorized_top_k/top_5_categorical_accuracy: 0.2795 - factorized_top_k/top_10_categorical_accuracy: 0.3444 - factorized_top_k/top_50_categorical_accuracy: 0.5139 - factorized_top_k/top_100_categorical_accuracy: 0.6331 - loss: 52.0126 - regularization_loss: 0.0000e+00 - total_loss: 52.0126\n",
            "Epoch 44/50\n",
            "24/24 [==============================] - 2s 87ms/step - factorized_top_k/top_1_categorical_accuracy: 0.1669 - factorized_top_k/top_5_categorical_accuracy: 0.2675 - factorized_top_k/top_10_categorical_accuracy: 0.3377 - factorized_top_k/top_50_categorical_accuracy: 0.5232 - factorized_top_k/top_100_categorical_accuracy: 0.6424 - loss: 51.6205 - regularization_loss: 0.0000e+00 - total_loss: 51.6205\n",
            "Epoch 45/50\n",
            "24/24 [==============================] - 2s 87ms/step - factorized_top_k/top_1_categorical_accuracy: 0.2093 - factorized_top_k/top_5_categorical_accuracy: 0.3007 - factorized_top_k/top_10_categorical_accuracy: 0.3629 - factorized_top_k/top_50_categorical_accuracy: 0.5430 - factorized_top_k/top_100_categorical_accuracy: 0.6623 - loss: 51.6674 - regularization_loss: 0.0000e+00 - total_loss: 51.6674\n",
            "Epoch 46/50\n",
            "24/24 [==============================] - 2s 86ms/step - factorized_top_k/top_1_categorical_accuracy: 0.1881 - factorized_top_k/top_5_categorical_accuracy: 0.2795 - factorized_top_k/top_10_categorical_accuracy: 0.3417 - factorized_top_k/top_50_categorical_accuracy: 0.5285 - factorized_top_k/top_100_categorical_accuracy: 0.6503 - loss: 51.6176 - regularization_loss: 0.0000e+00 - total_loss: 51.6176\n",
            "Epoch 47/50\n",
            "24/24 [==============================] - 2s 88ms/step - factorized_top_k/top_1_categorical_accuracy: 0.2013 - factorized_top_k/top_5_categorical_accuracy: 0.3060 - factorized_top_k/top_10_categorical_accuracy: 0.3695 - factorized_top_k/top_50_categorical_accuracy: 0.5404 - factorized_top_k/top_100_categorical_accuracy: 0.6517 - loss: 51.3466 - regularization_loss: 0.0000e+00 - total_loss: 51.3466\n",
            "Epoch 48/50\n",
            "24/24 [==============================] - 3s 134ms/step - factorized_top_k/top_1_categorical_accuracy: 0.1907 - factorized_top_k/top_5_categorical_accuracy: 0.2993 - factorized_top_k/top_10_categorical_accuracy: 0.3576 - factorized_top_k/top_50_categorical_accuracy: 0.5417 - factorized_top_k/top_100_categorical_accuracy: 0.6609 - loss: 51.5015 - regularization_loss: 0.0000e+00 - total_loss: 51.5015\n",
            "Epoch 49/50\n",
            "24/24 [==============================] - 2s 89ms/step - factorized_top_k/top_1_categorical_accuracy: 0.1881 - factorized_top_k/top_5_categorical_accuracy: 0.2755 - factorized_top_k/top_10_categorical_accuracy: 0.3404 - factorized_top_k/top_50_categorical_accuracy: 0.5258 - factorized_top_k/top_100_categorical_accuracy: 0.6530 - loss: 51.8920 - regularization_loss: 0.0000e+00 - total_loss: 51.8920\n",
            "Epoch 50/50\n",
            "24/24 [==============================] - 2s 89ms/step - factorized_top_k/top_1_categorical_accuracy: 0.1801 - factorized_top_k/top_5_categorical_accuracy: 0.2781 - factorized_top_k/top_10_categorical_accuracy: 0.3325 - factorized_top_k/top_50_categorical_accuracy: 0.5232 - factorized_top_k/top_100_categorical_accuracy: 0.6252 - loss: 52.0775 - regularization_loss: 0.0000e+00 - total_loss: 52.0775\n",
            "24/24 [==============================] - 2s 85ms/step - factorized_top_k/top_1_categorical_accuracy: 0.2768 - factorized_top_k/top_5_categorical_accuracy: 0.3722 - factorized_top_k/top_10_categorical_accuracy: 0.4517 - factorized_top_k/top_50_categorical_accuracy: 0.6649 - factorized_top_k/top_100_categorical_accuracy: 0.7311 - loss: 50.0461 - regularization_loss: 0.0000e+00 - total_loss: 50.0461\n",
            "6/6 [==============================] - 1s 91ms/step - factorized_top_k/top_1_categorical_accuracy: 0.1693 - factorized_top_k/top_5_categorical_accuracy: 0.2063 - factorized_top_k/top_10_categorical_accuracy: 0.2275 - factorized_top_k/top_50_categorical_accuracy: 0.4233 - factorized_top_k/top_100_categorical_accuracy: 0.4868 - loss: 98.4904 - regularization_loss: 0.0000e+00 - total_loss: 98.4904\n",
            "Top-100 accuracy (train): 0.73.\n",
            "Top-100 accuracy (test): 0.49.\n",
            "Epoch 1/50\n",
            "24/24 [==============================] - 5s 143ms/step - factorized_top_k/top_1_categorical_accuracy: 0.0874 - factorized_top_k/top_5_categorical_accuracy: 0.0874 - factorized_top_k/top_10_categorical_accuracy: 0.1020 - factorized_top_k/top_50_categorical_accuracy: 0.1616 - factorized_top_k/top_100_categorical_accuracy: 0.2225 - loss: 94.9345 - regularization_loss: 0.0000e+00 - total_loss: 94.9345\n",
            "Epoch 2/50\n",
            "24/24 [==============================] - 2s 86ms/step - factorized_top_k/top_1_categorical_accuracy: 0.1166 - factorized_top_k/top_5_categorical_accuracy: 0.1298 - factorized_top_k/top_10_categorical_accuracy: 0.1536 - factorized_top_k/top_50_categorical_accuracy: 0.2821 - factorized_top_k/top_100_categorical_accuracy: 0.3854 - loss: 82.8139 - regularization_loss: 0.0000e+00 - total_loss: 82.8139\n",
            "Epoch 3/50\n",
            "24/24 [==============================] - 2s 88ms/step - factorized_top_k/top_1_categorical_accuracy: 0.1152 - factorized_top_k/top_5_categorical_accuracy: 0.1497 - factorized_top_k/top_10_categorical_accuracy: 0.1788 - factorized_top_k/top_50_categorical_accuracy: 0.3523 - factorized_top_k/top_100_categorical_accuracy: 0.4874 - loss: 73.8229 - regularization_loss: 0.0000e+00 - total_loss: 73.8229\n",
            "Epoch 4/50\n",
            "24/24 [==============================] - 2s 88ms/step - factorized_top_k/top_1_categorical_accuracy: 0.1245 - factorized_top_k/top_5_categorical_accuracy: 0.1682 - factorized_top_k/top_10_categorical_accuracy: 0.2212 - factorized_top_k/top_50_categorical_accuracy: 0.4384 - factorized_top_k/top_100_categorical_accuracy: 0.5603 - loss: 66.7717 - regularization_loss: 0.0000e+00 - total_loss: 66.7717\n",
            "Epoch 5/50\n",
            "24/24 [==============================] - 2s 87ms/step - factorized_top_k/top_1_categorical_accuracy: 0.1364 - factorized_top_k/top_5_categorical_accuracy: 0.2040 - factorized_top_k/top_10_categorical_accuracy: 0.2490 - factorized_top_k/top_50_categorical_accuracy: 0.4450 - factorized_top_k/top_100_categorical_accuracy: 0.5828 - loss: 65.0487 - regularization_loss: 0.0000e+00 - total_loss: 65.0487\n",
            "Epoch 6/50\n",
            "24/24 [==============================] - 3s 136ms/step - factorized_top_k/top_1_categorical_accuracy: 0.1391 - factorized_top_k/top_5_categorical_accuracy: 0.2079 - factorized_top_k/top_10_categorical_accuracy: 0.2702 - factorized_top_k/top_50_categorical_accuracy: 0.4623 - factorized_top_k/top_100_categorical_accuracy: 0.5788 - loss: 61.8983 - regularization_loss: 0.0000e+00 - total_loss: 61.8983\n",
            "Epoch 7/50\n",
            "24/24 [==============================] - 2s 86ms/step - factorized_top_k/top_1_categorical_accuracy: 0.1377 - factorized_top_k/top_5_categorical_accuracy: 0.2477 - factorized_top_k/top_10_categorical_accuracy: 0.3007 - factorized_top_k/top_50_categorical_accuracy: 0.4808 - factorized_top_k/top_100_categorical_accuracy: 0.6026 - loss: 59.0813 - regularization_loss: 0.0000e+00 - total_loss: 59.0813\n",
            "Epoch 8/50\n",
            "24/24 [==============================] - 2s 84ms/step - factorized_top_k/top_1_categorical_accuracy: 0.1576 - factorized_top_k/top_5_categorical_accuracy: 0.2464 - factorized_top_k/top_10_categorical_accuracy: 0.2914 - factorized_top_k/top_50_categorical_accuracy: 0.4940 - factorized_top_k/top_100_categorical_accuracy: 0.6146 - loss: 58.5670 - regularization_loss: 0.0000e+00 - total_loss: 58.5670\n",
            "Epoch 9/50\n",
            "24/24 [==============================] - 2s 86ms/step - factorized_top_k/top_1_categorical_accuracy: 0.1298 - factorized_top_k/top_5_categorical_accuracy: 0.2490 - factorized_top_k/top_10_categorical_accuracy: 0.2967 - factorized_top_k/top_50_categorical_accuracy: 0.4808 - factorized_top_k/top_100_categorical_accuracy: 0.6252 - loss: 58.0766 - regularization_loss: 0.0000e+00 - total_loss: 58.0766\n",
            "Epoch 10/50\n",
            "24/24 [==============================] - 2s 93ms/step - factorized_top_k/top_1_categorical_accuracy: 0.1682 - factorized_top_k/top_5_categorical_accuracy: 0.2768 - factorized_top_k/top_10_categorical_accuracy: 0.3417 - factorized_top_k/top_50_categorical_accuracy: 0.5126 - factorized_top_k/top_100_categorical_accuracy: 0.6252 - loss: 57.0770 - regularization_loss: 0.0000e+00 - total_loss: 57.0770\n",
            "Epoch 11/50\n",
            "24/24 [==============================] - 3s 141ms/step - factorized_top_k/top_1_categorical_accuracy: 0.1444 - factorized_top_k/top_5_categorical_accuracy: 0.2543 - factorized_top_k/top_10_categorical_accuracy: 0.3139 - factorized_top_k/top_50_categorical_accuracy: 0.4755 - factorized_top_k/top_100_categorical_accuracy: 0.5987 - loss: 56.1464 - regularization_loss: 0.0000e+00 - total_loss: 56.1464\n",
            "Epoch 12/50\n",
            "24/24 [==============================] - 2s 87ms/step - factorized_top_k/top_1_categorical_accuracy: 0.1788 - factorized_top_k/top_5_categorical_accuracy: 0.2755 - factorized_top_k/top_10_categorical_accuracy: 0.3510 - factorized_top_k/top_50_categorical_accuracy: 0.5325 - factorized_top_k/top_100_categorical_accuracy: 0.6437 - loss: 55.8885 - regularization_loss: 0.0000e+00 - total_loss: 55.8885\n",
            "Epoch 13/50\n",
            "24/24 [==============================] - 2s 84ms/step - factorized_top_k/top_1_categorical_accuracy: 0.1775 - factorized_top_k/top_5_categorical_accuracy: 0.2848 - factorized_top_k/top_10_categorical_accuracy: 0.3510 - factorized_top_k/top_50_categorical_accuracy: 0.5086 - factorized_top_k/top_100_categorical_accuracy: 0.6278 - loss: 55.5279 - regularization_loss: 0.0000e+00 - total_loss: 55.5279\n",
            "Epoch 14/50\n",
            "24/24 [==============================] - 2s 83ms/step - factorized_top_k/top_1_categorical_accuracy: 0.1656 - factorized_top_k/top_5_categorical_accuracy: 0.2649 - factorized_top_k/top_10_categorical_accuracy: 0.3166 - factorized_top_k/top_50_categorical_accuracy: 0.5179 - factorized_top_k/top_100_categorical_accuracy: 0.6305 - loss: 55.1604 - regularization_loss: 0.0000e+00 - total_loss: 55.1604\n",
            "Epoch 15/50\n",
            "24/24 [==============================] - 2s 93ms/step - factorized_top_k/top_1_categorical_accuracy: 0.1722 - factorized_top_k/top_5_categorical_accuracy: 0.2662 - factorized_top_k/top_10_categorical_accuracy: 0.3205 - factorized_top_k/top_50_categorical_accuracy: 0.4940 - factorized_top_k/top_100_categorical_accuracy: 0.6185 - loss: 55.2962 - regularization_loss: 0.0000e+00 - total_loss: 55.2962\n",
            "Epoch 16/50\n",
            "24/24 [==============================] - 3s 134ms/step - factorized_top_k/top_1_categorical_accuracy: 0.1762 - factorized_top_k/top_5_categorical_accuracy: 0.2795 - factorized_top_k/top_10_categorical_accuracy: 0.3417 - factorized_top_k/top_50_categorical_accuracy: 0.5152 - factorized_top_k/top_100_categorical_accuracy: 0.6344 - loss: 54.4173 - regularization_loss: 0.0000e+00 - total_loss: 54.4173\n",
            "Epoch 17/50\n",
            "24/24 [==============================] - 2s 96ms/step - factorized_top_k/top_1_categorical_accuracy: 0.1709 - factorized_top_k/top_5_categorical_accuracy: 0.2755 - factorized_top_k/top_10_categorical_accuracy: 0.3285 - factorized_top_k/top_50_categorical_accuracy: 0.5086 - factorized_top_k/top_100_categorical_accuracy: 0.6344 - loss: 53.8185 - regularization_loss: 0.0000e+00 - total_loss: 53.8185\n",
            "Epoch 18/50\n",
            "24/24 [==============================] - 2s 86ms/step - factorized_top_k/top_1_categorical_accuracy: 0.1854 - factorized_top_k/top_5_categorical_accuracy: 0.2980 - factorized_top_k/top_10_categorical_accuracy: 0.3483 - factorized_top_k/top_50_categorical_accuracy: 0.5152 - factorized_top_k/top_100_categorical_accuracy: 0.6344 - loss: 53.7352 - regularization_loss: 0.0000e+00 - total_loss: 53.7352\n",
            "Epoch 19/50\n",
            "24/24 [==============================] - 2s 84ms/step - factorized_top_k/top_1_categorical_accuracy: 0.1589 - factorized_top_k/top_5_categorical_accuracy: 0.2530 - factorized_top_k/top_10_categorical_accuracy: 0.3073 - factorized_top_k/top_50_categorical_accuracy: 0.4861 - factorized_top_k/top_100_categorical_accuracy: 0.5987 - loss: 54.2307 - regularization_loss: 0.0000e+00 - total_loss: 54.2307\n",
            "Epoch 20/50\n",
            "24/24 [==============================] - 2s 84ms/step - factorized_top_k/top_1_categorical_accuracy: 0.1801 - factorized_top_k/top_5_categorical_accuracy: 0.2821 - factorized_top_k/top_10_categorical_accuracy: 0.3219 - factorized_top_k/top_50_categorical_accuracy: 0.5086 - factorized_top_k/top_100_categorical_accuracy: 0.6252 - loss: 53.3448 - regularization_loss: 0.0000e+00 - total_loss: 53.3448\n",
            "Epoch 21/50\n",
            "24/24 [==============================] - 3s 106ms/step - factorized_top_k/top_1_categorical_accuracy: 0.1669 - factorized_top_k/top_5_categorical_accuracy: 0.2623 - factorized_top_k/top_10_categorical_accuracy: 0.3219 - factorized_top_k/top_50_categorical_accuracy: 0.4940 - factorized_top_k/top_100_categorical_accuracy: 0.6106 - loss: 53.7484 - regularization_loss: 0.0000e+00 - total_loss: 53.7484\n",
            "Epoch 22/50\n",
            "24/24 [==============================] - 3s 140ms/step - factorized_top_k/top_1_categorical_accuracy: 0.1934 - factorized_top_k/top_5_categorical_accuracy: 0.2901 - factorized_top_k/top_10_categorical_accuracy: 0.3404 - factorized_top_k/top_50_categorical_accuracy: 0.5192 - factorized_top_k/top_100_categorical_accuracy: 0.6344 - loss: 53.8539 - regularization_loss: 0.0000e+00 - total_loss: 53.8539\n",
            "Epoch 23/50\n",
            "24/24 [==============================] - 2s 87ms/step - factorized_top_k/top_1_categorical_accuracy: 0.1815 - factorized_top_k/top_5_categorical_accuracy: 0.2927 - factorized_top_k/top_10_categorical_accuracy: 0.3404 - factorized_top_k/top_50_categorical_accuracy: 0.5152 - factorized_top_k/top_100_categorical_accuracy: 0.6424 - loss: 52.1950 - regularization_loss: 0.0000e+00 - total_loss: 52.1950\n",
            "Epoch 24/50\n",
            "24/24 [==============================] - 2s 88ms/step - factorized_top_k/top_1_categorical_accuracy: 0.1788 - factorized_top_k/top_5_categorical_accuracy: 0.2795 - factorized_top_k/top_10_categorical_accuracy: 0.3298 - factorized_top_k/top_50_categorical_accuracy: 0.5073 - factorized_top_k/top_100_categorical_accuracy: 0.6450 - loss: 53.4186 - regularization_loss: 0.0000e+00 - total_loss: 53.4186\n",
            "Epoch 25/50\n",
            "24/24 [==============================] - 2s 86ms/step - factorized_top_k/top_1_categorical_accuracy: 0.1854 - factorized_top_k/top_5_categorical_accuracy: 0.2954 - factorized_top_k/top_10_categorical_accuracy: 0.3483 - factorized_top_k/top_50_categorical_accuracy: 0.5377 - factorized_top_k/top_100_categorical_accuracy: 0.6503 - loss: 53.3646 - regularization_loss: 0.0000e+00 - total_loss: 53.3646\n",
            "Epoch 26/50\n",
            "24/24 [==============================] - 2s 99ms/step - factorized_top_k/top_1_categorical_accuracy: 0.1656 - factorized_top_k/top_5_categorical_accuracy: 0.2874 - factorized_top_k/top_10_categorical_accuracy: 0.3391 - factorized_top_k/top_50_categorical_accuracy: 0.5060 - factorized_top_k/top_100_categorical_accuracy: 0.6172 - loss: 54.1366 - regularization_loss: 0.0000e+00 - total_loss: 54.1366\n",
            "Epoch 27/50\n",
            "24/24 [==============================] - 3s 134ms/step - factorized_top_k/top_1_categorical_accuracy: 0.1907 - factorized_top_k/top_5_categorical_accuracy: 0.2901 - factorized_top_k/top_10_categorical_accuracy: 0.3417 - factorized_top_k/top_50_categorical_accuracy: 0.5232 - factorized_top_k/top_100_categorical_accuracy: 0.6503 - loss: 52.0509 - regularization_loss: 0.0000e+00 - total_loss: 52.0509\n",
            "Epoch 28/50\n",
            "24/24 [==============================] - 2s 84ms/step - factorized_top_k/top_1_categorical_accuracy: 0.1762 - factorized_top_k/top_5_categorical_accuracy: 0.2768 - factorized_top_k/top_10_categorical_accuracy: 0.3457 - factorized_top_k/top_50_categorical_accuracy: 0.5272 - factorized_top_k/top_100_categorical_accuracy: 0.6556 - loss: 52.0421 - regularization_loss: 0.0000e+00 - total_loss: 52.0421\n",
            "Epoch 29/50\n",
            "24/24 [==============================] - 2s 84ms/step - factorized_top_k/top_1_categorical_accuracy: 0.1669 - factorized_top_k/top_5_categorical_accuracy: 0.2689 - factorized_top_k/top_10_categorical_accuracy: 0.3298 - factorized_top_k/top_50_categorical_accuracy: 0.5205 - factorized_top_k/top_100_categorical_accuracy: 0.6265 - loss: 52.6807 - regularization_loss: 0.0000e+00 - total_loss: 52.6807\n",
            "Epoch 30/50\n",
            "24/24 [==============================] - 2s 85ms/step - factorized_top_k/top_1_categorical_accuracy: 0.1801 - factorized_top_k/top_5_categorical_accuracy: 0.2795 - factorized_top_k/top_10_categorical_accuracy: 0.3457 - factorized_top_k/top_50_categorical_accuracy: 0.5298 - factorized_top_k/top_100_categorical_accuracy: 0.6464 - loss: 52.4345 - regularization_loss: 0.0000e+00 - total_loss: 52.4345\n",
            "Epoch 31/50\n",
            "24/24 [==============================] - 3s 109ms/step - factorized_top_k/top_1_categorical_accuracy: 0.1775 - factorized_top_k/top_5_categorical_accuracy: 0.2755 - factorized_top_k/top_10_categorical_accuracy: 0.3325 - factorized_top_k/top_50_categorical_accuracy: 0.5126 - factorized_top_k/top_100_categorical_accuracy: 0.6212 - loss: 52.7611 - regularization_loss: 0.0000e+00 - total_loss: 52.7611\n",
            "Epoch 32/50\n",
            "24/24 [==============================] - 2s 87ms/step - factorized_top_k/top_1_categorical_accuracy: 0.1881 - factorized_top_k/top_5_categorical_accuracy: 0.2662 - factorized_top_k/top_10_categorical_accuracy: 0.3152 - factorized_top_k/top_50_categorical_accuracy: 0.5007 - factorized_top_k/top_100_categorical_accuracy: 0.6238 - loss: 53.6405 - regularization_loss: 0.0000e+00 - total_loss: 53.6405\n",
            "Epoch 33/50\n",
            "24/24 [==============================] - 2s 85ms/step - factorized_top_k/top_1_categorical_accuracy: 0.2040 - factorized_top_k/top_5_categorical_accuracy: 0.3179 - factorized_top_k/top_10_categorical_accuracy: 0.3656 - factorized_top_k/top_50_categorical_accuracy: 0.5563 - factorized_top_k/top_100_categorical_accuracy: 0.6861 - loss: 52.8555 - regularization_loss: 0.0000e+00 - total_loss: 52.8555\n",
            "Epoch 34/50\n",
            "24/24 [==============================] - 2s 85ms/step - factorized_top_k/top_1_categorical_accuracy: 0.1603 - factorized_top_k/top_5_categorical_accuracy: 0.2768 - factorized_top_k/top_10_categorical_accuracy: 0.3311 - factorized_top_k/top_50_categorical_accuracy: 0.5139 - factorized_top_k/top_100_categorical_accuracy: 0.6291 - loss: 52.4421 - regularization_loss: 0.0000e+00 - total_loss: 52.4421\n",
            "Epoch 35/50\n",
            "24/24 [==============================] - 2s 92ms/step - factorized_top_k/top_1_categorical_accuracy: 0.1921 - factorized_top_k/top_5_categorical_accuracy: 0.2901 - factorized_top_k/top_10_categorical_accuracy: 0.3311 - factorized_top_k/top_50_categorical_accuracy: 0.5364 - factorized_top_k/top_100_categorical_accuracy: 0.6530 - loss: 51.1634 - regularization_loss: 0.0000e+00 - total_loss: 51.1634\n",
            "Epoch 36/50\n",
            "24/24 [==============================] - 3s 139ms/step - factorized_top_k/top_1_categorical_accuracy: 0.1748 - factorized_top_k/top_5_categorical_accuracy: 0.2781 - factorized_top_k/top_10_categorical_accuracy: 0.3417 - factorized_top_k/top_50_categorical_accuracy: 0.5245 - factorized_top_k/top_100_categorical_accuracy: 0.6344 - loss: 52.1045 - regularization_loss: 0.0000e+00 - total_loss: 52.1045\n",
            "Epoch 37/50\n",
            "24/24 [==============================] - 2s 84ms/step - factorized_top_k/top_1_categorical_accuracy: 0.1775 - factorized_top_k/top_5_categorical_accuracy: 0.2636 - factorized_top_k/top_10_categorical_accuracy: 0.3258 - factorized_top_k/top_50_categorical_accuracy: 0.5232 - factorized_top_k/top_100_categorical_accuracy: 0.6252 - loss: 52.4210 - regularization_loss: 0.0000e+00 - total_loss: 52.4210\n",
            "Epoch 38/50\n",
            "24/24 [==============================] - 2s 85ms/step - factorized_top_k/top_1_categorical_accuracy: 0.1815 - factorized_top_k/top_5_categorical_accuracy: 0.2728 - factorized_top_k/top_10_categorical_accuracy: 0.3298 - factorized_top_k/top_50_categorical_accuracy: 0.5192 - factorized_top_k/top_100_categorical_accuracy: 0.6265 - loss: 51.4721 - regularization_loss: 0.0000e+00 - total_loss: 51.4721\n",
            "Epoch 39/50\n",
            "24/24 [==============================] - 2s 85ms/step - factorized_top_k/top_1_categorical_accuracy: 0.1815 - factorized_top_k/top_5_categorical_accuracy: 0.2967 - factorized_top_k/top_10_categorical_accuracy: 0.3457 - factorized_top_k/top_50_categorical_accuracy: 0.5351 - factorized_top_k/top_100_categorical_accuracy: 0.6596 - loss: 51.9161 - regularization_loss: 0.0000e+00 - total_loss: 51.9161\n",
            "Epoch 40/50\n",
            "24/24 [==============================] - 3s 107ms/step - factorized_top_k/top_1_categorical_accuracy: 0.1881 - factorized_top_k/top_5_categorical_accuracy: 0.2781 - factorized_top_k/top_10_categorical_accuracy: 0.3470 - factorized_top_k/top_50_categorical_accuracy: 0.5417 - factorized_top_k/top_100_categorical_accuracy: 0.6583 - loss: 52.9130 - regularization_loss: 0.0000e+00 - total_loss: 52.9130\n",
            "Epoch 41/50\n",
            "24/24 [==============================] - 2s 87ms/step - factorized_top_k/top_1_categorical_accuracy: 0.1907 - factorized_top_k/top_5_categorical_accuracy: 0.2901 - factorized_top_k/top_10_categorical_accuracy: 0.3351 - factorized_top_k/top_50_categorical_accuracy: 0.5139 - factorized_top_k/top_100_categorical_accuracy: 0.6397 - loss: 52.4681 - regularization_loss: 0.0000e+00 - total_loss: 52.4681\n",
            "Epoch 42/50\n",
            "24/24 [==============================] - 2s 87ms/step - factorized_top_k/top_1_categorical_accuracy: 0.1854 - factorized_top_k/top_5_categorical_accuracy: 0.2901 - factorized_top_k/top_10_categorical_accuracy: 0.3430 - factorized_top_k/top_50_categorical_accuracy: 0.5510 - factorized_top_k/top_100_categorical_accuracy: 0.6675 - loss: 52.3287 - regularization_loss: 0.0000e+00 - total_loss: 52.3287\n",
            "Epoch 43/50\n",
            "24/24 [==============================] - 2s 88ms/step - factorized_top_k/top_1_categorical_accuracy: 0.1881 - factorized_top_k/top_5_categorical_accuracy: 0.2967 - factorized_top_k/top_10_categorical_accuracy: 0.3656 - factorized_top_k/top_50_categorical_accuracy: 0.5311 - factorized_top_k/top_100_categorical_accuracy: 0.6450 - loss: 51.8284 - regularization_loss: 0.0000e+00 - total_loss: 51.8284\n",
            "Epoch 44/50\n",
            "24/24 [==============================] - 2s 86ms/step - factorized_top_k/top_1_categorical_accuracy: 0.1656 - factorized_top_k/top_5_categorical_accuracy: 0.2649 - factorized_top_k/top_10_categorical_accuracy: 0.3377 - factorized_top_k/top_50_categorical_accuracy: 0.5325 - factorized_top_k/top_100_categorical_accuracy: 0.6477 - loss: 51.3340 - regularization_loss: 0.0000e+00 - total_loss: 51.3340\n",
            "Epoch 45/50\n",
            "24/24 [==============================] - 3s 125ms/step - factorized_top_k/top_1_categorical_accuracy: 0.1974 - factorized_top_k/top_5_categorical_accuracy: 0.2874 - factorized_top_k/top_10_categorical_accuracy: 0.3510 - factorized_top_k/top_50_categorical_accuracy: 0.5377 - factorized_top_k/top_100_categorical_accuracy: 0.6517 - loss: 51.4402 - regularization_loss: 0.0000e+00 - total_loss: 51.4402\n",
            "Epoch 46/50\n",
            "24/24 [==============================] - 2s 86ms/step - factorized_top_k/top_1_categorical_accuracy: 0.1801 - factorized_top_k/top_5_categorical_accuracy: 0.2755 - factorized_top_k/top_10_categorical_accuracy: 0.3351 - factorized_top_k/top_50_categorical_accuracy: 0.5351 - factorized_top_k/top_100_categorical_accuracy: 0.6543 - loss: 51.5281 - regularization_loss: 0.0000e+00 - total_loss: 51.5281\n",
            "Epoch 47/50\n",
            "24/24 [==============================] - 2s 86ms/step - factorized_top_k/top_1_categorical_accuracy: 0.2066 - factorized_top_k/top_5_categorical_accuracy: 0.3086 - factorized_top_k/top_10_categorical_accuracy: 0.3709 - factorized_top_k/top_50_categorical_accuracy: 0.5430 - factorized_top_k/top_100_categorical_accuracy: 0.6570 - loss: 51.2236 - regularization_loss: 0.0000e+00 - total_loss: 51.2236\n",
            "Epoch 48/50\n",
            "24/24 [==============================] - 2s 85ms/step - factorized_top_k/top_1_categorical_accuracy: 0.1788 - factorized_top_k/top_5_categorical_accuracy: 0.2821 - factorized_top_k/top_10_categorical_accuracy: 0.3311 - factorized_top_k/top_50_categorical_accuracy: 0.5338 - factorized_top_k/top_100_categorical_accuracy: 0.6517 - loss: 51.2939 - regularization_loss: 0.0000e+00 - total_loss: 51.2939\n",
            "Epoch 49/50\n",
            "24/24 [==============================] - 2s 86ms/step - factorized_top_k/top_1_categorical_accuracy: 0.1841 - factorized_top_k/top_5_categorical_accuracy: 0.2781 - factorized_top_k/top_10_categorical_accuracy: 0.3417 - factorized_top_k/top_50_categorical_accuracy: 0.5325 - factorized_top_k/top_100_categorical_accuracy: 0.6702 - loss: 51.6491 - regularization_loss: 0.0000e+00 - total_loss: 51.6491\n",
            "Epoch 50/50\n",
            "24/24 [==============================] - 3s 143ms/step - factorized_top_k/top_1_categorical_accuracy: 0.1669 - factorized_top_k/top_5_categorical_accuracy: 0.2675 - factorized_top_k/top_10_categorical_accuracy: 0.3179 - factorized_top_k/top_50_categorical_accuracy: 0.5166 - factorized_top_k/top_100_categorical_accuracy: 0.6331 - loss: 51.8460 - regularization_loss: 0.0000e+00 - total_loss: 51.8460\n",
            "24/24 [==============================] - 2s 87ms/step - factorized_top_k/top_1_categorical_accuracy: 0.2861 - factorized_top_k/top_5_categorical_accuracy: 0.3709 - factorized_top_k/top_10_categorical_accuracy: 0.4464 - factorized_top_k/top_50_categorical_accuracy: 0.6556 - factorized_top_k/top_100_categorical_accuracy: 0.7523 - loss: 49.6369 - regularization_loss: 0.0000e+00 - total_loss: 49.6369\n",
            "6/6 [==============================] - 1s 91ms/step - factorized_top_k/top_1_categorical_accuracy: 0.1534 - factorized_top_k/top_5_categorical_accuracy: 0.1958 - factorized_top_k/top_10_categorical_accuracy: 0.2169 - factorized_top_k/top_50_categorical_accuracy: 0.4233 - factorized_top_k/top_100_categorical_accuracy: 0.5026 - loss: 94.6362 - regularization_loss: 0.0000e+00 - total_loss: 94.6362\n",
            "Top-100 accuracy (train): 0.75.\n",
            "Top-100 accuracy (test): 0.50.\n",
            "Epoch 1/50\n",
            "24/24 [==============================] - 3s 84ms/step - factorized_top_k/top_1_categorical_accuracy: 0.0848 - factorized_top_k/top_5_categorical_accuracy: 0.0848 - factorized_top_k/top_10_categorical_accuracy: 0.0861 - factorized_top_k/top_50_categorical_accuracy: 0.1470 - factorized_top_k/top_100_categorical_accuracy: 0.2040 - loss: 94.9615 - regularization_loss: 0.0000e+00 - total_loss: 94.9615\n",
            "Epoch 2/50\n",
            "24/24 [==============================] - 2s 85ms/step - factorized_top_k/top_1_categorical_accuracy: 0.1430 - factorized_top_k/top_5_categorical_accuracy: 0.1523 - factorized_top_k/top_10_categorical_accuracy: 0.1801 - factorized_top_k/top_50_categorical_accuracy: 0.3007 - factorized_top_k/top_100_categorical_accuracy: 0.3907 - loss: 82.6438 - regularization_loss: 0.0000e+00 - total_loss: 82.6438\n",
            "Epoch 3/50\n",
            "24/24 [==============================] - 3s 135ms/step - factorized_top_k/top_1_categorical_accuracy: 0.1205 - factorized_top_k/top_5_categorical_accuracy: 0.1417 - factorized_top_k/top_10_categorical_accuracy: 0.1788 - factorized_top_k/top_50_categorical_accuracy: 0.3629 - factorized_top_k/top_100_categorical_accuracy: 0.4887 - loss: 73.4753 - regularization_loss: 0.0000e+00 - total_loss: 73.4753\n",
            "Epoch 4/50\n",
            "24/24 [==============================] - 2s 85ms/step - factorized_top_k/top_1_categorical_accuracy: 0.1139 - factorized_top_k/top_5_categorical_accuracy: 0.1709 - factorized_top_k/top_10_categorical_accuracy: 0.2172 - factorized_top_k/top_50_categorical_accuracy: 0.4212 - factorized_top_k/top_100_categorical_accuracy: 0.5656 - loss: 66.1551 - regularization_loss: 0.0000e+00 - total_loss: 66.1551\n",
            "Epoch 5/50\n",
            "24/24 [==============================] - 2s 87ms/step - factorized_top_k/top_1_categorical_accuracy: 0.1377 - factorized_top_k/top_5_categorical_accuracy: 0.2053 - factorized_top_k/top_10_categorical_accuracy: 0.2556 - factorized_top_k/top_50_categorical_accuracy: 0.4490 - factorized_top_k/top_100_categorical_accuracy: 0.5642 - loss: 64.5525 - regularization_loss: 0.0000e+00 - total_loss: 64.5525\n",
            "Epoch 6/50\n",
            "24/24 [==============================] - 2s 84ms/step - factorized_top_k/top_1_categorical_accuracy: 0.1113 - factorized_top_k/top_5_categorical_accuracy: 0.1947 - factorized_top_k/top_10_categorical_accuracy: 0.2517 - factorized_top_k/top_50_categorical_accuracy: 0.4623 - factorized_top_k/top_100_categorical_accuracy: 0.5695 - loss: 61.5878 - regularization_loss: 0.0000e+00 - total_loss: 61.5878\n",
            "Epoch 7/50\n",
            "24/24 [==============================] - 3s 140ms/step - factorized_top_k/top_1_categorical_accuracy: 0.1444 - factorized_top_k/top_5_categorical_accuracy: 0.2384 - factorized_top_k/top_10_categorical_accuracy: 0.2980 - factorized_top_k/top_50_categorical_accuracy: 0.4834 - factorized_top_k/top_100_categorical_accuracy: 0.5934 - loss: 58.8053 - regularization_loss: 0.0000e+00 - total_loss: 58.8053\n",
            "Epoch 8/50\n",
            "24/24 [==============================] - 4s 150ms/step - factorized_top_k/top_1_categorical_accuracy: 0.1695 - factorized_top_k/top_5_categorical_accuracy: 0.2609 - factorized_top_k/top_10_categorical_accuracy: 0.3033 - factorized_top_k/top_50_categorical_accuracy: 0.5046 - factorized_top_k/top_100_categorical_accuracy: 0.6066 - loss: 58.5715 - regularization_loss: 0.0000e+00 - total_loss: 58.5715\n",
            "Epoch 9/50\n",
            "24/24 [==============================] - 2s 87ms/step - factorized_top_k/top_1_categorical_accuracy: 0.1298 - factorized_top_k/top_5_categorical_accuracy: 0.2331 - factorized_top_k/top_10_categorical_accuracy: 0.2795 - factorized_top_k/top_50_categorical_accuracy: 0.4662 - factorized_top_k/top_100_categorical_accuracy: 0.6013 - loss: 57.9441 - regularization_loss: 0.0000e+00 - total_loss: 57.9441\n",
            "Epoch 10/50\n",
            "24/24 [==============================] - 2s 85ms/step - factorized_top_k/top_1_categorical_accuracy: 0.1841 - factorized_top_k/top_5_categorical_accuracy: 0.2808 - factorized_top_k/top_10_categorical_accuracy: 0.3351 - factorized_top_k/top_50_categorical_accuracy: 0.5086 - factorized_top_k/top_100_categorical_accuracy: 0.6238 - loss: 56.7189 - regularization_loss: 0.0000e+00 - total_loss: 56.7189\n",
            "Epoch 11/50\n",
            "24/24 [==============================] - 2s 89ms/step - factorized_top_k/top_1_categorical_accuracy: 0.1550 - factorized_top_k/top_5_categorical_accuracy: 0.2477 - factorized_top_k/top_10_categorical_accuracy: 0.3139 - factorized_top_k/top_50_categorical_accuracy: 0.4795 - factorized_top_k/top_100_categorical_accuracy: 0.6093 - loss: 56.3983 - regularization_loss: 0.0000e+00 - total_loss: 56.3983\n",
            "Epoch 12/50\n",
            "24/24 [==============================] - 2s 87ms/step - factorized_top_k/top_1_categorical_accuracy: 0.1709 - factorized_top_k/top_5_categorical_accuracy: 0.2768 - factorized_top_k/top_10_categorical_accuracy: 0.3510 - factorized_top_k/top_50_categorical_accuracy: 0.5272 - factorized_top_k/top_100_categorical_accuracy: 0.6437 - loss: 55.7997 - regularization_loss: 0.0000e+00 - total_loss: 55.7997\n",
            "Epoch 13/50\n",
            "24/24 [==============================] - 3s 117ms/step - factorized_top_k/top_1_categorical_accuracy: 0.1735 - factorized_top_k/top_5_categorical_accuracy: 0.2728 - factorized_top_k/top_10_categorical_accuracy: 0.3285 - factorized_top_k/top_50_categorical_accuracy: 0.4940 - factorized_top_k/top_100_categorical_accuracy: 0.6265 - loss: 55.3345 - regularization_loss: 0.0000e+00 - total_loss: 55.3345\n",
            "Epoch 14/50\n",
            "24/24 [==============================] - 2s 88ms/step - factorized_top_k/top_1_categorical_accuracy: 0.1523 - factorized_top_k/top_5_categorical_accuracy: 0.2570 - factorized_top_k/top_10_categorical_accuracy: 0.3139 - factorized_top_k/top_50_categorical_accuracy: 0.5007 - factorized_top_k/top_100_categorical_accuracy: 0.6278 - loss: 55.2780 - regularization_loss: 0.0000e+00 - total_loss: 55.2780\n",
            "Epoch 15/50\n",
            "24/24 [==============================] - 2s 87ms/step - factorized_top_k/top_1_categorical_accuracy: 0.1815 - factorized_top_k/top_5_categorical_accuracy: 0.2755 - factorized_top_k/top_10_categorical_accuracy: 0.3325 - factorized_top_k/top_50_categorical_accuracy: 0.5007 - factorized_top_k/top_100_categorical_accuracy: 0.6265 - loss: 55.5954 - regularization_loss: 0.0000e+00 - total_loss: 55.5954\n",
            "Epoch 16/50\n",
            "24/24 [==============================] - 2s 88ms/step - factorized_top_k/top_1_categorical_accuracy: 0.1470 - factorized_top_k/top_5_categorical_accuracy: 0.2543 - factorized_top_k/top_10_categorical_accuracy: 0.3219 - factorized_top_k/top_50_categorical_accuracy: 0.4914 - factorized_top_k/top_100_categorical_accuracy: 0.6132 - loss: 54.3548 - regularization_loss: 0.0000e+00 - total_loss: 54.3548\n",
            "Epoch 17/50\n",
            "24/24 [==============================] - 2s 89ms/step - factorized_top_k/top_1_categorical_accuracy: 0.1722 - factorized_top_k/top_5_categorical_accuracy: 0.2742 - factorized_top_k/top_10_categorical_accuracy: 0.3272 - factorized_top_k/top_50_categorical_accuracy: 0.5166 - factorized_top_k/top_100_categorical_accuracy: 0.6358 - loss: 53.8872 - regularization_loss: 0.0000e+00 - total_loss: 53.8872\n",
            "Epoch 18/50\n",
            "24/24 [==============================] - 3s 124ms/step - factorized_top_k/top_1_categorical_accuracy: 0.1841 - factorized_top_k/top_5_categorical_accuracy: 0.2848 - factorized_top_k/top_10_categorical_accuracy: 0.3338 - factorized_top_k/top_50_categorical_accuracy: 0.4993 - factorized_top_k/top_100_categorical_accuracy: 0.6252 - loss: 53.8043 - regularization_loss: 0.0000e+00 - total_loss: 53.8043\n",
            "Epoch 19/50\n",
            "24/24 [==============================] - 2s 91ms/step - factorized_top_k/top_1_categorical_accuracy: 0.1563 - factorized_top_k/top_5_categorical_accuracy: 0.2570 - factorized_top_k/top_10_categorical_accuracy: 0.2993 - factorized_top_k/top_50_categorical_accuracy: 0.4834 - factorized_top_k/top_100_categorical_accuracy: 0.6040 - loss: 54.3618 - regularization_loss: 0.0000e+00 - total_loss: 54.3618\n",
            "Epoch 20/50\n",
            "24/24 [==============================] - 2s 85ms/step - factorized_top_k/top_1_categorical_accuracy: 0.1881 - factorized_top_k/top_5_categorical_accuracy: 0.2834 - factorized_top_k/top_10_categorical_accuracy: 0.3232 - factorized_top_k/top_50_categorical_accuracy: 0.5060 - factorized_top_k/top_100_categorical_accuracy: 0.6305 - loss: 53.3732 - regularization_loss: 0.0000e+00 - total_loss: 53.3732\n",
            "Epoch 21/50\n",
            "24/24 [==============================] - 2s 86ms/step - factorized_top_k/top_1_categorical_accuracy: 0.1589 - factorized_top_k/top_5_categorical_accuracy: 0.2715 - factorized_top_k/top_10_categorical_accuracy: 0.3219 - factorized_top_k/top_50_categorical_accuracy: 0.5073 - factorized_top_k/top_100_categorical_accuracy: 0.6159 - loss: 53.9527 - regularization_loss: 0.0000e+00 - total_loss: 53.9527\n",
            "Epoch 22/50\n",
            "24/24 [==============================] - 2s 89ms/step - factorized_top_k/top_1_categorical_accuracy: 0.1828 - factorized_top_k/top_5_categorical_accuracy: 0.2861 - factorized_top_k/top_10_categorical_accuracy: 0.3351 - factorized_top_k/top_50_categorical_accuracy: 0.5179 - factorized_top_k/top_100_categorical_accuracy: 0.6238 - loss: 53.9869 - regularization_loss: 0.0000e+00 - total_loss: 53.9869\n",
            "Epoch 23/50\n",
            "24/24 [==============================] - 3s 137ms/step - factorized_top_k/top_1_categorical_accuracy: 0.1775 - factorized_top_k/top_5_categorical_accuracy: 0.2689 - factorized_top_k/top_10_categorical_accuracy: 0.3325 - factorized_top_k/top_50_categorical_accuracy: 0.5086 - factorized_top_k/top_100_categorical_accuracy: 0.6318 - loss: 52.3746 - regularization_loss: 0.0000e+00 - total_loss: 52.3746\n",
            "Epoch 24/50\n",
            "24/24 [==============================] - 2s 88ms/step - factorized_top_k/top_1_categorical_accuracy: 0.1775 - factorized_top_k/top_5_categorical_accuracy: 0.2742 - factorized_top_k/top_10_categorical_accuracy: 0.3311 - factorized_top_k/top_50_categorical_accuracy: 0.5033 - factorized_top_k/top_100_categorical_accuracy: 0.6358 - loss: 53.5212 - regularization_loss: 0.0000e+00 - total_loss: 53.5212\n",
            "Epoch 25/50\n",
            "24/24 [==============================] - 2s 87ms/step - factorized_top_k/top_1_categorical_accuracy: 0.1748 - factorized_top_k/top_5_categorical_accuracy: 0.2728 - factorized_top_k/top_10_categorical_accuracy: 0.3311 - factorized_top_k/top_50_categorical_accuracy: 0.5311 - factorized_top_k/top_100_categorical_accuracy: 0.6371 - loss: 53.4910 - regularization_loss: 0.0000e+00 - total_loss: 53.4910\n",
            "Epoch 26/50\n",
            "24/24 [==============================] - 2s 86ms/step - factorized_top_k/top_1_categorical_accuracy: 0.1616 - factorized_top_k/top_5_categorical_accuracy: 0.2755 - factorized_top_k/top_10_categorical_accuracy: 0.3205 - factorized_top_k/top_50_categorical_accuracy: 0.4914 - factorized_top_k/top_100_categorical_accuracy: 0.6106 - loss: 54.2450 - regularization_loss: 0.0000e+00 - total_loss: 54.2450\n",
            "Epoch 27/50\n",
            "24/24 [==============================] - 2s 89ms/step - factorized_top_k/top_1_categorical_accuracy: 0.1815 - factorized_top_k/top_5_categorical_accuracy: 0.2795 - factorized_top_k/top_10_categorical_accuracy: 0.3351 - factorized_top_k/top_50_categorical_accuracy: 0.5166 - factorized_top_k/top_100_categorical_accuracy: 0.6530 - loss: 52.1635 - regularization_loss: 0.0000e+00 - total_loss: 52.1635\n",
            "Epoch 28/50\n",
            "24/24 [==============================] - 3s 141ms/step - factorized_top_k/top_1_categorical_accuracy: 0.1815 - factorized_top_k/top_5_categorical_accuracy: 0.2755 - factorized_top_k/top_10_categorical_accuracy: 0.3377 - factorized_top_k/top_50_categorical_accuracy: 0.5338 - factorized_top_k/top_100_categorical_accuracy: 0.6503 - loss: 51.9994 - regularization_loss: 0.0000e+00 - total_loss: 51.9994\n",
            "Epoch 29/50\n",
            "24/24 [==============================] - 2s 86ms/step - factorized_top_k/top_1_categorical_accuracy: 0.1722 - factorized_top_k/top_5_categorical_accuracy: 0.2543 - factorized_top_k/top_10_categorical_accuracy: 0.3258 - factorized_top_k/top_50_categorical_accuracy: 0.5113 - factorized_top_k/top_100_categorical_accuracy: 0.6212 - loss: 52.7216 - regularization_loss: 0.0000e+00 - total_loss: 52.7216\n",
            "Epoch 30/50\n",
            "24/24 [==============================] - 2s 90ms/step - factorized_top_k/top_1_categorical_accuracy: 0.1894 - factorized_top_k/top_5_categorical_accuracy: 0.2887 - factorized_top_k/top_10_categorical_accuracy: 0.3497 - factorized_top_k/top_50_categorical_accuracy: 0.5417 - factorized_top_k/top_100_categorical_accuracy: 0.6636 - loss: 52.6624 - regularization_loss: 0.0000e+00 - total_loss: 52.6624\n",
            "Epoch 31/50\n",
            "24/24 [==============================] - 2s 86ms/step - factorized_top_k/top_1_categorical_accuracy: 0.1735 - factorized_top_k/top_5_categorical_accuracy: 0.2808 - factorized_top_k/top_10_categorical_accuracy: 0.3391 - factorized_top_k/top_50_categorical_accuracy: 0.5086 - factorized_top_k/top_100_categorical_accuracy: 0.6185 - loss: 52.8496 - regularization_loss: 0.0000e+00 - total_loss: 52.8496\n",
            "Epoch 32/50\n",
            "24/24 [==============================] - 2s 87ms/step - factorized_top_k/top_1_categorical_accuracy: 0.1934 - factorized_top_k/top_5_categorical_accuracy: 0.2795 - factorized_top_k/top_10_categorical_accuracy: 0.3258 - factorized_top_k/top_50_categorical_accuracy: 0.5046 - factorized_top_k/top_100_categorical_accuracy: 0.6212 - loss: 53.7635 - regularization_loss: 0.0000e+00 - total_loss: 53.7635\n",
            "Epoch 33/50\n",
            "24/24 [==============================] - 3s 135ms/step - factorized_top_k/top_1_categorical_accuracy: 0.1960 - factorized_top_k/top_5_categorical_accuracy: 0.3126 - factorized_top_k/top_10_categorical_accuracy: 0.3576 - factorized_top_k/top_50_categorical_accuracy: 0.5536 - factorized_top_k/top_100_categorical_accuracy: 0.6728 - loss: 52.9429 - regularization_loss: 0.0000e+00 - total_loss: 52.9429\n",
            "Epoch 34/50\n",
            "24/24 [==============================] - 2s 88ms/step - factorized_top_k/top_1_categorical_accuracy: 0.1735 - factorized_top_k/top_5_categorical_accuracy: 0.2781 - factorized_top_k/top_10_categorical_accuracy: 0.3298 - factorized_top_k/top_50_categorical_accuracy: 0.5298 - factorized_top_k/top_100_categorical_accuracy: 0.6318 - loss: 52.7062 - regularization_loss: 0.0000e+00 - total_loss: 52.7062\n",
            "Epoch 35/50\n",
            "24/24 [==============================] - 2s 88ms/step - factorized_top_k/top_1_categorical_accuracy: 0.2013 - factorized_top_k/top_5_categorical_accuracy: 0.3073 - factorized_top_k/top_10_categorical_accuracy: 0.3470 - factorized_top_k/top_50_categorical_accuracy: 0.5417 - factorized_top_k/top_100_categorical_accuracy: 0.6609 - loss: 51.1752 - regularization_loss: 0.0000e+00 - total_loss: 51.1752\n",
            "Epoch 36/50\n",
            "24/24 [==============================] - 2s 89ms/step - factorized_top_k/top_1_categorical_accuracy: 0.1642 - factorized_top_k/top_5_categorical_accuracy: 0.2887 - factorized_top_k/top_10_categorical_accuracy: 0.3377 - factorized_top_k/top_50_categorical_accuracy: 0.5192 - factorized_top_k/top_100_categorical_accuracy: 0.6305 - loss: 52.2868 - regularization_loss: 0.0000e+00 - total_loss: 52.2868\n",
            "Epoch 37/50\n",
            "24/24 [==============================] - 2s 88ms/step - factorized_top_k/top_1_categorical_accuracy: 0.1762 - factorized_top_k/top_5_categorical_accuracy: 0.2702 - factorized_top_k/top_10_categorical_accuracy: 0.3298 - factorized_top_k/top_50_categorical_accuracy: 0.5113 - factorized_top_k/top_100_categorical_accuracy: 0.6199 - loss: 52.5838 - regularization_loss: 0.0000e+00 - total_loss: 52.5838\n",
            "Epoch 38/50\n",
            "24/24 [==============================] - 3s 139ms/step - factorized_top_k/top_1_categorical_accuracy: 0.1947 - factorized_top_k/top_5_categorical_accuracy: 0.2821 - factorized_top_k/top_10_categorical_accuracy: 0.3444 - factorized_top_k/top_50_categorical_accuracy: 0.5325 - factorized_top_k/top_100_categorical_accuracy: 0.6411 - loss: 51.5113 - regularization_loss: 0.0000e+00 - total_loss: 51.5113\n",
            "Epoch 39/50\n",
            "24/24 [==============================] - 2s 88ms/step - factorized_top_k/top_1_categorical_accuracy: 0.1960 - factorized_top_k/top_5_categorical_accuracy: 0.3007 - factorized_top_k/top_10_categorical_accuracy: 0.3536 - factorized_top_k/top_50_categorical_accuracy: 0.5404 - factorized_top_k/top_100_categorical_accuracy: 0.6556 - loss: 52.1726 - regularization_loss: 0.0000e+00 - total_loss: 52.1726\n",
            "Epoch 40/50\n",
            "24/24 [==============================] - 2s 89ms/step - factorized_top_k/top_1_categorical_accuracy: 0.1987 - factorized_top_k/top_5_categorical_accuracy: 0.2940 - factorized_top_k/top_10_categorical_accuracy: 0.3563 - factorized_top_k/top_50_categorical_accuracy: 0.5430 - factorized_top_k/top_100_categorical_accuracy: 0.6596 - loss: 53.1278 - regularization_loss: 0.0000e+00 - total_loss: 53.1278\n",
            "Epoch 41/50\n",
            "24/24 [==============================] - 2s 89ms/step - factorized_top_k/top_1_categorical_accuracy: 0.1854 - factorized_top_k/top_5_categorical_accuracy: 0.2834 - factorized_top_k/top_10_categorical_accuracy: 0.3391 - factorized_top_k/top_50_categorical_accuracy: 0.5192 - factorized_top_k/top_100_categorical_accuracy: 0.6450 - loss: 52.5500 - regularization_loss: 0.0000e+00 - total_loss: 52.5500\n",
            "Epoch 42/50\n",
            "24/24 [==============================] - 2s 93ms/step - factorized_top_k/top_1_categorical_accuracy: 0.2093 - factorized_top_k/top_5_categorical_accuracy: 0.3179 - factorized_top_k/top_10_categorical_accuracy: 0.3709 - factorized_top_k/top_50_categorical_accuracy: 0.5695 - factorized_top_k/top_100_categorical_accuracy: 0.6927 - loss: 52.5242 - regularization_loss: 0.0000e+00 - total_loss: 52.5242\n",
            "Epoch 43/50\n",
            "24/24 [==============================] - 3s 141ms/step - factorized_top_k/top_1_categorical_accuracy: 0.1841 - factorized_top_k/top_5_categorical_accuracy: 0.2874 - factorized_top_k/top_10_categorical_accuracy: 0.3616 - factorized_top_k/top_50_categorical_accuracy: 0.5338 - factorized_top_k/top_100_categorical_accuracy: 0.6609 - loss: 51.9931 - regularization_loss: 0.0000e+00 - total_loss: 51.9931\n",
            "Epoch 44/50\n",
            "24/24 [==============================] - 2s 88ms/step - factorized_top_k/top_1_categorical_accuracy: 0.1642 - factorized_top_k/top_5_categorical_accuracy: 0.2609 - factorized_top_k/top_10_categorical_accuracy: 0.3377 - factorized_top_k/top_50_categorical_accuracy: 0.5272 - factorized_top_k/top_100_categorical_accuracy: 0.6437 - loss: 51.5262 - regularization_loss: 0.0000e+00 - total_loss: 51.5262\n",
            "Epoch 45/50\n",
            "24/24 [==============================] - 2s 87ms/step - factorized_top_k/top_1_categorical_accuracy: 0.2026 - factorized_top_k/top_5_categorical_accuracy: 0.2967 - factorized_top_k/top_10_categorical_accuracy: 0.3656 - factorized_top_k/top_50_categorical_accuracy: 0.5417 - factorized_top_k/top_100_categorical_accuracy: 0.6437 - loss: 51.5809 - regularization_loss: 0.0000e+00 - total_loss: 51.5809\n",
            "Epoch 46/50\n",
            "24/24 [==============================] - 2s 91ms/step - factorized_top_k/top_1_categorical_accuracy: 0.1828 - factorized_top_k/top_5_categorical_accuracy: 0.2755 - factorized_top_k/top_10_categorical_accuracy: 0.3377 - factorized_top_k/top_50_categorical_accuracy: 0.5245 - factorized_top_k/top_100_categorical_accuracy: 0.6450 - loss: 51.5159 - regularization_loss: 0.0000e+00 - total_loss: 51.5159\n",
            "Epoch 47/50\n",
            "24/24 [==============================] - 2s 103ms/step - factorized_top_k/top_1_categorical_accuracy: 0.1881 - factorized_top_k/top_5_categorical_accuracy: 0.2954 - factorized_top_k/top_10_categorical_accuracy: 0.3669 - factorized_top_k/top_50_categorical_accuracy: 0.5536 - factorized_top_k/top_100_categorical_accuracy: 0.6662 - loss: 51.2644 - regularization_loss: 0.0000e+00 - total_loss: 51.2644\n",
            "Epoch 48/50\n",
            "24/24 [==============================] - 4s 146ms/step - factorized_top_k/top_1_categorical_accuracy: 0.1722 - factorized_top_k/top_5_categorical_accuracy: 0.2848 - factorized_top_k/top_10_categorical_accuracy: 0.3391 - factorized_top_k/top_50_categorical_accuracy: 0.5457 - factorized_top_k/top_100_categorical_accuracy: 0.6530 - loss: 51.3742 - regularization_loss: 0.0000e+00 - total_loss: 51.3742\n",
            "Epoch 49/50\n",
            "24/24 [==============================] - 2s 88ms/step - factorized_top_k/top_1_categorical_accuracy: 0.1748 - factorized_top_k/top_5_categorical_accuracy: 0.2675 - factorized_top_k/top_10_categorical_accuracy: 0.3338 - factorized_top_k/top_50_categorical_accuracy: 0.5258 - factorized_top_k/top_100_categorical_accuracy: 0.6490 - loss: 51.8457 - regularization_loss: 0.0000e+00 - total_loss: 51.8457\n",
            "Epoch 50/50\n",
            "24/24 [==============================] - 2s 88ms/step - factorized_top_k/top_1_categorical_accuracy: 0.1788 - factorized_top_k/top_5_categorical_accuracy: 0.2715 - factorized_top_k/top_10_categorical_accuracy: 0.3272 - factorized_top_k/top_50_categorical_accuracy: 0.5152 - factorized_top_k/top_100_categorical_accuracy: 0.6238 - loss: 51.9658 - regularization_loss: 0.0000e+00 - total_loss: 51.9658\n",
            "24/24 [==============================] - 3s 91ms/step - factorized_top_k/top_1_categorical_accuracy: 0.2874 - factorized_top_k/top_5_categorical_accuracy: 0.3788 - factorized_top_k/top_10_categorical_accuracy: 0.4411 - factorized_top_k/top_50_categorical_accuracy: 0.6556 - factorized_top_k/top_100_categorical_accuracy: 0.7497 - loss: 49.8051 - regularization_loss: 0.0000e+00 - total_loss: 49.8051\n",
            "6/6 [==============================] - 1s 97ms/step - factorized_top_k/top_1_categorical_accuracy: 0.1746 - factorized_top_k/top_5_categorical_accuracy: 0.2169 - factorized_top_k/top_10_categorical_accuracy: 0.2328 - factorized_top_k/top_50_categorical_accuracy: 0.4392 - factorized_top_k/top_100_categorical_accuracy: 0.5397 - loss: 95.7663 - regularization_loss: 0.0000e+00 - total_loss: 95.7663\n",
            "Top-100 accuracy (train): 0.75.\n",
            "Top-100 accuracy (test): 0.54.\n"
          ]
        }
      ],
      "source": [
        "for i in range(5):\n",
        "\n",
        "\n",
        "  tf.random.set_seed(1234)\n",
        "  shuffled = dataset.shuffle(944, seed=42, reshuffle_each_iteration=False)\n",
        "  train = shuffled.take(755)\n",
        "  test = shuffled.skip(755).take(189)\n",
        "  cached_train = train.shuffle(755).batch(32)\n",
        "  cached_test = test.batch(32).cache()\n",
        "\n",
        "\n",
        "  model = MainModel([32])\n",
        "  model.compile(optimizer=tf.keras.optimizers.Adagrad(0.1))\n",
        "\n",
        "  one_layer_history=model.fit(cached_train, epochs=50)\n",
        "\n",
        "  train_accuracy = model.evaluate(\n",
        "      cached_train, return_dict=True)[\"factorized_top_k/top_100_categorical_accuracy\"]\n",
        "  test_accuracy = model.evaluate(\n",
        "      cached_test, return_dict=True)[\"factorized_top_k/top_100_categorical_accuracy\"]\n",
        "\n",
        "  print(f\"Top-100 accuracy (train): {train_accuracy:.2f}.\")\n",
        "  print(f\"Top-100 accuracy (test): {test_accuracy:.2f}.\")\n"
      ]
    },
    {
      "cell_type": "code",
      "execution_count": 70,
      "metadata": {
        "application/vnd.databricks.v1+cell": {
          "cellMetadata": {
            "byteLimit": 2048000,
            "rowLimit": 10000
          },
          "inputWidgets": {},
          "nuid": "f507d53d-089a-456e-adc5-4dd75a6a4402",
          "showTitle": false,
          "title": ""
        },
        "colab": {
          "base_uri": "https://localhost:8080/"
        },
        "id": "vZ93ynZ9BEh1",
        "outputId": "77fbee2c-ffa2-4a45-a749-f43f9eeacd70"
      },
      "outputs": [
        {
          "output_type": "stream",
          "name": "stderr",
          "text": [
            "<ipython-input-70-444997ff90a3>:3: MatplotlibDeprecationWarning: The seaborn styles shipped by Matplotlib are deprecated since 3.6, as they no longer correspond to the styles shipped by seaborn. However, they will remain available as 'seaborn-v0_8-<style>'. Alternatively, directly use the seaborn API instead.\n",
            "  plt.style.use('seaborn-whitegrid')\n"
          ]
        }
      ],
      "source": [
        "%matplotlib inline\n",
        "import matplotlib.pyplot as plt\n",
        "plt.style.use('seaborn-whitegrid')"
      ]
    },
    {
      "cell_type": "code",
      "execution_count": 71,
      "metadata": {
        "application/vnd.databricks.v1+cell": {
          "cellMetadata": {
            "byteLimit": 2048000,
            "rowLimit": 10000
          },
          "inputWidgets": {},
          "nuid": "143ccd99-e062-4a4d-af5d-c509ca1fe617",
          "showTitle": false,
          "title": ""
        },
        "colab": {
          "base_uri": "https://localhost:8080/",
          "height": 556
        },
        "id": "7aXMYJUKBEh1",
        "outputId": "4eca8a7c-fdfb-49bf-8cef-54a57db27fb7"
      },
      "outputs": [
        {
          "output_type": "stream",
          "name": "stderr",
          "text": [
            "WARNING:matplotlib.legend:No artists with labels found to put in legend.  Note that artists whose label start with an underscore are ignored when legend() is called with no argument.\n"
          ]
        },
        {
          "output_type": "stream",
          "name": "stdout",
          "text": [
            "[0.20397351682186127, 0.3907284736633301, 0.4887417256832123, 0.565562903881073, 0.564238429069519, 0.5695364475250244, 0.5933774709701538, 0.6066225171089172, 0.6013244986534119, 0.6238410472869873, 0.6092715263366699, 0.6437085866928101, 0.62649005651474, 0.6278145909309387, 0.62649005651474, 0.6132450103759766, 0.6357616186141968, 0.625165581703186, 0.6039735078811646, 0.6304636001586914, 0.6158940196037292, 0.6238410472869873, 0.6317880749702454, 0.6357616186141968, 0.6370860934257507, 0.6105960011482239, 0.6529801487922668, 0.6503311395645142, 0.6211920380592346, 0.6635761857032776, 0.6185430288314819, 0.6211920380592346, 0.6728476881980896, 0.6317880749702454, 0.6609271764755249, 0.6304636001586914, 0.6198675632476807, 0.6410595774650574, 0.6556291580200195, 0.6596026420593262, 0.6450331211090088, 0.6927152276039124, 0.6609271764755249, 0.6437085866928101, 0.6437085866928101, 0.6450331211090088, 0.6662251949310303, 0.6529801487922668, 0.6490066051483154, 0.6238410472869873]\n",
            "50\n"
          ]
        },
        {
          "output_type": "execute_result",
          "data": {
            "text/plain": [
              "<matplotlib.legend.Legend at 0x7cd9f9a39390>"
            ]
          },
          "metadata": {},
          "execution_count": 71
        },
        {
          "output_type": "display_data",
          "data": {
            "text/plain": [
              "<Figure size 640x480 with 1 Axes>"
            ],
            "image/png": "[encoded data removed]"
          },
          "metadata": {}
        }
      ],
      "source": [
        "num_validation_runs = len(one_layer_history.history[\"factorized_top_k/top_100_categorical_accuracy\"])\n",
        "epochs = [(x + 1) for x in range(num_validation_runs)]\n",
        "print(one_layer_history.history[\"factorized_top_k/top_100_categorical_accuracy\"])\n",
        "plt.plot(epochs, one_layer_history.history[\"factorized_top_k/top_100_categorical_accuracy\"])\n",
        "print(num_validation_runs)\n",
        "plt.title(\"Accuracy vs epoch\")\n",
        "plt.xlabel(\"epoch\")\n",
        "plt.ylabel(\"Top-100 Train accuracy\")\n",
        "plt.legend()"
      ]
    }
  ],
  "metadata": {
    "application/vnd.databricks.v1+notebook": {
      "dashboards": [],
      "language": "python",
      "notebookMetadata": {
        "mostRecentlyExecutedCommandWithImplicitDF": {
          "commandId": 35111657017712,
          "dataframes": [
            "_sqldf"
          ]
        },
        "pythonIndentUnit": 4
      },
      "notebookName": "2023-06-15 - Discover_Nonprod",
      "widgets": {}
    },
    "colab": {
      "provenance": []
    },
    "language_info": {
      "name": "python"
    },
    "kernelspec": {
      "name": "python3",
      "display_name": "Python 3"
    }
  },
  "nbformat": 4,
  "nbformat_minor": 0
}