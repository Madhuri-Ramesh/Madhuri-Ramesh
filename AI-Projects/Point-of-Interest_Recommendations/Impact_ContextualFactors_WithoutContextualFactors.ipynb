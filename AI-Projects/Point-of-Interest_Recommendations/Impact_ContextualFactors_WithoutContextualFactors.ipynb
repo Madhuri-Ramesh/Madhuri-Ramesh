{
  "cells": [
    {
      "cell_type": "markdown",
      "metadata": {
        "application/vnd.databricks.v1+cell": {
          "cellMetadata": {
            "byteLimit": 2048000,
            "rowLimit": 10000
          },
          "inputWidgets": {},
          "nuid": "96816ed7-b08a-4ca3-abb9-f99880c3535d",
          "showTitle": false,
          "title": ""
        },
        "id": "BTUhLzxDBEhu"
      },
      "source": [
        "\n",
        "## Overview\n",
        "\n",
        "This notebook will show you how to create and query a table or DataFrame that you uploaded to DBFS. [DBFS](https://docs.databricks.com/user-guide/dbfs-databricks-file-system.html) is a Databricks File System that allows you to store data for querying inside of Databricks. This notebook assumes that you have a file already inside of DBFS that you would like to read from.\n",
        "\n",
        "This notebook is written in **Python** so the default cell type is Python. However, you can use different languages by using the `%LANGUAGE` syntax. Python, Scala, SQL, and R are all supported."
      ]
    },
    {
      "cell_type": "code",
      "execution_count": 100,
      "metadata": {
        "application/vnd.databricks.v1+cell": {
          "cellMetadata": {
            "byteLimit": 2048000,
            "rowLimit": 10000
          },
          "inputWidgets": {},
          "nuid": "661def2a-22d2-4fac-b186-d26851dd6a62",
          "showTitle": false,
          "title": ""
        },
        "colab": {
          "base_uri": "https://localhost:8080/"
        },
        "id": "HmQ37nS4BEhx",
        "outputId": "3f581927-2609-418f-93af-e1a8096ed41c"
      },
      "outputs": [
        {
          "output_type": "stream",
          "name": "stdout",
          "text": [
            "Requirement already satisfied: pip in /usr/local/lib/python3.10/dist-packages (23.2.1)\n",
            "\u001b[33mWARNING: Running pip as the 'root' user can result in broken permissions and conflicting behaviour with the system package manager. It is recommended to use a virtual environment instead: https://pip.pypa.io/warnings/venv\u001b[0m\u001b[33m\n",
            "\u001b[0m"
          ]
        }
      ],
      "source": [
        "!pip install --upgrade pip"
      ]
    },
    {
      "cell_type": "code",
      "execution_count": 101,
      "metadata": {
        "application/vnd.databricks.v1+cell": {
          "cellMetadata": {
            "byteLimit": 2048000,
            "rowLimit": 10000
          },
          "inputWidgets": {},
          "nuid": "6324f8c3-d08a-4cbc-836b-c6c9897d23b9",
          "showTitle": false,
          "title": ""
        },
        "colab": {
          "base_uri": "https://localhost:8080/"
        },
        "id": "GZYr98P5BEhy",
        "outputId": "efd36c0d-6d8c-40f4-fb47-0ce839834f53"
      },
      "outputs": [
        {
          "output_type": "stream",
          "name": "stdout",
          "text": [
            "\u001b[33mWARNING: Running pip as the 'root' user can result in broken permissions and conflicting behaviour with the system package manager. It is recommended to use a virtual environment instead: https://pip.pypa.io/warnings/venv\u001b[0m\u001b[33m\n",
            "\u001b[0m"
          ]
        }
      ],
      "source": [
        "!pip install -q tensorflow-recommenders\n"
      ]
    },
    {
      "cell_type": "code",
      "execution_count": 102,
      "metadata": {
        "application/vnd.databricks.v1+cell": {
          "cellMetadata": {
            "byteLimit": 2048000,
            "rowLimit": 10000
          },
          "inputWidgets": {},
          "nuid": "a3bd3f6e-cbd5-45ad-82cd-924d55ac04f2",
          "showTitle": false,
          "title": ""
        },
        "id": "JK5hDokGBEhz"
      },
      "outputs": [],
      "source": [
        "import tensorflow as tf\n",
        "import pandas as pd\n",
        "import numpy as np\n",
        "import tensorflow_recommenders as tfrs\n",
        "from tensorflow.keras import regularizers\n",
        "import os\n",
        "import tempfile\n",
        "import sys\n",
        "import numpy\n",
        "import matplotlib\n"
      ]
    },
    {
      "cell_type": "code",
      "source": [
        "from google.colab import drive\n",
        "drive.mount('/content/drive')\n",
        "import os\n",
        "\n",
        "os.chdir('/content/drive/MyDrive/')"
      ],
      "metadata": {
        "colab": {
          "base_uri": "https://localhost:8080/"
        },
        "id": "X5mGVLvYDH3b",
        "outputId": "ef76bbcc-7616-4f23-a9ec-3cda7e85c805"
      },
      "execution_count": 103,
      "outputs": [
        {
          "output_type": "stream",
          "name": "stdout",
          "text": [
            "Drive already mounted at /content/drive; to attempt to forcibly remount, call drive.mount(\"/content/drive\", force_remount=True).\n"
          ]
        }
      ]
    },
    {
      "cell_type": "code",
      "execution_count": 104,
      "metadata": {
        "application/vnd.databricks.v1+cell": {
          "cellMetadata": {
            "byteLimit": 2048000,
            "rowLimit": 10000
          },
          "inputWidgets": {},
          "nuid": "6482be4c-f067-47c9-b0ac-35c938b94601",
          "showTitle": false,
          "title": ""
        },
        "colab": {
          "base_uri": "https://localhost:8080/"
        },
        "id": "PBDxsinzBEhz",
        "outputId": "830e1bea-1749-4ce8-d252-716448e9770a"
      },
      "outputs": [
        {
          "output_type": "stream",
          "name": "stdout",
          "text": [
            "944\n"
          ]
        }
      ],
      "source": [
        "df = pd.read_csv('/content/drive/MyDrive/Book2.csv')\n",
        "feature_names = ['identifier','poi','event_ts','fueltype','day']\n",
        "features = df[feature_names].astype(str)\n",
        "dataset = tf.data.Dataset.from_tensor_slices(dict(features))\n",
        "poi_dataset = dataset.map(lambda x: x[\"poi\"])\n",
        "dataset = dataset.map(lambda x: {\n",
        "    \"identifier\": (x[\"identifier\"]),\n",
        "    \"poi\": (x[\"poi\"]),\n",
        "    \"event_ts\": int(x[\"event_ts\"]),\n",
        "    \"fueltype\": (x[\"fueltype\"]),\n",
        "    \"day\": (x[\"day\"]),\n",
        " })\n",
        "\n",
        "print(len(dataset))\n",
        "\n",
        "\n"
      ]
    },
    {
      "cell_type": "code",
      "execution_count": 105,
      "metadata": {
        "application/vnd.databricks.v1+cell": {
          "cellMetadata": {
            "byteLimit": 2048000,
            "rowLimit": 10000
          },
          "inputWidgets": {},
          "nuid": "b5749363-c98a-43ed-911f-24cf39c33b4c",
          "showTitle": false,
          "title": ""
        },
        "id": "a5ea75RuBEhz"
      },
      "outputs": [],
      "source": [
        "timestamps = np.concatenate(list(dataset.map(lambda x: x[\"event_ts\"]).batch(100)))\n",
        "max_timestamp = timestamps.max()\n",
        "min_timestamp = timestamps.min()\n",
        "timestamp_buckets = np.linspace(\n",
        "    min_timestamp, max_timestamp, num=1000,)\n",
        "unique_user_ids = np.unique(np.concatenate(list(dataset.batch(1_000).map(\n",
        "    lambda x: x[\"identifier\"]))))\n",
        "unique_fueltype_ids = np.unique(np.concatenate(list(dataset.batch(1_000).map(\n",
        "    lambda x: x[\"fueltype\"]))))\n",
        "unique_day_ids = np.unique(np.concatenate(list(dataset.batch(1_000).map(\n",
        "    lambda x: x[\"day\"]))))\n",
        "unique_poi_ids = np.unique(np.concatenate(list(poi_dataset.batch(1_000))))\n"
      ]
    },
    {
      "cell_type": "code",
      "execution_count": 106,
      "metadata": {
        "application/vnd.databricks.v1+cell": {
          "cellMetadata": {
            "byteLimit": 2048000,
            "rowLimit": 10000
          },
          "inputWidgets": {},
          "nuid": "c6769647-9494-46d6-99c5-fe53d3280a11",
          "showTitle": false,
          "title": ""
        },
        "id": "DIcyNqE7BEhz"
      },
      "outputs": [],
      "source": [
        "class PoiModel(tf.keras.Model):\n",
        "\n",
        "  def __init__(self):\n",
        "    super().__init__()\n",
        "\n",
        "    max_tokens = 10_000\n",
        "\n",
        "    self.poi_embedding = tf.keras.Sequential([\n",
        "      tf.keras.layers.StringLookup(\n",
        "          vocabulary=unique_poi_ids, mask_token=None),\n",
        "      tf.keras.layers.Embedding(len(unique_poi_ids) + 1, 32)\n",
        "    ])\n",
        "\n",
        "  def call(self,titles):\n",
        "\n",
        "    return self.poi_embedding(titles)"
      ]
    },
    {
      "cell_type": "code",
      "execution_count": 107,
      "metadata": {
        "application/vnd.databricks.v1+cell": {
          "cellMetadata": {
            "byteLimit": 2048000,
            "rowLimit": 10000
          },
          "inputWidgets": {},
          "nuid": "79527b9b-09d8-4460-8efe-6a84e839ac1b",
          "showTitle": false,
          "title": ""
        },
        "id": "94obYi5VBEh0"
      },
      "outputs": [],
      "source": [
        "class UserModel(tf.keras.Model):\n",
        "\n",
        "    def __init__(self):\n",
        "        super().__init__()\n",
        "\n",
        "        self.user_embedding = tf.keras.Sequential([\n",
        "            tf.keras.layers.StringLookup(\n",
        "                vocabulary=unique_user_ids, mask_token=None),\n",
        "            tf.keras.layers.Embedding(len(unique_user_ids) + 1, 32),\n",
        "        ])\n",
        "\n",
        "        #self.day_embedding = tf.keras.Sequential([\n",
        "            #tf.keras.layers.StringLookup(\n",
        "                #vocabulary=unique_day_ids, mask_token=None),\n",
        "            #tf.keras.layers.Embedding(len(unique_day_ids) + 1, 32),\n",
        "        #])\n",
        "\n",
        "        #self.fueltype_embedding = tf.keras.Sequential([\n",
        "            #tf.keras.layers.StringLookup(\n",
        "                #vocabulary=unique_fueltype_ids, mask_token=None),\n",
        "\n",
        "            #tf.keras.layers.Embedding(len(unique_fueltype_ids) + 1, 32),\n",
        "        #])\n",
        "\n",
        "        #self.timestamp_embedding = tf.keras.Sequential([\n",
        "            #tf.keras.layers.Discretization(timestamp_buckets.tolist()),\n",
        "            #tf.keras.layers.Embedding(len(timestamp_buckets) + 1, 32),\n",
        "        #])\n",
        "        #self.normalized_timestamp = tf.keras.layers.Normalization(axis=None)\n",
        "\n",
        "        #self.normalized_timestamp.adapt(timestamps)\n",
        "\n",
        "    def call(self, inputs):\n",
        "\n",
        "       return tf.concat([\n",
        "        self.user_embedding(inputs[\"identifier\"]),\n",
        "        #self.day_embedding(inputs[\"day\"]),\n",
        "        #self.fueltype_embedding(inputs[\"fueltype\"]),\n",
        "        #self.timestamp_embedding(inputs[\"event_ts\"]),\n",
        "        #tf.reshape(self.normalized_timestamp(inputs[\"event_ts\"]), (-1, 1)),\n",
        "        ], axis=1)\n",
        ""
      ]
    },
    {
      "cell_type": "code",
      "execution_count": 108,
      "metadata": {
        "application/vnd.databricks.v1+cell": {
          "cellMetadata": {
            "byteLimit": 2048000,
            "rowLimit": 10000
          },
          "inputWidgets": {},
          "nuid": "d73be0d2-c38f-4dfb-b4a0-b05f430a61d1",
          "showTitle": false,
          "title": ""
        },
        "id": "4YN-N1SpBEh0"
      },
      "outputs": [],
      "source": [
        "class QueryModel(tf.keras.Model):\n",
        " def __init__(self, layer_sizes):\n",
        "\n",
        "  super().__init__()\n",
        "\n",
        "\n",
        "  self.embedding_model = UserModel()\n",
        "\n",
        "\n",
        "  self.dense_layers = tf.keras.Sequential()\n",
        "\n",
        "\n",
        "  for layer_size in layer_sizes[:-1]:\n",
        "\n",
        "\n",
        "      self.dense_layers.add(tf.keras.layers.Dense(layer_size, activation=\"relu\"))\n",
        "\n",
        "\n",
        "  for layer_size in layer_sizes[-1:]:\n",
        "      self.dense_layers.add(tf.keras.layers.Dense(layer_size))\n",
        "\n",
        " def call(self, inputs):\n",
        "    feature_embedding = self.embedding_model(inputs)\n",
        "    return self.dense_layers(feature_embedding)"
      ]
    },
    {
      "cell_type": "code",
      "execution_count": 109,
      "metadata": {
        "application/vnd.databricks.v1+cell": {
          "cellMetadata": {
            "byteLimit": 2048000,
            "rowLimit": 10000
          },
          "inputWidgets": {},
          "nuid": "ce2467f8-9b83-45fe-b598-a2555896ef33",
          "showTitle": false,
          "title": ""
        },
        "id": "oo1waGEgBEh0"
      },
      "outputs": [],
      "source": [
        "class CandidateModel(tf.keras.Model):\n",
        "\n",
        "\n",
        "  def __init__(self, layer_sizes):\n",
        "\n",
        "    super().__init__()\n",
        "\n",
        "    self.embedding_model = PoiModel()\n",
        "\n",
        "\n",
        "    self.dense_layers = tf.keras.Sequential()\n",
        "\n",
        "\n",
        "    for layer_size in layer_sizes[:-1]:\n",
        "\n",
        "      self.dense_layers.add(tf.keras.layers.Dense(layer_size, activation=\"relu\"))\n",
        "\n",
        "\n",
        "    for layer_size in layer_sizes[-1:]:\n",
        "      self.dense_layers.add(tf.keras.layers.Dense(layer_size))\n",
        "\n",
        "  def call(self, inputs):\n",
        "    feature_embedding = self.embedding_model(inputs)\n",
        "    return self.dense_layers(feature_embedding)"
      ]
    },
    {
      "cell_type": "code",
      "execution_count": 110,
      "metadata": {
        "application/vnd.databricks.v1+cell": {
          "cellMetadata": {
            "byteLimit": 2048000,
            "rowLimit": 10000
          },
          "inputWidgets": {},
          "nuid": "d98ae2db-39f3-46fb-9017-5b3ba9d87042",
          "showTitle": false,
          "title": ""
        },
        "id": "HaC6jIR7BEh0"
      },
      "outputs": [],
      "source": [
        "class MainModel(tfrs.models.Model):\n",
        "\n",
        "\n",
        "    def __init__(self, layer_sizes):\n",
        "      super().__init__()\n",
        "      self.query_model = QueryModel(layer_sizes)\n",
        "      self.candidate_model = CandidateModel(layer_sizes)\n",
        "\n",
        "      self.task = tfrs.tasks.Retrieval(\n",
        "        metrics=tfrs.metrics.FactorizedTopK(\n",
        "            candidates=poi_dataset.batch(128).map(self.candidate_model),\n",
        "        ),\n",
        "    )\n",
        "\n",
        "    def compute_loss(self, features, training=False):\n",
        "\n",
        "     query_embeddings = self.query_model({\n",
        "        \"identifier\":features[\"identifier\"],\n",
        "        #\"event_ts\":features[\"event_ts\"],\n",
        "        #\"fueltype\":features[\"fueltype\"],\n",
        "        #\"day\":features[\"day\"],\n",
        "      })\n",
        "\n",
        "     poi_embeddings = self.candidate_model(\n",
        "       features[\"poi\"]\n",
        "         )\n",
        "\n",
        "\n",
        "     return self.task(query_embeddings,poi_embeddings)"
      ]
    },
    {
      "cell_type": "code",
      "execution_count": 111,
      "metadata": {
        "application/vnd.databricks.v1+cell": {
          "cellMetadata": {
            "byteLimit": 2048000,
            "rowLimit": 10000
          },
          "inputWidgets": {},
          "nuid": "5d96cd92-a78f-48c2-b693-f07fbf019751",
          "showTitle": false,
          "title": ""
        },
        "colab": {
          "base_uri": "https://localhost:8080/"
        },
        "id": "vNl6cZtFBEh1",
        "outputId": "17d4380a-5c47-4103-8c2d-554b7b6b7ee9"
      },
      "outputs": [
        {
          "output_type": "stream",
          "name": "stdout",
          "text": [
            "Epoch 1/50\n",
            "24/24 [==============================] - 5s 133ms/step - factorized_top_k/top_1_categorical_accuracy: 0.0901 - factorized_top_k/top_5_categorical_accuracy: 0.0901 - factorized_top_k/top_10_categorical_accuracy: 0.0980 - factorized_top_k/top_50_categorical_accuracy: 0.1364 - factorized_top_k/top_100_categorical_accuracy: 0.1987 - loss: 94.5332 - regularization_loss: 0.0000e+00 - total_loss: 94.5332\n",
            "Epoch 2/50\n",
            "24/24 [==============================] - 6s 268ms/step - factorized_top_k/top_1_categorical_accuracy: 0.1020 - factorized_top_k/top_5_categorical_accuracy: 0.1139 - factorized_top_k/top_10_categorical_accuracy: 0.1430 - factorized_top_k/top_50_categorical_accuracy: 0.2543 - factorized_top_k/top_100_categorical_accuracy: 0.3589 - loss: 83.2022 - regularization_loss: 0.0000e+00 - total_loss: 83.2022\n",
            "Epoch 3/50\n",
            "24/24 [==============================] - 6s 223ms/step - factorized_top_k/top_1_categorical_accuracy: 0.1007 - factorized_top_k/top_5_categorical_accuracy: 0.1351 - factorized_top_k/top_10_categorical_accuracy: 0.1695 - factorized_top_k/top_50_categorical_accuracy: 0.3152 - factorized_top_k/top_100_categorical_accuracy: 0.4238 - loss: 75.3850 - regularization_loss: 0.0000e+00 - total_loss: 75.3850\n",
            "Epoch 4/50\n",
            "24/24 [==============================] - 6s 264ms/step - factorized_top_k/top_1_categorical_accuracy: 0.1046 - factorized_top_k/top_5_categorical_accuracy: 0.1444 - factorized_top_k/top_10_categorical_accuracy: 0.1735 - factorized_top_k/top_50_categorical_accuracy: 0.3828 - factorized_top_k/top_100_categorical_accuracy: 0.5086 - loss: 70.5089 - regularization_loss: 0.0000e+00 - total_loss: 70.5089\n",
            "Epoch 5/50\n",
            "24/24 [==============================] - 2s 87ms/step - factorized_top_k/top_1_categorical_accuracy: 0.0954 - factorized_top_k/top_5_categorical_accuracy: 0.1550 - factorized_top_k/top_10_categorical_accuracy: 0.2066 - factorized_top_k/top_50_categorical_accuracy: 0.4225 - factorized_top_k/top_100_categorical_accuracy: 0.5272 - loss: 68.7281 - regularization_loss: 0.0000e+00 - total_loss: 68.7281\n",
            "Epoch 6/50\n",
            "24/24 [==============================] - 2s 89ms/step - factorized_top_k/top_1_categorical_accuracy: 0.1113 - factorized_top_k/top_5_categorical_accuracy: 0.1815 - factorized_top_k/top_10_categorical_accuracy: 0.2093 - factorized_top_k/top_50_categorical_accuracy: 0.4238 - factorized_top_k/top_100_categorical_accuracy: 0.5351 - loss: 66.2714 - regularization_loss: 0.0000e+00 - total_loss: 66.2714\n",
            "Epoch 7/50\n",
            "24/24 [==============================] - 2s 90ms/step - factorized_top_k/top_1_categorical_accuracy: 0.1166 - factorized_top_k/top_5_categorical_accuracy: 0.1815 - factorized_top_k/top_10_categorical_accuracy: 0.2384 - factorized_top_k/top_50_categorical_accuracy: 0.4278 - factorized_top_k/top_100_categorical_accuracy: 0.5298 - loss: 63.9284 - regularization_loss: 0.0000e+00 - total_loss: 63.9284\n",
            "Epoch 8/50\n",
            "24/24 [==============================] - 4s 147ms/step - factorized_top_k/top_1_categorical_accuracy: 0.1351 - factorized_top_k/top_5_categorical_accuracy: 0.2066 - factorized_top_k/top_10_categorical_accuracy: 0.2675 - factorized_top_k/top_50_categorical_accuracy: 0.4530 - factorized_top_k/top_100_categorical_accuracy: 0.5497 - loss: 63.4488 - regularization_loss: 0.0000e+00 - total_loss: 63.4488\n",
            "Epoch 9/50\n",
            "24/24 [==============================] - 2s 90ms/step - factorized_top_k/top_1_categorical_accuracy: 0.1219 - factorized_top_k/top_5_categorical_accuracy: 0.1934 - factorized_top_k/top_10_categorical_accuracy: 0.2530 - factorized_top_k/top_50_categorical_accuracy: 0.4278 - factorized_top_k/top_100_categorical_accuracy: 0.5483 - loss: 62.8927 - regularization_loss: 0.0000e+00 - total_loss: 62.8927\n",
            "Epoch 10/50\n",
            "24/24 [==============================] - 2s 90ms/step - factorized_top_k/top_1_categorical_accuracy: 0.1166 - factorized_top_k/top_5_categorical_accuracy: 0.1815 - factorized_top_k/top_10_categorical_accuracy: 0.2331 - factorized_top_k/top_50_categorical_accuracy: 0.4384 - factorized_top_k/top_100_categorical_accuracy: 0.5603 - loss: 61.8297 - regularization_loss: 0.0000e+00 - total_loss: 61.8297\n",
            "Epoch 11/50\n",
            "24/24 [==============================] - 2s 92ms/step - factorized_top_k/top_1_categorical_accuracy: 0.1788 - factorized_top_k/top_5_categorical_accuracy: 0.2424 - factorized_top_k/top_10_categorical_accuracy: 0.2795 - factorized_top_k/top_50_categorical_accuracy: 0.4755 - factorized_top_k/top_100_categorical_accuracy: 0.5828 - loss: 61.6471 - regularization_loss: 0.0000e+00 - total_loss: 61.6471\n",
            "Epoch 12/50\n",
            "24/24 [==============================] - 2s 100ms/step - factorized_top_k/top_1_categorical_accuracy: 0.1205 - factorized_top_k/top_5_categorical_accuracy: 0.2040 - factorized_top_k/top_10_categorical_accuracy: 0.2464 - factorized_top_k/top_50_categorical_accuracy: 0.4331 - factorized_top_k/top_100_categorical_accuracy: 0.5576 - loss: 60.8129 - regularization_loss: 0.0000e+00 - total_loss: 60.8129\n",
            "Epoch 13/50\n",
            "24/24 [==============================] - 4s 150ms/step - factorized_top_k/top_1_categorical_accuracy: 0.1126 - factorized_top_k/top_5_categorical_accuracy: 0.2013 - factorized_top_k/top_10_categorical_accuracy: 0.2517 - factorized_top_k/top_50_categorical_accuracy: 0.4358 - factorized_top_k/top_100_categorical_accuracy: 0.5325 - loss: 60.2000 - regularization_loss: 0.0000e+00 - total_loss: 60.2000\n",
            "Epoch 14/50\n",
            "24/24 [==============================] - 2s 91ms/step - factorized_top_k/top_1_categorical_accuracy: 0.1325 - factorized_top_k/top_5_categorical_accuracy: 0.2318 - factorized_top_k/top_10_categorical_accuracy: 0.2821 - factorized_top_k/top_50_categorical_accuracy: 0.4477 - factorized_top_k/top_100_categorical_accuracy: 0.5563 - loss: 60.2012 - regularization_loss: 0.0000e+00 - total_loss: 60.2012\n",
            "Epoch 15/50\n",
            "24/24 [==============================] - 2s 89ms/step - factorized_top_k/top_1_categorical_accuracy: 0.1179 - factorized_top_k/top_5_categorical_accuracy: 0.2252 - factorized_top_k/top_10_categorical_accuracy: 0.2636 - factorized_top_k/top_50_categorical_accuracy: 0.4424 - factorized_top_k/top_100_categorical_accuracy: 0.5669 - loss: 60.3130 - regularization_loss: 0.0000e+00 - total_loss: 60.3130\n",
            "Epoch 16/50\n",
            "24/24 [==============================] - 2s 86ms/step - factorized_top_k/top_1_categorical_accuracy: 0.1285 - factorized_top_k/top_5_categorical_accuracy: 0.2159 - factorized_top_k/top_10_categorical_accuracy: 0.2556 - factorized_top_k/top_50_categorical_accuracy: 0.4583 - factorized_top_k/top_100_categorical_accuracy: 0.5775 - loss: 59.3865 - regularization_loss: 0.0000e+00 - total_loss: 59.3865\n",
            "Epoch 17/50\n",
            "24/24 [==============================] - 2s 84ms/step - factorized_top_k/top_1_categorical_accuracy: 0.1616 - factorized_top_k/top_5_categorical_accuracy: 0.2517 - factorized_top_k/top_10_categorical_accuracy: 0.2768 - factorized_top_k/top_50_categorical_accuracy: 0.4570 - factorized_top_k/top_100_categorical_accuracy: 0.5815 - loss: 59.6053 - regularization_loss: 0.0000e+00 - total_loss: 59.6053\n",
            "Epoch 18/50\n",
            "24/24 [==============================] - 3s 139ms/step - factorized_top_k/top_1_categorical_accuracy: 0.1298 - factorized_top_k/top_5_categorical_accuracy: 0.2212 - factorized_top_k/top_10_categorical_accuracy: 0.2728 - factorized_top_k/top_50_categorical_accuracy: 0.4371 - factorized_top_k/top_100_categorical_accuracy: 0.5510 - loss: 58.7958 - regularization_loss: 0.0000e+00 - total_loss: 58.7958\n",
            "Epoch 19/50\n",
            "24/24 [==============================] - 2s 84ms/step - factorized_top_k/top_1_categorical_accuracy: 0.1192 - factorized_top_k/top_5_categorical_accuracy: 0.2079 - factorized_top_k/top_10_categorical_accuracy: 0.2344 - factorized_top_k/top_50_categorical_accuracy: 0.4291 - factorized_top_k/top_100_categorical_accuracy: 0.5325 - loss: 58.9454 - regularization_loss: 0.0000e+00 - total_loss: 58.9454\n",
            "Epoch 20/50\n",
            "24/24 [==============================] - 2s 87ms/step - factorized_top_k/top_1_categorical_accuracy: 0.1417 - factorized_top_k/top_5_categorical_accuracy: 0.2464 - factorized_top_k/top_10_categorical_accuracy: 0.2901 - factorized_top_k/top_50_categorical_accuracy: 0.4411 - factorized_top_k/top_100_categorical_accuracy: 0.5642 - loss: 59.2061 - regularization_loss: 0.0000e+00 - total_loss: 59.2061\n",
            "Epoch 21/50\n",
            "24/24 [==============================] - 2s 83ms/step - factorized_top_k/top_1_categorical_accuracy: 0.1338 - factorized_top_k/top_5_categorical_accuracy: 0.2397 - factorized_top_k/top_10_categorical_accuracy: 0.2861 - factorized_top_k/top_50_categorical_accuracy: 0.4623 - factorized_top_k/top_100_categorical_accuracy: 0.5682 - loss: 59.5216 - regularization_loss: 0.0000e+00 - total_loss: 59.5216\n",
            "Epoch 22/50\n",
            "24/24 [==============================] - 2s 83ms/step - factorized_top_k/top_1_categorical_accuracy: 0.1351 - factorized_top_k/top_5_categorical_accuracy: 0.2437 - factorized_top_k/top_10_categorical_accuracy: 0.2834 - factorized_top_k/top_50_categorical_accuracy: 0.4464 - factorized_top_k/top_100_categorical_accuracy: 0.5550 - loss: 58.8979 - regularization_loss: 0.0000e+00 - total_loss: 58.8979\n",
            "Epoch 23/50\n",
            "24/24 [==============================] - 3s 138ms/step - factorized_top_k/top_1_categorical_accuracy: 0.1192 - factorized_top_k/top_5_categorical_accuracy: 0.2305 - factorized_top_k/top_10_categorical_accuracy: 0.2715 - factorized_top_k/top_50_categorical_accuracy: 0.4371 - factorized_top_k/top_100_categorical_accuracy: 0.5603 - loss: 57.6917 - regularization_loss: 0.0000e+00 - total_loss: 57.6917\n",
            "Epoch 24/50\n",
            "24/24 [==============================] - 3s 131ms/step - factorized_top_k/top_1_categorical_accuracy: 0.1497 - factorized_top_k/top_5_categorical_accuracy: 0.2331 - factorized_top_k/top_10_categorical_accuracy: 0.2662 - factorized_top_k/top_50_categorical_accuracy: 0.4755 - factorized_top_k/top_100_categorical_accuracy: 0.5629 - loss: 58.5327 - regularization_loss: 0.0000e+00 - total_loss: 58.5327\n",
            "Epoch 25/50\n",
            "24/24 [==============================] - 2s 85ms/step - factorized_top_k/top_1_categorical_accuracy: 0.1497 - factorized_top_k/top_5_categorical_accuracy: 0.2424 - factorized_top_k/top_10_categorical_accuracy: 0.2728 - factorized_top_k/top_50_categorical_accuracy: 0.4530 - factorized_top_k/top_100_categorical_accuracy: 0.5589 - loss: 58.0058 - regularization_loss: 0.0000e+00 - total_loss: 58.0058\n",
            "Epoch 26/50\n",
            "24/24 [==============================] - 2s 83ms/step - factorized_top_k/top_1_categorical_accuracy: 0.1351 - factorized_top_k/top_5_categorical_accuracy: 0.2225 - factorized_top_k/top_10_categorical_accuracy: 0.2543 - factorized_top_k/top_50_categorical_accuracy: 0.4503 - factorized_top_k/top_100_categorical_accuracy: 0.5629 - loss: 59.1883 - regularization_loss: 0.0000e+00 - total_loss: 59.1883\n",
            "Epoch 27/50\n",
            "24/24 [==============================] - 3s 138ms/step - factorized_top_k/top_1_categorical_accuracy: 0.1086 - factorized_top_k/top_5_categorical_accuracy: 0.2066 - factorized_top_k/top_10_categorical_accuracy: 0.2517 - factorized_top_k/top_50_categorical_accuracy: 0.4450 - factorized_top_k/top_100_categorical_accuracy: 0.5272 - loss: 57.4530 - regularization_loss: 0.0000e+00 - total_loss: 57.4530\n",
            "Epoch 28/50\n",
            "24/24 [==============================] - 2s 86ms/step - factorized_top_k/top_1_categorical_accuracy: 0.1298 - factorized_top_k/top_5_categorical_accuracy: 0.2238 - factorized_top_k/top_10_categorical_accuracy: 0.2570 - factorized_top_k/top_50_categorical_accuracy: 0.4503 - factorized_top_k/top_100_categorical_accuracy: 0.5536 - loss: 57.4982 - regularization_loss: 0.0000e+00 - total_loss: 57.4982\n",
            "Epoch 29/50\n",
            "24/24 [==============================] - 2s 85ms/step - factorized_top_k/top_1_categorical_accuracy: 0.1258 - factorized_top_k/top_5_categorical_accuracy: 0.2238 - factorized_top_k/top_10_categorical_accuracy: 0.2715 - factorized_top_k/top_50_categorical_accuracy: 0.4702 - factorized_top_k/top_100_categorical_accuracy: 0.5550 - loss: 58.5419 - regularization_loss: 0.0000e+00 - total_loss: 58.5419\n",
            "Epoch 30/50\n",
            "24/24 [==============================] - 2s 86ms/step - factorized_top_k/top_1_categorical_accuracy: 0.1325 - factorized_top_k/top_5_categorical_accuracy: 0.2358 - factorized_top_k/top_10_categorical_accuracy: 0.2715 - factorized_top_k/top_50_categorical_accuracy: 0.4596 - factorized_top_k/top_100_categorical_accuracy: 0.5589 - loss: 58.1511 - regularization_loss: 0.0000e+00 - total_loss: 58.1511\n",
            "Epoch 31/50\n",
            "24/24 [==============================] - 2s 86ms/step - factorized_top_k/top_1_categorical_accuracy: 0.1298 - factorized_top_k/top_5_categorical_accuracy: 0.2450 - factorized_top_k/top_10_categorical_accuracy: 0.2768 - factorized_top_k/top_50_categorical_accuracy: 0.4662 - factorized_top_k/top_100_categorical_accuracy: 0.5722 - loss: 58.1970 - regularization_loss: 0.0000e+00 - total_loss: 58.1970\n",
            "Epoch 32/50\n",
            "24/24 [==============================] - 3s 143ms/step - factorized_top_k/top_1_categorical_accuracy: 0.1311 - factorized_top_k/top_5_categorical_accuracy: 0.2199 - factorized_top_k/top_10_categorical_accuracy: 0.2662 - factorized_top_k/top_50_categorical_accuracy: 0.4623 - factorized_top_k/top_100_categorical_accuracy: 0.5629 - loss: 58.4802 - regularization_loss: 0.0000e+00 - total_loss: 58.4802\n",
            "Epoch 33/50\n",
            "24/24 [==============================] - 3s 116ms/step - factorized_top_k/top_1_categorical_accuracy: 0.1563 - factorized_top_k/top_5_categorical_accuracy: 0.2371 - factorized_top_k/top_10_categorical_accuracy: 0.2887 - factorized_top_k/top_50_categorical_accuracy: 0.4702 - factorized_top_k/top_100_categorical_accuracy: 0.5934 - loss: 58.4323 - regularization_loss: 0.0000e+00 - total_loss: 58.4323\n",
            "Epoch 34/50\n",
            "24/24 [==============================] - 2s 88ms/step - factorized_top_k/top_1_categorical_accuracy: 0.1550 - factorized_top_k/top_5_categorical_accuracy: 0.2450 - factorized_top_k/top_10_categorical_accuracy: 0.2940 - factorized_top_k/top_50_categorical_accuracy: 0.4795 - factorized_top_k/top_100_categorical_accuracy: 0.5801 - loss: 58.1177 - regularization_loss: 0.0000e+00 - total_loss: 58.1177\n",
            "Epoch 35/50\n",
            "24/24 [==============================] - 2s 87ms/step - factorized_top_k/top_1_categorical_accuracy: 0.1298 - factorized_top_k/top_5_categorical_accuracy: 0.2172 - factorized_top_k/top_10_categorical_accuracy: 0.2675 - factorized_top_k/top_50_categorical_accuracy: 0.4437 - factorized_top_k/top_100_categorical_accuracy: 0.5483 - loss: 57.2202 - regularization_loss: 0.0000e+00 - total_loss: 57.2202\n",
            "Epoch 36/50\n",
            "24/24 [==============================] - 2s 87ms/step - factorized_top_k/top_1_categorical_accuracy: 0.1298 - factorized_top_k/top_5_categorical_accuracy: 0.2238 - factorized_top_k/top_10_categorical_accuracy: 0.2636 - factorized_top_k/top_50_categorical_accuracy: 0.4570 - factorized_top_k/top_100_categorical_accuracy: 0.5828 - loss: 57.9002 - regularization_loss: 0.0000e+00 - total_loss: 57.9002\n",
            "Epoch 37/50\n",
            "24/24 [==============================] - 3s 139ms/step - factorized_top_k/top_1_categorical_accuracy: 0.1152 - factorized_top_k/top_5_categorical_accuracy: 0.2132 - factorized_top_k/top_10_categorical_accuracy: 0.2570 - factorized_top_k/top_50_categorical_accuracy: 0.4702 - factorized_top_k/top_100_categorical_accuracy: 0.5735 - loss: 57.8531 - regularization_loss: 0.0000e+00 - total_loss: 57.8531\n",
            "Epoch 38/50\n",
            "24/24 [==============================] - 2s 85ms/step - factorized_top_k/top_1_categorical_accuracy: 0.1430 - factorized_top_k/top_5_categorical_accuracy: 0.2384 - factorized_top_k/top_10_categorical_accuracy: 0.2821 - factorized_top_k/top_50_categorical_accuracy: 0.4543 - factorized_top_k/top_100_categorical_accuracy: 0.5497 - loss: 57.2702 - regularization_loss: 0.0000e+00 - total_loss: 57.2702\n",
            "Epoch 39/50\n",
            "24/24 [==============================] - 2s 85ms/step - factorized_top_k/top_1_categorical_accuracy: 0.1298 - factorized_top_k/top_5_categorical_accuracy: 0.2358 - factorized_top_k/top_10_categorical_accuracy: 0.2715 - factorized_top_k/top_50_categorical_accuracy: 0.4689 - factorized_top_k/top_100_categorical_accuracy: 0.5748 - loss: 57.7205 - regularization_loss: 0.0000e+00 - total_loss: 57.7205\n",
            "Epoch 40/50\n",
            "24/24 [==============================] - 2s 88ms/step - factorized_top_k/top_1_categorical_accuracy: 0.1523 - factorized_top_k/top_5_categorical_accuracy: 0.2358 - factorized_top_k/top_10_categorical_accuracy: 0.2808 - factorized_top_k/top_50_categorical_accuracy: 0.4768 - factorized_top_k/top_100_categorical_accuracy: 0.5828 - loss: 59.4295 - regularization_loss: 0.0000e+00 - total_loss: 59.4295\n",
            "Epoch 41/50\n",
            "24/24 [==============================] - 2s 91ms/step - factorized_top_k/top_1_categorical_accuracy: 0.1510 - factorized_top_k/top_5_categorical_accuracy: 0.2411 - factorized_top_k/top_10_categorical_accuracy: 0.2874 - factorized_top_k/top_50_categorical_accuracy: 0.4623 - factorized_top_k/top_100_categorical_accuracy: 0.5536 - loss: 57.6115 - regularization_loss: 0.0000e+00 - total_loss: 57.6115\n",
            "Epoch 42/50\n",
            "24/24 [==============================] - 4s 143ms/step - factorized_top_k/top_1_categorical_accuracy: 0.1311 - factorized_top_k/top_5_categorical_accuracy: 0.2225 - factorized_top_k/top_10_categorical_accuracy: 0.2662 - factorized_top_k/top_50_categorical_accuracy: 0.4358 - factorized_top_k/top_100_categorical_accuracy: 0.5682 - loss: 57.9476 - regularization_loss: 0.0000e+00 - total_loss: 57.9476\n",
            "Epoch 43/50\n",
            "24/24 [==============================] - 2s 89ms/step - factorized_top_k/top_1_categorical_accuracy: 0.1444 - factorized_top_k/top_5_categorical_accuracy: 0.2278 - factorized_top_k/top_10_categorical_accuracy: 0.2702 - factorized_top_k/top_50_categorical_accuracy: 0.4464 - factorized_top_k/top_100_categorical_accuracy: 0.5510 - loss: 57.5601 - regularization_loss: 0.0000e+00 - total_loss: 57.5601\n",
            "Epoch 44/50\n",
            "24/24 [==============================] - 2s 86ms/step - factorized_top_k/top_1_categorical_accuracy: 0.1298 - factorized_top_k/top_5_categorical_accuracy: 0.2371 - factorized_top_k/top_10_categorical_accuracy: 0.2795 - factorized_top_k/top_50_categorical_accuracy: 0.4702 - factorized_top_k/top_100_categorical_accuracy: 0.5828 - loss: 57.2927 - regularization_loss: 0.0000e+00 - total_loss: 57.2927\n",
            "Epoch 45/50\n",
            "24/24 [==============================] - 2s 86ms/step - factorized_top_k/top_1_categorical_accuracy: 0.1351 - factorized_top_k/top_5_categorical_accuracy: 0.2291 - factorized_top_k/top_10_categorical_accuracy: 0.2821 - factorized_top_k/top_50_categorical_accuracy: 0.4662 - factorized_top_k/top_100_categorical_accuracy: 0.5576 - loss: 57.9363 - regularization_loss: 0.0000e+00 - total_loss: 57.9363\n",
            "Epoch 46/50\n",
            "24/24 [==============================] - 3s 111ms/step - factorized_top_k/top_1_categorical_accuracy: 0.1325 - factorized_top_k/top_5_categorical_accuracy: 0.2199 - factorized_top_k/top_10_categorical_accuracy: 0.2834 - factorized_top_k/top_50_categorical_accuracy: 0.4490 - factorized_top_k/top_100_categorical_accuracy: 0.5536 - loss: 57.4293 - regularization_loss: 0.0000e+00 - total_loss: 57.4293\n",
            "Epoch 47/50\n",
            "24/24 [==============================] - 3s 137ms/step - factorized_top_k/top_1_categorical_accuracy: 0.1536 - factorized_top_k/top_5_categorical_accuracy: 0.2424 - factorized_top_k/top_10_categorical_accuracy: 0.2834 - factorized_top_k/top_50_categorical_accuracy: 0.4940 - factorized_top_k/top_100_categorical_accuracy: 0.5868 - loss: 57.1898 - regularization_loss: 0.0000e+00 - total_loss: 57.1898\n",
            "Epoch 48/50\n",
            "24/24 [==============================] - 3s 137ms/step - factorized_top_k/top_1_categorical_accuracy: 0.1258 - factorized_top_k/top_5_categorical_accuracy: 0.2132 - factorized_top_k/top_10_categorical_accuracy: 0.2662 - factorized_top_k/top_50_categorical_accuracy: 0.4702 - factorized_top_k/top_100_categorical_accuracy: 0.5762 - loss: 57.2619 - regularization_loss: 0.0000e+00 - total_loss: 57.2619\n",
            "Epoch 49/50\n",
            "24/24 [==============================] - 2s 86ms/step - factorized_top_k/top_1_categorical_accuracy: 0.1338 - factorized_top_k/top_5_categorical_accuracy: 0.2238 - factorized_top_k/top_10_categorical_accuracy: 0.2702 - factorized_top_k/top_50_categorical_accuracy: 0.4331 - factorized_top_k/top_100_categorical_accuracy: 0.5536 - loss: 57.4524 - regularization_loss: 0.0000e+00 - total_loss: 57.4524\n",
            "Epoch 50/50\n",
            "24/24 [==============================] - 2s 91ms/step - factorized_top_k/top_1_categorical_accuracy: 0.1364 - factorized_top_k/top_5_categorical_accuracy: 0.2159 - factorized_top_k/top_10_categorical_accuracy: 0.2609 - factorized_top_k/top_50_categorical_accuracy: 0.4530 - factorized_top_k/top_100_categorical_accuracy: 0.5616 - loss: 57.6704 - regularization_loss: 0.0000e+00 - total_loss: 57.6704\n",
            "24/24 [==============================] - 4s 132ms/step - factorized_top_k/top_1_categorical_accuracy: 0.1113 - factorized_top_k/top_5_categorical_accuracy: 0.2146 - factorized_top_k/top_10_categorical_accuracy: 0.2450 - factorized_top_k/top_50_categorical_accuracy: 0.5828 - factorized_top_k/top_100_categorical_accuracy: 0.7086 - loss: 56.3547 - regularization_loss: 0.0000e+00 - total_loss: 56.3547\n",
            "6/6 [==============================] - 1s 138ms/step - factorized_top_k/top_1_categorical_accuracy: 0.0476 - factorized_top_k/top_5_categorical_accuracy: 0.1164 - factorized_top_k/top_10_categorical_accuracy: 0.1217 - factorized_top_k/top_50_categorical_accuracy: 0.3651 - factorized_top_k/top_100_categorical_accuracy: 0.4497 - loss: 94.0314 - regularization_loss: 0.0000e+00 - total_loss: 94.0314\n",
            "Top-100 accuracy (train): 0.71.\n",
            "Top-100 accuracy (test): 0.45.\n",
            "Epoch 1/50\n",
            "24/24 [==============================] - 3s 83ms/step - factorized_top_k/top_1_categorical_accuracy: 0.0861 - factorized_top_k/top_5_categorical_accuracy: 0.0861 - factorized_top_k/top_10_categorical_accuracy: 0.0940 - factorized_top_k/top_50_categorical_accuracy: 0.1483 - factorized_top_k/top_100_categorical_accuracy: 0.2079 - loss: 94.9978 - regularization_loss: 0.0000e+00 - total_loss: 94.9978\n",
            "Epoch 2/50\n",
            "24/24 [==============================] - 2s 88ms/step - factorized_top_k/top_1_categorical_accuracy: 0.1007 - factorized_top_k/top_5_categorical_accuracy: 0.1060 - factorized_top_k/top_10_categorical_accuracy: 0.1232 - factorized_top_k/top_50_categorical_accuracy: 0.2450 - factorized_top_k/top_100_categorical_accuracy: 0.3576 - loss: 83.3892 - regularization_loss: 0.0000e+00 - total_loss: 83.3892\n",
            "Epoch 3/50\n",
            "24/24 [==============================] - 2s 88ms/step - factorized_top_k/top_1_categorical_accuracy: 0.0980 - factorized_top_k/top_5_categorical_accuracy: 0.1272 - factorized_top_k/top_10_categorical_accuracy: 0.1669 - factorized_top_k/top_50_categorical_accuracy: 0.3179 - factorized_top_k/top_100_categorical_accuracy: 0.4291 - loss: 75.1972 - regularization_loss: 0.0000e+00 - total_loss: 75.1972\n",
            "Epoch 4/50\n",
            "24/24 [==============================] - 2s 98ms/step - factorized_top_k/top_1_categorical_accuracy: 0.0848 - factorized_top_k/top_5_categorical_accuracy: 0.1272 - factorized_top_k/top_10_categorical_accuracy: 0.1523 - factorized_top_k/top_50_categorical_accuracy: 0.3788 - factorized_top_k/top_100_categorical_accuracy: 0.5113 - loss: 69.4750 - regularization_loss: 0.0000e+00 - total_loss: 69.4750\n",
            "Epoch 5/50\n",
            "24/24 [==============================] - 3s 140ms/step - factorized_top_k/top_1_categorical_accuracy: 0.1073 - factorized_top_k/top_5_categorical_accuracy: 0.1722 - factorized_top_k/top_10_categorical_accuracy: 0.2079 - factorized_top_k/top_50_categorical_accuracy: 0.4185 - factorized_top_k/top_100_categorical_accuracy: 0.5219 - loss: 67.7058 - regularization_loss: 0.0000e+00 - total_loss: 67.7058\n",
            "Epoch 6/50\n",
            "24/24 [==============================] - 2s 85ms/step - factorized_top_k/top_1_categorical_accuracy: 0.1060 - factorized_top_k/top_5_categorical_accuracy: 0.1682 - factorized_top_k/top_10_categorical_accuracy: 0.2172 - factorized_top_k/top_50_categorical_accuracy: 0.4411 - factorized_top_k/top_100_categorical_accuracy: 0.5497 - loss: 65.6351 - regularization_loss: 0.0000e+00 - total_loss: 65.6351\n",
            "Epoch 7/50\n",
            "24/24 [==============================] - 2s 82ms/step - factorized_top_k/top_1_categorical_accuracy: 0.1139 - factorized_top_k/top_5_categorical_accuracy: 0.1974 - factorized_top_k/top_10_categorical_accuracy: 0.2464 - factorized_top_k/top_50_categorical_accuracy: 0.4543 - factorized_top_k/top_100_categorical_accuracy: 0.5470 - loss: 63.3690 - regularization_loss: 0.0000e+00 - total_loss: 63.3690\n",
            "Epoch 8/50\n",
            "24/24 [==============================] - 2s 86ms/step - factorized_top_k/top_1_categorical_accuracy: 0.0980 - factorized_top_k/top_5_categorical_accuracy: 0.1775 - factorized_top_k/top_10_categorical_accuracy: 0.2305 - factorized_top_k/top_50_categorical_accuracy: 0.4649 - factorized_top_k/top_100_categorical_accuracy: 0.5550 - loss: 63.2786 - regularization_loss: 0.0000e+00 - total_loss: 63.2786\n",
            "Epoch 9/50\n",
            "24/24 [==============================] - 2s 95ms/step - factorized_top_k/top_1_categorical_accuracy: 0.1364 - factorized_top_k/top_5_categorical_accuracy: 0.2212 - factorized_top_k/top_10_categorical_accuracy: 0.2715 - factorized_top_k/top_50_categorical_accuracy: 0.4411 - factorized_top_k/top_100_categorical_accuracy: 0.5325 - loss: 62.2884 - regularization_loss: 0.0000e+00 - total_loss: 62.2884\n",
            "Epoch 10/50\n",
            "24/24 [==============================] - 3s 134ms/step - factorized_top_k/top_1_categorical_accuracy: 0.1258 - factorized_top_k/top_5_categorical_accuracy: 0.1881 - factorized_top_k/top_10_categorical_accuracy: 0.2437 - factorized_top_k/top_50_categorical_accuracy: 0.4397 - factorized_top_k/top_100_categorical_accuracy: 0.5457 - loss: 61.5656 - regularization_loss: 0.0000e+00 - total_loss: 61.5656\n",
            "Epoch 11/50\n",
            "24/24 [==============================] - 2s 84ms/step - factorized_top_k/top_1_categorical_accuracy: 0.1642 - factorized_top_k/top_5_categorical_accuracy: 0.2411 - factorized_top_k/top_10_categorical_accuracy: 0.2954 - factorized_top_k/top_50_categorical_accuracy: 0.4662 - factorized_top_k/top_100_categorical_accuracy: 0.5709 - loss: 61.7580 - regularization_loss: 0.0000e+00 - total_loss: 61.7580\n",
            "Epoch 12/50\n",
            "24/24 [==============================] - 2s 84ms/step - factorized_top_k/top_1_categorical_accuracy: 0.1311 - factorized_top_k/top_5_categorical_accuracy: 0.2119 - factorized_top_k/top_10_categorical_accuracy: 0.2570 - factorized_top_k/top_50_categorical_accuracy: 0.4464 - factorized_top_k/top_100_categorical_accuracy: 0.5483 - loss: 60.9482 - regularization_loss: 0.0000e+00 - total_loss: 60.9482\n",
            "Epoch 13/50\n",
            "24/24 [==============================] - 2s 84ms/step - factorized_top_k/top_1_categorical_accuracy: 0.1245 - factorized_top_k/top_5_categorical_accuracy: 0.2026 - factorized_top_k/top_10_categorical_accuracy: 0.2437 - factorized_top_k/top_50_categorical_accuracy: 0.4477 - factorized_top_k/top_100_categorical_accuracy: 0.5391 - loss: 60.0180 - regularization_loss: 0.0000e+00 - total_loss: 60.0180\n",
            "Epoch 14/50\n",
            "24/24 [==============================] - 3s 111ms/step - factorized_top_k/top_1_categorical_accuracy: 0.1126 - factorized_top_k/top_5_categorical_accuracy: 0.2053 - factorized_top_k/top_10_categorical_accuracy: 0.2530 - factorized_top_k/top_50_categorical_accuracy: 0.4570 - factorized_top_k/top_100_categorical_accuracy: 0.5603 - loss: 60.1452 - regularization_loss: 0.0000e+00 - total_loss: 60.1452\n",
            "Epoch 15/50\n",
            "24/24 [==============================] - 2s 85ms/step - factorized_top_k/top_1_categorical_accuracy: 0.1338 - factorized_top_k/top_5_categorical_accuracy: 0.2278 - factorized_top_k/top_10_categorical_accuracy: 0.2874 - factorized_top_k/top_50_categorical_accuracy: 0.4689 - factorized_top_k/top_100_categorical_accuracy: 0.5722 - loss: 60.3411 - regularization_loss: 0.0000e+00 - total_loss: 60.3411\n",
            "Epoch 16/50\n",
            "24/24 [==============================] - 2s 85ms/step - factorized_top_k/top_1_categorical_accuracy: 0.1338 - factorized_top_k/top_5_categorical_accuracy: 0.2252 - factorized_top_k/top_10_categorical_accuracy: 0.2689 - factorized_top_k/top_50_categorical_accuracy: 0.4384 - factorized_top_k/top_100_categorical_accuracy: 0.5669 - loss: 59.6514 - regularization_loss: 0.0000e+00 - total_loss: 59.6514\n",
            "Epoch 17/50\n",
            "24/24 [==============================] - 2s 88ms/step - factorized_top_k/top_1_categorical_accuracy: 0.1470 - factorized_top_k/top_5_categorical_accuracy: 0.2437 - factorized_top_k/top_10_categorical_accuracy: 0.2781 - factorized_top_k/top_50_categorical_accuracy: 0.4795 - factorized_top_k/top_100_categorical_accuracy: 0.5722 - loss: 59.5963 - regularization_loss: 0.0000e+00 - total_loss: 59.5963\n",
            "Epoch 18/50\n",
            "24/24 [==============================] - 2s 85ms/step - factorized_top_k/top_1_categorical_accuracy: 0.1377 - factorized_top_k/top_5_categorical_accuracy: 0.2199 - factorized_top_k/top_10_categorical_accuracy: 0.2689 - factorized_top_k/top_50_categorical_accuracy: 0.4358 - factorized_top_k/top_100_categorical_accuracy: 0.5576 - loss: 58.8932 - regularization_loss: 0.0000e+00 - total_loss: 58.8932\n",
            "Epoch 19/50\n",
            "24/24 [==============================] - 3s 136ms/step - factorized_top_k/top_1_categorical_accuracy: 0.1550 - factorized_top_k/top_5_categorical_accuracy: 0.2305 - factorized_top_k/top_10_categorical_accuracy: 0.2689 - factorized_top_k/top_50_categorical_accuracy: 0.4583 - factorized_top_k/top_100_categorical_accuracy: 0.5642 - loss: 59.0080 - regularization_loss: 0.0000e+00 - total_loss: 59.0080\n",
            "Epoch 20/50\n",
            "24/24 [==============================] - 2s 86ms/step - factorized_top_k/top_1_categorical_accuracy: 0.1272 - factorized_top_k/top_5_categorical_accuracy: 0.2331 - factorized_top_k/top_10_categorical_accuracy: 0.2914 - factorized_top_k/top_50_categorical_accuracy: 0.4517 - factorized_top_k/top_100_categorical_accuracy: 0.5523 - loss: 59.2970 - regularization_loss: 0.0000e+00 - total_loss: 59.2970\n",
            "Epoch 21/50\n",
            "24/24 [==============================] - 2s 89ms/step - factorized_top_k/top_1_categorical_accuracy: 0.1510 - factorized_top_k/top_5_categorical_accuracy: 0.2477 - factorized_top_k/top_10_categorical_accuracy: 0.2954 - factorized_top_k/top_50_categorical_accuracy: 0.4609 - factorized_top_k/top_100_categorical_accuracy: 0.5629 - loss: 59.7097 - regularization_loss: 0.0000e+00 - total_loss: 59.7097\n",
            "Epoch 22/50\n",
            "24/24 [==============================] - 2s 85ms/step - factorized_top_k/top_1_categorical_accuracy: 0.1232 - factorized_top_k/top_5_categorical_accuracy: 0.2305 - factorized_top_k/top_10_categorical_accuracy: 0.2755 - factorized_top_k/top_50_categorical_accuracy: 0.4543 - factorized_top_k/top_100_categorical_accuracy: 0.5603 - loss: 59.0964 - regularization_loss: 0.0000e+00 - total_loss: 59.0964\n",
            "Epoch 23/50\n",
            "24/24 [==============================] - 2s 86ms/step - factorized_top_k/top_1_categorical_accuracy: 0.1139 - factorized_top_k/top_5_categorical_accuracy: 0.2265 - factorized_top_k/top_10_categorical_accuracy: 0.2609 - factorized_top_k/top_50_categorical_accuracy: 0.4450 - factorized_top_k/top_100_categorical_accuracy: 0.5523 - loss: 57.9555 - regularization_loss: 0.0000e+00 - total_loss: 57.9555\n",
            "Epoch 24/50\n",
            "24/24 [==============================] - 4s 146ms/step - factorized_top_k/top_1_categorical_accuracy: 0.1391 - factorized_top_k/top_5_categorical_accuracy: 0.2384 - factorized_top_k/top_10_categorical_accuracy: 0.2689 - factorized_top_k/top_50_categorical_accuracy: 0.4636 - factorized_top_k/top_100_categorical_accuracy: 0.5709 - loss: 58.8525 - regularization_loss: 0.0000e+00 - total_loss: 58.8525\n",
            "Epoch 25/50\n",
            "24/24 [==============================] - 2s 88ms/step - factorized_top_k/top_1_categorical_accuracy: 0.1483 - factorized_top_k/top_5_categorical_accuracy: 0.2450 - factorized_top_k/top_10_categorical_accuracy: 0.2848 - factorized_top_k/top_50_categorical_accuracy: 0.4583 - factorized_top_k/top_100_categorical_accuracy: 0.5563 - loss: 58.0863 - regularization_loss: 0.0000e+00 - total_loss: 58.0863\n",
            "Epoch 26/50\n",
            "24/24 [==============================] - 2s 88ms/step - factorized_top_k/top_1_categorical_accuracy: 0.1258 - factorized_top_k/top_5_categorical_accuracy: 0.2146 - factorized_top_k/top_10_categorical_accuracy: 0.2675 - factorized_top_k/top_50_categorical_accuracy: 0.4543 - factorized_top_k/top_100_categorical_accuracy: 0.5616 - loss: 59.5845 - regularization_loss: 0.0000e+00 - total_loss: 59.5845\n",
            "Epoch 27/50\n",
            "24/24 [==============================] - 2s 85ms/step - factorized_top_k/top_1_categorical_accuracy: 0.1086 - factorized_top_k/top_5_categorical_accuracy: 0.2079 - factorized_top_k/top_10_categorical_accuracy: 0.2437 - factorized_top_k/top_50_categorical_accuracy: 0.4503 - factorized_top_k/top_100_categorical_accuracy: 0.5351 - loss: 57.5132 - regularization_loss: 0.0000e+00 - total_loss: 57.5132\n",
            "Epoch 28/50\n",
            "24/24 [==============================] - 2s 85ms/step - factorized_top_k/top_1_categorical_accuracy: 0.1391 - factorized_top_k/top_5_categorical_accuracy: 0.2238 - factorized_top_k/top_10_categorical_accuracy: 0.2596 - factorized_top_k/top_50_categorical_accuracy: 0.4583 - factorized_top_k/top_100_categorical_accuracy: 0.5629 - loss: 57.8375 - regularization_loss: 0.0000e+00 - total_loss: 57.8375\n",
            "Epoch 29/50\n",
            "24/24 [==============================] - 3s 138ms/step - factorized_top_k/top_1_categorical_accuracy: 0.1205 - factorized_top_k/top_5_categorical_accuracy: 0.2318 - factorized_top_k/top_10_categorical_accuracy: 0.2821 - factorized_top_k/top_50_categorical_accuracy: 0.4636 - factorized_top_k/top_100_categorical_accuracy: 0.5510 - loss: 58.4714 - regularization_loss: 0.0000e+00 - total_loss: 58.4714\n",
            "Epoch 30/50\n",
            "24/24 [==============================] - 2s 85ms/step - factorized_top_k/top_1_categorical_accuracy: 0.1298 - factorized_top_k/top_5_categorical_accuracy: 0.2305 - factorized_top_k/top_10_categorical_accuracy: 0.2728 - factorized_top_k/top_50_categorical_accuracy: 0.4742 - factorized_top_k/top_100_categorical_accuracy: 0.5722 - loss: 58.2727 - regularization_loss: 0.0000e+00 - total_loss: 58.2727\n",
            "Epoch 31/50\n",
            "24/24 [==============================] - 2s 84ms/step - factorized_top_k/top_1_categorical_accuracy: 0.1444 - factorized_top_k/top_5_categorical_accuracy: 0.2464 - factorized_top_k/top_10_categorical_accuracy: 0.2808 - factorized_top_k/top_50_categorical_accuracy: 0.4715 - factorized_top_k/top_100_categorical_accuracy: 0.5854 - loss: 58.2061 - regularization_loss: 0.0000e+00 - total_loss: 58.2061\n",
            "Epoch 32/50\n",
            "24/24 [==============================] - 2s 87ms/step - factorized_top_k/top_1_categorical_accuracy: 0.1470 - factorized_top_k/top_5_categorical_accuracy: 0.2132 - factorized_top_k/top_10_categorical_accuracy: 0.2795 - factorized_top_k/top_50_categorical_accuracy: 0.4397 - factorized_top_k/top_100_categorical_accuracy: 0.5550 - loss: 58.5892 - regularization_loss: 0.0000e+00 - total_loss: 58.5892\n",
            "Epoch 33/50\n",
            "24/24 [==============================] - 2s 87ms/step - factorized_top_k/top_1_categorical_accuracy: 0.1616 - factorized_top_k/top_5_categorical_accuracy: 0.2384 - factorized_top_k/top_10_categorical_accuracy: 0.2993 - factorized_top_k/top_50_categorical_accuracy: 0.4887 - factorized_top_k/top_100_categorical_accuracy: 0.5934 - loss: 58.6435 - regularization_loss: 0.0000e+00 - total_loss: 58.6435\n",
            "Epoch 34/50\n",
            "24/24 [==============================] - 3s 140ms/step - factorized_top_k/top_1_categorical_accuracy: 0.1444 - factorized_top_k/top_5_categorical_accuracy: 0.2265 - factorized_top_k/top_10_categorical_accuracy: 0.2728 - factorized_top_k/top_50_categorical_accuracy: 0.4636 - factorized_top_k/top_100_categorical_accuracy: 0.5762 - loss: 58.1634 - regularization_loss: 0.0000e+00 - total_loss: 58.1634\n",
            "Epoch 35/50\n",
            "24/24 [==============================] - 3s 106ms/step - factorized_top_k/top_1_categorical_accuracy: 0.1298 - factorized_top_k/top_5_categorical_accuracy: 0.2212 - factorized_top_k/top_10_categorical_accuracy: 0.2675 - factorized_top_k/top_50_categorical_accuracy: 0.4371 - factorized_top_k/top_100_categorical_accuracy: 0.5523 - loss: 57.5671 - regularization_loss: 0.0000e+00 - total_loss: 57.5671\n",
            "Epoch 36/50\n",
            "24/24 [==============================] - 2s 89ms/step - factorized_top_k/top_1_categorical_accuracy: 0.1470 - factorized_top_k/top_5_categorical_accuracy: 0.2490 - factorized_top_k/top_10_categorical_accuracy: 0.2940 - factorized_top_k/top_50_categorical_accuracy: 0.4768 - factorized_top_k/top_100_categorical_accuracy: 0.6053 - loss: 58.0072 - regularization_loss: 0.0000e+00 - total_loss: 58.0072\n",
            "Epoch 37/50\n",
            "24/24 [==============================] - 2s 88ms/step - factorized_top_k/top_1_categorical_accuracy: 0.1219 - factorized_top_k/top_5_categorical_accuracy: 0.2146 - factorized_top_k/top_10_categorical_accuracy: 0.2636 - factorized_top_k/top_50_categorical_accuracy: 0.4662 - factorized_top_k/top_100_categorical_accuracy: 0.5709 - loss: 58.0594 - regularization_loss: 0.0000e+00 - total_loss: 58.0594\n",
            "Epoch 38/50\n",
            "24/24 [==============================] - 3s 117ms/step - factorized_top_k/top_1_categorical_accuracy: 0.1364 - factorized_top_k/top_5_categorical_accuracy: 0.2411 - factorized_top_k/top_10_categorical_accuracy: 0.2861 - factorized_top_k/top_50_categorical_accuracy: 0.4490 - factorized_top_k/top_100_categorical_accuracy: 0.5483 - loss: 57.3877 - regularization_loss: 0.0000e+00 - total_loss: 57.3877\n",
            "Epoch 39/50\n",
            "24/24 [==============================] - 2s 87ms/step - factorized_top_k/top_1_categorical_accuracy: 0.1192 - factorized_top_k/top_5_categorical_accuracy: 0.2331 - factorized_top_k/top_10_categorical_accuracy: 0.2795 - factorized_top_k/top_50_categorical_accuracy: 0.4675 - factorized_top_k/top_100_categorical_accuracy: 0.5695 - loss: 57.8699 - regularization_loss: 0.0000e+00 - total_loss: 57.8699\n",
            "Epoch 40/50\n",
            "24/24 [==============================] - 2s 87ms/step - factorized_top_k/top_1_categorical_accuracy: 0.1404 - factorized_top_k/top_5_categorical_accuracy: 0.2278 - factorized_top_k/top_10_categorical_accuracy: 0.2715 - factorized_top_k/top_50_categorical_accuracy: 0.4742 - factorized_top_k/top_100_categorical_accuracy: 0.5960 - loss: 59.5109 - regularization_loss: 0.0000e+00 - total_loss: 59.5109\n",
            "Epoch 41/50\n",
            "24/24 [==============================] - 2s 86ms/step - factorized_top_k/top_1_categorical_accuracy: 0.1404 - factorized_top_k/top_5_categorical_accuracy: 0.2344 - factorized_top_k/top_10_categorical_accuracy: 0.2768 - factorized_top_k/top_50_categorical_accuracy: 0.4623 - factorized_top_k/top_100_categorical_accuracy: 0.5709 - loss: 57.7499 - regularization_loss: 0.0000e+00 - total_loss: 57.7499\n",
            "Epoch 42/50\n",
            "24/24 [==============================] - 2s 88ms/step - factorized_top_k/top_1_categorical_accuracy: 0.1510 - factorized_top_k/top_5_categorical_accuracy: 0.2411 - factorized_top_k/top_10_categorical_accuracy: 0.2821 - factorized_top_k/top_50_categorical_accuracy: 0.4530 - factorized_top_k/top_100_categorical_accuracy: 0.5722 - loss: 58.1056 - regularization_loss: 0.0000e+00 - total_loss: 58.1056\n",
            "Epoch 43/50\n",
            "24/24 [==============================] - 3s 140ms/step - factorized_top_k/top_1_categorical_accuracy: 0.1470 - factorized_top_k/top_5_categorical_accuracy: 0.2291 - factorized_top_k/top_10_categorical_accuracy: 0.2715 - factorized_top_k/top_50_categorical_accuracy: 0.4517 - factorized_top_k/top_100_categorical_accuracy: 0.5616 - loss: 57.7734 - regularization_loss: 0.0000e+00 - total_loss: 57.7734\n",
            "Epoch 44/50\n",
            "24/24 [==============================] - 2s 86ms/step - factorized_top_k/top_1_categorical_accuracy: 0.1007 - factorized_top_k/top_5_categorical_accuracy: 0.2093 - factorized_top_k/top_10_categorical_accuracy: 0.2768 - factorized_top_k/top_50_categorical_accuracy: 0.4570 - factorized_top_k/top_100_categorical_accuracy: 0.5695 - loss: 57.3116 - regularization_loss: 0.0000e+00 - total_loss: 57.3116\n",
            "Epoch 45/50\n",
            "24/24 [==============================] - 2s 87ms/step - factorized_top_k/top_1_categorical_accuracy: 0.1497 - factorized_top_k/top_5_categorical_accuracy: 0.2477 - factorized_top_k/top_10_categorical_accuracy: 0.3033 - factorized_top_k/top_50_categorical_accuracy: 0.4689 - factorized_top_k/top_100_categorical_accuracy: 0.5762 - loss: 58.0103 - regularization_loss: 0.0000e+00 - total_loss: 58.0103\n",
            "Epoch 46/50\n",
            "24/24 [==============================] - 2s 90ms/step - factorized_top_k/top_1_categorical_accuracy: 0.1285 - factorized_top_k/top_5_categorical_accuracy: 0.2238 - factorized_top_k/top_10_categorical_accuracy: 0.2768 - factorized_top_k/top_50_categorical_accuracy: 0.4556 - factorized_top_k/top_100_categorical_accuracy: 0.5629 - loss: 57.5745 - regularization_loss: 0.0000e+00 - total_loss: 57.5745\n",
            "Epoch 47/50\n",
            "24/24 [==============================] - 2s 88ms/step - factorized_top_k/top_1_categorical_accuracy: 0.1483 - factorized_top_k/top_5_categorical_accuracy: 0.2424 - factorized_top_k/top_10_categorical_accuracy: 0.2781 - factorized_top_k/top_50_categorical_accuracy: 0.4874 - factorized_top_k/top_100_categorical_accuracy: 0.5722 - loss: 57.2292 - regularization_loss: 0.0000e+00 - total_loss: 57.2292\n",
            "Epoch 48/50\n",
            "24/24 [==============================] - 4s 149ms/step - factorized_top_k/top_1_categorical_accuracy: 0.1298 - factorized_top_k/top_5_categorical_accuracy: 0.2146 - factorized_top_k/top_10_categorical_accuracy: 0.2702 - factorized_top_k/top_50_categorical_accuracy: 0.4728 - factorized_top_k/top_100_categorical_accuracy: 0.5682 - loss: 57.4022 - regularization_loss: 0.0000e+00 - total_loss: 57.4022\n",
            "Epoch 49/50\n",
            "24/24 [==============================] - 2s 86ms/step - factorized_top_k/top_1_categorical_accuracy: 0.1311 - factorized_top_k/top_5_categorical_accuracy: 0.2199 - factorized_top_k/top_10_categorical_accuracy: 0.2795 - factorized_top_k/top_50_categorical_accuracy: 0.4596 - factorized_top_k/top_100_categorical_accuracy: 0.5669 - loss: 57.6655 - regularization_loss: 0.0000e+00 - total_loss: 57.6655\n",
            "Epoch 50/50\n",
            "24/24 [==============================] - 2s 86ms/step - factorized_top_k/top_1_categorical_accuracy: 0.1404 - factorized_top_k/top_5_categorical_accuracy: 0.2132 - factorized_top_k/top_10_categorical_accuracy: 0.2530 - factorized_top_k/top_50_categorical_accuracy: 0.4397 - factorized_top_k/top_100_categorical_accuracy: 0.5589 - loss: 57.7908 - regularization_loss: 0.0000e+00 - total_loss: 57.7908\n",
            "24/24 [==============================] - 2s 86ms/step - factorized_top_k/top_1_categorical_accuracy: 0.2702 - factorized_top_k/top_5_categorical_accuracy: 0.3722 - factorized_top_k/top_10_categorical_accuracy: 0.4000 - factorized_top_k/top_50_categorical_accuracy: 0.5960 - factorized_top_k/top_100_categorical_accuracy: 0.6834 - loss: 56.5067 - regularization_loss: 0.0000e+00 - total_loss: 56.5067\n",
            "6/6 [==============================] - 1s 89ms/step - factorized_top_k/top_1_categorical_accuracy: 0.1693 - factorized_top_k/top_5_categorical_accuracy: 0.2169 - factorized_top_k/top_10_categorical_accuracy: 0.2328 - factorized_top_k/top_50_categorical_accuracy: 0.3862 - factorized_top_k/top_100_categorical_accuracy: 0.4815 - loss: 92.6315 - regularization_loss: 0.0000e+00 - total_loss: 92.6315\n",
            "Top-100 accuracy (train): 0.68.\n",
            "Top-100 accuracy (test): 0.48.\n",
            "Epoch 1/50\n",
            "24/24 [==============================] - 5s 147ms/step - factorized_top_k/top_1_categorical_accuracy: 0.0954 - factorized_top_k/top_5_categorical_accuracy: 0.0967 - factorized_top_k/top_10_categorical_accuracy: 0.0980 - factorized_top_k/top_50_categorical_accuracy: 0.1709 - factorized_top_k/top_100_categorical_accuracy: 0.2238 - loss: 94.2460 - regularization_loss: 0.0000e+00 - total_loss: 94.2460\n",
            "Epoch 2/50\n",
            "24/24 [==============================] - 2s 89ms/step - factorized_top_k/top_1_categorical_accuracy: 0.1060 - factorized_top_k/top_5_categorical_accuracy: 0.1166 - factorized_top_k/top_10_categorical_accuracy: 0.1417 - factorized_top_k/top_50_categorical_accuracy: 0.2609 - factorized_top_k/top_100_categorical_accuracy: 0.3497 - loss: 82.9578 - regularization_loss: 0.0000e+00 - total_loss: 82.9578\n",
            "Epoch 3/50\n",
            "24/24 [==============================] - 2s 88ms/step - factorized_top_k/top_1_categorical_accuracy: 0.0689 - factorized_top_k/top_5_categorical_accuracy: 0.1007 - factorized_top_k/top_10_categorical_accuracy: 0.1444 - factorized_top_k/top_50_categorical_accuracy: 0.2914 - factorized_top_k/top_100_categorical_accuracy: 0.4305 - loss: 75.2539 - regularization_loss: 0.0000e+00 - total_loss: 75.2539\n",
            "Epoch 4/50\n",
            "24/24 [==============================] - 2s 90ms/step - factorized_top_k/top_1_categorical_accuracy: 0.0874 - factorized_top_k/top_5_categorical_accuracy: 0.1166 - factorized_top_k/top_10_categorical_accuracy: 0.1497 - factorized_top_k/top_50_categorical_accuracy: 0.3629 - factorized_top_k/top_100_categorical_accuracy: 0.4821 - loss: 69.5032 - regularization_loss: 0.0000e+00 - total_loss: 69.5032\n",
            "Epoch 5/50\n",
            "24/24 [==============================] - 2s 91ms/step - factorized_top_k/top_1_categorical_accuracy: 0.1033 - factorized_top_k/top_5_categorical_accuracy: 0.1589 - factorized_top_k/top_10_categorical_accuracy: 0.2278 - factorized_top_k/top_50_categorical_accuracy: 0.4662 - factorized_top_k/top_100_categorical_accuracy: 0.5828 - loss: 67.5896 - regularization_loss: 0.0000e+00 - total_loss: 67.5896\n",
            "Epoch 6/50\n",
            "24/24 [==============================] - 4s 145ms/step - factorized_top_k/top_1_categorical_accuracy: 0.1126 - factorized_top_k/top_5_categorical_accuracy: 0.1682 - factorized_top_k/top_10_categorical_accuracy: 0.2119 - factorized_top_k/top_50_categorical_accuracy: 0.4437 - factorized_top_k/top_100_categorical_accuracy: 0.5351 - loss: 65.2064 - regularization_loss: 0.0000e+00 - total_loss: 65.2064\n",
            "Epoch 7/50\n",
            "24/24 [==============================] - 2s 88ms/step - factorized_top_k/top_1_categorical_accuracy: 0.1073 - factorized_top_k/top_5_categorical_accuracy: 0.1868 - factorized_top_k/top_10_categorical_accuracy: 0.2464 - factorized_top_k/top_50_categorical_accuracy: 0.4291 - factorized_top_k/top_100_categorical_accuracy: 0.5444 - loss: 62.8362 - regularization_loss: 0.0000e+00 - total_loss: 62.8362\n",
            "Epoch 8/50\n",
            "24/24 [==============================] - 2s 90ms/step - factorized_top_k/top_1_categorical_accuracy: 0.1126 - factorized_top_k/top_5_categorical_accuracy: 0.2093 - factorized_top_k/top_10_categorical_accuracy: 0.2503 - factorized_top_k/top_50_categorical_accuracy: 0.4662 - factorized_top_k/top_100_categorical_accuracy: 0.5497 - loss: 62.7788 - regularization_loss: 0.0000e+00 - total_loss: 62.7788\n",
            "Epoch 9/50\n",
            "24/24 [==============================] - 2s 87ms/step - factorized_top_k/top_1_categorical_accuracy: 0.1046 - factorized_top_k/top_5_categorical_accuracy: 0.2066 - factorized_top_k/top_10_categorical_accuracy: 0.2570 - factorized_top_k/top_50_categorical_accuracy: 0.4119 - factorized_top_k/top_100_categorical_accuracy: 0.5325 - loss: 61.8723 - regularization_loss: 0.0000e+00 - total_loss: 61.8723\n",
            "Epoch 10/50\n",
            "24/24 [==============================] - 2s 90ms/step - factorized_top_k/top_1_categorical_accuracy: 0.1020 - factorized_top_k/top_5_categorical_accuracy: 0.1960 - factorized_top_k/top_10_categorical_accuracy: 0.2490 - factorized_top_k/top_50_categorical_accuracy: 0.4318 - factorized_top_k/top_100_categorical_accuracy: 0.5563 - loss: 61.1671 - regularization_loss: 0.0000e+00 - total_loss: 61.1671\n",
            "Epoch 11/50\n",
            "24/24 [==============================] - 3s 136ms/step - factorized_top_k/top_1_categorical_accuracy: 0.1285 - factorized_top_k/top_5_categorical_accuracy: 0.2305 - factorized_top_k/top_10_categorical_accuracy: 0.2649 - factorized_top_k/top_50_categorical_accuracy: 0.4570 - factorized_top_k/top_100_categorical_accuracy: 0.5483 - loss: 61.2491 - regularization_loss: 0.0000e+00 - total_loss: 61.2491\n",
            "Epoch 12/50\n",
            "24/24 [==============================] - 2s 88ms/step - factorized_top_k/top_1_categorical_accuracy: 0.1377 - factorized_top_k/top_5_categorical_accuracy: 0.2238 - factorized_top_k/top_10_categorical_accuracy: 0.2662 - factorized_top_k/top_50_categorical_accuracy: 0.4556 - factorized_top_k/top_100_categorical_accuracy: 0.5510 - loss: 60.5292 - regularization_loss: 0.0000e+00 - total_loss: 60.5292\n",
            "Epoch 13/50\n",
            "24/24 [==============================] - 2s 85ms/step - factorized_top_k/top_1_categorical_accuracy: 0.1020 - factorized_top_k/top_5_categorical_accuracy: 0.2000 - factorized_top_k/top_10_categorical_accuracy: 0.2344 - factorized_top_k/top_50_categorical_accuracy: 0.4371 - factorized_top_k/top_100_categorical_accuracy: 0.5377 - loss: 59.8758 - regularization_loss: 0.0000e+00 - total_loss: 59.8758\n",
            "Epoch 14/50\n",
            "24/24 [==============================] - 2s 88ms/step - factorized_top_k/top_1_categorical_accuracy: 0.1179 - factorized_top_k/top_5_categorical_accuracy: 0.2252 - factorized_top_k/top_10_categorical_accuracy: 0.2596 - factorized_top_k/top_50_categorical_accuracy: 0.4715 - factorized_top_k/top_100_categorical_accuracy: 0.5735 - loss: 60.1079 - regularization_loss: 0.0000e+00 - total_loss: 60.1079\n",
            "Epoch 15/50\n",
            "24/24 [==============================] - 2s 88ms/step - factorized_top_k/top_1_categorical_accuracy: 0.1192 - factorized_top_k/top_5_categorical_accuracy: 0.2238 - factorized_top_k/top_10_categorical_accuracy: 0.2675 - factorized_top_k/top_50_categorical_accuracy: 0.4477 - factorized_top_k/top_100_categorical_accuracy: 0.5669 - loss: 60.1655 - regularization_loss: 0.0000e+00 - total_loss: 60.1655\n",
            "Epoch 16/50\n",
            "24/24 [==============================] - 3s 141ms/step - factorized_top_k/top_1_categorical_accuracy: 0.1377 - factorized_top_k/top_5_categorical_accuracy: 0.2238 - factorized_top_k/top_10_categorical_accuracy: 0.2689 - factorized_top_k/top_50_categorical_accuracy: 0.4596 - factorized_top_k/top_100_categorical_accuracy: 0.5656 - loss: 59.5022 - regularization_loss: 0.0000e+00 - total_loss: 59.5022\n",
            "Epoch 17/50\n",
            "24/24 [==============================] - 2s 86ms/step - factorized_top_k/top_1_categorical_accuracy: 0.1483 - factorized_top_k/top_5_categorical_accuracy: 0.2477 - factorized_top_k/top_10_categorical_accuracy: 0.2689 - factorized_top_k/top_50_categorical_accuracy: 0.4675 - factorized_top_k/top_100_categorical_accuracy: 0.5775 - loss: 59.3490 - regularization_loss: 0.0000e+00 - total_loss: 59.3490\n",
            "Epoch 18/50\n",
            "24/24 [==============================] - 2s 88ms/step - factorized_top_k/top_1_categorical_accuracy: 0.1272 - factorized_top_k/top_5_categorical_accuracy: 0.2265 - factorized_top_k/top_10_categorical_accuracy: 0.2742 - factorized_top_k/top_50_categorical_accuracy: 0.4530 - factorized_top_k/top_100_categorical_accuracy: 0.5616 - loss: 58.8499 - regularization_loss: 0.0000e+00 - total_loss: 58.8499\n",
            "Epoch 19/50\n",
            "24/24 [==============================] - 2s 89ms/step - factorized_top_k/top_1_categorical_accuracy: 0.1364 - factorized_top_k/top_5_categorical_accuracy: 0.2212 - factorized_top_k/top_10_categorical_accuracy: 0.2530 - factorized_top_k/top_50_categorical_accuracy: 0.4636 - factorized_top_k/top_100_categorical_accuracy: 0.5589 - loss: 58.8467 - regularization_loss: 0.0000e+00 - total_loss: 58.8467\n",
            "Epoch 20/50\n",
            "24/24 [==============================] - 2s 87ms/step - factorized_top_k/top_1_categorical_accuracy: 0.1245 - factorized_top_k/top_5_categorical_accuracy: 0.2212 - factorized_top_k/top_10_categorical_accuracy: 0.2795 - factorized_top_k/top_50_categorical_accuracy: 0.4490 - factorized_top_k/top_100_categorical_accuracy: 0.5536 - loss: 59.1483 - regularization_loss: 0.0000e+00 - total_loss: 59.1483\n",
            "Epoch 21/50\n",
            "24/24 [==============================] - 3s 143ms/step - factorized_top_k/top_1_categorical_accuracy: 0.1232 - factorized_top_k/top_5_categorical_accuracy: 0.2225 - factorized_top_k/top_10_categorical_accuracy: 0.2715 - factorized_top_k/top_50_categorical_accuracy: 0.4583 - factorized_top_k/top_100_categorical_accuracy: 0.5523 - loss: 59.5507 - regularization_loss: 0.0000e+00 - total_loss: 59.5507\n",
            "Epoch 22/50\n",
            "24/24 [==============================] - 2s 92ms/step - factorized_top_k/top_1_categorical_accuracy: 0.1550 - factorized_top_k/top_5_categorical_accuracy: 0.2530 - factorized_top_k/top_10_categorical_accuracy: 0.2927 - factorized_top_k/top_50_categorical_accuracy: 0.4596 - factorized_top_k/top_100_categorical_accuracy: 0.5748 - loss: 58.9048 - regularization_loss: 0.0000e+00 - total_loss: 58.9048\n",
            "Epoch 23/50\n",
            "24/24 [==============================] - 2s 87ms/step - factorized_top_k/top_1_categorical_accuracy: 0.1139 - factorized_top_k/top_5_categorical_accuracy: 0.2252 - factorized_top_k/top_10_categorical_accuracy: 0.2636 - factorized_top_k/top_50_categorical_accuracy: 0.4265 - factorized_top_k/top_100_categorical_accuracy: 0.5497 - loss: 57.8972 - regularization_loss: 0.0000e+00 - total_loss: 57.8972\n",
            "Epoch 24/50\n",
            "24/24 [==============================] - 2s 87ms/step - factorized_top_k/top_1_categorical_accuracy: 0.1483 - factorized_top_k/top_5_categorical_accuracy: 0.2265 - factorized_top_k/top_10_categorical_accuracy: 0.2609 - factorized_top_k/top_50_categorical_accuracy: 0.4715 - factorized_top_k/top_100_categorical_accuracy: 0.5656 - loss: 58.5429 - regularization_loss: 0.0000e+00 - total_loss: 58.5429\n",
            "Epoch 25/50\n",
            "24/24 [==============================] - 2s 88ms/step - factorized_top_k/top_1_categorical_accuracy: 0.1311 - factorized_top_k/top_5_categorical_accuracy: 0.2212 - factorized_top_k/top_10_categorical_accuracy: 0.2636 - factorized_top_k/top_50_categorical_accuracy: 0.4424 - factorized_top_k/top_100_categorical_accuracy: 0.5470 - loss: 58.0465 - regularization_loss: 0.0000e+00 - total_loss: 58.0465\n",
            "Epoch 26/50\n",
            "24/24 [==============================] - 3s 142ms/step - factorized_top_k/top_1_categorical_accuracy: 0.1377 - factorized_top_k/top_5_categorical_accuracy: 0.2252 - factorized_top_k/top_10_categorical_accuracy: 0.2636 - factorized_top_k/top_50_categorical_accuracy: 0.4397 - factorized_top_k/top_100_categorical_accuracy: 0.5656 - loss: 59.1870 - regularization_loss: 0.0000e+00 - total_loss: 59.1870\n",
            "Epoch 27/50\n",
            "24/24 [==============================] - 2s 89ms/step - factorized_top_k/top_1_categorical_accuracy: 0.1020 - factorized_top_k/top_5_categorical_accuracy: 0.2013 - factorized_top_k/top_10_categorical_accuracy: 0.2411 - factorized_top_k/top_50_categorical_accuracy: 0.4424 - factorized_top_k/top_100_categorical_accuracy: 0.5285 - loss: 57.5092 - regularization_loss: 0.0000e+00 - total_loss: 57.5092\n",
            "Epoch 28/50\n",
            "24/24 [==============================] - 2s 90ms/step - factorized_top_k/top_1_categorical_accuracy: 0.1391 - factorized_top_k/top_5_categorical_accuracy: 0.2212 - factorized_top_k/top_10_categorical_accuracy: 0.2583 - factorized_top_k/top_50_categorical_accuracy: 0.4530 - factorized_top_k/top_100_categorical_accuracy: 0.5748 - loss: 57.6312 - regularization_loss: 0.0000e+00 - total_loss: 57.6312\n",
            "Epoch 29/50\n",
            "24/24 [==============================] - 2s 86ms/step - factorized_top_k/top_1_categorical_accuracy: 0.1430 - factorized_top_k/top_5_categorical_accuracy: 0.2344 - factorized_top_k/top_10_categorical_accuracy: 0.2715 - factorized_top_k/top_50_categorical_accuracy: 0.4623 - factorized_top_k/top_100_categorical_accuracy: 0.5510 - loss: 58.6054 - regularization_loss: 0.0000e+00 - total_loss: 58.6054\n",
            "Epoch 30/50\n",
            "24/24 [==============================] - 2s 96ms/step - factorized_top_k/top_1_categorical_accuracy: 0.1351 - factorized_top_k/top_5_categorical_accuracy: 0.2225 - factorized_top_k/top_10_categorical_accuracy: 0.2636 - factorized_top_k/top_50_categorical_accuracy: 0.4623 - factorized_top_k/top_100_categorical_accuracy: 0.5563 - loss: 58.1450 - regularization_loss: 0.0000e+00 - total_loss: 58.1450\n",
            "Epoch 31/50\n",
            "24/24 [==============================] - 4s 144ms/step - factorized_top_k/top_1_categorical_accuracy: 0.1589 - factorized_top_k/top_5_categorical_accuracy: 0.2477 - factorized_top_k/top_10_categorical_accuracy: 0.2808 - factorized_top_k/top_50_categorical_accuracy: 0.4821 - factorized_top_k/top_100_categorical_accuracy: 0.5881 - loss: 58.2659 - regularization_loss: 0.0000e+00 - total_loss: 58.2659\n",
            "Epoch 32/50\n",
            "24/24 [==============================] - 4s 145ms/step - factorized_top_k/top_1_categorical_accuracy: 0.1364 - factorized_top_k/top_5_categorical_accuracy: 0.2053 - factorized_top_k/top_10_categorical_accuracy: 0.2649 - factorized_top_k/top_50_categorical_accuracy: 0.4570 - factorized_top_k/top_100_categorical_accuracy: 0.5629 - loss: 58.5956 - regularization_loss: 0.0000e+00 - total_loss: 58.5956\n",
            "Epoch 33/50\n",
            "24/24 [==============================] - 3s 111ms/step - factorized_top_k/top_1_categorical_accuracy: 0.1470 - factorized_top_k/top_5_categorical_accuracy: 0.2437 - factorized_top_k/top_10_categorical_accuracy: 0.2901 - factorized_top_k/top_50_categorical_accuracy: 0.4689 - factorized_top_k/top_100_categorical_accuracy: 0.5987 - loss: 58.5359 - regularization_loss: 0.0000e+00 - total_loss: 58.5359\n",
            "Epoch 34/50\n",
            "24/24 [==============================] - 2s 89ms/step - factorized_top_k/top_1_categorical_accuracy: 0.1536 - factorized_top_k/top_5_categorical_accuracy: 0.2344 - factorized_top_k/top_10_categorical_accuracy: 0.2861 - factorized_top_k/top_50_categorical_accuracy: 0.4702 - factorized_top_k/top_100_categorical_accuracy: 0.5748 - loss: 58.2010 - regularization_loss: 0.0000e+00 - total_loss: 58.2010\n",
            "Epoch 35/50\n",
            "24/24 [==============================] - 4s 151ms/step - factorized_top_k/top_1_categorical_accuracy: 0.1285 - factorized_top_k/top_5_categorical_accuracy: 0.2199 - factorized_top_k/top_10_categorical_accuracy: 0.2662 - factorized_top_k/top_50_categorical_accuracy: 0.4371 - factorized_top_k/top_100_categorical_accuracy: 0.5325 - loss: 57.3454 - regularization_loss: 0.0000e+00 - total_loss: 57.3454\n",
            "Epoch 36/50\n",
            "24/24 [==============================] - 2s 91ms/step - factorized_top_k/top_1_categorical_accuracy: 0.1205 - factorized_top_k/top_5_categorical_accuracy: 0.2040 - factorized_top_k/top_10_categorical_accuracy: 0.2543 - factorized_top_k/top_50_categorical_accuracy: 0.4477 - factorized_top_k/top_100_categorical_accuracy: 0.5788 - loss: 57.9408 - regularization_loss: 0.0000e+00 - total_loss: 57.9408\n",
            "Epoch 37/50\n",
            "24/24 [==============================] - 2s 87ms/step - factorized_top_k/top_1_categorical_accuracy: 0.1311 - factorized_top_k/top_5_categorical_accuracy: 0.2278 - factorized_top_k/top_10_categorical_accuracy: 0.2675 - factorized_top_k/top_50_categorical_accuracy: 0.4702 - factorized_top_k/top_100_categorical_accuracy: 0.5748 - loss: 58.0171 - regularization_loss: 0.0000e+00 - total_loss: 58.0171\n",
            "Epoch 38/50\n",
            "24/24 [==============================] - 2s 87ms/step - factorized_top_k/top_1_categorical_accuracy: 0.1457 - factorized_top_k/top_5_categorical_accuracy: 0.2411 - factorized_top_k/top_10_categorical_accuracy: 0.2848 - factorized_top_k/top_50_categorical_accuracy: 0.4530 - factorized_top_k/top_100_categorical_accuracy: 0.5563 - loss: 57.2900 - regularization_loss: 0.0000e+00 - total_loss: 57.2900\n",
            "Epoch 39/50\n",
            "24/24 [==============================] - 2s 88ms/step - factorized_top_k/top_1_categorical_accuracy: 0.1377 - factorized_top_k/top_5_categorical_accuracy: 0.2371 - factorized_top_k/top_10_categorical_accuracy: 0.2755 - factorized_top_k/top_50_categorical_accuracy: 0.4742 - factorized_top_k/top_100_categorical_accuracy: 0.5788 - loss: 57.8711 - regularization_loss: 0.0000e+00 - total_loss: 57.8711\n",
            "Epoch 40/50\n",
            "24/24 [==============================] - 3s 143ms/step - factorized_top_k/top_1_categorical_accuracy: 0.1483 - factorized_top_k/top_5_categorical_accuracy: 0.2331 - factorized_top_k/top_10_categorical_accuracy: 0.2834 - factorized_top_k/top_50_categorical_accuracy: 0.4583 - factorized_top_k/top_100_categorical_accuracy: 0.5722 - loss: 59.4890 - regularization_loss: 0.0000e+00 - total_loss: 59.4890\n",
            "Epoch 41/50\n",
            "24/24 [==============================] - 2s 88ms/step - factorized_top_k/top_1_categorical_accuracy: 0.1536 - factorized_top_k/top_5_categorical_accuracy: 0.2424 - factorized_top_k/top_10_categorical_accuracy: 0.2940 - factorized_top_k/top_50_categorical_accuracy: 0.4808 - factorized_top_k/top_100_categorical_accuracy: 0.5722 - loss: 57.6263 - regularization_loss: 0.0000e+00 - total_loss: 57.6263\n",
            "Epoch 42/50\n",
            "24/24 [==============================] - 2s 90ms/step - factorized_top_k/top_1_categorical_accuracy: 0.1550 - factorized_top_k/top_5_categorical_accuracy: 0.2464 - factorized_top_k/top_10_categorical_accuracy: 0.2834 - factorized_top_k/top_50_categorical_accuracy: 0.4570 - factorized_top_k/top_100_categorical_accuracy: 0.5881 - loss: 57.9642 - regularization_loss: 0.0000e+00 - total_loss: 57.9642\n",
            "Epoch 43/50\n",
            "24/24 [==============================] - 2s 89ms/step - factorized_top_k/top_1_categorical_accuracy: 0.1430 - factorized_top_k/top_5_categorical_accuracy: 0.2119 - factorized_top_k/top_10_categorical_accuracy: 0.2503 - factorized_top_k/top_50_categorical_accuracy: 0.4225 - factorized_top_k/top_100_categorical_accuracy: 0.5510 - loss: 57.7148 - regularization_loss: 0.0000e+00 - total_loss: 57.7148\n",
            "Epoch 44/50\n",
            "24/24 [==============================] - 2s 86ms/step - factorized_top_k/top_1_categorical_accuracy: 0.1099 - factorized_top_k/top_5_categorical_accuracy: 0.2238 - factorized_top_k/top_10_categorical_accuracy: 0.2768 - factorized_top_k/top_50_categorical_accuracy: 0.4755 - factorized_top_k/top_100_categorical_accuracy: 0.5881 - loss: 57.3289 - regularization_loss: 0.0000e+00 - total_loss: 57.3289\n",
            "Epoch 45/50\n",
            "24/24 [==============================] - 4s 149ms/step - factorized_top_k/top_1_categorical_accuracy: 0.1563 - factorized_top_k/top_5_categorical_accuracy: 0.2490 - factorized_top_k/top_10_categorical_accuracy: 0.3046 - factorized_top_k/top_50_categorical_accuracy: 0.4768 - factorized_top_k/top_100_categorical_accuracy: 0.5629 - loss: 57.9471 - regularization_loss: 0.0000e+00 - total_loss: 57.9471\n",
            "Epoch 46/50\n",
            "24/24 [==============================] - 2s 90ms/step - factorized_top_k/top_1_categorical_accuracy: 0.1391 - factorized_top_k/top_5_categorical_accuracy: 0.2252 - factorized_top_k/top_10_categorical_accuracy: 0.2715 - factorized_top_k/top_50_categorical_accuracy: 0.4490 - factorized_top_k/top_100_categorical_accuracy: 0.5510 - loss: 57.4937 - regularization_loss: 0.0000e+00 - total_loss: 57.4937\n",
            "Epoch 47/50\n",
            "24/24 [==============================] - 2s 90ms/step - factorized_top_k/top_1_categorical_accuracy: 0.1523 - factorized_top_k/top_5_categorical_accuracy: 0.2331 - factorized_top_k/top_10_categorical_accuracy: 0.2728 - factorized_top_k/top_50_categorical_accuracy: 0.5060 - factorized_top_k/top_100_categorical_accuracy: 0.5815 - loss: 57.2493 - regularization_loss: 0.0000e+00 - total_loss: 57.2493\n",
            "Epoch 48/50\n",
            "24/24 [==============================] - 2s 88ms/step - factorized_top_k/top_1_categorical_accuracy: 0.1338 - factorized_top_k/top_5_categorical_accuracy: 0.2238 - factorized_top_k/top_10_categorical_accuracy: 0.2636 - factorized_top_k/top_50_categorical_accuracy: 0.4609 - factorized_top_k/top_100_categorical_accuracy: 0.5642 - loss: 57.4269 - regularization_loss: 0.0000e+00 - total_loss: 57.4269\n",
            "Epoch 49/50\n",
            "24/24 [==============================] - 2s 89ms/step - factorized_top_k/top_1_categorical_accuracy: 0.1245 - factorized_top_k/top_5_categorical_accuracy: 0.2146 - factorized_top_k/top_10_categorical_accuracy: 0.2636 - factorized_top_k/top_50_categorical_accuracy: 0.4490 - factorized_top_k/top_100_categorical_accuracy: 0.5497 - loss: 57.5685 - regularization_loss: 0.0000e+00 - total_loss: 57.5685\n",
            "Epoch 50/50\n",
            "24/24 [==============================] - 4s 145ms/step - factorized_top_k/top_1_categorical_accuracy: 0.1444 - factorized_top_k/top_5_categorical_accuracy: 0.2225 - factorized_top_k/top_10_categorical_accuracy: 0.2596 - factorized_top_k/top_50_categorical_accuracy: 0.4517 - factorized_top_k/top_100_categorical_accuracy: 0.5669 - loss: 57.7877 - regularization_loss: 0.0000e+00 - total_loss: 57.7877\n",
            "24/24 [==============================] - 3s 90ms/step - factorized_top_k/top_1_categorical_accuracy: 0.1020 - factorized_top_k/top_5_categorical_accuracy: 0.1894 - factorized_top_k/top_10_categorical_accuracy: 0.2397 - factorized_top_k/top_50_categorical_accuracy: 0.4914 - factorized_top_k/top_100_categorical_accuracy: 0.5735 - loss: 56.4571 - regularization_loss: 0.0000e+00 - total_loss: 56.4571\n",
            "6/6 [==============================] - 1s 91ms/step - factorized_top_k/top_1_categorical_accuracy: 0.0423 - factorized_top_k/top_5_categorical_accuracy: 0.0847 - factorized_top_k/top_10_categorical_accuracy: 0.1217 - factorized_top_k/top_50_categorical_accuracy: 0.2593 - factorized_top_k/top_100_categorical_accuracy: 0.3810 - loss: 91.4217 - regularization_loss: 0.0000e+00 - total_loss: 91.4217\n",
            "Top-100 accuracy (train): 0.57.\n",
            "Top-100 accuracy (test): 0.38.\n",
            "Epoch 1/50\n",
            "24/24 [==============================] - 4s 91ms/step - factorized_top_k/top_1_categorical_accuracy: 0.0967 - factorized_top_k/top_5_categorical_accuracy: 0.0993 - factorized_top_k/top_10_categorical_accuracy: 0.1033 - factorized_top_k/top_50_categorical_accuracy: 0.1656 - factorized_top_k/top_100_categorical_accuracy: 0.2132 - loss: 94.1408 - regularization_loss: 0.0000e+00 - total_loss: 94.1408\n",
            "Epoch 2/50\n",
            "24/24 [==============================] - 2s 96ms/step - factorized_top_k/top_1_categorical_accuracy: 0.0993 - factorized_top_k/top_5_categorical_accuracy: 0.1113 - factorized_top_k/top_10_categorical_accuracy: 0.1325 - factorized_top_k/top_50_categorical_accuracy: 0.2530 - factorized_top_k/top_100_categorical_accuracy: 0.3642 - loss: 82.9905 - regularization_loss: 0.0000e+00 - total_loss: 82.9905\n",
            "Epoch 3/50\n",
            "24/24 [==============================] - 4s 148ms/step - factorized_top_k/top_1_categorical_accuracy: 0.0980 - factorized_top_k/top_5_categorical_accuracy: 0.1417 - factorized_top_k/top_10_categorical_accuracy: 0.1762 - factorized_top_k/top_50_categorical_accuracy: 0.3245 - factorized_top_k/top_100_categorical_accuracy: 0.4450 - loss: 75.6741 - regularization_loss: 0.0000e+00 - total_loss: 75.6741\n",
            "Epoch 4/50\n",
            "24/24 [==============================] - 2s 88ms/step - factorized_top_k/top_1_categorical_accuracy: 0.0954 - factorized_top_k/top_5_categorical_accuracy: 0.1364 - factorized_top_k/top_10_categorical_accuracy: 0.1642 - factorized_top_k/top_50_categorical_accuracy: 0.3801 - factorized_top_k/top_100_categorical_accuracy: 0.4940 - loss: 69.9744 - regularization_loss: 0.0000e+00 - total_loss: 69.9744\n",
            "Epoch 5/50\n",
            "24/24 [==============================] - 2s 92ms/step - factorized_top_k/top_1_categorical_accuracy: 0.1007 - factorized_top_k/top_5_categorical_accuracy: 0.1536 - factorized_top_k/top_10_categorical_accuracy: 0.2172 - factorized_top_k/top_50_categorical_accuracy: 0.4437 - factorized_top_k/top_100_categorical_accuracy: 0.5470 - loss: 67.8835 - regularization_loss: 0.0000e+00 - total_loss: 67.8835\n",
            "Epoch 6/50\n",
            "24/24 [==============================] - 2s 91ms/step - factorized_top_k/top_1_categorical_accuracy: 0.1007 - factorized_top_k/top_5_categorical_accuracy: 0.1748 - factorized_top_k/top_10_categorical_accuracy: 0.2172 - factorized_top_k/top_50_categorical_accuracy: 0.4318 - factorized_top_k/top_100_categorical_accuracy: 0.5536 - loss: 66.2129 - regularization_loss: 0.0000e+00 - total_loss: 66.2129\n",
            "Epoch 7/50\n",
            "24/24 [==============================] - 2s 95ms/step - factorized_top_k/top_1_categorical_accuracy: 0.1139 - factorized_top_k/top_5_categorical_accuracy: 0.1921 - factorized_top_k/top_10_categorical_accuracy: 0.2464 - factorized_top_k/top_50_categorical_accuracy: 0.4371 - factorized_top_k/top_100_categorical_accuracy: 0.5563 - loss: 63.5052 - regularization_loss: 0.0000e+00 - total_loss: 63.5052\n",
            "Epoch 8/50\n",
            "24/24 [==============================] - 5s 225ms/step - factorized_top_k/top_1_categorical_accuracy: 0.1007 - factorized_top_k/top_5_categorical_accuracy: 0.1881 - factorized_top_k/top_10_categorical_accuracy: 0.2358 - factorized_top_k/top_50_categorical_accuracy: 0.4424 - factorized_top_k/top_100_categorical_accuracy: 0.5457 - loss: 63.5139 - regularization_loss: 0.0000e+00 - total_loss: 63.5139\n",
            "Epoch 9/50\n",
            "24/24 [==============================] - 4s 183ms/step - factorized_top_k/top_1_categorical_accuracy: 0.1192 - factorized_top_k/top_5_categorical_accuracy: 0.2146 - factorized_top_k/top_10_categorical_accuracy: 0.2609 - factorized_top_k/top_50_categorical_accuracy: 0.4225 - factorized_top_k/top_100_categorical_accuracy: 0.5391 - loss: 62.3311 - regularization_loss: 0.0000e+00 - total_loss: 62.3311\n",
            "Epoch 10/50\n",
            "24/24 [==============================] - 5s 198ms/step - factorized_top_k/top_1_categorical_accuracy: 0.1258 - factorized_top_k/top_5_categorical_accuracy: 0.2106 - factorized_top_k/top_10_categorical_accuracy: 0.2530 - factorized_top_k/top_50_categorical_accuracy: 0.4291 - factorized_top_k/top_100_categorical_accuracy: 0.5417 - loss: 61.4454 - regularization_loss: 0.0000e+00 - total_loss: 61.4454\n",
            "Epoch 11/50\n",
            "24/24 [==============================] - 7s 272ms/step - factorized_top_k/top_1_categorical_accuracy: 0.1510 - factorized_top_k/top_5_categorical_accuracy: 0.2265 - factorized_top_k/top_10_categorical_accuracy: 0.2623 - factorized_top_k/top_50_categorical_accuracy: 0.4636 - factorized_top_k/top_100_categorical_accuracy: 0.5629 - loss: 61.8602 - regularization_loss: 0.0000e+00 - total_loss: 61.8602\n",
            "Epoch 12/50\n",
            "24/24 [==============================] - 4s 184ms/step - factorized_top_k/top_1_categorical_accuracy: 0.1099 - factorized_top_k/top_5_categorical_accuracy: 0.2066 - factorized_top_k/top_10_categorical_accuracy: 0.2424 - factorized_top_k/top_50_categorical_accuracy: 0.4384 - factorized_top_k/top_100_categorical_accuracy: 0.5457 - loss: 61.3130 - regularization_loss: 0.0000e+00 - total_loss: 61.3130\n",
            "Epoch 13/50\n",
            "24/24 [==============================] - 2s 91ms/step - factorized_top_k/top_1_categorical_accuracy: 0.1152 - factorized_top_k/top_5_categorical_accuracy: 0.2026 - factorized_top_k/top_10_categorical_accuracy: 0.2424 - factorized_top_k/top_50_categorical_accuracy: 0.4318 - factorized_top_k/top_100_categorical_accuracy: 0.5377 - loss: 60.5765 - regularization_loss: 0.0000e+00 - total_loss: 60.5765\n",
            "Epoch 14/50\n",
            "24/24 [==============================] - 2s 103ms/step - factorized_top_k/top_1_categorical_accuracy: 0.1232 - factorized_top_k/top_5_categorical_accuracy: 0.2238 - factorized_top_k/top_10_categorical_accuracy: 0.2675 - factorized_top_k/top_50_categorical_accuracy: 0.4397 - factorized_top_k/top_100_categorical_accuracy: 0.5748 - loss: 60.6239 - regularization_loss: 0.0000e+00 - total_loss: 60.6239\n",
            "Epoch 15/50\n",
            "24/24 [==============================] - 3s 141ms/step - factorized_top_k/top_1_categorical_accuracy: 0.1404 - factorized_top_k/top_5_categorical_accuracy: 0.2397 - factorized_top_k/top_10_categorical_accuracy: 0.2808 - factorized_top_k/top_50_categorical_accuracy: 0.4503 - factorized_top_k/top_100_categorical_accuracy: 0.5695 - loss: 60.6235 - regularization_loss: 0.0000e+00 - total_loss: 60.6235\n",
            "Epoch 16/50\n",
            "24/24 [==============================] - 2s 90ms/step - factorized_top_k/top_1_categorical_accuracy: 0.1523 - factorized_top_k/top_5_categorical_accuracy: 0.2397 - factorized_top_k/top_10_categorical_accuracy: 0.2834 - factorized_top_k/top_50_categorical_accuracy: 0.4530 - factorized_top_k/top_100_categorical_accuracy: 0.5801 - loss: 60.1412 - regularization_loss: 0.0000e+00 - total_loss: 60.1412\n",
            "Epoch 17/50\n",
            "24/24 [==============================] - 2s 91ms/step - factorized_top_k/top_1_categorical_accuracy: 0.1603 - factorized_top_k/top_5_categorical_accuracy: 0.2609 - factorized_top_k/top_10_categorical_accuracy: 0.2821 - factorized_top_k/top_50_categorical_accuracy: 0.4795 - factorized_top_k/top_100_categorical_accuracy: 0.5815 - loss: 59.8305 - regularization_loss: 0.0000e+00 - total_loss: 59.8305\n",
            "Epoch 18/50\n",
            "24/24 [==============================] - 2s 95ms/step - factorized_top_k/top_1_categorical_accuracy: 0.1311 - factorized_top_k/top_5_categorical_accuracy: 0.2119 - factorized_top_k/top_10_categorical_accuracy: 0.2583 - factorized_top_k/top_50_categorical_accuracy: 0.4397 - factorized_top_k/top_100_categorical_accuracy: 0.5483 - loss: 59.1286 - regularization_loss: 0.0000e+00 - total_loss: 59.1286\n",
            "Epoch 19/50\n",
            "24/24 [==============================] - 3s 105ms/step - factorized_top_k/top_1_categorical_accuracy: 0.1272 - factorized_top_k/top_5_categorical_accuracy: 0.2013 - factorized_top_k/top_10_categorical_accuracy: 0.2450 - factorized_top_k/top_50_categorical_accuracy: 0.4397 - factorized_top_k/top_100_categorical_accuracy: 0.5457 - loss: 59.1620 - regularization_loss: 0.0000e+00 - total_loss: 59.1620\n",
            "Epoch 20/50\n",
            "24/24 [==============================] - 2s 89ms/step - factorized_top_k/top_1_categorical_accuracy: 0.1192 - factorized_top_k/top_5_categorical_accuracy: 0.2318 - factorized_top_k/top_10_categorical_accuracy: 0.2874 - factorized_top_k/top_50_categorical_accuracy: 0.4477 - factorized_top_k/top_100_categorical_accuracy: 0.5377 - loss: 59.3226 - regularization_loss: 0.0000e+00 - total_loss: 59.3226\n",
            "Epoch 21/50\n",
            "24/24 [==============================] - 2s 91ms/step - factorized_top_k/top_1_categorical_accuracy: 0.1285 - factorized_top_k/top_5_categorical_accuracy: 0.2146 - factorized_top_k/top_10_categorical_accuracy: 0.2636 - factorized_top_k/top_50_categorical_accuracy: 0.4490 - factorized_top_k/top_100_categorical_accuracy: 0.5497 - loss: 59.8396 - regularization_loss: 0.0000e+00 - total_loss: 59.8396\n",
            "Epoch 22/50\n",
            "24/24 [==============================] - 2s 92ms/step - factorized_top_k/top_1_categorical_accuracy: 0.1139 - factorized_top_k/top_5_categorical_accuracy: 0.2238 - factorized_top_k/top_10_categorical_accuracy: 0.2623 - factorized_top_k/top_50_categorical_accuracy: 0.4437 - factorized_top_k/top_100_categorical_accuracy: 0.5709 - loss: 59.1216 - regularization_loss: 0.0000e+00 - total_loss: 59.1216\n",
            "Epoch 23/50\n",
            "24/24 [==============================] - 2s 92ms/step - factorized_top_k/top_1_categorical_accuracy: 0.1152 - factorized_top_k/top_5_categorical_accuracy: 0.2212 - factorized_top_k/top_10_categorical_accuracy: 0.2570 - factorized_top_k/top_50_categorical_accuracy: 0.4331 - factorized_top_k/top_100_categorical_accuracy: 0.5563 - loss: 58.1134 - regularization_loss: 0.0000e+00 - total_loss: 58.1134\n",
            "Epoch 24/50\n",
            "24/24 [==============================] - 3s 146ms/step - factorized_top_k/top_1_categorical_accuracy: 0.1483 - factorized_top_k/top_5_categorical_accuracy: 0.2305 - factorized_top_k/top_10_categorical_accuracy: 0.2609 - factorized_top_k/top_50_categorical_accuracy: 0.4596 - factorized_top_k/top_100_categorical_accuracy: 0.5735 - loss: 58.8839 - regularization_loss: 0.0000e+00 - total_loss: 58.8839\n",
            "Epoch 25/50\n",
            "24/24 [==============================] - 2s 90ms/step - factorized_top_k/top_1_categorical_accuracy: 0.1430 - factorized_top_k/top_5_categorical_accuracy: 0.2305 - factorized_top_k/top_10_categorical_accuracy: 0.2675 - factorized_top_k/top_50_categorical_accuracy: 0.4411 - factorized_top_k/top_100_categorical_accuracy: 0.5483 - loss: 58.2775 - regularization_loss: 0.0000e+00 - total_loss: 58.2775\n",
            "Epoch 26/50\n",
            "24/24 [==============================] - 2s 90ms/step - factorized_top_k/top_1_categorical_accuracy: 0.1325 - factorized_top_k/top_5_categorical_accuracy: 0.2278 - factorized_top_k/top_10_categorical_accuracy: 0.2755 - factorized_top_k/top_50_categorical_accuracy: 0.4649 - factorized_top_k/top_100_categorical_accuracy: 0.5709 - loss: 59.7321 - regularization_loss: 0.0000e+00 - total_loss: 59.7321\n",
            "Epoch 27/50\n",
            "24/24 [==============================] - 2s 89ms/step - factorized_top_k/top_1_categorical_accuracy: 0.1060 - factorized_top_k/top_5_categorical_accuracy: 0.2093 - factorized_top_k/top_10_categorical_accuracy: 0.2556 - factorized_top_k/top_50_categorical_accuracy: 0.4477 - factorized_top_k/top_100_categorical_accuracy: 0.5377 - loss: 57.5312 - regularization_loss: 0.0000e+00 - total_loss: 57.5312\n",
            "Epoch 28/50\n",
            "24/24 [==============================] - 2s 92ms/step - factorized_top_k/top_1_categorical_accuracy: 0.1205 - factorized_top_k/top_5_categorical_accuracy: 0.2132 - factorized_top_k/top_10_categorical_accuracy: 0.2490 - factorized_top_k/top_50_categorical_accuracy: 0.4358 - factorized_top_k/top_100_categorical_accuracy: 0.5629 - loss: 57.7991 - regularization_loss: 0.0000e+00 - total_loss: 57.7991\n",
            "Epoch 29/50\n",
            "24/24 [==============================] - 3s 141ms/step - factorized_top_k/top_1_categorical_accuracy: 0.1351 - factorized_top_k/top_5_categorical_accuracy: 0.2238 - factorized_top_k/top_10_categorical_accuracy: 0.2834 - factorized_top_k/top_50_categorical_accuracy: 0.4609 - factorized_top_k/top_100_categorical_accuracy: 0.5483 - loss: 58.8041 - regularization_loss: 0.0000e+00 - total_loss: 58.8041\n",
            "Epoch 30/50\n",
            "24/24 [==============================] - 2s 92ms/step - factorized_top_k/top_1_categorical_accuracy: 0.1391 - factorized_top_k/top_5_categorical_accuracy: 0.2331 - factorized_top_k/top_10_categorical_accuracy: 0.2715 - factorized_top_k/top_50_categorical_accuracy: 0.4755 - factorized_top_k/top_100_categorical_accuracy: 0.5695 - loss: 58.2556 - regularization_loss: 0.0000e+00 - total_loss: 58.2556\n",
            "Epoch 31/50\n",
            "24/24 [==============================] - 2s 91ms/step - factorized_top_k/top_1_categorical_accuracy: 0.1351 - factorized_top_k/top_5_categorical_accuracy: 0.2437 - factorized_top_k/top_10_categorical_accuracy: 0.2821 - factorized_top_k/top_50_categorical_accuracy: 0.4503 - factorized_top_k/top_100_categorical_accuracy: 0.5629 - loss: 58.2940 - regularization_loss: 0.0000e+00 - total_loss: 58.2940\n",
            "Epoch 32/50\n",
            "24/24 [==============================] - 2s 92ms/step - factorized_top_k/top_1_categorical_accuracy: 0.1470 - factorized_top_k/top_5_categorical_accuracy: 0.2199 - factorized_top_k/top_10_categorical_accuracy: 0.2755 - factorized_top_k/top_50_categorical_accuracy: 0.4477 - factorized_top_k/top_100_categorical_accuracy: 0.5642 - loss: 58.6832 - regularization_loss: 0.0000e+00 - total_loss: 58.6832\n",
            "Epoch 33/50\n",
            "24/24 [==============================] - 2s 101ms/step - factorized_top_k/top_1_categorical_accuracy: 0.1629 - factorized_top_k/top_5_categorical_accuracy: 0.2437 - factorized_top_k/top_10_categorical_accuracy: 0.3007 - factorized_top_k/top_50_categorical_accuracy: 0.4768 - factorized_top_k/top_100_categorical_accuracy: 0.5974 - loss: 58.7927 - regularization_loss: 0.0000e+00 - total_loss: 58.7927\n",
            "Epoch 34/50\n",
            "24/24 [==============================] - 4s 148ms/step - factorized_top_k/top_1_categorical_accuracy: 0.1563 - factorized_top_k/top_5_categorical_accuracy: 0.2424 - factorized_top_k/top_10_categorical_accuracy: 0.2874 - factorized_top_k/top_50_categorical_accuracy: 0.4623 - factorized_top_k/top_100_categorical_accuracy: 0.5762 - loss: 58.1168 - regularization_loss: 0.0000e+00 - total_loss: 58.1168\n",
            "Epoch 35/50\n",
            "24/24 [==============================] - 2s 90ms/step - factorized_top_k/top_1_categorical_accuracy: 0.1576 - factorized_top_k/top_5_categorical_accuracy: 0.2344 - factorized_top_k/top_10_categorical_accuracy: 0.2742 - factorized_top_k/top_50_categorical_accuracy: 0.4411 - factorized_top_k/top_100_categorical_accuracy: 0.5470 - loss: 57.5121 - regularization_loss: 0.0000e+00 - total_loss: 57.5121\n",
            "Epoch 36/50\n",
            "24/24 [==============================] - 2s 91ms/step - factorized_top_k/top_1_categorical_accuracy: 0.1285 - factorized_top_k/top_5_categorical_accuracy: 0.2291 - factorized_top_k/top_10_categorical_accuracy: 0.2742 - factorized_top_k/top_50_categorical_accuracy: 0.4702 - factorized_top_k/top_100_categorical_accuracy: 0.5921 - loss: 58.0936 - regularization_loss: 0.0000e+00 - total_loss: 58.0936\n",
            "Epoch 37/50\n",
            "24/24 [==============================] - 2s 94ms/step - factorized_top_k/top_1_categorical_accuracy: 0.1232 - factorized_top_k/top_5_categorical_accuracy: 0.2119 - factorized_top_k/top_10_categorical_accuracy: 0.2649 - factorized_top_k/top_50_categorical_accuracy: 0.4609 - factorized_top_k/top_100_categorical_accuracy: 0.5642 - loss: 58.1488 - regularization_loss: 0.0000e+00 - total_loss: 58.1488\n",
            "Epoch 38/50\n",
            "24/24 [==============================] - 3s 110ms/step - factorized_top_k/top_1_categorical_accuracy: 0.1298 - factorized_top_k/top_5_categorical_accuracy: 0.2265 - factorized_top_k/top_10_categorical_accuracy: 0.2755 - factorized_top_k/top_50_categorical_accuracy: 0.4503 - factorized_top_k/top_100_categorical_accuracy: 0.5457 - loss: 57.4085 - regularization_loss: 0.0000e+00 - total_loss: 57.4085\n",
            "Epoch 39/50\n",
            "24/24 [==============================] - 4s 174ms/step - factorized_top_k/top_1_categorical_accuracy: 0.1430 - factorized_top_k/top_5_categorical_accuracy: 0.2397 - factorized_top_k/top_10_categorical_accuracy: 0.2834 - factorized_top_k/top_50_categorical_accuracy: 0.4755 - factorized_top_k/top_100_categorical_accuracy: 0.5775 - loss: 57.8950 - regularization_loss: 0.0000e+00 - total_loss: 57.8950\n",
            "Epoch 40/50\n",
            "24/24 [==============================] - 3s 118ms/step - factorized_top_k/top_1_categorical_accuracy: 0.1523 - factorized_top_k/top_5_categorical_accuracy: 0.2265 - factorized_top_k/top_10_categorical_accuracy: 0.2755 - factorized_top_k/top_50_categorical_accuracy: 0.4742 - factorized_top_k/top_100_categorical_accuracy: 0.5815 - loss: 59.5997 - regularization_loss: 0.0000e+00 - total_loss: 59.5997\n",
            "Epoch 41/50\n",
            "24/24 [==============================] - 2s 91ms/step - factorized_top_k/top_1_categorical_accuracy: 0.1510 - factorized_top_k/top_5_categorical_accuracy: 0.2344 - factorized_top_k/top_10_categorical_accuracy: 0.2848 - factorized_top_k/top_50_categorical_accuracy: 0.4662 - factorized_top_k/top_100_categorical_accuracy: 0.5616 - loss: 57.7484 - regularization_loss: 0.0000e+00 - total_loss: 57.7484\n",
            "Epoch 42/50\n",
            "24/24 [==============================] - 2s 92ms/step - factorized_top_k/top_1_categorical_accuracy: 0.1444 - factorized_top_k/top_5_categorical_accuracy: 0.2238 - factorized_top_k/top_10_categorical_accuracy: 0.2728 - factorized_top_k/top_50_categorical_accuracy: 0.4464 - factorized_top_k/top_100_categorical_accuracy: 0.5669 - loss: 58.0783 - regularization_loss: 0.0000e+00 - total_loss: 58.0783\n",
            "Epoch 43/50\n",
            "24/24 [==============================] - 4s 145ms/step - factorized_top_k/top_1_categorical_accuracy: 0.1272 - factorized_top_k/top_5_categorical_accuracy: 0.2040 - factorized_top_k/top_10_categorical_accuracy: 0.2530 - factorized_top_k/top_50_categorical_accuracy: 0.4477 - factorized_top_k/top_100_categorical_accuracy: 0.5550 - loss: 57.7298 - regularization_loss: 0.0000e+00 - total_loss: 57.7298\n",
            "Epoch 44/50\n",
            "24/24 [==============================] - 2s 91ms/step - factorized_top_k/top_1_categorical_accuracy: 0.1272 - factorized_top_k/top_5_categorical_accuracy: 0.2318 - factorized_top_k/top_10_categorical_accuracy: 0.2861 - factorized_top_k/top_50_categorical_accuracy: 0.4861 - factorized_top_k/top_100_categorical_accuracy: 0.5894 - loss: 57.3210 - regularization_loss: 0.0000e+00 - total_loss: 57.3210\n",
            "Epoch 45/50\n",
            "24/24 [==============================] - 2s 90ms/step - factorized_top_k/top_1_categorical_accuracy: 0.1576 - factorized_top_k/top_5_categorical_accuracy: 0.2556 - factorized_top_k/top_10_categorical_accuracy: 0.3033 - factorized_top_k/top_50_categorical_accuracy: 0.4728 - factorized_top_k/top_100_categorical_accuracy: 0.5722 - loss: 58.0567 - regularization_loss: 0.0000e+00 - total_loss: 58.0567\n",
            "Epoch 46/50\n",
            "24/24 [==============================] - 2s 99ms/step - factorized_top_k/top_1_categorical_accuracy: 0.1364 - factorized_top_k/top_5_categorical_accuracy: 0.2119 - factorized_top_k/top_10_categorical_accuracy: 0.2649 - factorized_top_k/top_50_categorical_accuracy: 0.4437 - factorized_top_k/top_100_categorical_accuracy: 0.5536 - loss: 57.6017 - regularization_loss: 0.0000e+00 - total_loss: 57.6017\n",
            "Epoch 47/50\n",
            "24/24 [==============================] - 2s 90ms/step - factorized_top_k/top_1_categorical_accuracy: 0.1470 - factorized_top_k/top_5_categorical_accuracy: 0.2291 - factorized_top_k/top_10_categorical_accuracy: 0.2623 - factorized_top_k/top_50_categorical_accuracy: 0.4874 - factorized_top_k/top_100_categorical_accuracy: 0.5682 - loss: 57.3711 - regularization_loss: 0.0000e+00 - total_loss: 57.3711\n",
            "Epoch 48/50\n",
            "24/24 [==============================] - 3s 136ms/step - factorized_top_k/top_1_categorical_accuracy: 0.1338 - factorized_top_k/top_5_categorical_accuracy: 0.2238 - factorized_top_k/top_10_categorical_accuracy: 0.2781 - factorized_top_k/top_50_categorical_accuracy: 0.4702 - factorized_top_k/top_100_categorical_accuracy: 0.5801 - loss: 57.3383 - regularization_loss: 0.0000e+00 - total_loss: 57.3383\n",
            "Epoch 49/50\n",
            "24/24 [==============================] - 2s 93ms/step - factorized_top_k/top_1_categorical_accuracy: 0.1470 - factorized_top_k/top_5_categorical_accuracy: 0.2424 - factorized_top_k/top_10_categorical_accuracy: 0.2874 - factorized_top_k/top_50_categorical_accuracy: 0.4517 - factorized_top_k/top_100_categorical_accuracy: 0.5536 - loss: 57.6742 - regularization_loss: 0.0000e+00 - total_loss: 57.6742\n",
            "Epoch 50/50\n",
            "24/24 [==============================] - 2s 90ms/step - factorized_top_k/top_1_categorical_accuracy: 0.1338 - factorized_top_k/top_5_categorical_accuracy: 0.2146 - factorized_top_k/top_10_categorical_accuracy: 0.2556 - factorized_top_k/top_50_categorical_accuracy: 0.4530 - factorized_top_k/top_100_categorical_accuracy: 0.5748 - loss: 57.8293 - regularization_loss: 0.0000e+00 - total_loss: 57.8293\n",
            "24/24 [==============================] - 3s 92ms/step - factorized_top_k/top_1_categorical_accuracy: 0.1139 - factorized_top_k/top_5_categorical_accuracy: 0.2079 - factorized_top_k/top_10_categorical_accuracy: 0.2371 - factorized_top_k/top_50_categorical_accuracy: 0.4477 - factorized_top_k/top_100_categorical_accuracy: 0.5669 - loss: 56.6423 - regularization_loss: 0.0000e+00 - total_loss: 56.6423\n",
            "6/6 [==============================] - 1s 90ms/step - factorized_top_k/top_1_categorical_accuracy: 0.0423 - factorized_top_k/top_5_categorical_accuracy: 0.1058 - factorized_top_k/top_10_categorical_accuracy: 0.1111 - factorized_top_k/top_50_categorical_accuracy: 0.2381 - factorized_top_k/top_100_categorical_accuracy: 0.3598 - loss: 91.7867 - regularization_loss: 0.0000e+00 - total_loss: 91.7867\n",
            "Top-100 accuracy (train): 0.57.\n",
            "Top-100 accuracy (test): 0.36.\n",
            "Epoch 1/50\n",
            "24/24 [==============================] - 4s 127ms/step - factorized_top_k/top_1_categorical_accuracy: 0.0901 - factorized_top_k/top_5_categorical_accuracy: 0.0901 - factorized_top_k/top_10_categorical_accuracy: 0.0993 - factorized_top_k/top_50_categorical_accuracy: 0.1642 - factorized_top_k/top_100_categorical_accuracy: 0.2199 - loss: 95.2123 - regularization_loss: 0.0000e+00 - total_loss: 95.2123\n",
            "Epoch 2/50\n",
            "24/24 [==============================] - 3s 138ms/step - factorized_top_k/top_1_categorical_accuracy: 0.1152 - factorized_top_k/top_5_categorical_accuracy: 0.1205 - factorized_top_k/top_10_categorical_accuracy: 0.1417 - factorized_top_k/top_50_categorical_accuracy: 0.2583 - factorized_top_k/top_100_categorical_accuracy: 0.3603 - loss: 83.6895 - regularization_loss: 0.0000e+00 - total_loss: 83.6895\n",
            "Epoch 3/50\n",
            "24/24 [==============================] - 2s 89ms/step - factorized_top_k/top_1_categorical_accuracy: 0.1205 - factorized_top_k/top_5_categorical_accuracy: 0.1430 - factorized_top_k/top_10_categorical_accuracy: 0.1642 - factorized_top_k/top_50_categorical_accuracy: 0.3272 - factorized_top_k/top_100_categorical_accuracy: 0.4344 - loss: 75.4950 - regularization_loss: 0.0000e+00 - total_loss: 75.4950\n",
            "Epoch 4/50\n",
            "24/24 [==============================] - 2s 89ms/step - factorized_top_k/top_1_categorical_accuracy: 0.0861 - factorized_top_k/top_5_categorical_accuracy: 0.1272 - factorized_top_k/top_10_categorical_accuracy: 0.1510 - factorized_top_k/top_50_categorical_accuracy: 0.3815 - factorized_top_k/top_100_categorical_accuracy: 0.5060 - loss: 69.9336 - regularization_loss: 0.0000e+00 - total_loss: 69.9336\n",
            "Epoch 5/50\n",
            "24/24 [==============================] - 2s 92ms/step - factorized_top_k/top_1_categorical_accuracy: 0.1060 - factorized_top_k/top_5_categorical_accuracy: 0.1629 - factorized_top_k/top_10_categorical_accuracy: 0.2146 - factorized_top_k/top_50_categorical_accuracy: 0.4411 - factorized_top_k/top_100_categorical_accuracy: 0.5338 - loss: 67.8921 - regularization_loss: 0.0000e+00 - total_loss: 67.8921\n",
            "Epoch 6/50\n",
            "24/24 [==============================] - 2s 89ms/step - factorized_top_k/top_1_categorical_accuracy: 0.1139 - factorized_top_k/top_5_categorical_accuracy: 0.1735 - factorized_top_k/top_10_categorical_accuracy: 0.2225 - factorized_top_k/top_50_categorical_accuracy: 0.4583 - factorized_top_k/top_100_categorical_accuracy: 0.5589 - loss: 65.9824 - regularization_loss: 0.0000e+00 - total_loss: 65.9824\n",
            "Epoch 7/50\n",
            "24/24 [==============================] - 3s 143ms/step - factorized_top_k/top_1_categorical_accuracy: 0.1205 - factorized_top_k/top_5_categorical_accuracy: 0.1828 - factorized_top_k/top_10_categorical_accuracy: 0.2477 - factorized_top_k/top_50_categorical_accuracy: 0.4570 - factorized_top_k/top_100_categorical_accuracy: 0.5603 - loss: 63.5481 - regularization_loss: 0.0000e+00 - total_loss: 63.5481\n",
            "Epoch 8/50\n",
            "24/24 [==============================] - 2s 93ms/step - factorized_top_k/top_1_categorical_accuracy: 0.1298 - factorized_top_k/top_5_categorical_accuracy: 0.2146 - factorized_top_k/top_10_categorical_accuracy: 0.2689 - factorized_top_k/top_50_categorical_accuracy: 0.4715 - factorized_top_k/top_100_categorical_accuracy: 0.5695 - loss: 63.2745 - regularization_loss: 0.0000e+00 - total_loss: 63.2745\n",
            "Epoch 9/50\n",
            "24/24 [==============================] - 2s 91ms/step - factorized_top_k/top_1_categorical_accuracy: 0.1060 - factorized_top_k/top_5_categorical_accuracy: 0.2013 - factorized_top_k/top_10_categorical_accuracy: 0.2570 - factorized_top_k/top_50_categorical_accuracy: 0.4225 - factorized_top_k/top_100_categorical_accuracy: 0.5338 - loss: 62.1585 - regularization_loss: 0.0000e+00 - total_loss: 62.1585\n",
            "Epoch 10/50\n",
            "24/24 [==============================] - 2s 93ms/step - factorized_top_k/top_1_categorical_accuracy: 0.1232 - factorized_top_k/top_5_categorical_accuracy: 0.2079 - factorized_top_k/top_10_categorical_accuracy: 0.2636 - factorized_top_k/top_50_categorical_accuracy: 0.4424 - factorized_top_k/top_100_categorical_accuracy: 0.5497 - loss: 61.5267 - regularization_loss: 0.0000e+00 - total_loss: 61.5267\n",
            "Epoch 11/50\n",
            "24/24 [==============================] - 2s 95ms/step - factorized_top_k/top_1_categorical_accuracy: 0.1483 - factorized_top_k/top_5_categorical_accuracy: 0.2411 - factorized_top_k/top_10_categorical_accuracy: 0.2808 - factorized_top_k/top_50_categorical_accuracy: 0.4755 - factorized_top_k/top_100_categorical_accuracy: 0.5695 - loss: 61.5845 - regularization_loss: 0.0000e+00 - total_loss: 61.5845\n",
            "Epoch 12/50\n",
            "24/24 [==============================] - 4s 180ms/step - factorized_top_k/top_1_categorical_accuracy: 0.1245 - factorized_top_k/top_5_categorical_accuracy: 0.1921 - factorized_top_k/top_10_categorical_accuracy: 0.2411 - factorized_top_k/top_50_categorical_accuracy: 0.4450 - factorized_top_k/top_100_categorical_accuracy: 0.5430 - loss: 61.0979 - regularization_loss: 0.0000e+00 - total_loss: 61.0979\n",
            "Epoch 13/50\n",
            "24/24 [==============================] - 4s 149ms/step - factorized_top_k/top_1_categorical_accuracy: 0.1245 - factorized_top_k/top_5_categorical_accuracy: 0.2265 - factorized_top_k/top_10_categorical_accuracy: 0.2649 - factorized_top_k/top_50_categorical_accuracy: 0.4623 - factorized_top_k/top_100_categorical_accuracy: 0.5576 - loss: 60.2257 - regularization_loss: 0.0000e+00 - total_loss: 60.2257\n",
            "Epoch 14/50\n",
            "24/24 [==============================] - 2s 90ms/step - factorized_top_k/top_1_categorical_accuracy: 0.1060 - factorized_top_k/top_5_categorical_accuracy: 0.2159 - factorized_top_k/top_10_categorical_accuracy: 0.2596 - factorized_top_k/top_50_categorical_accuracy: 0.4411 - factorized_top_k/top_100_categorical_accuracy: 0.5483 - loss: 60.6417 - regularization_loss: 0.0000e+00 - total_loss: 60.6417\n",
            "Epoch 15/50\n",
            "24/24 [==============================] - 2s 90ms/step - factorized_top_k/top_1_categorical_accuracy: 0.1232 - factorized_top_k/top_5_categorical_accuracy: 0.2172 - factorized_top_k/top_10_categorical_accuracy: 0.2583 - factorized_top_k/top_50_categorical_accuracy: 0.4437 - factorized_top_k/top_100_categorical_accuracy: 0.5801 - loss: 60.4758 - regularization_loss: 0.0000e+00 - total_loss: 60.4758\n",
            "Epoch 16/50\n",
            "24/24 [==============================] - 2s 91ms/step - factorized_top_k/top_1_categorical_accuracy: 0.1338 - factorized_top_k/top_5_categorical_accuracy: 0.2172 - factorized_top_k/top_10_categorical_accuracy: 0.2675 - factorized_top_k/top_50_categorical_accuracy: 0.4596 - factorized_top_k/top_100_categorical_accuracy: 0.5775 - loss: 59.7883 - regularization_loss: 0.0000e+00 - total_loss: 59.7883\n",
            "Epoch 17/50\n",
            "24/24 [==============================] - 2s 99ms/step - factorized_top_k/top_1_categorical_accuracy: 0.1444 - factorized_top_k/top_5_categorical_accuracy: 0.2371 - factorized_top_k/top_10_categorical_accuracy: 0.2795 - factorized_top_k/top_50_categorical_accuracy: 0.4795 - factorized_top_k/top_100_categorical_accuracy: 0.5709 - loss: 59.7526 - regularization_loss: 0.0000e+00 - total_loss: 59.7526\n",
            "Epoch 18/50\n",
            "24/24 [==============================] - 4s 150ms/step - factorized_top_k/top_1_categorical_accuracy: 0.1404 - factorized_top_k/top_5_categorical_accuracy: 0.2172 - factorized_top_k/top_10_categorical_accuracy: 0.2583 - factorized_top_k/top_50_categorical_accuracy: 0.4199 - factorized_top_k/top_100_categorical_accuracy: 0.5338 - loss: 58.9678 - regularization_loss: 0.0000e+00 - total_loss: 58.9678\n",
            "Epoch 19/50\n",
            "24/24 [==============================] - 2s 89ms/step - factorized_top_k/top_1_categorical_accuracy: 0.1232 - factorized_top_k/top_5_categorical_accuracy: 0.2159 - factorized_top_k/top_10_categorical_accuracy: 0.2490 - factorized_top_k/top_50_categorical_accuracy: 0.4464 - factorized_top_k/top_100_categorical_accuracy: 0.5430 - loss: 59.2015 - regularization_loss: 0.0000e+00 - total_loss: 59.2015\n",
            "Epoch 20/50\n",
            "24/24 [==============================] - 2s 94ms/step - factorized_top_k/top_1_categorical_accuracy: 0.1311 - factorized_top_k/top_5_categorical_accuracy: 0.2252 - factorized_top_k/top_10_categorical_accuracy: 0.2874 - factorized_top_k/top_50_categorical_accuracy: 0.4517 - factorized_top_k/top_100_categorical_accuracy: 0.5523 - loss: 59.3059 - regularization_loss: 0.0000e+00 - total_loss: 59.3059\n",
            "Epoch 21/50\n",
            "24/24 [==============================] - 2s 92ms/step - factorized_top_k/top_1_categorical_accuracy: 0.1285 - factorized_top_k/top_5_categorical_accuracy: 0.2344 - factorized_top_k/top_10_categorical_accuracy: 0.2795 - factorized_top_k/top_50_categorical_accuracy: 0.4543 - factorized_top_k/top_100_categorical_accuracy: 0.5550 - loss: 59.8402 - regularization_loss: 0.0000e+00 - total_loss: 59.8402\n",
            "Epoch 22/50\n",
            "24/24 [==============================] - 2s 95ms/step - factorized_top_k/top_1_categorical_accuracy: 0.1272 - factorized_top_k/top_5_categorical_accuracy: 0.2437 - factorized_top_k/top_10_categorical_accuracy: 0.2821 - factorized_top_k/top_50_categorical_accuracy: 0.4437 - factorized_top_k/top_100_categorical_accuracy: 0.5629 - loss: 59.0257 - regularization_loss: 0.0000e+00 - total_loss: 59.0257\n",
            "Epoch 23/50\n",
            "24/24 [==============================] - 4s 144ms/step - factorized_top_k/top_1_categorical_accuracy: 0.1258 - factorized_top_k/top_5_categorical_accuracy: 0.2238 - factorized_top_k/top_10_categorical_accuracy: 0.2583 - factorized_top_k/top_50_categorical_accuracy: 0.4437 - factorized_top_k/top_100_categorical_accuracy: 0.5603 - loss: 57.8565 - regularization_loss: 0.0000e+00 - total_loss: 57.8565\n",
            "Epoch 24/50\n",
            "24/24 [==============================] - 2s 90ms/step - factorized_top_k/top_1_categorical_accuracy: 0.1404 - factorized_top_k/top_5_categorical_accuracy: 0.2358 - factorized_top_k/top_10_categorical_accuracy: 0.2662 - factorized_top_k/top_50_categorical_accuracy: 0.4570 - factorized_top_k/top_100_categorical_accuracy: 0.5656 - loss: 58.7458 - regularization_loss: 0.0000e+00 - total_loss: 58.7458\n",
            "Epoch 25/50\n",
            "24/24 [==============================] - 2s 90ms/step - factorized_top_k/top_1_categorical_accuracy: 0.1311 - factorized_top_k/top_5_categorical_accuracy: 0.2238 - factorized_top_k/top_10_categorical_accuracy: 0.2556 - factorized_top_k/top_50_categorical_accuracy: 0.4384 - factorized_top_k/top_100_categorical_accuracy: 0.5444 - loss: 58.1782 - regularization_loss: 0.0000e+00 - total_loss: 58.1782\n",
            "Epoch 26/50\n",
            "24/24 [==============================] - 2s 89ms/step - factorized_top_k/top_1_categorical_accuracy: 0.1351 - factorized_top_k/top_5_categorical_accuracy: 0.2212 - factorized_top_k/top_10_categorical_accuracy: 0.2609 - factorized_top_k/top_50_categorical_accuracy: 0.4450 - factorized_top_k/top_100_categorical_accuracy: 0.5576 - loss: 59.2257 - regularization_loss: 0.0000e+00 - total_loss: 59.2257\n",
            "Epoch 27/50\n",
            "24/24 [==============================] - 2s 97ms/step - factorized_top_k/top_1_categorical_accuracy: 0.1285 - factorized_top_k/top_5_categorical_accuracy: 0.2132 - factorized_top_k/top_10_categorical_accuracy: 0.2530 - factorized_top_k/top_50_categorical_accuracy: 0.4623 - factorized_top_k/top_100_categorical_accuracy: 0.5550 - loss: 57.6060 - regularization_loss: 0.0000e+00 - total_loss: 57.6060\n",
            "Epoch 28/50\n",
            "24/24 [==============================] - 4s 147ms/step - factorized_top_k/top_1_categorical_accuracy: 0.1444 - factorized_top_k/top_5_categorical_accuracy: 0.2305 - factorized_top_k/top_10_categorical_accuracy: 0.2649 - factorized_top_k/top_50_categorical_accuracy: 0.4623 - factorized_top_k/top_100_categorical_accuracy: 0.5841 - loss: 57.8795 - regularization_loss: 0.0000e+00 - total_loss: 57.8795\n",
            "Epoch 29/50\n",
            "24/24 [==============================] - 2s 94ms/step - factorized_top_k/top_1_categorical_accuracy: 0.1325 - factorized_top_k/top_5_categorical_accuracy: 0.2291 - factorized_top_k/top_10_categorical_accuracy: 0.2768 - factorized_top_k/top_50_categorical_accuracy: 0.4530 - factorized_top_k/top_100_categorical_accuracy: 0.5497 - loss: 58.5285 - regularization_loss: 0.0000e+00 - total_loss: 58.5285\n",
            "Epoch 30/50\n",
            "24/24 [==============================] - 2s 91ms/step - factorized_top_k/top_1_categorical_accuracy: 0.1245 - factorized_top_k/top_5_categorical_accuracy: 0.2344 - factorized_top_k/top_10_categorical_accuracy: 0.2715 - factorized_top_k/top_50_categorical_accuracy: 0.4649 - factorized_top_k/top_100_categorical_accuracy: 0.5550 - loss: 58.2605 - regularization_loss: 0.0000e+00 - total_loss: 58.2605\n",
            "Epoch 31/50\n",
            "24/24 [==============================] - 2s 93ms/step - factorized_top_k/top_1_categorical_accuracy: 0.1470 - factorized_top_k/top_5_categorical_accuracy: 0.2450 - factorized_top_k/top_10_categorical_accuracy: 0.2755 - factorized_top_k/top_50_categorical_accuracy: 0.4543 - factorized_top_k/top_100_categorical_accuracy: 0.5788 - loss: 58.3470 - regularization_loss: 0.0000e+00 - total_loss: 58.3470\n",
            "Epoch 32/50\n",
            "24/24 [==============================] - 3s 108ms/step - factorized_top_k/top_1_categorical_accuracy: 0.1523 - factorized_top_k/top_5_categorical_accuracy: 0.2252 - factorized_top_k/top_10_categorical_accuracy: 0.2834 - factorized_top_k/top_50_categorical_accuracy: 0.4662 - factorized_top_k/top_100_categorical_accuracy: 0.5669 - loss: 58.6740 - regularization_loss: 0.0000e+00 - total_loss: 58.6740\n",
            "Epoch 33/50\n",
            "24/24 [==============================] - 2s 92ms/step - factorized_top_k/top_1_categorical_accuracy: 0.1695 - factorized_top_k/top_5_categorical_accuracy: 0.2530 - factorized_top_k/top_10_categorical_accuracy: 0.3060 - factorized_top_k/top_50_categorical_accuracy: 0.4728 - factorized_top_k/top_100_categorical_accuracy: 0.5974 - loss: 58.6161 - regularization_loss: 0.0000e+00 - total_loss: 58.6161\n",
            "Epoch 34/50\n",
            "24/24 [==============================] - 2s 94ms/step - factorized_top_k/top_1_categorical_accuracy: 0.1510 - factorized_top_k/top_5_categorical_accuracy: 0.2305 - factorized_top_k/top_10_categorical_accuracy: 0.2715 - factorized_top_k/top_50_categorical_accuracy: 0.4689 - factorized_top_k/top_100_categorical_accuracy: 0.5722 - loss: 58.0119 - regularization_loss: 0.0000e+00 - total_loss: 58.0119\n",
            "Epoch 35/50\n",
            "24/24 [==============================] - 2s 90ms/step - factorized_top_k/top_1_categorical_accuracy: 0.1417 - factorized_top_k/top_5_categorical_accuracy: 0.2185 - factorized_top_k/top_10_categorical_accuracy: 0.2570 - factorized_top_k/top_50_categorical_accuracy: 0.4318 - factorized_top_k/top_100_categorical_accuracy: 0.5351 - loss: 57.3584 - regularization_loss: 0.0000e+00 - total_loss: 57.3584\n",
            "Epoch 36/50\n",
            "24/24 [==============================] - 2s 88ms/step - factorized_top_k/top_1_categorical_accuracy: 0.1219 - factorized_top_k/top_5_categorical_accuracy: 0.2132 - factorized_top_k/top_10_categorical_accuracy: 0.2609 - factorized_top_k/top_50_categorical_accuracy: 0.4596 - factorized_top_k/top_100_categorical_accuracy: 0.5788 - loss: 57.9367 - regularization_loss: 0.0000e+00 - total_loss: 57.9367\n",
            "Epoch 37/50\n",
            "24/24 [==============================] - 3s 137ms/step - factorized_top_k/top_1_categorical_accuracy: 0.1444 - factorized_top_k/top_5_categorical_accuracy: 0.2397 - factorized_top_k/top_10_categorical_accuracy: 0.2834 - factorized_top_k/top_50_categorical_accuracy: 0.4781 - factorized_top_k/top_100_categorical_accuracy: 0.5775 - loss: 58.0042 - regularization_loss: 0.0000e+00 - total_loss: 58.0042\n",
            "Epoch 38/50\n",
            "24/24 [==============================] - 2s 93ms/step - factorized_top_k/top_1_categorical_accuracy: 0.1338 - factorized_top_k/top_5_categorical_accuracy: 0.2384 - factorized_top_k/top_10_categorical_accuracy: 0.2834 - factorized_top_k/top_50_categorical_accuracy: 0.4411 - factorized_top_k/top_100_categorical_accuracy: 0.5430 - loss: 57.3343 - regularization_loss: 0.0000e+00 - total_loss: 57.3343\n",
            "Epoch 39/50\n",
            "24/24 [==============================] - 2s 91ms/step - factorized_top_k/top_1_categorical_accuracy: 0.1245 - factorized_top_k/top_5_categorical_accuracy: 0.2265 - factorized_top_k/top_10_categorical_accuracy: 0.2689 - factorized_top_k/top_50_categorical_accuracy: 0.4596 - factorized_top_k/top_100_categorical_accuracy: 0.5563 - loss: 57.8644 - regularization_loss: 0.0000e+00 - total_loss: 57.8644\n",
            "Epoch 40/50\n",
            "24/24 [==============================] - 2s 91ms/step - factorized_top_k/top_1_categorical_accuracy: 0.1497 - factorized_top_k/top_5_categorical_accuracy: 0.2291 - factorized_top_k/top_10_categorical_accuracy: 0.2795 - factorized_top_k/top_50_categorical_accuracy: 0.4675 - factorized_top_k/top_100_categorical_accuracy: 0.5907 - loss: 59.5210 - regularization_loss: 0.0000e+00 - total_loss: 59.5210\n",
            "Epoch 41/50\n",
            "24/24 [==============================] - 2s 95ms/step - factorized_top_k/top_1_categorical_accuracy: 0.1603 - factorized_top_k/top_5_categorical_accuracy: 0.2477 - factorized_top_k/top_10_categorical_accuracy: 0.2967 - factorized_top_k/top_50_categorical_accuracy: 0.4689 - factorized_top_k/top_100_categorical_accuracy: 0.5629 - loss: 57.6383 - regularization_loss: 0.0000e+00 - total_loss: 57.6383\n",
            "Epoch 42/50\n",
            "24/24 [==============================] - 4s 146ms/step - factorized_top_k/top_1_categorical_accuracy: 0.1430 - factorized_top_k/top_5_categorical_accuracy: 0.2318 - factorized_top_k/top_10_categorical_accuracy: 0.2728 - factorized_top_k/top_50_categorical_accuracy: 0.4424 - factorized_top_k/top_100_categorical_accuracy: 0.5629 - loss: 58.0965 - regularization_loss: 0.0000e+00 - total_loss: 58.0965\n",
            "Epoch 43/50\n",
            "24/24 [==============================] - 2s 92ms/step - factorized_top_k/top_1_categorical_accuracy: 0.1351 - factorized_top_k/top_5_categorical_accuracy: 0.2291 - factorized_top_k/top_10_categorical_accuracy: 0.2821 - factorized_top_k/top_50_categorical_accuracy: 0.4490 - factorized_top_k/top_100_categorical_accuracy: 0.5709 - loss: 57.5926 - regularization_loss: 0.0000e+00 - total_loss: 57.5926\n",
            "Epoch 44/50\n",
            "24/24 [==============================] - 2s 92ms/step - factorized_top_k/top_1_categorical_accuracy: 0.1311 - factorized_top_k/top_5_categorical_accuracy: 0.2305 - factorized_top_k/top_10_categorical_accuracy: 0.2768 - factorized_top_k/top_50_categorical_accuracy: 0.4702 - factorized_top_k/top_100_categorical_accuracy: 0.5815 - loss: 57.3796 - regularization_loss: 0.0000e+00 - total_loss: 57.3796\n",
            "Epoch 45/50\n",
            "24/24 [==============================] - 2s 94ms/step - factorized_top_k/top_1_categorical_accuracy: 0.1404 - factorized_top_k/top_5_categorical_accuracy: 0.2291 - factorized_top_k/top_10_categorical_accuracy: 0.2781 - factorized_top_k/top_50_categorical_accuracy: 0.4477 - factorized_top_k/top_100_categorical_accuracy: 0.5603 - loss: 57.9356 - regularization_loss: 0.0000e+00 - total_loss: 57.9356\n",
            "Epoch 46/50\n",
            "24/24 [==============================] - 3s 104ms/step - factorized_top_k/top_1_categorical_accuracy: 0.1391 - factorized_top_k/top_5_categorical_accuracy: 0.2146 - factorized_top_k/top_10_categorical_accuracy: 0.2795 - factorized_top_k/top_50_categorical_accuracy: 0.4609 - factorized_top_k/top_100_categorical_accuracy: 0.5669 - loss: 57.4683 - regularization_loss: 0.0000e+00 - total_loss: 57.4683\n",
            "Epoch 47/50\n",
            "24/24 [==============================] - 3s 140ms/step - factorized_top_k/top_1_categorical_accuracy: 0.1444 - factorized_top_k/top_5_categorical_accuracy: 0.2424 - factorized_top_k/top_10_categorical_accuracy: 0.2781 - factorized_top_k/top_50_categorical_accuracy: 0.4980 - factorized_top_k/top_100_categorical_accuracy: 0.5894 - loss: 57.2384 - regularization_loss: 0.0000e+00 - total_loss: 57.2384\n",
            "Epoch 48/50\n",
            "24/24 [==============================] - 2s 90ms/step - factorized_top_k/top_1_categorical_accuracy: 0.1404 - factorized_top_k/top_5_categorical_accuracy: 0.2305 - factorized_top_k/top_10_categorical_accuracy: 0.2848 - factorized_top_k/top_50_categorical_accuracy: 0.4715 - factorized_top_k/top_100_categorical_accuracy: 0.5735 - loss: 57.3032 - regularization_loss: 0.0000e+00 - total_loss: 57.3032\n",
            "Epoch 49/50\n",
            "24/24 [==============================] - 2s 92ms/step - factorized_top_k/top_1_categorical_accuracy: 0.1404 - factorized_top_k/top_5_categorical_accuracy: 0.2358 - factorized_top_k/top_10_categorical_accuracy: 0.2848 - factorized_top_k/top_50_categorical_accuracy: 0.4477 - factorized_top_k/top_100_categorical_accuracy: 0.5616 - loss: 57.5646 - regularization_loss: 0.0000e+00 - total_loss: 57.5646\n",
            "Epoch 50/50\n",
            "24/24 [==============================] - 2s 90ms/step - factorized_top_k/top_1_categorical_accuracy: 0.1338 - factorized_top_k/top_5_categorical_accuracy: 0.2199 - factorized_top_k/top_10_categorical_accuracy: 0.2596 - factorized_top_k/top_50_categorical_accuracy: 0.4556 - factorized_top_k/top_100_categorical_accuracy: 0.5642 - loss: 57.7680 - regularization_loss: 0.0000e+00 - total_loss: 57.7680\n",
            "24/24 [==============================] - 3s 114ms/step - factorized_top_k/top_1_categorical_accuracy: 0.1483 - factorized_top_k/top_5_categorical_accuracy: 0.2238 - factorized_top_k/top_10_categorical_accuracy: 0.2636 - factorized_top_k/top_50_categorical_accuracy: 0.6305 - factorized_top_k/top_100_categorical_accuracy: 0.7377 - loss: 56.3725 - regularization_loss: 0.0000e+00 - total_loss: 56.3725\n",
            "6/6 [==============================] - 1s 92ms/step - factorized_top_k/top_1_categorical_accuracy: 0.0370 - factorized_top_k/top_5_categorical_accuracy: 0.0952 - factorized_top_k/top_10_categorical_accuracy: 0.1164 - factorized_top_k/top_50_categorical_accuracy: 0.3915 - factorized_top_k/top_100_categorical_accuracy: 0.5397 - loss: 92.1413 - regularization_loss: 0.0000e+00 - total_loss: 92.1413\n",
            "Top-100 accuracy (train): 0.74.\n",
            "Top-100 accuracy (test): 0.54.\n"
          ]
        }
      ],
      "source": [
        "for i in range(5):\n",
        "\n",
        "\n",
        "  tf.random.set_seed(1234)\n",
        "  shuffled = dataset.shuffle(944, seed=42, reshuffle_each_iteration=False)\n",
        "  train = shuffled.take(755)\n",
        "  test = shuffled.skip(755).take(189)\n",
        "  cached_train = train.shuffle(755).batch(32)\n",
        "  cached_test = test.batch(32).cache()\n",
        "\n",
        "\n",
        "  model = MainModel([32])\n",
        "  model.compile(optimizer=tf.keras.optimizers.Adagrad(0.1))\n",
        "\n",
        "  one_layer_history=model.fit(cached_train, epochs=50)\n",
        "\n",
        "  train_accuracy = model.evaluate(\n",
        "      cached_train, return_dict=True)[\"factorized_top_k/top_100_categorical_accuracy\"]\n",
        "  test_accuracy = model.evaluate(\n",
        "      cached_test, return_dict=True)[\"factorized_top_k/top_100_categorical_accuracy\"]\n",
        "\n",
        "  print(f\"Top-100 accuracy (train): {train_accuracy:.2f}.\")\n",
        "  print(f\"Top-100 accuracy (test): {test_accuracy:.2f}.\")\n"
      ]
    },
    {
      "cell_type": "code",
      "execution_count": 112,
      "metadata": {
        "application/vnd.databricks.v1+cell": {
          "cellMetadata": {
            "byteLimit": 2048000,
            "rowLimit": 10000
          },
          "inputWidgets": {},
          "nuid": "f507d53d-089a-456e-adc5-4dd75a6a4402",
          "showTitle": false,
          "title": ""
        },
        "colab": {
          "base_uri": "https://localhost:8080/"
        },
        "id": "vZ93ynZ9BEh1",
        "outputId": "06924681-3fc5-4c9b-9b7b-39b2fdfd4b7e"
      },
      "outputs": [
        {
          "output_type": "stream",
          "name": "stderr",
          "text": [
            "<ipython-input-112-444997ff90a3>:3: MatplotlibDeprecationWarning: The seaborn styles shipped by Matplotlib are deprecated since 3.6, as they no longer correspond to the styles shipped by seaborn. However, they will remain available as 'seaborn-v0_8-<style>'. Alternatively, directly use the seaborn API instead.\n",
            "  plt.style.use('seaborn-whitegrid')\n"
          ]
        }
      ],
      "source": [
        "%matplotlib inline\n",
        "import matplotlib.pyplot as plt\n",
        "plt.style.use('seaborn-whitegrid')"
      ]
    },
    {
      "cell_type": "code",
      "execution_count": 113,
      "metadata": {
        "application/vnd.databricks.v1+cell": {
          "cellMetadata": {
            "byteLimit": 2048000,
            "rowLimit": 10000
          },
          "inputWidgets": {},
          "nuid": "143ccd99-e062-4a4d-af5d-c509ca1fe617",
          "showTitle": false,
          "title": ""
        },
        "colab": {
          "base_uri": "https://localhost:8080/",
          "height": 556
        },
        "id": "7aXMYJUKBEh1",
        "outputId": "f6ddb6c7-b4af-436e-8e31-716b1c5e4493"
      },
      "outputs": [
        {
          "output_type": "stream",
          "name": "stderr",
          "text": [
            "WARNING:matplotlib.legend:No artists with labels found to put in legend.  Note that artists whose label start with an underscore are ignored when legend() is called with no argument.\n"
          ]
        },
        {
          "output_type": "stream",
          "name": "stdout",
          "text": [
            "[0.219867542386055, 0.3602648973464966, 0.434437096118927, 0.5059602856636047, 0.5337748527526855, 0.5589404106140137, 0.5602648854255676, 0.5695364475250244, 0.5337748527526855, 0.5496688485145569, 0.5695364475250244, 0.5430463552474976, 0.5576158761978149, 0.5483443737030029, 0.5801324248313904, 0.5774834156036377, 0.5708609223365784, 0.5337748527526855, 0.5430463552474976, 0.5523178577423096, 0.5549668669700623, 0.5629138946533203, 0.5602648854255676, 0.565562903881073, 0.5443708896636963, 0.5576158761978149, 0.5549668669700623, 0.5841059684753418, 0.5496688485145569, 0.5549668669700623, 0.5788079500198364, 0.5668874382972717, 0.5973510146141052, 0.5721854567527771, 0.5350993275642395, 0.5788079500198364, 0.5774834156036377, 0.5430463552474976, 0.556291401386261, 0.5907284617424011, 0.5629138946533203, 0.5629138946533203, 0.5708609223365784, 0.5814569592475891, 0.5602648854255676, 0.5668874382972717, 0.5894039869308472, 0.573509931564331, 0.5615894198417664, 0.564238429069519]\n",
            "50\n"
          ]
        },
        {
          "output_type": "execute_result",
          "data": {
            "text/plain": [
              "<matplotlib.legend.Legend at 0x7cd9e8f32770>"
            ]
          },
          "metadata": {},
          "execution_count": 113
        },
        {
          "output_type": "display_data",
          "data": {
            "text/plain": [
              "<Figure size 640x480 with 1 Axes>"
            ],
            "image/png": "[encoded data removed]"
          },
          "metadata": {}
        }
      ],
      "source": [
        "num_validation_runs = len(one_layer_history.history[\"factorized_top_k/top_100_categorical_accuracy\"])\n",
        "epochs = [(x + 1) for x in range(num_validation_runs)]\n",
        "print(one_layer_history.history[\"factorized_top_k/top_100_categorical_accuracy\"])\n",
        "plt.plot(epochs, one_layer_history.history[\"factorized_top_k/top_100_categorical_accuracy\"])\n",
        "print(num_validation_runs)\n",
        "plt.title(\"Accuracy vs epoch\")\n",
        "plt.xlabel(\"epoch\")\n",
        "plt.ylabel(\"Top-100 Train accuracy\")\n",
        "plt.legend()"
      ]
    }
  ],
  "metadata": {
    "application/vnd.databricks.v1+notebook": {
      "dashboards": [],
      "language": "python",
      "notebookMetadata": {
        "mostRecentlyExecutedCommandWithImplicitDF": {
          "commandId": 35111657017712,
          "dataframes": [
            "_sqldf"
          ]
        },
        "pythonIndentUnit": 4
      },
      "notebookName": "2023-06-15 - Discover_Nonprod",
      "widgets": {}
    },
    "colab": {
      "provenance": []
    },
    "language_info": {
      "name": "python"
    },
    "kernelspec": {
      "name": "python3",
      "display_name": "Python 3"
    }
  },
  "nbformat": 4,
  "nbformat_minor": 0
}