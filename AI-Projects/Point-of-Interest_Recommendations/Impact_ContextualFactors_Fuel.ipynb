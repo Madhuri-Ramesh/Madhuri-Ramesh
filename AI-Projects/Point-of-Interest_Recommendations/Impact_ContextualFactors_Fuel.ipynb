{
  "cells": [
    {
      "cell_type": "markdown",
      "metadata": {
        "application/vnd.databricks.v1+cell": {
          "cellMetadata": {
            "byteLimit": 2048000,
            "rowLimit": 10000
          },
          "inputWidgets": {},
          "nuid": "96816ed7-b08a-4ca3-abb9-f99880c3535d",
          "showTitle": false,
          "title": ""
        },
        "id": "BTUhLzxDBEhu"
      },
      "source": [
        "\n",
        "## Overview\n",
        "\n",
        "This notebook will show you how to create and query a table or DataFrame that you uploaded to DBFS. [DBFS](https://docs.databricks.com/user-guide/dbfs-databricks-file-system.html) is a Databricks File System that allows you to store data for querying inside of Databricks. This notebook assumes that you have a file already inside of DBFS that you would like to read from.\n",
        "\n",
        "This notebook is written in **Python** so the default cell type is Python. However, you can use different languages by using the `%LANGUAGE` syntax. Python, Scala, SQL, and R are all supported."
      ]
    },
    {
      "cell_type": "code",
      "execution_count": 72,
      "metadata": {
        "application/vnd.databricks.v1+cell": {
          "cellMetadata": {
            "byteLimit": 2048000,
            "rowLimit": 10000
          },
          "inputWidgets": {},
          "nuid": "661def2a-22d2-4fac-b186-d26851dd6a62",
          "showTitle": false,
          "title": ""
        },
        "colab": {
          "base_uri": "https://localhost:8080/"
        },
        "id": "HmQ37nS4BEhx",
        "outputId": "806b7f25-ea75-4db2-aaac-d0d989920f78"
      },
      "outputs": [
        {
          "output_type": "stream",
          "name": "stdout",
          "text": [
            "Requirement already satisfied: pip in /usr/local/lib/python3.10/dist-packages (23.2.1)\n",
            "\u001b[33mWARNING: Running pip as the 'root' user can result in broken permissions and conflicting behaviour with the system package manager. It is recommended to use a virtual environment instead: https://pip.pypa.io/warnings/venv\u001b[0m\u001b[33m\n",
            "\u001b[0m"
          ]
        }
      ],
      "source": [
        "!pip install --upgrade pip"
      ]
    },
    {
      "cell_type": "code",
      "execution_count": 73,
      "metadata": {
        "application/vnd.databricks.v1+cell": {
          "cellMetadata": {
            "byteLimit": 2048000,
            "rowLimit": 10000
          },
          "inputWidgets": {},
          "nuid": "6324f8c3-d08a-4cbc-836b-c6c9897d23b9",
          "showTitle": false,
          "title": ""
        },
        "colab": {
          "base_uri": "https://localhost:8080/"
        },
        "id": "GZYr98P5BEhy",
        "outputId": "3ef7d324-d42a-49e7-d415-8e83c0ed2a00"
      },
      "outputs": [
        {
          "output_type": "stream",
          "name": "stdout",
          "text": [
            "\u001b[33mWARNING: Running pip as the 'root' user can result in broken permissions and conflicting behaviour with the system package manager. It is recommended to use a virtual environment instead: https://pip.pypa.io/warnings/venv\u001b[0m\u001b[33m\n",
            "\u001b[0m"
          ]
        }
      ],
      "source": [
        "!pip install -q tensorflow-recommenders\n"
      ]
    },
    {
      "cell_type": "code",
      "execution_count": 74,
      "metadata": {
        "application/vnd.databricks.v1+cell": {
          "cellMetadata": {
            "byteLimit": 2048000,
            "rowLimit": 10000
          },
          "inputWidgets": {},
          "nuid": "a3bd3f6e-cbd5-45ad-82cd-924d55ac04f2",
          "showTitle": false,
          "title": ""
        },
        "id": "JK5hDokGBEhz"
      },
      "outputs": [],
      "source": [
        "import tensorflow as tf\n",
        "import pandas as pd\n",
        "import numpy as np\n",
        "import tensorflow_recommenders as tfrs\n",
        "from tensorflow.keras import regularizers\n",
        "import os\n",
        "import tempfile\n",
        "import sys\n",
        "import numpy\n",
        "import matplotlib\n"
      ]
    },
    {
      "cell_type": "code",
      "source": [
        "from google.colab import drive\n",
        "drive.mount('/content/drive')\n",
        "import os\n",
        "\n",
        "os.chdir('/content/drive/MyDrive/')"
      ],
      "metadata": {
        "colab": {
          "base_uri": "https://localhost:8080/"
        },
        "id": "X5mGVLvYDH3b",
        "outputId": "823c665a-12d4-4f5d-8ac8-2ccb4d90372a"
      },
      "execution_count": 75,
      "outputs": [
        {
          "output_type": "stream",
          "name": "stdout",
          "text": [
            "Drive already mounted at /content/drive; to attempt to forcibly remount, call drive.mount(\"/content/drive\", force_remount=True).\n"
          ]
        }
      ]
    },
    {
      "cell_type": "code",
      "execution_count": 76,
      "metadata": {
        "application/vnd.databricks.v1+cell": {
          "cellMetadata": {
            "byteLimit": 2048000,
            "rowLimit": 10000
          },
          "inputWidgets": {},
          "nuid": "6482be4c-f067-47c9-b0ac-35c938b94601",
          "showTitle": false,
          "title": ""
        },
        "colab": {
          "base_uri": "https://localhost:8080/"
        },
        "id": "PBDxsinzBEhz",
        "outputId": "964f3a2f-600d-4a38-d031-79cfa62783cd"
      },
      "outputs": [
        {
          "output_type": "stream",
          "name": "stdout",
          "text": [
            "944\n"
          ]
        }
      ],
      "source": [
        "df = pd.read_csv('/content/drive/MyDrive/Book2.csv')\n",
        "feature_names = ['identifier','poi','event_ts','fueltype','day']\n",
        "features = df[feature_names].astype(str)\n",
        "dataset = tf.data.Dataset.from_tensor_slices(dict(features))\n",
        "poi_dataset = dataset.map(lambda x: x[\"poi\"])\n",
        "dataset = dataset.map(lambda x: {\n",
        "    \"identifier\": (x[\"identifier\"]),\n",
        "    \"poi\": (x[\"poi\"]),\n",
        "    \"event_ts\": int(x[\"event_ts\"]),\n",
        "    \"fueltype\": (x[\"fueltype\"]),\n",
        "    \"day\": (x[\"day\"]),\n",
        " })\n",
        "\n",
        "print(len(dataset))\n",
        "\n",
        "\n"
      ]
    },
    {
      "cell_type": "code",
      "execution_count": 77,
      "metadata": {
        "application/vnd.databricks.v1+cell": {
          "cellMetadata": {
            "byteLimit": 2048000,
            "rowLimit": 10000
          },
          "inputWidgets": {},
          "nuid": "b5749363-c98a-43ed-911f-24cf39c33b4c",
          "showTitle": false,
          "title": ""
        },
        "id": "a5ea75RuBEhz"
      },
      "outputs": [],
      "source": [
        "timestamps = np.concatenate(list(dataset.map(lambda x: x[\"event_ts\"]).batch(100)))\n",
        "max_timestamp = timestamps.max()\n",
        "min_timestamp = timestamps.min()\n",
        "timestamp_buckets = np.linspace(\n",
        "    min_timestamp, max_timestamp, num=1000,)\n",
        "unique_user_ids = np.unique(np.concatenate(list(dataset.batch(1_000).map(\n",
        "    lambda x: x[\"identifier\"]))))\n",
        "unique_fueltype_ids = np.unique(np.concatenate(list(dataset.batch(1_000).map(\n",
        "    lambda x: x[\"fueltype\"]))))\n",
        "unique_day_ids = np.unique(np.concatenate(list(dataset.batch(1_000).map(\n",
        "    lambda x: x[\"day\"]))))\n",
        "unique_poi_ids = np.unique(np.concatenate(list(poi_dataset.batch(1_000))))\n"
      ]
    },
    {
      "cell_type": "code",
      "execution_count": 78,
      "metadata": {
        "application/vnd.databricks.v1+cell": {
          "cellMetadata": {
            "byteLimit": 2048000,
            "rowLimit": 10000
          },
          "inputWidgets": {},
          "nuid": "c6769647-9494-46d6-99c5-fe53d3280a11",
          "showTitle": false,
          "title": ""
        },
        "id": "DIcyNqE7BEhz"
      },
      "outputs": [],
      "source": [
        "class PoiModel(tf.keras.Model):\n",
        "\n",
        "  def __init__(self):\n",
        "    super().__init__()\n",
        "\n",
        "    max_tokens = 10_000\n",
        "\n",
        "    self.poi_embedding = tf.keras.Sequential([\n",
        "      tf.keras.layers.StringLookup(\n",
        "          vocabulary=unique_poi_ids, mask_token=None),\n",
        "      tf.keras.layers.Embedding(len(unique_poi_ids) + 1, 32)\n",
        "    ])\n",
        "\n",
        "  def call(self,titles):\n",
        "\n",
        "    return self.poi_embedding(titles)"
      ]
    },
    {
      "cell_type": "code",
      "execution_count": 79,
      "metadata": {
        "application/vnd.databricks.v1+cell": {
          "cellMetadata": {
            "byteLimit": 2048000,
            "rowLimit": 10000
          },
          "inputWidgets": {},
          "nuid": "79527b9b-09d8-4460-8efe-6a84e839ac1b",
          "showTitle": false,
          "title": ""
        },
        "id": "94obYi5VBEh0"
      },
      "outputs": [],
      "source": [
        "class UserModel(tf.keras.Model):\n",
        "\n",
        "    def __init__(self):\n",
        "        super().__init__()\n",
        "\n",
        "        self.user_embedding = tf.keras.Sequential([\n",
        "            tf.keras.layers.StringLookup(\n",
        "                vocabulary=unique_user_ids, mask_token=None),\n",
        "            tf.keras.layers.Embedding(len(unique_user_ids) + 1, 32),\n",
        "        ])\n",
        "\n",
        "        #self.day_embedding = tf.keras.Sequential([\n",
        "            #tf.keras.layers.StringLookup(\n",
        "                #vocabulary=unique_day_ids, mask_token=None),\n",
        "            #tf.keras.layers.Embedding(len(unique_day_ids) + 1, 32),\n",
        "        #])\n",
        "\n",
        "        self.fueltype_embedding = tf.keras.Sequential([\n",
        "            tf.keras.layers.StringLookup(\n",
        "                vocabulary=unique_fueltype_ids, mask_token=None),\n",
        "\n",
        "            tf.keras.layers.Embedding(len(unique_fueltype_ids) + 1, 32),\n",
        "        ])\n",
        "\n",
        "        #self.timestamp_embedding = tf.keras.Sequential([\n",
        "            #tf.keras.layers.Discretization(timestamp_buckets.tolist()),\n",
        "            #tf.keras.layers.Embedding(len(timestamp_buckets) + 1, 32),\n",
        "        #])\n",
        "        #self.normalized_timestamp = tf.keras.layers.Normalization(axis=None)\n",
        "\n",
        "        #self.normalized_timestamp.adapt(timestamps)\n",
        "\n",
        "    def call(self, inputs):\n",
        "\n",
        "       return tf.concat([\n",
        "        self.user_embedding(inputs[\"identifier\"]),\n",
        "        #self.day_embedding(inputs[\"day\"]),\n",
        "        self.fueltype_embedding(inputs[\"fueltype\"]),\n",
        "        #self.timestamp_embedding(inputs[\"event_ts\"]),\n",
        "        #tf.reshape(self.normalized_timestamp(inputs[\"event_ts\"]), (-1, 1)),\n",
        "        ], axis=1)\n",
        ""
      ]
    },
    {
      "cell_type": "code",
      "execution_count": 80,
      "metadata": {
        "application/vnd.databricks.v1+cell": {
          "cellMetadata": {
            "byteLimit": 2048000,
            "rowLimit": 10000
          },
          "inputWidgets": {},
          "nuid": "d73be0d2-c38f-4dfb-b4a0-b05f430a61d1",
          "showTitle": false,
          "title": ""
        },
        "id": "4YN-N1SpBEh0"
      },
      "outputs": [],
      "source": [
        "class QueryModel(tf.keras.Model):\n",
        " def __init__(self, layer_sizes):\n",
        "\n",
        "  super().__init__()\n",
        "\n",
        "\n",
        "  self.embedding_model = UserModel()\n",
        "\n",
        "\n",
        "  self.dense_layers = tf.keras.Sequential()\n",
        "\n",
        "\n",
        "  for layer_size in layer_sizes[:-1]:\n",
        "\n",
        "\n",
        "      self.dense_layers.add(tf.keras.layers.Dense(layer_size, activation=\"relu\"))\n",
        "\n",
        "\n",
        "  for layer_size in layer_sizes[-1:]:\n",
        "      self.dense_layers.add(tf.keras.layers.Dense(layer_size))\n",
        "\n",
        " def call(self, inputs):\n",
        "    feature_embedding = self.embedding_model(inputs)\n",
        "    return self.dense_layers(feature_embedding)"
      ]
    },
    {
      "cell_type": "code",
      "execution_count": 81,
      "metadata": {
        "application/vnd.databricks.v1+cell": {
          "cellMetadata": {
            "byteLimit": 2048000,
            "rowLimit": 10000
          },
          "inputWidgets": {},
          "nuid": "ce2467f8-9b83-45fe-b598-a2555896ef33",
          "showTitle": false,
          "title": ""
        },
        "id": "oo1waGEgBEh0"
      },
      "outputs": [],
      "source": [
        "class CandidateModel(tf.keras.Model):\n",
        "\n",
        "\n",
        "  def __init__(self, layer_sizes):\n",
        "\n",
        "    super().__init__()\n",
        "\n",
        "    self.embedding_model = PoiModel()\n",
        "\n",
        "\n",
        "    self.dense_layers = tf.keras.Sequential()\n",
        "\n",
        "\n",
        "    for layer_size in layer_sizes[:-1]:\n",
        "\n",
        "      self.dense_layers.add(tf.keras.layers.Dense(layer_size, activation=\"relu\"))\n",
        "\n",
        "\n",
        "    for layer_size in layer_sizes[-1:]:\n",
        "      self.dense_layers.add(tf.keras.layers.Dense(layer_size))\n",
        "\n",
        "  def call(self, inputs):\n",
        "    feature_embedding = self.embedding_model(inputs)\n",
        "    return self.dense_layers(feature_embedding)"
      ]
    },
    {
      "cell_type": "code",
      "execution_count": 82,
      "metadata": {
        "application/vnd.databricks.v1+cell": {
          "cellMetadata": {
            "byteLimit": 2048000,
            "rowLimit": 10000
          },
          "inputWidgets": {},
          "nuid": "d98ae2db-39f3-46fb-9017-5b3ba9d87042",
          "showTitle": false,
          "title": ""
        },
        "id": "HaC6jIR7BEh0"
      },
      "outputs": [],
      "source": [
        "class MainModel(tfrs.models.Model):\n",
        "\n",
        "\n",
        "    def __init__(self, layer_sizes):\n",
        "      super().__init__()\n",
        "      self.query_model = QueryModel(layer_sizes)\n",
        "      self.candidate_model = CandidateModel(layer_sizes)\n",
        "\n",
        "      self.task = tfrs.tasks.Retrieval(\n",
        "        metrics=tfrs.metrics.FactorizedTopK(\n",
        "            candidates=poi_dataset.batch(128).map(self.candidate_model),\n",
        "        ),\n",
        "    )\n",
        "\n",
        "    def compute_loss(self, features, training=False):\n",
        "\n",
        "     query_embeddings = self.query_model({\n",
        "        \"identifier\":features[\"identifier\"],\n",
        "        #\"event_ts\":features[\"event_ts\"],\n",
        "        \"fueltype\":features[\"fueltype\"],\n",
        "        #\"day\":features[\"day\"],\n",
        "      })\n",
        "\n",
        "     poi_embeddings = self.candidate_model(\n",
        "       features[\"poi\"]\n",
        "         )\n",
        "\n",
        "\n",
        "     return self.task(query_embeddings,poi_embeddings)"
      ]
    },
    {
      "cell_type": "code",
      "execution_count": 83,
      "metadata": {
        "application/vnd.databricks.v1+cell": {
          "cellMetadata": {
            "byteLimit": 2048000,
            "rowLimit": 10000
          },
          "inputWidgets": {},
          "nuid": "5d96cd92-a78f-48c2-b693-f07fbf019751",
          "showTitle": false,
          "title": ""
        },
        "colab": {
          "base_uri": "https://localhost:8080/"
        },
        "id": "vNl6cZtFBEh1",
        "outputId": "2021b059-593e-42e0-9872-0f2e3fbff213"
      },
      "outputs": [
        {
          "output_type": "stream",
          "name": "stdout",
          "text": [
            "Epoch 1/50\n",
            "24/24 [==============================] - 5s 166ms/step - factorized_top_k/top_1_categorical_accuracy: 0.1152 - factorized_top_k/top_5_categorical_accuracy: 0.1152 - factorized_top_k/top_10_categorical_accuracy: 0.1258 - factorized_top_k/top_50_categorical_accuracy: 0.1695 - factorized_top_k/top_100_categorical_accuracy: 0.2106 - loss: 95.1847 - regularization_loss: 0.0000e+00 - total_loss: 95.1847\n",
            "Epoch 2/50\n",
            "24/24 [==============================] - 5s 192ms/step - factorized_top_k/top_1_categorical_accuracy: 0.1139 - factorized_top_k/top_5_categorical_accuracy: 0.1338 - factorized_top_k/top_10_categorical_accuracy: 0.1656 - factorized_top_k/top_50_categorical_accuracy: 0.2728 - factorized_top_k/top_100_categorical_accuracy: 0.3629 - loss: 82.9839 - regularization_loss: 0.0000e+00 - total_loss: 82.9839\n",
            "Epoch 3/50\n",
            "24/24 [==============================] - 4s 181ms/step - factorized_top_k/top_1_categorical_accuracy: 0.0609 - factorized_top_k/top_5_categorical_accuracy: 0.1099 - factorized_top_k/top_10_categorical_accuracy: 0.1430 - factorized_top_k/top_50_categorical_accuracy: 0.3311 - factorized_top_k/top_100_categorical_accuracy: 0.4411 - loss: 76.0258 - regularization_loss: 0.0000e+00 - total_loss: 76.0258\n",
            "Epoch 4/50\n",
            "24/24 [==============================] - 8s 311ms/step - factorized_top_k/top_1_categorical_accuracy: 0.1126 - factorized_top_k/top_5_categorical_accuracy: 0.1629 - factorized_top_k/top_10_categorical_accuracy: 0.2000 - factorized_top_k/top_50_categorical_accuracy: 0.3934 - factorized_top_k/top_100_categorical_accuracy: 0.4980 - loss: 70.3453 - regularization_loss: 0.0000e+00 - total_loss: 70.3453\n",
            "Epoch 5/50\n",
            "24/24 [==============================] - 5s 191ms/step - factorized_top_k/top_1_categorical_accuracy: 0.1033 - factorized_top_k/top_5_categorical_accuracy: 0.1775 - factorized_top_k/top_10_categorical_accuracy: 0.2185 - factorized_top_k/top_50_categorical_accuracy: 0.4106 - factorized_top_k/top_100_categorical_accuracy: 0.5166 - loss: 68.0246 - regularization_loss: 0.0000e+00 - total_loss: 68.0246\n",
            "Epoch 6/50\n",
            "24/24 [==============================] - 4s 172ms/step - factorized_top_k/top_1_categorical_accuracy: 0.1007 - factorized_top_k/top_5_categorical_accuracy: 0.1642 - factorized_top_k/top_10_categorical_accuracy: 0.2093 - factorized_top_k/top_50_categorical_accuracy: 0.4318 - factorized_top_k/top_100_categorical_accuracy: 0.5245 - loss: 65.7293 - regularization_loss: 0.0000e+00 - total_loss: 65.7293\n",
            "Epoch 7/50\n",
            "24/24 [==============================] - 3s 121ms/step - factorized_top_k/top_1_categorical_accuracy: 0.1086 - factorized_top_k/top_5_categorical_accuracy: 0.1960 - factorized_top_k/top_10_categorical_accuracy: 0.2477 - factorized_top_k/top_50_categorical_accuracy: 0.4305 - factorized_top_k/top_100_categorical_accuracy: 0.5444 - loss: 63.8746 - regularization_loss: 0.0000e+00 - total_loss: 63.8746\n",
            "Epoch 8/50\n",
            "24/24 [==============================] - 2s 82ms/step - factorized_top_k/top_1_categorical_accuracy: 0.1126 - factorized_top_k/top_5_categorical_accuracy: 0.2040 - factorized_top_k/top_10_categorical_accuracy: 0.2596 - factorized_top_k/top_50_categorical_accuracy: 0.4715 - factorized_top_k/top_100_categorical_accuracy: 0.5669 - loss: 63.0458 - regularization_loss: 0.0000e+00 - total_loss: 63.0458\n",
            "Epoch 9/50\n",
            "24/24 [==============================] - 2s 80ms/step - factorized_top_k/top_1_categorical_accuracy: 0.1046 - factorized_top_k/top_5_categorical_accuracy: 0.2000 - factorized_top_k/top_10_categorical_accuracy: 0.2450 - factorized_top_k/top_50_categorical_accuracy: 0.4066 - factorized_top_k/top_100_categorical_accuracy: 0.5364 - loss: 61.8180 - regularization_loss: 0.0000e+00 - total_loss: 61.8180\n",
            "Epoch 10/50\n",
            "24/24 [==============================] - 2s 79ms/step - factorized_top_k/top_1_categorical_accuracy: 0.1364 - factorized_top_k/top_5_categorical_accuracy: 0.2185 - factorized_top_k/top_10_categorical_accuracy: 0.2821 - factorized_top_k/top_50_categorical_accuracy: 0.4265 - factorized_top_k/top_100_categorical_accuracy: 0.5709 - loss: 61.1672 - regularization_loss: 0.0000e+00 - total_loss: 61.1672\n",
            "Epoch 11/50\n",
            "24/24 [==============================] - 3s 111ms/step - factorized_top_k/top_1_categorical_accuracy: 0.1232 - factorized_top_k/top_5_categorical_accuracy: 0.2093 - factorized_top_k/top_10_categorical_accuracy: 0.2517 - factorized_top_k/top_50_categorical_accuracy: 0.4464 - factorized_top_k/top_100_categorical_accuracy: 0.5523 - loss: 61.2291 - regularization_loss: 0.0000e+00 - total_loss: 61.2291\n",
            "Epoch 12/50\n",
            "24/24 [==============================] - 2s 83ms/step - factorized_top_k/top_1_categorical_accuracy: 0.1219 - factorized_top_k/top_5_categorical_accuracy: 0.2106 - factorized_top_k/top_10_categorical_accuracy: 0.2570 - factorized_top_k/top_50_categorical_accuracy: 0.4517 - factorized_top_k/top_100_categorical_accuracy: 0.5722 - loss: 60.4251 - regularization_loss: 0.0000e+00 - total_loss: 60.4251\n",
            "Epoch 13/50\n",
            "24/24 [==============================] - 2s 84ms/step - factorized_top_k/top_1_categorical_accuracy: 0.1219 - factorized_top_k/top_5_categorical_accuracy: 0.2212 - factorized_top_k/top_10_categorical_accuracy: 0.2570 - factorized_top_k/top_50_categorical_accuracy: 0.4464 - factorized_top_k/top_100_categorical_accuracy: 0.5550 - loss: 60.2366 - regularization_loss: 0.0000e+00 - total_loss: 60.2366\n",
            "Epoch 14/50\n",
            "24/24 [==============================] - 2s 82ms/step - factorized_top_k/top_1_categorical_accuracy: 0.1444 - factorized_top_k/top_5_categorical_accuracy: 0.2318 - factorized_top_k/top_10_categorical_accuracy: 0.2795 - factorized_top_k/top_50_categorical_accuracy: 0.4662 - factorized_top_k/top_100_categorical_accuracy: 0.5748 - loss: 59.9792 - regularization_loss: 0.0000e+00 - total_loss: 59.9792\n",
            "Epoch 15/50\n",
            "24/24 [==============================] - 2s 82ms/step - factorized_top_k/top_1_categorical_accuracy: 0.1285 - factorized_top_k/top_5_categorical_accuracy: 0.2172 - factorized_top_k/top_10_categorical_accuracy: 0.2623 - factorized_top_k/top_50_categorical_accuracy: 0.4596 - factorized_top_k/top_100_categorical_accuracy: 0.5669 - loss: 60.1931 - regularization_loss: 0.0000e+00 - total_loss: 60.1931\n",
            "Epoch 16/50\n",
            "24/24 [==============================] - 3s 126ms/step - factorized_top_k/top_1_categorical_accuracy: 0.1285 - factorized_top_k/top_5_categorical_accuracy: 0.2252 - factorized_top_k/top_10_categorical_accuracy: 0.2715 - factorized_top_k/top_50_categorical_accuracy: 0.4464 - factorized_top_k/top_100_categorical_accuracy: 0.5762 - loss: 59.1008 - regularization_loss: 0.0000e+00 - total_loss: 59.1008\n",
            "Epoch 17/50\n",
            "24/24 [==============================] - 3s 108ms/step - factorized_top_k/top_1_categorical_accuracy: 0.1470 - factorized_top_k/top_5_categorical_accuracy: 0.2437 - factorized_top_k/top_10_categorical_accuracy: 0.2795 - factorized_top_k/top_50_categorical_accuracy: 0.4649 - factorized_top_k/top_100_categorical_accuracy: 0.5762 - loss: 59.3750 - regularization_loss: 0.0000e+00 - total_loss: 59.3750\n",
            "Epoch 18/50\n",
            "24/24 [==============================] - 3s 136ms/step - factorized_top_k/top_1_categorical_accuracy: 0.1179 - factorized_top_k/top_5_categorical_accuracy: 0.1987 - factorized_top_k/top_10_categorical_accuracy: 0.2490 - factorized_top_k/top_50_categorical_accuracy: 0.4291 - factorized_top_k/top_100_categorical_accuracy: 0.5417 - loss: 58.6408 - regularization_loss: 0.0000e+00 - total_loss: 58.6408\n",
            "Epoch 19/50\n",
            "24/24 [==============================] - 2s 93ms/step - factorized_top_k/top_1_categorical_accuracy: 0.1272 - factorized_top_k/top_5_categorical_accuracy: 0.2132 - factorized_top_k/top_10_categorical_accuracy: 0.2543 - factorized_top_k/top_50_categorical_accuracy: 0.4543 - factorized_top_k/top_100_categorical_accuracy: 0.5497 - loss: 58.6388 - regularization_loss: 0.0000e+00 - total_loss: 58.6388\n",
            "Epoch 20/50\n",
            "24/24 [==============================] - 3s 137ms/step - factorized_top_k/top_1_categorical_accuracy: 0.1192 - factorized_top_k/top_5_categorical_accuracy: 0.2424 - factorized_top_k/top_10_categorical_accuracy: 0.2834 - factorized_top_k/top_50_categorical_accuracy: 0.4609 - factorized_top_k/top_100_categorical_accuracy: 0.5709 - loss: 58.8777 - regularization_loss: 0.0000e+00 - total_loss: 58.8777\n",
            "Epoch 21/50\n",
            "24/24 [==============================] - 2s 88ms/step - factorized_top_k/top_1_categorical_accuracy: 0.1245 - factorized_top_k/top_5_categorical_accuracy: 0.2371 - factorized_top_k/top_10_categorical_accuracy: 0.2914 - factorized_top_k/top_50_categorical_accuracy: 0.4583 - factorized_top_k/top_100_categorical_accuracy: 0.5722 - loss: 59.2488 - regularization_loss: 0.0000e+00 - total_loss: 59.2488\n",
            "Epoch 22/50\n",
            "24/24 [==============================] - 2s 87ms/step - factorized_top_k/top_1_categorical_accuracy: 0.1430 - factorized_top_k/top_5_categorical_accuracy: 0.2477 - factorized_top_k/top_10_categorical_accuracy: 0.2848 - factorized_top_k/top_50_categorical_accuracy: 0.4675 - factorized_top_k/top_100_categorical_accuracy: 0.5748 - loss: 58.5852 - regularization_loss: 0.0000e+00 - total_loss: 58.5852\n",
            "Epoch 23/50\n",
            "24/24 [==============================] - 2s 92ms/step - factorized_top_k/top_1_categorical_accuracy: 0.1086 - factorized_top_k/top_5_categorical_accuracy: 0.2265 - factorized_top_k/top_10_categorical_accuracy: 0.2649 - factorized_top_k/top_50_categorical_accuracy: 0.4225 - factorized_top_k/top_100_categorical_accuracy: 0.5550 - loss: 57.7142 - regularization_loss: 0.0000e+00 - total_loss: 57.7142\n",
            "Epoch 24/50\n",
            "24/24 [==============================] - 3s 120ms/step - factorized_top_k/top_1_categorical_accuracy: 0.1470 - factorized_top_k/top_5_categorical_accuracy: 0.2278 - factorized_top_k/top_10_categorical_accuracy: 0.2530 - factorized_top_k/top_50_categorical_accuracy: 0.4596 - factorized_top_k/top_100_categorical_accuracy: 0.5762 - loss: 58.2665 - regularization_loss: 0.0000e+00 - total_loss: 58.2665\n",
            "Epoch 25/50\n",
            "24/24 [==============================] - 2s 94ms/step - factorized_top_k/top_1_categorical_accuracy: 0.1430 - factorized_top_k/top_5_categorical_accuracy: 0.2265 - factorized_top_k/top_10_categorical_accuracy: 0.2609 - factorized_top_k/top_50_categorical_accuracy: 0.4477 - factorized_top_k/top_100_categorical_accuracy: 0.5629 - loss: 57.8702 - regularization_loss: 0.0000e+00 - total_loss: 57.8702\n",
            "Epoch 26/50\n",
            "24/24 [==============================] - 2s 97ms/step - factorized_top_k/top_1_categorical_accuracy: 0.1430 - factorized_top_k/top_5_categorical_accuracy: 0.2185 - factorized_top_k/top_10_categorical_accuracy: 0.2556 - factorized_top_k/top_50_categorical_accuracy: 0.4477 - factorized_top_k/top_100_categorical_accuracy: 0.5576 - loss: 59.0712 - regularization_loss: 0.0000e+00 - total_loss: 59.0712\n",
            "Epoch 27/50\n",
            "24/24 [==============================] - 2s 92ms/step - factorized_top_k/top_1_categorical_accuracy: 0.1073 - factorized_top_k/top_5_categorical_accuracy: 0.2066 - factorized_top_k/top_10_categorical_accuracy: 0.2450 - factorized_top_k/top_50_categorical_accuracy: 0.4543 - factorized_top_k/top_100_categorical_accuracy: 0.5325 - loss: 56.9646 - regularization_loss: 0.0000e+00 - total_loss: 56.9646\n",
            "Epoch 28/50\n",
            "24/24 [==============================] - 2s 94ms/step - factorized_top_k/top_1_categorical_accuracy: 0.1351 - factorized_top_k/top_5_categorical_accuracy: 0.2238 - factorized_top_k/top_10_categorical_accuracy: 0.2636 - factorized_top_k/top_50_categorical_accuracy: 0.4636 - factorized_top_k/top_100_categorical_accuracy: 0.5815 - loss: 57.1826 - regularization_loss: 0.0000e+00 - total_loss: 57.1826\n",
            "Epoch 29/50\n",
            "24/24 [==============================] - 4s 155ms/step - factorized_top_k/top_1_categorical_accuracy: 0.1232 - factorized_top_k/top_5_categorical_accuracy: 0.2172 - factorized_top_k/top_10_categorical_accuracy: 0.2662 - factorized_top_k/top_50_categorical_accuracy: 0.4689 - factorized_top_k/top_100_categorical_accuracy: 0.5563 - loss: 58.4343 - regularization_loss: 0.0000e+00 - total_loss: 58.4343\n",
            "Epoch 30/50\n",
            "24/24 [==============================] - 2s 98ms/step - factorized_top_k/top_1_categorical_accuracy: 0.1298 - factorized_top_k/top_5_categorical_accuracy: 0.2212 - factorized_top_k/top_10_categorical_accuracy: 0.2702 - factorized_top_k/top_50_categorical_accuracy: 0.4742 - factorized_top_k/top_100_categorical_accuracy: 0.5642 - loss: 57.8598 - regularization_loss: 0.0000e+00 - total_loss: 57.8598\n",
            "Epoch 31/50\n",
            "24/24 [==============================] - 2s 99ms/step - factorized_top_k/top_1_categorical_accuracy: 0.1457 - factorized_top_k/top_5_categorical_accuracy: 0.2503 - factorized_top_k/top_10_categorical_accuracy: 0.2795 - factorized_top_k/top_50_categorical_accuracy: 0.4649 - factorized_top_k/top_100_categorical_accuracy: 0.5682 - loss: 57.8000 - regularization_loss: 0.0000e+00 - total_loss: 57.8000\n",
            "Epoch 32/50\n",
            "24/24 [==============================] - 2s 95ms/step - factorized_top_k/top_1_categorical_accuracy: 0.1364 - factorized_top_k/top_5_categorical_accuracy: 0.2119 - factorized_top_k/top_10_categorical_accuracy: 0.2662 - factorized_top_k/top_50_categorical_accuracy: 0.4543 - factorized_top_k/top_100_categorical_accuracy: 0.5669 - loss: 58.1113 - regularization_loss: 0.0000e+00 - total_loss: 58.1113\n",
            "Epoch 33/50\n",
            "24/24 [==============================] - 3s 103ms/step - factorized_top_k/top_1_categorical_accuracy: 0.1510 - factorized_top_k/top_5_categorical_accuracy: 0.2344 - factorized_top_k/top_10_categorical_accuracy: 0.2808 - factorized_top_k/top_50_categorical_accuracy: 0.4768 - factorized_top_k/top_100_categorical_accuracy: 0.6093 - loss: 58.0120 - regularization_loss: 0.0000e+00 - total_loss: 58.0120\n",
            "Epoch 34/50\n",
            "24/24 [==============================] - 5s 210ms/step - factorized_top_k/top_1_categorical_accuracy: 0.1536 - factorized_top_k/top_5_categorical_accuracy: 0.2331 - factorized_top_k/top_10_categorical_accuracy: 0.2781 - factorized_top_k/top_50_categorical_accuracy: 0.4795 - factorized_top_k/top_100_categorical_accuracy: 0.5828 - loss: 57.5703 - regularization_loss: 0.0000e+00 - total_loss: 57.5703\n",
            "Epoch 35/50\n",
            "24/24 [==============================] - 4s 173ms/step - factorized_top_k/top_1_categorical_accuracy: 0.1444 - factorized_top_k/top_5_categorical_accuracy: 0.2238 - factorized_top_k/top_10_categorical_accuracy: 0.2662 - factorized_top_k/top_50_categorical_accuracy: 0.4450 - factorized_top_k/top_100_categorical_accuracy: 0.5589 - loss: 57.0154 - regularization_loss: 0.0000e+00 - total_loss: 57.0154\n",
            "Epoch 36/50\n",
            "24/24 [==============================] - 2s 102ms/step - factorized_top_k/top_1_categorical_accuracy: 0.1430 - factorized_top_k/top_5_categorical_accuracy: 0.2344 - factorized_top_k/top_10_categorical_accuracy: 0.2808 - factorized_top_k/top_50_categorical_accuracy: 0.4583 - factorized_top_k/top_100_categorical_accuracy: 0.5722 - loss: 57.5102 - regularization_loss: 0.0000e+00 - total_loss: 57.5102\n",
            "Epoch 37/50\n",
            "24/24 [==============================] - 2s 99ms/step - factorized_top_k/top_1_categorical_accuracy: 0.1338 - factorized_top_k/top_5_categorical_accuracy: 0.2225 - factorized_top_k/top_10_categorical_accuracy: 0.2808 - factorized_top_k/top_50_categorical_accuracy: 0.4927 - factorized_top_k/top_100_categorical_accuracy: 0.5815 - loss: 57.6263 - regularization_loss: 0.0000e+00 - total_loss: 57.6263\n",
            "Epoch 38/50\n",
            "24/24 [==============================] - 4s 162ms/step - factorized_top_k/top_1_categorical_accuracy: 0.1510 - factorized_top_k/top_5_categorical_accuracy: 0.2464 - factorized_top_k/top_10_categorical_accuracy: 0.2993 - factorized_top_k/top_50_categorical_accuracy: 0.4781 - factorized_top_k/top_100_categorical_accuracy: 0.5854 - loss: 57.0039 - regularization_loss: 0.0000e+00 - total_loss: 57.0039\n",
            "Epoch 39/50\n",
            "24/24 [==============================] - 2s 98ms/step - factorized_top_k/top_1_categorical_accuracy: 0.1351 - factorized_top_k/top_5_categorical_accuracy: 0.2358 - factorized_top_k/top_10_categorical_accuracy: 0.2715 - factorized_top_k/top_50_categorical_accuracy: 0.4636 - factorized_top_k/top_100_categorical_accuracy: 0.5695 - loss: 57.4974 - regularization_loss: 0.0000e+00 - total_loss: 57.4974\n",
            "Epoch 40/50\n",
            "24/24 [==============================] - 3s 104ms/step - factorized_top_k/top_1_categorical_accuracy: 0.1497 - factorized_top_k/top_5_categorical_accuracy: 0.2331 - factorized_top_k/top_10_categorical_accuracy: 0.2808 - factorized_top_k/top_50_categorical_accuracy: 0.4649 - factorized_top_k/top_100_categorical_accuracy: 0.5735 - loss: 59.0989 - regularization_loss: 0.0000e+00 - total_loss: 59.0989\n",
            "Epoch 41/50\n",
            "24/24 [==============================] - 3s 103ms/step - factorized_top_k/top_1_categorical_accuracy: 0.1377 - factorized_top_k/top_5_categorical_accuracy: 0.2252 - factorized_top_k/top_10_categorical_accuracy: 0.2768 - factorized_top_k/top_50_categorical_accuracy: 0.4623 - factorized_top_k/top_100_categorical_accuracy: 0.5669 - loss: 57.3920 - regularization_loss: 0.0000e+00 - total_loss: 57.3920\n",
            "Epoch 42/50\n",
            "24/24 [==============================] - 3s 124ms/step - factorized_top_k/top_1_categorical_accuracy: 0.1523 - factorized_top_k/top_5_categorical_accuracy: 0.2358 - factorized_top_k/top_10_categorical_accuracy: 0.2768 - factorized_top_k/top_50_categorical_accuracy: 0.4848 - factorized_top_k/top_100_categorical_accuracy: 0.5854 - loss: 57.5894 - regularization_loss: 0.0000e+00 - total_loss: 57.5894\n",
            "Epoch 43/50\n",
            "24/24 [==============================] - 3s 107ms/step - factorized_top_k/top_1_categorical_accuracy: 0.1298 - factorized_top_k/top_5_categorical_accuracy: 0.2053 - factorized_top_k/top_10_categorical_accuracy: 0.2503 - factorized_top_k/top_50_categorical_accuracy: 0.4344 - factorized_top_k/top_100_categorical_accuracy: 0.5523 - loss: 57.1394 - regularization_loss: 0.0000e+00 - total_loss: 57.1394\n",
            "Epoch 44/50\n",
            "24/24 [==============================] - 3s 109ms/step - factorized_top_k/top_1_categorical_accuracy: 0.1377 - factorized_top_k/top_5_categorical_accuracy: 0.2450 - factorized_top_k/top_10_categorical_accuracy: 0.2940 - factorized_top_k/top_50_categorical_accuracy: 0.4821 - factorized_top_k/top_100_categorical_accuracy: 0.5881 - loss: 57.0157 - regularization_loss: 0.0000e+00 - total_loss: 57.0157\n",
            "Epoch 45/50\n",
            "24/24 [==============================] - 4s 164ms/step - factorized_top_k/top_1_categorical_accuracy: 0.1311 - factorized_top_k/top_5_categorical_accuracy: 0.2106 - factorized_top_k/top_10_categorical_accuracy: 0.2742 - factorized_top_k/top_50_categorical_accuracy: 0.4821 - factorized_top_k/top_100_categorical_accuracy: 0.5775 - loss: 57.5130 - regularization_loss: 0.0000e+00 - total_loss: 57.5130\n",
            "Epoch 46/50\n",
            "24/24 [==============================] - 3s 107ms/step - factorized_top_k/top_1_categorical_accuracy: 0.1377 - factorized_top_k/top_5_categorical_accuracy: 0.2212 - factorized_top_k/top_10_categorical_accuracy: 0.2808 - factorized_top_k/top_50_categorical_accuracy: 0.4609 - factorized_top_k/top_100_categorical_accuracy: 0.5682 - loss: 57.0559 - regularization_loss: 0.0000e+00 - total_loss: 57.0559\n",
            "Epoch 47/50\n",
            "24/24 [==============================] - 3s 108ms/step - factorized_top_k/top_1_categorical_accuracy: 0.1510 - factorized_top_k/top_5_categorical_accuracy: 0.2437 - factorized_top_k/top_10_categorical_accuracy: 0.2927 - factorized_top_k/top_50_categorical_accuracy: 0.4980 - factorized_top_k/top_100_categorical_accuracy: 0.5815 - loss: 56.8082 - regularization_loss: 0.0000e+00 - total_loss: 56.8082\n",
            "Epoch 48/50\n",
            "24/24 [==============================] - 3s 112ms/step - factorized_top_k/top_1_categorical_accuracy: 0.1364 - factorized_top_k/top_5_categorical_accuracy: 0.2291 - factorized_top_k/top_10_categorical_accuracy: 0.2821 - factorized_top_k/top_50_categorical_accuracy: 0.4715 - factorized_top_k/top_100_categorical_accuracy: 0.5589 - loss: 56.8603 - regularization_loss: 0.0000e+00 - total_loss: 56.8603\n",
            "Epoch 49/50\n",
            "24/24 [==============================] - 4s 174ms/step - factorized_top_k/top_1_categorical_accuracy: 0.1285 - factorized_top_k/top_5_categorical_accuracy: 0.2225 - factorized_top_k/top_10_categorical_accuracy: 0.2728 - factorized_top_k/top_50_categorical_accuracy: 0.4556 - factorized_top_k/top_100_categorical_accuracy: 0.5576 - loss: 56.9999 - regularization_loss: 0.0000e+00 - total_loss: 56.9999\n",
            "Epoch 50/50\n",
            "24/24 [==============================] - 3s 107ms/step - factorized_top_k/top_1_categorical_accuracy: 0.1285 - factorized_top_k/top_5_categorical_accuracy: 0.2132 - factorized_top_k/top_10_categorical_accuracy: 0.2583 - factorized_top_k/top_50_categorical_accuracy: 0.4543 - factorized_top_k/top_100_categorical_accuracy: 0.5709 - loss: 57.4031 - regularization_loss: 0.0000e+00 - total_loss: 57.4031\n",
            "24/24 [==============================] - 3s 105ms/step - factorized_top_k/top_1_categorical_accuracy: 0.1338 - factorized_top_k/top_5_categorical_accuracy: 0.2384 - factorized_top_k/top_10_categorical_accuracy: 0.2662 - factorized_top_k/top_50_categorical_accuracy: 0.4927 - factorized_top_k/top_100_categorical_accuracy: 0.5775 - loss: 56.1109 - regularization_loss: 0.0000e+00 - total_loss: 56.1109\n",
            "6/6 [==============================] - 1s 103ms/step - factorized_top_k/top_1_categorical_accuracy: 0.0741 - factorized_top_k/top_5_categorical_accuracy: 0.1376 - factorized_top_k/top_10_categorical_accuracy: 0.1376 - factorized_top_k/top_50_categorical_accuracy: 0.3016 - factorized_top_k/top_100_categorical_accuracy: 0.3651 - loss: 91.9099 - regularization_loss: 0.0000e+00 - total_loss: 91.9099\n",
            "Top-100 accuracy (train): 0.58.\n",
            "Top-100 accuracy (test): 0.37.\n",
            "Epoch 1/50\n",
            "24/24 [==============================] - 5s 131ms/step - factorized_top_k/top_1_categorical_accuracy: 0.0901 - factorized_top_k/top_5_categorical_accuracy: 0.0914 - factorized_top_k/top_10_categorical_accuracy: 0.0980 - factorized_top_k/top_50_categorical_accuracy: 0.1563 - factorized_top_k/top_100_categorical_accuracy: 0.2199 - loss: 95.2393 - regularization_loss: 0.0000e+00 - total_loss: 95.2393\n",
            "Epoch 2/50\n",
            "24/24 [==============================] - 4s 152ms/step - factorized_top_k/top_1_categorical_accuracy: 0.1086 - factorized_top_k/top_5_categorical_accuracy: 0.1377 - factorized_top_k/top_10_categorical_accuracy: 0.1603 - factorized_top_k/top_50_categorical_accuracy: 0.2834 - factorized_top_k/top_100_categorical_accuracy: 0.3775 - loss: 82.6055 - regularization_loss: 0.0000e+00 - total_loss: 82.6055\n",
            "Epoch 3/50\n",
            "24/24 [==============================] - 2s 101ms/step - factorized_top_k/top_1_categorical_accuracy: 0.0967 - factorized_top_k/top_5_categorical_accuracy: 0.1417 - factorized_top_k/top_10_categorical_accuracy: 0.1656 - factorized_top_k/top_50_categorical_accuracy: 0.3550 - factorized_top_k/top_100_categorical_accuracy: 0.4397 - loss: 75.7385 - regularization_loss: 0.0000e+00 - total_loss: 75.7385\n",
            "Epoch 4/50\n",
            "24/24 [==============================] - 2s 98ms/step - factorized_top_k/top_1_categorical_accuracy: 0.1099 - factorized_top_k/top_5_categorical_accuracy: 0.1550 - factorized_top_k/top_10_categorical_accuracy: 0.1907 - factorized_top_k/top_50_categorical_accuracy: 0.3974 - factorized_top_k/top_100_categorical_accuracy: 0.4901 - loss: 70.2453 - regularization_loss: 0.0000e+00 - total_loss: 70.2453\n",
            "Epoch 5/50\n",
            "24/24 [==============================] - 3s 104ms/step - factorized_top_k/top_1_categorical_accuracy: 0.1099 - factorized_top_k/top_5_categorical_accuracy: 0.1656 - factorized_top_k/top_10_categorical_accuracy: 0.2132 - factorized_top_k/top_50_categorical_accuracy: 0.4106 - factorized_top_k/top_100_categorical_accuracy: 0.5046 - loss: 67.8345 - regularization_loss: 0.0000e+00 - total_loss: 67.8345\n",
            "Epoch 6/50\n",
            "24/24 [==============================] - 3s 111ms/step - factorized_top_k/top_1_categorical_accuracy: 0.1192 - factorized_top_k/top_5_categorical_accuracy: 0.1682 - factorized_top_k/top_10_categorical_accuracy: 0.2278 - factorized_top_k/top_50_categorical_accuracy: 0.4371 - factorized_top_k/top_100_categorical_accuracy: 0.5298 - loss: 65.8531 - regularization_loss: 0.0000e+00 - total_loss: 65.8531\n",
            "Epoch 7/50\n",
            "24/24 [==============================] - 3s 109ms/step - factorized_top_k/top_1_categorical_accuracy: 0.1099 - factorized_top_k/top_5_categorical_accuracy: 0.1841 - factorized_top_k/top_10_categorical_accuracy: 0.2477 - factorized_top_k/top_50_categorical_accuracy: 0.4371 - factorized_top_k/top_100_categorical_accuracy: 0.5470 - loss: 63.5928 - regularization_loss: 0.0000e+00 - total_loss: 63.5928\n",
            "Epoch 8/50\n",
            "24/24 [==============================] - 2s 100ms/step - factorized_top_k/top_1_categorical_accuracy: 0.1179 - factorized_top_k/top_5_categorical_accuracy: 0.2053 - factorized_top_k/top_10_categorical_accuracy: 0.2477 - factorized_top_k/top_50_categorical_accuracy: 0.4583 - factorized_top_k/top_100_categorical_accuracy: 0.5589 - loss: 63.1992 - regularization_loss: 0.0000e+00 - total_loss: 63.1992\n",
            "Epoch 9/50\n",
            "24/24 [==============================] - 2s 101ms/step - factorized_top_k/top_1_categorical_accuracy: 0.1046 - factorized_top_k/top_5_categorical_accuracy: 0.2040 - factorized_top_k/top_10_categorical_accuracy: 0.2517 - factorized_top_k/top_50_categorical_accuracy: 0.4212 - factorized_top_k/top_100_categorical_accuracy: 0.5245 - loss: 62.1904 - regularization_loss: 0.0000e+00 - total_loss: 62.1904\n",
            "Epoch 10/50\n",
            "24/24 [==============================] - 2s 97ms/step - factorized_top_k/top_1_categorical_accuracy: 0.1060 - factorized_top_k/top_5_categorical_accuracy: 0.1974 - factorized_top_k/top_10_categorical_accuracy: 0.2503 - factorized_top_k/top_50_categorical_accuracy: 0.4066 - factorized_top_k/top_100_categorical_accuracy: 0.5391 - loss: 61.2189 - regularization_loss: 0.0000e+00 - total_loss: 61.2189\n",
            "Epoch 11/50\n",
            "24/24 [==============================] - 4s 149ms/step - factorized_top_k/top_1_categorical_accuracy: 0.1364 - factorized_top_k/top_5_categorical_accuracy: 0.2172 - factorized_top_k/top_10_categorical_accuracy: 0.2662 - factorized_top_k/top_50_categorical_accuracy: 0.4424 - factorized_top_k/top_100_categorical_accuracy: 0.5563 - loss: 61.6610 - regularization_loss: 0.0000e+00 - total_loss: 61.6610\n",
            "Epoch 12/50\n",
            "24/24 [==============================] - 2s 95ms/step - factorized_top_k/top_1_categorical_accuracy: 0.1338 - factorized_top_k/top_5_categorical_accuracy: 0.2026 - factorized_top_k/top_10_categorical_accuracy: 0.2543 - factorized_top_k/top_50_categorical_accuracy: 0.4623 - factorized_top_k/top_100_categorical_accuracy: 0.5669 - loss: 60.6874 - regularization_loss: 0.0000e+00 - total_loss: 60.6874\n",
            "Epoch 13/50\n",
            "24/24 [==============================] - 2s 91ms/step - factorized_top_k/top_1_categorical_accuracy: 0.1205 - factorized_top_k/top_5_categorical_accuracy: 0.2093 - factorized_top_k/top_10_categorical_accuracy: 0.2464 - factorized_top_k/top_50_categorical_accuracy: 0.4358 - factorized_top_k/top_100_categorical_accuracy: 0.5576 - loss: 60.5075 - regularization_loss: 0.0000e+00 - total_loss: 60.5075\n",
            "Epoch 14/50\n",
            "24/24 [==============================] - 2s 89ms/step - factorized_top_k/top_1_categorical_accuracy: 0.1430 - factorized_top_k/top_5_categorical_accuracy: 0.2119 - factorized_top_k/top_10_categorical_accuracy: 0.2768 - factorized_top_k/top_50_categorical_accuracy: 0.4596 - factorized_top_k/top_100_categorical_accuracy: 0.5616 - loss: 60.0857 - regularization_loss: 0.0000e+00 - total_loss: 60.0857\n",
            "Epoch 15/50\n",
            "24/24 [==============================] - 2s 93ms/step - factorized_top_k/top_1_categorical_accuracy: 0.1430 - factorized_top_k/top_5_categorical_accuracy: 0.2305 - factorized_top_k/top_10_categorical_accuracy: 0.2728 - factorized_top_k/top_50_categorical_accuracy: 0.4543 - factorized_top_k/top_100_categorical_accuracy: 0.5629 - loss: 60.5136 - regularization_loss: 0.0000e+00 - total_loss: 60.5136\n",
            "Epoch 16/50\n",
            "24/24 [==============================] - 4s 147ms/step - factorized_top_k/top_1_categorical_accuracy: 0.1152 - factorized_top_k/top_5_categorical_accuracy: 0.2172 - factorized_top_k/top_10_categorical_accuracy: 0.2530 - factorized_top_k/top_50_categorical_accuracy: 0.4450 - factorized_top_k/top_100_categorical_accuracy: 0.5709 - loss: 59.5905 - regularization_loss: 0.0000e+00 - total_loss: 59.5905\n",
            "Epoch 17/50\n",
            "24/24 [==============================] - 2s 91ms/step - factorized_top_k/top_1_categorical_accuracy: 0.1523 - factorized_top_k/top_5_categorical_accuracy: 0.2331 - factorized_top_k/top_10_categorical_accuracy: 0.2821 - factorized_top_k/top_50_categorical_accuracy: 0.4543 - factorized_top_k/top_100_categorical_accuracy: 0.5656 - loss: 59.3404 - regularization_loss: 0.0000e+00 - total_loss: 59.3404\n",
            "Epoch 18/50\n",
            "24/24 [==============================] - 2s 94ms/step - factorized_top_k/top_1_categorical_accuracy: 0.1298 - factorized_top_k/top_5_categorical_accuracy: 0.2199 - factorized_top_k/top_10_categorical_accuracy: 0.2649 - factorized_top_k/top_50_categorical_accuracy: 0.4371 - factorized_top_k/top_100_categorical_accuracy: 0.5430 - loss: 58.5401 - regularization_loss: 0.0000e+00 - total_loss: 58.5401\n",
            "Epoch 19/50\n",
            "24/24 [==============================] - 2s 94ms/step - factorized_top_k/top_1_categorical_accuracy: 0.1325 - factorized_top_k/top_5_categorical_accuracy: 0.2079 - factorized_top_k/top_10_categorical_accuracy: 0.2490 - factorized_top_k/top_50_categorical_accuracy: 0.4464 - factorized_top_k/top_100_categorical_accuracy: 0.5497 - loss: 58.7014 - regularization_loss: 0.0000e+00 - total_loss: 58.7014\n",
            "Epoch 20/50\n",
            "24/24 [==============================] - 2s 98ms/step - factorized_top_k/top_1_categorical_accuracy: 0.1166 - factorized_top_k/top_5_categorical_accuracy: 0.2384 - factorized_top_k/top_10_categorical_accuracy: 0.2901 - factorized_top_k/top_50_categorical_accuracy: 0.4649 - factorized_top_k/top_100_categorical_accuracy: 0.5576 - loss: 59.0633 - regularization_loss: 0.0000e+00 - total_loss: 59.0633\n",
            "Epoch 21/50\n",
            "24/24 [==============================] - 4s 156ms/step - factorized_top_k/top_1_categorical_accuracy: 0.1245 - factorized_top_k/top_5_categorical_accuracy: 0.2252 - factorized_top_k/top_10_categorical_accuracy: 0.2768 - factorized_top_k/top_50_categorical_accuracy: 0.4570 - factorized_top_k/top_100_categorical_accuracy: 0.5722 - loss: 59.2666 - regularization_loss: 0.0000e+00 - total_loss: 59.2666\n",
            "Epoch 22/50\n",
            "24/24 [==============================] - 2s 98ms/step - factorized_top_k/top_1_categorical_accuracy: 0.1391 - factorized_top_k/top_5_categorical_accuracy: 0.2212 - factorized_top_k/top_10_categorical_accuracy: 0.2689 - factorized_top_k/top_50_categorical_accuracy: 0.4583 - factorized_top_k/top_100_categorical_accuracy: 0.5788 - loss: 58.7307 - regularization_loss: 0.0000e+00 - total_loss: 58.7307\n",
            "Epoch 23/50\n",
            "24/24 [==============================] - 2s 100ms/step - factorized_top_k/top_1_categorical_accuracy: 0.1060 - factorized_top_k/top_5_categorical_accuracy: 0.2265 - factorized_top_k/top_10_categorical_accuracy: 0.2636 - factorized_top_k/top_50_categorical_accuracy: 0.4252 - factorized_top_k/top_100_categorical_accuracy: 0.5523 - loss: 57.7083 - regularization_loss: 0.0000e+00 - total_loss: 57.7083\n",
            "Epoch 24/50\n",
            "24/24 [==============================] - 3s 103ms/step - factorized_top_k/top_1_categorical_accuracy: 0.1377 - factorized_top_k/top_5_categorical_accuracy: 0.2252 - factorized_top_k/top_10_categorical_accuracy: 0.2556 - factorized_top_k/top_50_categorical_accuracy: 0.4675 - factorized_top_k/top_100_categorical_accuracy: 0.5642 - loss: 58.2657 - regularization_loss: 0.0000e+00 - total_loss: 58.2657\n",
            "Epoch 25/50\n",
            "24/24 [==============================] - 4s 170ms/step - factorized_top_k/top_1_categorical_accuracy: 0.1364 - factorized_top_k/top_5_categorical_accuracy: 0.2331 - factorized_top_k/top_10_categorical_accuracy: 0.2689 - factorized_top_k/top_50_categorical_accuracy: 0.4702 - factorized_top_k/top_100_categorical_accuracy: 0.5748 - loss: 57.6905 - regularization_loss: 0.0000e+00 - total_loss: 57.6905\n",
            "Epoch 26/50\n",
            "24/24 [==============================] - 3s 113ms/step - factorized_top_k/top_1_categorical_accuracy: 0.1311 - factorized_top_k/top_5_categorical_accuracy: 0.2172 - factorized_top_k/top_10_categorical_accuracy: 0.2636 - factorized_top_k/top_50_categorical_accuracy: 0.4556 - factorized_top_k/top_100_categorical_accuracy: 0.5563 - loss: 59.0359 - regularization_loss: 0.0000e+00 - total_loss: 59.0359\n",
            "Epoch 27/50\n",
            "24/24 [==============================] - 3s 112ms/step - factorized_top_k/top_1_categorical_accuracy: 0.1139 - factorized_top_k/top_5_categorical_accuracy: 0.2132 - factorized_top_k/top_10_categorical_accuracy: 0.2543 - factorized_top_k/top_50_categorical_accuracy: 0.4623 - factorized_top_k/top_100_categorical_accuracy: 0.5404 - loss: 57.0237 - regularization_loss: 0.0000e+00 - total_loss: 57.0237\n",
            "Epoch 28/50\n",
            "24/24 [==============================] - 4s 160ms/step - factorized_top_k/top_1_categorical_accuracy: 0.1391 - factorized_top_k/top_5_categorical_accuracy: 0.2265 - factorized_top_k/top_10_categorical_accuracy: 0.2609 - factorized_top_k/top_50_categorical_accuracy: 0.4570 - factorized_top_k/top_100_categorical_accuracy: 0.5788 - loss: 57.3008 - regularization_loss: 0.0000e+00 - total_loss: 57.3008\n",
            "Epoch 29/50\n",
            "24/24 [==============================] - 3s 116ms/step - factorized_top_k/top_1_categorical_accuracy: 0.1179 - factorized_top_k/top_5_categorical_accuracy: 0.2053 - factorized_top_k/top_10_categorical_accuracy: 0.2596 - factorized_top_k/top_50_categorical_accuracy: 0.4636 - factorized_top_k/top_100_categorical_accuracy: 0.5510 - loss: 58.1858 - regularization_loss: 0.0000e+00 - total_loss: 58.1858\n",
            "Epoch 30/50\n",
            "24/24 [==============================] - 3s 116ms/step - factorized_top_k/top_1_categorical_accuracy: 0.1338 - factorized_top_k/top_5_categorical_accuracy: 0.2238 - factorized_top_k/top_10_categorical_accuracy: 0.2728 - factorized_top_k/top_50_categorical_accuracy: 0.4702 - factorized_top_k/top_100_categorical_accuracy: 0.5656 - loss: 57.9309 - regularization_loss: 0.0000e+00 - total_loss: 57.9309\n",
            "Epoch 31/50\n",
            "24/24 [==============================] - 4s 179ms/step - factorized_top_k/top_1_categorical_accuracy: 0.1483 - factorized_top_k/top_5_categorical_accuracy: 0.2543 - factorized_top_k/top_10_categorical_accuracy: 0.2874 - factorized_top_k/top_50_categorical_accuracy: 0.4755 - factorized_top_k/top_100_categorical_accuracy: 0.5788 - loss: 57.7336 - regularization_loss: 0.0000e+00 - total_loss: 57.7336\n",
            "Epoch 32/50\n",
            "24/24 [==============================] - 3s 115ms/step - factorized_top_k/top_1_categorical_accuracy: 0.1325 - factorized_top_k/top_5_categorical_accuracy: 0.2053 - factorized_top_k/top_10_categorical_accuracy: 0.2596 - factorized_top_k/top_50_categorical_accuracy: 0.4583 - factorized_top_k/top_100_categorical_accuracy: 0.5642 - loss: 58.0561 - regularization_loss: 0.0000e+00 - total_loss: 58.0561\n",
            "Epoch 33/50\n",
            "24/24 [==============================] - 3s 119ms/step - factorized_top_k/top_1_categorical_accuracy: 0.1589 - factorized_top_k/top_5_categorical_accuracy: 0.2424 - factorized_top_k/top_10_categorical_accuracy: 0.2967 - factorized_top_k/top_50_categorical_accuracy: 0.4728 - factorized_top_k/top_100_categorical_accuracy: 0.5987 - loss: 58.0320 - regularization_loss: 0.0000e+00 - total_loss: 58.0320\n",
            "Epoch 34/50\n",
            "24/24 [==============================] - 4s 182ms/step - factorized_top_k/top_1_categorical_accuracy: 0.1656 - factorized_top_k/top_5_categorical_accuracy: 0.2490 - factorized_top_k/top_10_categorical_accuracy: 0.2980 - factorized_top_k/top_50_categorical_accuracy: 0.4980 - factorized_top_k/top_100_categorical_accuracy: 0.5960 - loss: 57.5536 - regularization_loss: 0.0000e+00 - total_loss: 57.5536\n",
            "Epoch 35/50\n",
            "24/24 [==============================] - 3s 112ms/step - factorized_top_k/top_1_categorical_accuracy: 0.1536 - factorized_top_k/top_5_categorical_accuracy: 0.2331 - factorized_top_k/top_10_categorical_accuracy: 0.2715 - factorized_top_k/top_50_categorical_accuracy: 0.4490 - factorized_top_k/top_100_categorical_accuracy: 0.5589 - loss: 57.1563 - regularization_loss: 0.0000e+00 - total_loss: 57.1563\n",
            "Epoch 36/50\n",
            "24/24 [==============================] - 3s 112ms/step - factorized_top_k/top_1_categorical_accuracy: 0.1298 - factorized_top_k/top_5_categorical_accuracy: 0.2291 - factorized_top_k/top_10_categorical_accuracy: 0.2742 - factorized_top_k/top_50_categorical_accuracy: 0.4543 - factorized_top_k/top_100_categorical_accuracy: 0.5841 - loss: 57.5321 - regularization_loss: 0.0000e+00 - total_loss: 57.5321\n",
            "Epoch 37/50\n",
            "24/24 [==============================] - 3s 137ms/step - factorized_top_k/top_1_categorical_accuracy: 0.1298 - factorized_top_k/top_5_categorical_accuracy: 0.2331 - factorized_top_k/top_10_categorical_accuracy: 0.2861 - factorized_top_k/top_50_categorical_accuracy: 0.4768 - factorized_top_k/top_100_categorical_accuracy: 0.5735 - loss: 57.5766 - regularization_loss: 0.0000e+00 - total_loss: 57.5766\n",
            "Epoch 38/50\n",
            "24/24 [==============================] - 5s 220ms/step - factorized_top_k/top_1_categorical_accuracy: 0.1232 - factorized_top_k/top_5_categorical_accuracy: 0.2358 - factorized_top_k/top_10_categorical_accuracy: 0.2702 - factorized_top_k/top_50_categorical_accuracy: 0.4583 - factorized_top_k/top_100_categorical_accuracy: 0.5563 - loss: 56.8933 - regularization_loss: 0.0000e+00 - total_loss: 56.8933\n",
            "Epoch 39/50\n",
            "24/24 [==============================] - 3s 114ms/step - factorized_top_k/top_1_categorical_accuracy: 0.1192 - factorized_top_k/top_5_categorical_accuracy: 0.2265 - factorized_top_k/top_10_categorical_accuracy: 0.2596 - factorized_top_k/top_50_categorical_accuracy: 0.4689 - factorized_top_k/top_100_categorical_accuracy: 0.5735 - loss: 57.5415 - regularization_loss: 0.0000e+00 - total_loss: 57.5415\n",
            "Epoch 40/50\n",
            "24/24 [==============================] - 4s 176ms/step - factorized_top_k/top_1_categorical_accuracy: 0.1377 - factorized_top_k/top_5_categorical_accuracy: 0.2185 - factorized_top_k/top_10_categorical_accuracy: 0.2662 - factorized_top_k/top_50_categorical_accuracy: 0.4543 - factorized_top_k/top_100_categorical_accuracy: 0.5762 - loss: 59.0876 - regularization_loss: 0.0000e+00 - total_loss: 59.0876\n",
            "Epoch 41/50\n",
            "24/24 [==============================] - 3s 124ms/step - factorized_top_k/top_1_categorical_accuracy: 0.1364 - factorized_top_k/top_5_categorical_accuracy: 0.2265 - factorized_top_k/top_10_categorical_accuracy: 0.2821 - factorized_top_k/top_50_categorical_accuracy: 0.4848 - factorized_top_k/top_100_categorical_accuracy: 0.5801 - loss: 57.3794 - regularization_loss: 0.0000e+00 - total_loss: 57.3794\n",
            "Epoch 42/50\n",
            "24/24 [==============================] - 3s 113ms/step - factorized_top_k/top_1_categorical_accuracy: 0.1656 - factorized_top_k/top_5_categorical_accuracy: 0.2437 - factorized_top_k/top_10_categorical_accuracy: 0.2768 - factorized_top_k/top_50_categorical_accuracy: 0.4781 - factorized_top_k/top_100_categorical_accuracy: 0.5735 - loss: 57.6380 - regularization_loss: 0.0000e+00 - total_loss: 57.6380\n",
            "Epoch 43/50\n",
            "24/24 [==============================] - 4s 165ms/step - factorized_top_k/top_1_categorical_accuracy: 0.1325 - factorized_top_k/top_5_categorical_accuracy: 0.2066 - factorized_top_k/top_10_categorical_accuracy: 0.2503 - factorized_top_k/top_50_categorical_accuracy: 0.4291 - factorized_top_k/top_100_categorical_accuracy: 0.5457 - loss: 57.1367 - regularization_loss: 0.0000e+00 - total_loss: 57.1367\n",
            "Epoch 44/50\n",
            "24/24 [==============================] - 4s 149ms/step - factorized_top_k/top_1_categorical_accuracy: 0.1258 - factorized_top_k/top_5_categorical_accuracy: 0.2397 - factorized_top_k/top_10_categorical_accuracy: 0.2954 - factorized_top_k/top_50_categorical_accuracy: 0.4861 - factorized_top_k/top_100_categorical_accuracy: 0.5947 - loss: 56.9951 - regularization_loss: 0.0000e+00 - total_loss: 56.9951\n",
            "Epoch 45/50\n",
            "24/24 [==============================] - 3s 117ms/step - factorized_top_k/top_1_categorical_accuracy: 0.1325 - factorized_top_k/top_5_categorical_accuracy: 0.2185 - factorized_top_k/top_10_categorical_accuracy: 0.2742 - factorized_top_k/top_50_categorical_accuracy: 0.4821 - factorized_top_k/top_100_categorical_accuracy: 0.5682 - loss: 57.5112 - regularization_loss: 0.0000e+00 - total_loss: 57.5112\n",
            "Epoch 46/50\n",
            "24/24 [==============================] - 3s 114ms/step - factorized_top_k/top_1_categorical_accuracy: 0.1364 - factorized_top_k/top_5_categorical_accuracy: 0.2199 - factorized_top_k/top_10_categorical_accuracy: 0.2702 - factorized_top_k/top_50_categorical_accuracy: 0.4623 - factorized_top_k/top_100_categorical_accuracy: 0.5550 - loss: 57.0793 - regularization_loss: 0.0000e+00 - total_loss: 57.0793\n",
            "Epoch 47/50\n",
            "24/24 [==============================] - 3s 113ms/step - factorized_top_k/top_1_categorical_accuracy: 0.1510 - factorized_top_k/top_5_categorical_accuracy: 0.2437 - factorized_top_k/top_10_categorical_accuracy: 0.2861 - factorized_top_k/top_50_categorical_accuracy: 0.4967 - factorized_top_k/top_100_categorical_accuracy: 0.5775 - loss: 56.7753 - regularization_loss: 0.0000e+00 - total_loss: 56.7753\n",
            "Epoch 48/50\n",
            "24/24 [==============================] - 4s 143ms/step - factorized_top_k/top_1_categorical_accuracy: 0.1470 - factorized_top_k/top_5_categorical_accuracy: 0.2331 - factorized_top_k/top_10_categorical_accuracy: 0.2795 - factorized_top_k/top_50_categorical_accuracy: 0.4675 - factorized_top_k/top_100_categorical_accuracy: 0.5642 - loss: 56.8822 - regularization_loss: 0.0000e+00 - total_loss: 56.8822\n",
            "Epoch 49/50\n",
            "24/24 [==============================] - 3s 113ms/step - factorized_top_k/top_1_categorical_accuracy: 0.1404 - factorized_top_k/top_5_categorical_accuracy: 0.2371 - factorized_top_k/top_10_categorical_accuracy: 0.2821 - factorized_top_k/top_50_categorical_accuracy: 0.4517 - factorized_top_k/top_100_categorical_accuracy: 0.5523 - loss: 57.1026 - regularization_loss: 0.0000e+00 - total_loss: 57.1026\n",
            "Epoch 50/50\n",
            "24/24 [==============================] - 3s 113ms/step - factorized_top_k/top_1_categorical_accuracy: 0.1444 - factorized_top_k/top_5_categorical_accuracy: 0.2265 - factorized_top_k/top_10_categorical_accuracy: 0.2689 - factorized_top_k/top_50_categorical_accuracy: 0.4517 - factorized_top_k/top_100_categorical_accuracy: 0.5629 - loss: 57.3890 - regularization_loss: 0.0000e+00 - total_loss: 57.3890\n",
            "24/24 [==============================] - 4s 161ms/step - factorized_top_k/top_1_categorical_accuracy: 0.2755 - factorized_top_k/top_5_categorical_accuracy: 0.3695 - factorized_top_k/top_10_categorical_accuracy: 0.3974 - factorized_top_k/top_50_categorical_accuracy: 0.5709 - factorized_top_k/top_100_categorical_accuracy: 0.6874 - loss: 56.0903 - regularization_loss: 0.0000e+00 - total_loss: 56.0903\n",
            "6/6 [==============================] - 1s 118ms/step - factorized_top_k/top_1_categorical_accuracy: 0.1905 - factorized_top_k/top_5_categorical_accuracy: 0.2381 - factorized_top_k/top_10_categorical_accuracy: 0.2434 - factorized_top_k/top_50_categorical_accuracy: 0.3545 - factorized_top_k/top_100_categorical_accuracy: 0.4868 - loss: 91.5167 - regularization_loss: 0.0000e+00 - total_loss: 91.5167\n",
            "Top-100 accuracy (train): 0.69.\n",
            "Top-100 accuracy (test): 0.49.\n",
            "Epoch 1/50\n",
            "24/24 [==============================] - 4s 117ms/step - factorized_top_k/top_1_categorical_accuracy: 0.0874 - factorized_top_k/top_5_categorical_accuracy: 0.0874 - factorized_top_k/top_10_categorical_accuracy: 0.0927 - factorized_top_k/top_50_categorical_accuracy: 0.1444 - factorized_top_k/top_100_categorical_accuracy: 0.1960 - loss: 94.8523 - regularization_loss: 0.0000e+00 - total_loss: 94.8523\n",
            "Epoch 2/50\n",
            "24/24 [==============================] - 3s 129ms/step - factorized_top_k/top_1_categorical_accuracy: 0.1073 - factorized_top_k/top_5_categorical_accuracy: 0.1258 - factorized_top_k/top_10_categorical_accuracy: 0.1404 - factorized_top_k/top_50_categorical_accuracy: 0.2702 - factorized_top_k/top_100_categorical_accuracy: 0.3695 - loss: 83.0401 - regularization_loss: 0.0000e+00 - total_loss: 83.0401\n",
            "Epoch 3/50\n",
            "24/24 [==============================] - 3s 135ms/step - factorized_top_k/top_1_categorical_accuracy: 0.0848 - factorized_top_k/top_5_categorical_accuracy: 0.1258 - factorized_top_k/top_10_categorical_accuracy: 0.1762 - factorized_top_k/top_50_categorical_accuracy: 0.3457 - factorized_top_k/top_100_categorical_accuracy: 0.4517 - loss: 75.1177 - regularization_loss: 0.0000e+00 - total_loss: 75.1177\n",
            "Epoch 4/50\n",
            "24/24 [==============================] - 3s 113ms/step - factorized_top_k/top_1_categorical_accuracy: 0.0940 - factorized_top_k/top_5_categorical_accuracy: 0.1430 - factorized_top_k/top_10_categorical_accuracy: 0.1854 - factorized_top_k/top_50_categorical_accuracy: 0.3881 - factorized_top_k/top_100_categorical_accuracy: 0.4980 - loss: 69.5735 - regularization_loss: 0.0000e+00 - total_loss: 69.5735\n",
            "Epoch 5/50\n",
            "24/24 [==============================] - 3s 113ms/step - factorized_top_k/top_1_categorical_accuracy: 0.1139 - factorized_top_k/top_5_categorical_accuracy: 0.1748 - factorized_top_k/top_10_categorical_accuracy: 0.2225 - factorized_top_k/top_50_categorical_accuracy: 0.4185 - factorized_top_k/top_100_categorical_accuracy: 0.5377 - loss: 67.4130 - regularization_loss: 0.0000e+00 - total_loss: 67.4130\n",
            "Epoch 6/50\n",
            "24/24 [==============================] - 6s 263ms/step - factorized_top_k/top_1_categorical_accuracy: 0.1033 - factorized_top_k/top_5_categorical_accuracy: 0.1642 - factorized_top_k/top_10_categorical_accuracy: 0.2093 - factorized_top_k/top_50_categorical_accuracy: 0.4331 - factorized_top_k/top_100_categorical_accuracy: 0.5391 - loss: 65.4210 - regularization_loss: 0.0000e+00 - total_loss: 65.4210\n",
            "Epoch 7/50\n",
            "24/24 [==============================] - 4s 155ms/step - factorized_top_k/top_1_categorical_accuracy: 0.1113 - factorized_top_k/top_5_categorical_accuracy: 0.1828 - factorized_top_k/top_10_categorical_accuracy: 0.2371 - factorized_top_k/top_50_categorical_accuracy: 0.4265 - factorized_top_k/top_100_categorical_accuracy: 0.5272 - loss: 63.7215 - regularization_loss: 0.0000e+00 - total_loss: 63.7215\n",
            "Epoch 8/50\n",
            "24/24 [==============================] - 3s 133ms/step - factorized_top_k/top_1_categorical_accuracy: 0.1113 - factorized_top_k/top_5_categorical_accuracy: 0.2000 - factorized_top_k/top_10_categorical_accuracy: 0.2477 - factorized_top_k/top_50_categorical_accuracy: 0.4702 - factorized_top_k/top_100_categorical_accuracy: 0.5642 - loss: 63.4725 - regularization_loss: 0.0000e+00 - total_loss: 63.4725\n",
            "Epoch 9/50\n",
            "24/24 [==============================] - 5s 192ms/step - factorized_top_k/top_1_categorical_accuracy: 0.1285 - factorized_top_k/top_5_categorical_accuracy: 0.2040 - factorized_top_k/top_10_categorical_accuracy: 0.2623 - factorized_top_k/top_50_categorical_accuracy: 0.4318 - factorized_top_k/top_100_categorical_accuracy: 0.5536 - loss: 62.3968 - regularization_loss: 0.0000e+00 - total_loss: 62.3968\n",
            "Epoch 10/50\n",
            "24/24 [==============================] - 3s 125ms/step - factorized_top_k/top_1_categorical_accuracy: 0.0914 - factorized_top_k/top_5_categorical_accuracy: 0.2026 - factorized_top_k/top_10_categorical_accuracy: 0.2464 - factorized_top_k/top_50_categorical_accuracy: 0.4252 - factorized_top_k/top_100_categorical_accuracy: 0.5351 - loss: 61.2186 - regularization_loss: 0.0000e+00 - total_loss: 61.2186\n",
            "Epoch 11/50\n",
            "24/24 [==============================] - 3s 136ms/step - factorized_top_k/top_1_categorical_accuracy: 0.1311 - factorized_top_k/top_5_categorical_accuracy: 0.2318 - factorized_top_k/top_10_categorical_accuracy: 0.2742 - factorized_top_k/top_50_categorical_accuracy: 0.4675 - factorized_top_k/top_100_categorical_accuracy: 0.5656 - loss: 61.5093 - regularization_loss: 0.0000e+00 - total_loss: 61.5093\n",
            "Epoch 12/50\n",
            "24/24 [==============================] - 5s 205ms/step - factorized_top_k/top_1_categorical_accuracy: 0.1338 - factorized_top_k/top_5_categorical_accuracy: 0.2066 - factorized_top_k/top_10_categorical_accuracy: 0.2543 - factorized_top_k/top_50_categorical_accuracy: 0.4556 - factorized_top_k/top_100_categorical_accuracy: 0.5669 - loss: 60.7650 - regularization_loss: 0.0000e+00 - total_loss: 60.7650\n",
            "Epoch 13/50\n",
            "24/24 [==============================] - 3s 130ms/step - factorized_top_k/top_1_categorical_accuracy: 0.1179 - factorized_top_k/top_5_categorical_accuracy: 0.2185 - factorized_top_k/top_10_categorical_accuracy: 0.2596 - factorized_top_k/top_50_categorical_accuracy: 0.4477 - factorized_top_k/top_100_categorical_accuracy: 0.5536 - loss: 60.4571 - regularization_loss: 0.0000e+00 - total_loss: 60.4571\n",
            "Epoch 14/50\n",
            "24/24 [==============================] - 3s 123ms/step - factorized_top_k/top_1_categorical_accuracy: 0.1285 - factorized_top_k/top_5_categorical_accuracy: 0.2344 - factorized_top_k/top_10_categorical_accuracy: 0.2927 - factorized_top_k/top_50_categorical_accuracy: 0.4675 - factorized_top_k/top_100_categorical_accuracy: 0.5695 - loss: 60.2024 - regularization_loss: 0.0000e+00 - total_loss: 60.2024\n",
            "Epoch 15/50\n",
            "24/24 [==============================] - 4s 147ms/step - factorized_top_k/top_1_categorical_accuracy: 0.1523 - factorized_top_k/top_5_categorical_accuracy: 0.2397 - factorized_top_k/top_10_categorical_accuracy: 0.2821 - factorized_top_k/top_50_categorical_accuracy: 0.4609 - factorized_top_k/top_100_categorical_accuracy: 0.5788 - loss: 60.0023 - regularization_loss: 0.0000e+00 - total_loss: 60.0023\n",
            "Epoch 16/50\n",
            "24/24 [==============================] - 4s 152ms/step - factorized_top_k/top_1_categorical_accuracy: 0.1219 - factorized_top_k/top_5_categorical_accuracy: 0.2238 - factorized_top_k/top_10_categorical_accuracy: 0.2583 - factorized_top_k/top_50_categorical_accuracy: 0.4636 - factorized_top_k/top_100_categorical_accuracy: 0.5788 - loss: 59.5369 - regularization_loss: 0.0000e+00 - total_loss: 59.5369\n",
            "Epoch 17/50\n",
            "24/24 [==============================] - 3s 118ms/step - factorized_top_k/top_1_categorical_accuracy: 0.1417 - factorized_top_k/top_5_categorical_accuracy: 0.2464 - factorized_top_k/top_10_categorical_accuracy: 0.2795 - factorized_top_k/top_50_categorical_accuracy: 0.4649 - factorized_top_k/top_100_categorical_accuracy: 0.5748 - loss: 59.4231 - regularization_loss: 0.0000e+00 - total_loss: 59.4231\n",
            "Epoch 18/50\n",
            "24/24 [==============================] - 3s 122ms/step - factorized_top_k/top_1_categorical_accuracy: 0.1258 - factorized_top_k/top_5_categorical_accuracy: 0.2053 - factorized_top_k/top_10_categorical_accuracy: 0.2556 - factorized_top_k/top_50_categorical_accuracy: 0.4424 - factorized_top_k/top_100_categorical_accuracy: 0.5510 - loss: 58.5982 - regularization_loss: 0.0000e+00 - total_loss: 58.5982\n",
            "Epoch 19/50\n",
            "24/24 [==============================] - 5s 192ms/step - factorized_top_k/top_1_categorical_accuracy: 0.1325 - factorized_top_k/top_5_categorical_accuracy: 0.2146 - factorized_top_k/top_10_categorical_accuracy: 0.2623 - factorized_top_k/top_50_categorical_accuracy: 0.4728 - factorized_top_k/top_100_categorical_accuracy: 0.5603 - loss: 58.7566 - regularization_loss: 0.0000e+00 - total_loss: 58.7566\n",
            "Epoch 20/50\n",
            "24/24 [==============================] - 3s 116ms/step - factorized_top_k/top_1_categorical_accuracy: 0.1139 - factorized_top_k/top_5_categorical_accuracy: 0.2344 - factorized_top_k/top_10_categorical_accuracy: 0.2874 - factorized_top_k/top_50_categorical_accuracy: 0.4636 - factorized_top_k/top_100_categorical_accuracy: 0.5550 - loss: 58.9657 - regularization_loss: 0.0000e+00 - total_loss: 58.9657\n",
            "Epoch 21/50\n",
            "24/24 [==============================] - 3s 113ms/step - factorized_top_k/top_1_categorical_accuracy: 0.1311 - factorized_top_k/top_5_categorical_accuracy: 0.2397 - factorized_top_k/top_10_categorical_accuracy: 0.2874 - factorized_top_k/top_50_categorical_accuracy: 0.4715 - factorized_top_k/top_100_categorical_accuracy: 0.5762 - loss: 59.3068 - regularization_loss: 0.0000e+00 - total_loss: 59.3068\n",
            "Epoch 22/50\n",
            "24/24 [==============================] - 5s 194ms/step - factorized_top_k/top_1_categorical_accuracy: 0.1417 - factorized_top_k/top_5_categorical_accuracy: 0.2464 - factorized_top_k/top_10_categorical_accuracy: 0.2821 - factorized_top_k/top_50_categorical_accuracy: 0.4649 - factorized_top_k/top_100_categorical_accuracy: 0.5748 - loss: 58.6507 - regularization_loss: 0.0000e+00 - total_loss: 58.6507\n",
            "Epoch 23/50\n",
            "24/24 [==============================] - 3s 136ms/step - factorized_top_k/top_1_categorical_accuracy: 0.1126 - factorized_top_k/top_5_categorical_accuracy: 0.2238 - factorized_top_k/top_10_categorical_accuracy: 0.2570 - factorized_top_k/top_50_categorical_accuracy: 0.4252 - factorized_top_k/top_100_categorical_accuracy: 0.5444 - loss: 57.5993 - regularization_loss: 0.0000e+00 - total_loss: 57.5993\n",
            "Epoch 24/50\n",
            "24/24 [==============================] - 3s 113ms/step - factorized_top_k/top_1_categorical_accuracy: 0.1391 - factorized_top_k/top_5_categorical_accuracy: 0.2344 - factorized_top_k/top_10_categorical_accuracy: 0.2662 - factorized_top_k/top_50_categorical_accuracy: 0.4742 - factorized_top_k/top_100_categorical_accuracy: 0.5735 - loss: 58.4813 - regularization_loss: 0.0000e+00 - total_loss: 58.4813\n",
            "Epoch 25/50\n",
            "24/24 [==============================] - 3s 114ms/step - factorized_top_k/top_1_categorical_accuracy: 0.1523 - factorized_top_k/top_5_categorical_accuracy: 0.2344 - factorized_top_k/top_10_categorical_accuracy: 0.2755 - factorized_top_k/top_50_categorical_accuracy: 0.4623 - factorized_top_k/top_100_categorical_accuracy: 0.5603 - loss: 57.8068 - regularization_loss: 0.0000e+00 - total_loss: 57.8068\n",
            "Epoch 26/50\n",
            "24/24 [==============================] - 4s 157ms/step - factorized_top_k/top_1_categorical_accuracy: 0.1298 - factorized_top_k/top_5_categorical_accuracy: 0.2212 - factorized_top_k/top_10_categorical_accuracy: 0.2623 - factorized_top_k/top_50_categorical_accuracy: 0.4556 - factorized_top_k/top_100_categorical_accuracy: 0.5656 - loss: 59.0109 - regularization_loss: 0.0000e+00 - total_loss: 59.0109\n",
            "Epoch 27/50\n",
            "24/24 [==============================] - 4s 147ms/step - factorized_top_k/top_1_categorical_accuracy: 0.1152 - factorized_top_k/top_5_categorical_accuracy: 0.1960 - factorized_top_k/top_10_categorical_accuracy: 0.2411 - factorized_top_k/top_50_categorical_accuracy: 0.4490 - factorized_top_k/top_100_categorical_accuracy: 0.5404 - loss: 57.0011 - regularization_loss: 0.0000e+00 - total_loss: 57.0011\n",
            "Epoch 28/50\n",
            "24/24 [==============================] - 3s 117ms/step - factorized_top_k/top_1_categorical_accuracy: 0.1391 - factorized_top_k/top_5_categorical_accuracy: 0.2318 - factorized_top_k/top_10_categorical_accuracy: 0.2755 - factorized_top_k/top_50_categorical_accuracy: 0.4596 - factorized_top_k/top_100_categorical_accuracy: 0.5841 - loss: 57.1281 - regularization_loss: 0.0000e+00 - total_loss: 57.1281\n",
            "Epoch 29/50\n",
            "24/24 [==============================] - 4s 175ms/step - factorized_top_k/top_1_categorical_accuracy: 0.1457 - factorized_top_k/top_5_categorical_accuracy: 0.2305 - factorized_top_k/top_10_categorical_accuracy: 0.2781 - factorized_top_k/top_50_categorical_accuracy: 0.4874 - factorized_top_k/top_100_categorical_accuracy: 0.5762 - loss: 58.5219 - regularization_loss: 0.0000e+00 - total_loss: 58.5219\n",
            "Epoch 30/50\n",
            "24/24 [==============================] - 3s 119ms/step - factorized_top_k/top_1_categorical_accuracy: 0.1404 - factorized_top_k/top_5_categorical_accuracy: 0.2384 - factorized_top_k/top_10_categorical_accuracy: 0.2874 - factorized_top_k/top_50_categorical_accuracy: 0.4861 - factorized_top_k/top_100_categorical_accuracy: 0.5815 - loss: 57.7353 - regularization_loss: 0.0000e+00 - total_loss: 57.7353\n",
            "Epoch 31/50\n",
            "24/24 [==============================] - 3s 127ms/step - factorized_top_k/top_1_categorical_accuracy: 0.1550 - factorized_top_k/top_5_categorical_accuracy: 0.2503 - factorized_top_k/top_10_categorical_accuracy: 0.2795 - factorized_top_k/top_50_categorical_accuracy: 0.4636 - factorized_top_k/top_100_categorical_accuracy: 0.5828 - loss: 57.8303 - regularization_loss: 0.0000e+00 - total_loss: 57.8303\n",
            "Epoch 32/50\n",
            "24/24 [==============================] - 4s 168ms/step - factorized_top_k/top_1_categorical_accuracy: 0.1325 - factorized_top_k/top_5_categorical_accuracy: 0.2106 - factorized_top_k/top_10_categorical_accuracy: 0.2675 - factorized_top_k/top_50_categorical_accuracy: 0.4464 - factorized_top_k/top_100_categorical_accuracy: 0.5536 - loss: 58.2684 - regularization_loss: 0.0000e+00 - total_loss: 58.2684\n",
            "Epoch 33/50\n",
            "24/24 [==============================] - 3s 122ms/step - factorized_top_k/top_1_categorical_accuracy: 0.1457 - factorized_top_k/top_5_categorical_accuracy: 0.2371 - factorized_top_k/top_10_categorical_accuracy: 0.2901 - factorized_top_k/top_50_categorical_accuracy: 0.4861 - factorized_top_k/top_100_categorical_accuracy: 0.6013 - loss: 58.1067 - regularization_loss: 0.0000e+00 - total_loss: 58.1067\n",
            "Epoch 34/50\n",
            "24/24 [==============================] - 3s 126ms/step - factorized_top_k/top_1_categorical_accuracy: 0.1709 - factorized_top_k/top_5_categorical_accuracy: 0.2477 - factorized_top_k/top_10_categorical_accuracy: 0.2993 - factorized_top_k/top_50_categorical_accuracy: 0.4848 - factorized_top_k/top_100_categorical_accuracy: 0.5921 - loss: 57.6627 - regularization_loss: 0.0000e+00 - total_loss: 57.6627\n",
            "Epoch 35/50\n",
            "24/24 [==============================] - 5s 199ms/step - factorized_top_k/top_1_categorical_accuracy: 0.1576 - factorized_top_k/top_5_categorical_accuracy: 0.2411 - factorized_top_k/top_10_categorical_accuracy: 0.2781 - factorized_top_k/top_50_categorical_accuracy: 0.4596 - factorized_top_k/top_100_categorical_accuracy: 0.5682 - loss: 57.0395 - regularization_loss: 0.0000e+00 - total_loss: 57.0395\n",
            "Epoch 36/50\n",
            "24/24 [==============================] - 3s 126ms/step - factorized_top_k/top_1_categorical_accuracy: 0.1258 - factorized_top_k/top_5_categorical_accuracy: 0.2252 - factorized_top_k/top_10_categorical_accuracy: 0.2795 - factorized_top_k/top_50_categorical_accuracy: 0.4848 - factorized_top_k/top_100_categorical_accuracy: 0.5960 - loss: 57.4733 - regularization_loss: 0.0000e+00 - total_loss: 57.4733\n",
            "Epoch 37/50\n",
            "24/24 [==============================] - 3s 122ms/step - factorized_top_k/top_1_categorical_accuracy: 0.1232 - factorized_top_k/top_5_categorical_accuracy: 0.2185 - factorized_top_k/top_10_categorical_accuracy: 0.2742 - factorized_top_k/top_50_categorical_accuracy: 0.4795 - factorized_top_k/top_100_categorical_accuracy: 0.5748 - loss: 57.6672 - regularization_loss: 0.0000e+00 - total_loss: 57.6672\n",
            "Epoch 38/50\n",
            "24/24 [==============================] - 4s 147ms/step - factorized_top_k/top_1_categorical_accuracy: 0.1404 - factorized_top_k/top_5_categorical_accuracy: 0.2371 - factorized_top_k/top_10_categorical_accuracy: 0.2834 - factorized_top_k/top_50_categorical_accuracy: 0.4728 - factorized_top_k/top_100_categorical_accuracy: 0.5788 - loss: 56.9656 - regularization_loss: 0.0000e+00 - total_loss: 56.9656\n",
            "Epoch 39/50\n",
            "24/24 [==============================] - 4s 147ms/step - factorized_top_k/top_1_categorical_accuracy: 0.1298 - factorized_top_k/top_5_categorical_accuracy: 0.2344 - factorized_top_k/top_10_categorical_accuracy: 0.2715 - factorized_top_k/top_50_categorical_accuracy: 0.4490 - factorized_top_k/top_100_categorical_accuracy: 0.5629 - loss: 57.5473 - regularization_loss: 0.0000e+00 - total_loss: 57.5473\n",
            "Epoch 40/50\n",
            "24/24 [==============================] - 3s 124ms/step - factorized_top_k/top_1_categorical_accuracy: 0.1338 - factorized_top_k/top_5_categorical_accuracy: 0.2172 - factorized_top_k/top_10_categorical_accuracy: 0.2675 - factorized_top_k/top_50_categorical_accuracy: 0.4556 - factorized_top_k/top_100_categorical_accuracy: 0.5603 - loss: 59.0549 - regularization_loss: 0.0000e+00 - total_loss: 59.0549\n",
            "Epoch 41/50\n",
            "24/24 [==============================] - 5s 220ms/step - factorized_top_k/top_1_categorical_accuracy: 0.1258 - factorized_top_k/top_5_categorical_accuracy: 0.2079 - factorized_top_k/top_10_categorical_accuracy: 0.2649 - factorized_top_k/top_50_categorical_accuracy: 0.4530 - factorized_top_k/top_100_categorical_accuracy: 0.5589 - loss: 57.4691 - regularization_loss: 0.0000e+00 - total_loss: 57.4691\n",
            "Epoch 42/50\n",
            "24/24 [==============================] - 3s 118ms/step - factorized_top_k/top_1_categorical_accuracy: 0.1603 - factorized_top_k/top_5_categorical_accuracy: 0.2437 - factorized_top_k/top_10_categorical_accuracy: 0.2901 - factorized_top_k/top_50_categorical_accuracy: 0.4795 - factorized_top_k/top_100_categorical_accuracy: 0.5868 - loss: 57.6804 - regularization_loss: 0.0000e+00 - total_loss: 57.6804\n",
            "Epoch 43/50\n",
            "24/24 [==============================] - 3s 123ms/step - factorized_top_k/top_1_categorical_accuracy: 0.1245 - factorized_top_k/top_5_categorical_accuracy: 0.2013 - factorized_top_k/top_10_categorical_accuracy: 0.2530 - factorized_top_k/top_50_categorical_accuracy: 0.4344 - factorized_top_k/top_100_categorical_accuracy: 0.5550 - loss: 57.2291 - regularization_loss: 0.0000e+00 - total_loss: 57.2291\n",
            "Epoch 44/50\n",
            "24/24 [==============================] - 4s 154ms/step - factorized_top_k/top_1_categorical_accuracy: 0.1364 - factorized_top_k/top_5_categorical_accuracy: 0.2358 - factorized_top_k/top_10_categorical_accuracy: 0.2901 - factorized_top_k/top_50_categorical_accuracy: 0.4742 - factorized_top_k/top_100_categorical_accuracy: 0.5775 - loss: 57.0731 - regularization_loss: 0.0000e+00 - total_loss: 57.0731\n",
            "Epoch 45/50\n",
            "24/24 [==============================] - 3s 122ms/step - factorized_top_k/top_1_categorical_accuracy: 0.1338 - factorized_top_k/top_5_categorical_accuracy: 0.2212 - factorized_top_k/top_10_categorical_accuracy: 0.2808 - factorized_top_k/top_50_categorical_accuracy: 0.4834 - factorized_top_k/top_100_categorical_accuracy: 0.5695 - loss: 57.5875 - regularization_loss: 0.0000e+00 - total_loss: 57.5875\n",
            "Epoch 46/50\n",
            "24/24 [==============================] - 3s 124ms/step - factorized_top_k/top_1_categorical_accuracy: 0.1325 - factorized_top_k/top_5_categorical_accuracy: 0.2132 - factorized_top_k/top_10_categorical_accuracy: 0.2768 - factorized_top_k/top_50_categorical_accuracy: 0.4702 - factorized_top_k/top_100_categorical_accuracy: 0.5576 - loss: 57.1200 - regularization_loss: 0.0000e+00 - total_loss: 57.1200\n",
            "Epoch 47/50\n",
            "24/24 [==============================] - 5s 190ms/step - factorized_top_k/top_1_categorical_accuracy: 0.1377 - factorized_top_k/top_5_categorical_accuracy: 0.2384 - factorized_top_k/top_10_categorical_accuracy: 0.2901 - factorized_top_k/top_50_categorical_accuracy: 0.4808 - factorized_top_k/top_100_categorical_accuracy: 0.5695 - loss: 56.8855 - regularization_loss: 0.0000e+00 - total_loss: 56.8855\n",
            "Epoch 48/50\n",
            "24/24 [==============================] - 3s 129ms/step - factorized_top_k/top_1_categorical_accuracy: 0.1285 - factorized_top_k/top_5_categorical_accuracy: 0.2265 - factorized_top_k/top_10_categorical_accuracy: 0.2808 - factorized_top_k/top_50_categorical_accuracy: 0.4662 - factorized_top_k/top_100_categorical_accuracy: 0.5642 - loss: 56.8939 - regularization_loss: 0.0000e+00 - total_loss: 56.8939\n",
            "Epoch 49/50\n",
            "24/24 [==============================] - 3s 116ms/step - factorized_top_k/top_1_categorical_accuracy: 0.1325 - factorized_top_k/top_5_categorical_accuracy: 0.2238 - factorized_top_k/top_10_categorical_accuracy: 0.2675 - factorized_top_k/top_50_categorical_accuracy: 0.4675 - factorized_top_k/top_100_categorical_accuracy: 0.5775 - loss: 57.0430 - regularization_loss: 0.0000e+00 - total_loss: 57.0430\n",
            "Epoch 50/50\n",
            "24/24 [==============================] - 3s 120ms/step - factorized_top_k/top_1_categorical_accuracy: 0.1377 - factorized_top_k/top_5_categorical_accuracy: 0.2146 - factorized_top_k/top_10_categorical_accuracy: 0.2675 - factorized_top_k/top_50_categorical_accuracy: 0.4609 - factorized_top_k/top_100_categorical_accuracy: 0.5801 - loss: 57.4096 - regularization_loss: 0.0000e+00 - total_loss: 57.4096\n",
            "24/24 [==============================] - 5s 166ms/step - factorized_top_k/top_1_categorical_accuracy: 0.1589 - factorized_top_k/top_5_categorical_accuracy: 0.2570 - factorized_top_k/top_10_categorical_accuracy: 0.2795 - factorized_top_k/top_50_categorical_accuracy: 0.4728 - factorized_top_k/top_100_categorical_accuracy: 0.5510 - loss: 56.0858 - regularization_loss: 0.0000e+00 - total_loss: 56.0858\n",
            "6/6 [==============================] - 1s 125ms/step - factorized_top_k/top_1_categorical_accuracy: 0.0741 - factorized_top_k/top_5_categorical_accuracy: 0.1323 - factorized_top_k/top_10_categorical_accuracy: 0.1323 - factorized_top_k/top_50_categorical_accuracy: 0.2963 - factorized_top_k/top_100_categorical_accuracy: 0.3492 - loss: 93.3911 - regularization_loss: 0.0000e+00 - total_loss: 93.3911\n",
            "Top-100 accuracy (train): 0.55.\n",
            "Top-100 accuracy (test): 0.35.\n",
            "Epoch 1/50\n",
            "24/24 [==============================] - 4s 108ms/step - factorized_top_k/top_1_categorical_accuracy: 0.0914 - factorized_top_k/top_5_categorical_accuracy: 0.0914 - factorized_top_k/top_10_categorical_accuracy: 0.1020 - factorized_top_k/top_50_categorical_accuracy: 0.1709 - factorized_top_k/top_100_categorical_accuracy: 0.2159 - loss: 95.0709 - regularization_loss: 0.0000e+00 - total_loss: 95.0709\n",
            "Epoch 2/50\n",
            "24/24 [==============================] - 4s 175ms/step - factorized_top_k/top_1_categorical_accuracy: 0.1060 - factorized_top_k/top_5_categorical_accuracy: 0.1139 - factorized_top_k/top_10_categorical_accuracy: 0.1325 - factorized_top_k/top_50_categorical_accuracy: 0.2715 - factorized_top_k/top_100_categorical_accuracy: 0.3868 - loss: 82.6024 - regularization_loss: 0.0000e+00 - total_loss: 82.6024\n",
            "Epoch 3/50\n",
            "24/24 [==============================] - 3s 111ms/step - factorized_top_k/top_1_categorical_accuracy: 0.1060 - factorized_top_k/top_5_categorical_accuracy: 0.1417 - factorized_top_k/top_10_categorical_accuracy: 0.1815 - factorized_top_k/top_50_categorical_accuracy: 0.3536 - factorized_top_k/top_100_categorical_accuracy: 0.4623 - loss: 75.7559 - regularization_loss: 0.0000e+00 - total_loss: 75.7559\n",
            "Epoch 4/50\n",
            "24/24 [==============================] - 3s 110ms/step - factorized_top_k/top_1_categorical_accuracy: 0.1073 - factorized_top_k/top_5_categorical_accuracy: 0.1430 - factorized_top_k/top_10_categorical_accuracy: 0.1815 - factorized_top_k/top_50_categorical_accuracy: 0.3868 - factorized_top_k/top_100_categorical_accuracy: 0.4874 - loss: 70.0311 - regularization_loss: 0.0000e+00 - total_loss: 70.0311\n",
            "Epoch 5/50\n",
            "24/24 [==============================] - 3s 135ms/step - factorized_top_k/top_1_categorical_accuracy: 0.1046 - factorized_top_k/top_5_categorical_accuracy: 0.1788 - factorized_top_k/top_10_categorical_accuracy: 0.2225 - factorized_top_k/top_50_categorical_accuracy: 0.4172 - factorized_top_k/top_100_categorical_accuracy: 0.5285 - loss: 67.5850 - regularization_loss: 0.0000e+00 - total_loss: 67.5850\n",
            "Epoch 6/50\n",
            "24/24 [==============================] - 3s 127ms/step - factorized_top_k/top_1_categorical_accuracy: 0.1113 - factorized_top_k/top_5_categorical_accuracy: 0.1682 - factorized_top_k/top_10_categorical_accuracy: 0.2146 - factorized_top_k/top_50_categorical_accuracy: 0.4252 - factorized_top_k/top_100_categorical_accuracy: 0.5232 - loss: 65.9503 - regularization_loss: 0.0000e+00 - total_loss: 65.9503\n",
            "Epoch 7/50\n",
            "24/24 [==============================] - 3s 108ms/step - factorized_top_k/top_1_categorical_accuracy: 0.1192 - factorized_top_k/top_5_categorical_accuracy: 0.1974 - factorized_top_k/top_10_categorical_accuracy: 0.2556 - factorized_top_k/top_50_categorical_accuracy: 0.4318 - factorized_top_k/top_100_categorical_accuracy: 0.5377 - loss: 63.6405 - regularization_loss: 0.0000e+00 - total_loss: 63.6405\n",
            "Epoch 8/50\n",
            "24/24 [==============================] - 3s 109ms/step - factorized_top_k/top_1_categorical_accuracy: 0.1139 - factorized_top_k/top_5_categorical_accuracy: 0.2026 - factorized_top_k/top_10_categorical_accuracy: 0.2464 - factorized_top_k/top_50_categorical_accuracy: 0.4556 - factorized_top_k/top_100_categorical_accuracy: 0.5536 - loss: 63.2059 - regularization_loss: 0.0000e+00 - total_loss: 63.2059\n",
            "Epoch 9/50\n",
            "24/24 [==============================] - 4s 170ms/step - factorized_top_k/top_1_categorical_accuracy: 0.1020 - factorized_top_k/top_5_categorical_accuracy: 0.1960 - factorized_top_k/top_10_categorical_accuracy: 0.2490 - factorized_top_k/top_50_categorical_accuracy: 0.4265 - factorized_top_k/top_100_categorical_accuracy: 0.5364 - loss: 62.0494 - regularization_loss: 0.0000e+00 - total_loss: 62.0494\n",
            "Epoch 10/50\n",
            "24/24 [==============================] - 3s 108ms/step - factorized_top_k/top_1_categorical_accuracy: 0.1192 - factorized_top_k/top_5_categorical_accuracy: 0.2079 - factorized_top_k/top_10_categorical_accuracy: 0.2609 - factorized_top_k/top_50_categorical_accuracy: 0.4331 - factorized_top_k/top_100_categorical_accuracy: 0.5470 - loss: 61.1250 - regularization_loss: 0.0000e+00 - total_loss: 61.1250\n",
            "Epoch 11/50\n",
            "24/24 [==============================] - 3s 105ms/step - factorized_top_k/top_1_categorical_accuracy: 0.1139 - factorized_top_k/top_5_categorical_accuracy: 0.2106 - factorized_top_k/top_10_categorical_accuracy: 0.2517 - factorized_top_k/top_50_categorical_accuracy: 0.4464 - factorized_top_k/top_100_categorical_accuracy: 0.5603 - loss: 61.2102 - regularization_loss: 0.0000e+00 - total_loss: 61.2102\n",
            "Epoch 12/50\n",
            "24/24 [==============================] - 3s 108ms/step - factorized_top_k/top_1_categorical_accuracy: 0.1205 - factorized_top_k/top_5_categorical_accuracy: 0.2093 - factorized_top_k/top_10_categorical_accuracy: 0.2609 - factorized_top_k/top_50_categorical_accuracy: 0.4636 - factorized_top_k/top_100_categorical_accuracy: 0.5642 - loss: 60.3725 - regularization_loss: 0.0000e+00 - total_loss: 60.3725\n",
            "Epoch 13/50\n",
            "24/24 [==============================] - 3s 113ms/step - factorized_top_k/top_1_categorical_accuracy: 0.1086 - factorized_top_k/top_5_categorical_accuracy: 0.2132 - factorized_top_k/top_10_categorical_accuracy: 0.2464 - factorized_top_k/top_50_categorical_accuracy: 0.4331 - factorized_top_k/top_100_categorical_accuracy: 0.5576 - loss: 60.0914 - regularization_loss: 0.0000e+00 - total_loss: 60.0914\n",
            "Epoch 14/50\n",
            "24/24 [==============================] - 3s 104ms/step - factorized_top_k/top_1_categorical_accuracy: 0.1126 - factorized_top_k/top_5_categorical_accuracy: 0.2040 - factorized_top_k/top_10_categorical_accuracy: 0.2477 - factorized_top_k/top_50_categorical_accuracy: 0.4570 - factorized_top_k/top_100_categorical_accuracy: 0.5695 - loss: 60.1015 - regularization_loss: 0.0000e+00 - total_loss: 60.1015\n",
            "Epoch 15/50\n",
            "24/24 [==============================] - 2s 99ms/step - factorized_top_k/top_1_categorical_accuracy: 0.1391 - factorized_top_k/top_5_categorical_accuracy: 0.2305 - factorized_top_k/top_10_categorical_accuracy: 0.2715 - factorized_top_k/top_50_categorical_accuracy: 0.4649 - factorized_top_k/top_100_categorical_accuracy: 0.5669 - loss: 60.0422 - regularization_loss: 0.0000e+00 - total_loss: 60.0422\n",
            "Epoch 16/50\n",
            "24/24 [==============================] - 4s 147ms/step - factorized_top_k/top_1_categorical_accuracy: 0.1325 - factorized_top_k/top_5_categorical_accuracy: 0.2305 - factorized_top_k/top_10_categorical_accuracy: 0.2649 - factorized_top_k/top_50_categorical_accuracy: 0.4556 - factorized_top_k/top_100_categorical_accuracy: 0.5828 - loss: 59.2996 - regularization_loss: 0.0000e+00 - total_loss: 59.2996\n",
            "Epoch 17/50\n",
            "24/24 [==============================] - 3s 101ms/step - factorized_top_k/top_1_categorical_accuracy: 0.1523 - factorized_top_k/top_5_categorical_accuracy: 0.2371 - factorized_top_k/top_10_categorical_accuracy: 0.2755 - factorized_top_k/top_50_categorical_accuracy: 0.4517 - factorized_top_k/top_100_categorical_accuracy: 0.5788 - loss: 59.2512 - regularization_loss: 0.0000e+00 - total_loss: 59.2512\n",
            "Epoch 18/50\n",
            "24/24 [==============================] - 3s 102ms/step - factorized_top_k/top_1_categorical_accuracy: 0.1272 - factorized_top_k/top_5_categorical_accuracy: 0.2132 - factorized_top_k/top_10_categorical_accuracy: 0.2623 - factorized_top_k/top_50_categorical_accuracy: 0.4424 - factorized_top_k/top_100_categorical_accuracy: 0.5589 - loss: 58.6742 - regularization_loss: 0.0000e+00 - total_loss: 58.6742\n",
            "Epoch 19/50\n",
            "24/24 [==============================] - 2s 98ms/step - factorized_top_k/top_1_categorical_accuracy: 0.1364 - factorized_top_k/top_5_categorical_accuracy: 0.2159 - factorized_top_k/top_10_categorical_accuracy: 0.2583 - factorized_top_k/top_50_categorical_accuracy: 0.4583 - factorized_top_k/top_100_categorical_accuracy: 0.5669 - loss: 58.7424 - regularization_loss: 0.0000e+00 - total_loss: 58.7424\n",
            "Epoch 20/50\n",
            "24/24 [==============================] - 2s 98ms/step - factorized_top_k/top_1_categorical_accuracy: 0.1166 - factorized_top_k/top_5_categorical_accuracy: 0.2278 - factorized_top_k/top_10_categorical_accuracy: 0.2848 - factorized_top_k/top_50_categorical_accuracy: 0.4517 - factorized_top_k/top_100_categorical_accuracy: 0.5576 - loss: 58.9277 - regularization_loss: 0.0000e+00 - total_loss: 58.9277\n",
            "Epoch 21/50\n",
            "24/24 [==============================] - 4s 161ms/step - factorized_top_k/top_1_categorical_accuracy: 0.1205 - factorized_top_k/top_5_categorical_accuracy: 0.2225 - factorized_top_k/top_10_categorical_accuracy: 0.2715 - factorized_top_k/top_50_categorical_accuracy: 0.4464 - factorized_top_k/top_100_categorical_accuracy: 0.5457 - loss: 59.1650 - regularization_loss: 0.0000e+00 - total_loss: 59.1650\n",
            "Epoch 22/50\n",
            "24/24 [==============================] - 2s 99ms/step - factorized_top_k/top_1_categorical_accuracy: 0.1444 - factorized_top_k/top_5_categorical_accuracy: 0.2424 - factorized_top_k/top_10_categorical_accuracy: 0.2834 - factorized_top_k/top_50_categorical_accuracy: 0.4596 - factorized_top_k/top_100_categorical_accuracy: 0.5788 - loss: 58.7245 - regularization_loss: 0.0000e+00 - total_loss: 58.7245\n",
            "Epoch 23/50\n",
            "24/24 [==============================] - 2s 93ms/step - factorized_top_k/top_1_categorical_accuracy: 0.1219 - factorized_top_k/top_5_categorical_accuracy: 0.2305 - factorized_top_k/top_10_categorical_accuracy: 0.2662 - factorized_top_k/top_50_categorical_accuracy: 0.4331 - factorized_top_k/top_100_categorical_accuracy: 0.5550 - loss: 57.6897 - regularization_loss: 0.0000e+00 - total_loss: 57.6897\n",
            "Epoch 24/50\n",
            "24/24 [==============================] - 2s 96ms/step - factorized_top_k/top_1_categorical_accuracy: 0.1444 - factorized_top_k/top_5_categorical_accuracy: 0.2265 - factorized_top_k/top_10_categorical_accuracy: 0.2583 - factorized_top_k/top_50_categorical_accuracy: 0.4636 - factorized_top_k/top_100_categorical_accuracy: 0.5603 - loss: 58.3612 - regularization_loss: 0.0000e+00 - total_loss: 58.3612\n",
            "Epoch 25/50\n",
            "24/24 [==============================] - 2s 92ms/step - factorized_top_k/top_1_categorical_accuracy: 0.1232 - factorized_top_k/top_5_categorical_accuracy: 0.2212 - factorized_top_k/top_10_categorical_accuracy: 0.2636 - factorized_top_k/top_50_categorical_accuracy: 0.4556 - factorized_top_k/top_100_categorical_accuracy: 0.5523 - loss: 57.8679 - regularization_loss: 0.0000e+00 - total_loss: 57.8679\n",
            "Epoch 26/50\n",
            "24/24 [==============================] - 4s 150ms/step - factorized_top_k/top_1_categorical_accuracy: 0.1470 - factorized_top_k/top_5_categorical_accuracy: 0.2252 - factorized_top_k/top_10_categorical_accuracy: 0.2609 - factorized_top_k/top_50_categorical_accuracy: 0.4596 - factorized_top_k/top_100_categorical_accuracy: 0.5642 - loss: 59.0224 - regularization_loss: 0.0000e+00 - total_loss: 59.0224\n",
            "Epoch 27/50\n",
            "24/24 [==============================] - 2s 96ms/step - factorized_top_k/top_1_categorical_accuracy: 0.1152 - factorized_top_k/top_5_categorical_accuracy: 0.2093 - factorized_top_k/top_10_categorical_accuracy: 0.2450 - factorized_top_k/top_50_categorical_accuracy: 0.4477 - factorized_top_k/top_100_categorical_accuracy: 0.5417 - loss: 57.0193 - regularization_loss: 0.0000e+00 - total_loss: 57.0193\n",
            "Epoch 28/50\n",
            "24/24 [==============================] - 2s 93ms/step - factorized_top_k/top_1_categorical_accuracy: 0.1245 - factorized_top_k/top_5_categorical_accuracy: 0.2238 - factorized_top_k/top_10_categorical_accuracy: 0.2636 - factorized_top_k/top_50_categorical_accuracy: 0.4397 - factorized_top_k/top_100_categorical_accuracy: 0.5682 - loss: 57.3726 - regularization_loss: 0.0000e+00 - total_loss: 57.3726\n",
            "Epoch 29/50\n",
            "24/24 [==============================] - 2s 91ms/step - factorized_top_k/top_1_categorical_accuracy: 0.1325 - factorized_top_k/top_5_categorical_accuracy: 0.2146 - factorized_top_k/top_10_categorical_accuracy: 0.2702 - factorized_top_k/top_50_categorical_accuracy: 0.4662 - factorized_top_k/top_100_categorical_accuracy: 0.5563 - loss: 58.4178 - regularization_loss: 0.0000e+00 - total_loss: 58.4178\n",
            "Epoch 30/50\n",
            "24/24 [==============================] - 2s 92ms/step - factorized_top_k/top_1_categorical_accuracy: 0.1377 - factorized_top_k/top_5_categorical_accuracy: 0.2305 - factorized_top_k/top_10_categorical_accuracy: 0.2861 - factorized_top_k/top_50_categorical_accuracy: 0.4662 - factorized_top_k/top_100_categorical_accuracy: 0.5629 - loss: 57.9625 - regularization_loss: 0.0000e+00 - total_loss: 57.9625\n",
            "Epoch 31/50\n",
            "24/24 [==============================] - 3s 143ms/step - factorized_top_k/top_1_categorical_accuracy: 0.1391 - factorized_top_k/top_5_categorical_accuracy: 0.2503 - factorized_top_k/top_10_categorical_accuracy: 0.2848 - factorized_top_k/top_50_categorical_accuracy: 0.4689 - factorized_top_k/top_100_categorical_accuracy: 0.5722 - loss: 57.8967 - regularization_loss: 0.0000e+00 - total_loss: 57.8967\n",
            "Epoch 32/50\n",
            "24/24 [==============================] - 3s 125ms/step - factorized_top_k/top_1_categorical_accuracy: 0.1311 - factorized_top_k/top_5_categorical_accuracy: 0.2106 - factorized_top_k/top_10_categorical_accuracy: 0.2596 - factorized_top_k/top_50_categorical_accuracy: 0.4623 - factorized_top_k/top_100_categorical_accuracy: 0.5589 - loss: 58.1476 - regularization_loss: 0.0000e+00 - total_loss: 58.1476\n",
            "Epoch 33/50\n",
            "24/24 [==============================] - 2s 90ms/step - factorized_top_k/top_1_categorical_accuracy: 0.1483 - factorized_top_k/top_5_categorical_accuracy: 0.2291 - factorized_top_k/top_10_categorical_accuracy: 0.2795 - factorized_top_k/top_50_categorical_accuracy: 0.4808 - factorized_top_k/top_100_categorical_accuracy: 0.6026 - loss: 58.1324 - regularization_loss: 0.0000e+00 - total_loss: 58.1324\n",
            "Epoch 34/50\n",
            "24/24 [==============================] - 2s 88ms/step - factorized_top_k/top_1_categorical_accuracy: 0.1788 - factorized_top_k/top_5_categorical_accuracy: 0.2583 - factorized_top_k/top_10_categorical_accuracy: 0.3099 - factorized_top_k/top_50_categorical_accuracy: 0.4954 - factorized_top_k/top_100_categorical_accuracy: 0.5960 - loss: 57.6248 - regularization_loss: 0.0000e+00 - total_loss: 57.6248\n",
            "Epoch 35/50\n",
            "24/24 [==============================] - 2s 89ms/step - factorized_top_k/top_1_categorical_accuracy: 0.1483 - factorized_top_k/top_5_categorical_accuracy: 0.2358 - factorized_top_k/top_10_categorical_accuracy: 0.2861 - factorized_top_k/top_50_categorical_accuracy: 0.4623 - factorized_top_k/top_100_categorical_accuracy: 0.5656 - loss: 57.1149 - regularization_loss: 0.0000e+00 - total_loss: 57.1149\n",
            "Epoch 36/50\n",
            "24/24 [==============================] - 3s 142ms/step - factorized_top_k/top_1_categorical_accuracy: 0.1325 - factorized_top_k/top_5_categorical_accuracy: 0.2503 - factorized_top_k/top_10_categorical_accuracy: 0.2861 - factorized_top_k/top_50_categorical_accuracy: 0.4834 - factorized_top_k/top_100_categorical_accuracy: 0.5868 - loss: 57.5532 - regularization_loss: 0.0000e+00 - total_loss: 57.5532\n",
            "Epoch 37/50\n",
            "24/24 [==============================] - 2s 91ms/step - factorized_top_k/top_1_categorical_accuracy: 0.1272 - factorized_top_k/top_5_categorical_accuracy: 0.2252 - factorized_top_k/top_10_categorical_accuracy: 0.2821 - factorized_top_k/top_50_categorical_accuracy: 0.4848 - factorized_top_k/top_100_categorical_accuracy: 0.5682 - loss: 57.7887 - regularization_loss: 0.0000e+00 - total_loss: 57.7887\n",
            "Epoch 38/50\n",
            "24/24 [==============================] - 2s 91ms/step - factorized_top_k/top_1_categorical_accuracy: 0.1338 - factorized_top_k/top_5_categorical_accuracy: 0.2437 - factorized_top_k/top_10_categorical_accuracy: 0.2887 - factorized_top_k/top_50_categorical_accuracy: 0.4583 - factorized_top_k/top_100_categorical_accuracy: 0.5709 - loss: 56.9771 - regularization_loss: 0.0000e+00 - total_loss: 56.9771\n",
            "Epoch 39/50\n",
            "24/24 [==============================] - 2s 88ms/step - factorized_top_k/top_1_categorical_accuracy: 0.1285 - factorized_top_k/top_5_categorical_accuracy: 0.2212 - factorized_top_k/top_10_categorical_accuracy: 0.2596 - factorized_top_k/top_50_categorical_accuracy: 0.4649 - factorized_top_k/top_100_categorical_accuracy: 0.5695 - loss: 57.6057 - regularization_loss: 0.0000e+00 - total_loss: 57.6057\n",
            "Epoch 40/50\n",
            "24/24 [==============================] - 2s 88ms/step - factorized_top_k/top_1_categorical_accuracy: 0.1404 - factorized_top_k/top_5_categorical_accuracy: 0.2318 - factorized_top_k/top_10_categorical_accuracy: 0.2781 - factorized_top_k/top_50_categorical_accuracy: 0.4742 - factorized_top_k/top_100_categorical_accuracy: 0.5854 - loss: 59.0147 - regularization_loss: 0.0000e+00 - total_loss: 59.0147\n",
            "Epoch 41/50\n",
            "24/24 [==============================] - 4s 146ms/step - factorized_top_k/top_1_categorical_accuracy: 0.1219 - factorized_top_k/top_5_categorical_accuracy: 0.2172 - factorized_top_k/top_10_categorical_accuracy: 0.2715 - factorized_top_k/top_50_categorical_accuracy: 0.4636 - factorized_top_k/top_100_categorical_accuracy: 0.5589 - loss: 57.4297 - regularization_loss: 0.0000e+00 - total_loss: 57.4297\n",
            "Epoch 42/50\n",
            "24/24 [==============================] - 2s 90ms/step - factorized_top_k/top_1_categorical_accuracy: 0.1483 - factorized_top_k/top_5_categorical_accuracy: 0.2305 - factorized_top_k/top_10_categorical_accuracy: 0.2702 - factorized_top_k/top_50_categorical_accuracy: 0.4715 - factorized_top_k/top_100_categorical_accuracy: 0.5748 - loss: 57.8125 - regularization_loss: 0.0000e+00 - total_loss: 57.8125\n",
            "Epoch 43/50\n",
            "24/24 [==============================] - 2s 89ms/step - factorized_top_k/top_1_categorical_accuracy: 0.1325 - factorized_top_k/top_5_categorical_accuracy: 0.2106 - factorized_top_k/top_10_categorical_accuracy: 0.2543 - factorized_top_k/top_50_categorical_accuracy: 0.4318 - factorized_top_k/top_100_categorical_accuracy: 0.5550 - loss: 57.2956 - regularization_loss: 0.0000e+00 - total_loss: 57.2956\n",
            "Epoch 44/50\n",
            "24/24 [==============================] - 2s 91ms/step - factorized_top_k/top_1_categorical_accuracy: 0.1166 - factorized_top_k/top_5_categorical_accuracy: 0.2331 - factorized_top_k/top_10_categorical_accuracy: 0.2848 - factorized_top_k/top_50_categorical_accuracy: 0.4768 - factorized_top_k/top_100_categorical_accuracy: 0.5881 - loss: 57.1525 - regularization_loss: 0.0000e+00 - total_loss: 57.1525\n",
            "Epoch 45/50\n",
            "24/24 [==============================] - 3s 105ms/step - factorized_top_k/top_1_categorical_accuracy: 0.1285 - factorized_top_k/top_5_categorical_accuracy: 0.2199 - factorized_top_k/top_10_categorical_accuracy: 0.2781 - factorized_top_k/top_50_categorical_accuracy: 0.4755 - factorized_top_k/top_100_categorical_accuracy: 0.5735 - loss: 57.6456 - regularization_loss: 0.0000e+00 - total_loss: 57.6456\n",
            "Epoch 46/50\n",
            "24/24 [==============================] - 4s 147ms/step - factorized_top_k/top_1_categorical_accuracy: 0.1325 - factorized_top_k/top_5_categorical_accuracy: 0.2212 - factorized_top_k/top_10_categorical_accuracy: 0.2728 - factorized_top_k/top_50_categorical_accuracy: 0.4649 - factorized_top_k/top_100_categorical_accuracy: 0.5563 - loss: 57.0951 - regularization_loss: 0.0000e+00 - total_loss: 57.0951\n",
            "Epoch 47/50\n",
            "24/24 [==============================] - 2s 90ms/step - factorized_top_k/top_1_categorical_accuracy: 0.1497 - factorized_top_k/top_5_categorical_accuracy: 0.2583 - factorized_top_k/top_10_categorical_accuracy: 0.3046 - factorized_top_k/top_50_categorical_accuracy: 0.5060 - factorized_top_k/top_100_categorical_accuracy: 0.5934 - loss: 56.8954 - regularization_loss: 0.0000e+00 - total_loss: 56.8954\n",
            "Epoch 48/50\n",
            "24/24 [==============================] - 2s 91ms/step - factorized_top_k/top_1_categorical_accuracy: 0.1351 - factorized_top_k/top_5_categorical_accuracy: 0.2252 - factorized_top_k/top_10_categorical_accuracy: 0.2795 - factorized_top_k/top_50_categorical_accuracy: 0.4768 - factorized_top_k/top_100_categorical_accuracy: 0.5629 - loss: 56.9344 - regularization_loss: 0.0000e+00 - total_loss: 56.9344\n",
            "Epoch 49/50\n",
            "24/24 [==============================] - 2s 91ms/step - factorized_top_k/top_1_categorical_accuracy: 0.1576 - factorized_top_k/top_5_categorical_accuracy: 0.2424 - factorized_top_k/top_10_categorical_accuracy: 0.2821 - factorized_top_k/top_50_categorical_accuracy: 0.4397 - factorized_top_k/top_100_categorical_accuracy: 0.5563 - loss: 57.1326 - regularization_loss: 0.0000e+00 - total_loss: 57.1326\n",
            "Epoch 50/50\n",
            "24/24 [==============================] - 3s 115ms/step - factorized_top_k/top_1_categorical_accuracy: 0.1232 - factorized_top_k/top_5_categorical_accuracy: 0.2159 - factorized_top_k/top_10_categorical_accuracy: 0.2702 - factorized_top_k/top_50_categorical_accuracy: 0.4543 - factorized_top_k/top_100_categorical_accuracy: 0.5629 - loss: 57.4499 - regularization_loss: 0.0000e+00 - total_loss: 57.4499\n",
            "24/24 [==============================] - 3s 100ms/step - factorized_top_k/top_1_categorical_accuracy: 0.2291 - factorized_top_k/top_5_categorical_accuracy: 0.3232 - factorized_top_k/top_10_categorical_accuracy: 0.3603 - factorized_top_k/top_50_categorical_accuracy: 0.5656 - factorized_top_k/top_100_categorical_accuracy: 0.6728 - loss: 56.2783 - regularization_loss: 0.0000e+00 - total_loss: 56.2783\n",
            "6/6 [==============================] - 1s 103ms/step - factorized_top_k/top_1_categorical_accuracy: 0.1693 - factorized_top_k/top_5_categorical_accuracy: 0.2169 - factorized_top_k/top_10_categorical_accuracy: 0.2381 - factorized_top_k/top_50_categorical_accuracy: 0.4127 - factorized_top_k/top_100_categorical_accuracy: 0.4815 - loss: 89.3566 - regularization_loss: 0.0000e+00 - total_loss: 89.3566\n",
            "Top-100 accuracy (train): 0.67.\n",
            "Top-100 accuracy (test): 0.48.\n",
            "Epoch 1/50\n",
            "24/24 [==============================] - 4s 100ms/step - factorized_top_k/top_1_categorical_accuracy: 0.1007 - factorized_top_k/top_5_categorical_accuracy: 0.1020 - factorized_top_k/top_10_categorical_accuracy: 0.1020 - factorized_top_k/top_50_categorical_accuracy: 0.1351 - factorized_top_k/top_100_categorical_accuracy: 0.2106 - loss: 94.8617 - regularization_loss: 0.0000e+00 - total_loss: 94.8617\n",
            "Epoch 2/50\n",
            "24/24 [==============================] - 3s 118ms/step - factorized_top_k/top_1_categorical_accuracy: 0.1033 - factorized_top_k/top_5_categorical_accuracy: 0.1166 - factorized_top_k/top_10_categorical_accuracy: 0.1404 - factorized_top_k/top_50_categorical_accuracy: 0.2609 - factorized_top_k/top_100_categorical_accuracy: 0.3709 - loss: 83.1857 - regularization_loss: 0.0000e+00 - total_loss: 83.1857\n",
            "Epoch 3/50\n",
            "24/24 [==============================] - 3s 110ms/step - factorized_top_k/top_1_categorical_accuracy: 0.0742 - factorized_top_k/top_5_categorical_accuracy: 0.1192 - factorized_top_k/top_10_categorical_accuracy: 0.1616 - factorized_top_k/top_50_categorical_accuracy: 0.3325 - factorized_top_k/top_100_categorical_accuracy: 0.4252 - loss: 75.8417 - regularization_loss: 0.0000e+00 - total_loss: 75.8417\n",
            "Epoch 4/50\n",
            "24/24 [==============================] - 3s 103ms/step - factorized_top_k/top_1_categorical_accuracy: 0.1007 - factorized_top_k/top_5_categorical_accuracy: 0.1510 - factorized_top_k/top_10_categorical_accuracy: 0.1907 - factorized_top_k/top_50_categorical_accuracy: 0.4066 - factorized_top_k/top_100_categorical_accuracy: 0.5152 - loss: 69.7045 - regularization_loss: 0.0000e+00 - total_loss: 69.7045\n",
            "Epoch 5/50\n",
            "24/24 [==============================] - 3s 104ms/step - factorized_top_k/top_1_categorical_accuracy: 0.1139 - factorized_top_k/top_5_categorical_accuracy: 0.1576 - factorized_top_k/top_10_categorical_accuracy: 0.2172 - factorized_top_k/top_50_categorical_accuracy: 0.4424 - factorized_top_k/top_100_categorical_accuracy: 0.5629 - loss: 67.6612 - regularization_loss: 0.0000e+00 - total_loss: 67.6612\n",
            "Epoch 6/50\n",
            "24/24 [==============================] - 4s 154ms/step - factorized_top_k/top_1_categorical_accuracy: 0.1152 - factorized_top_k/top_5_categorical_accuracy: 0.1775 - factorized_top_k/top_10_categorical_accuracy: 0.2212 - factorized_top_k/top_50_categorical_accuracy: 0.4689 - factorized_top_k/top_100_categorical_accuracy: 0.5589 - loss: 65.8545 - regularization_loss: 0.0000e+00 - total_loss: 65.8545\n",
            "Epoch 7/50\n",
            "24/24 [==============================] - 3s 109ms/step - factorized_top_k/top_1_categorical_accuracy: 0.1166 - factorized_top_k/top_5_categorical_accuracy: 0.2000 - factorized_top_k/top_10_categorical_accuracy: 0.2490 - factorized_top_k/top_50_categorical_accuracy: 0.4397 - factorized_top_k/top_100_categorical_accuracy: 0.5338 - loss: 63.4479 - regularization_loss: 0.0000e+00 - total_loss: 63.4479\n",
            "Epoch 8/50\n",
            "24/24 [==============================] - 3s 124ms/step - factorized_top_k/top_1_categorical_accuracy: 0.1351 - factorized_top_k/top_5_categorical_accuracy: 0.2331 - factorized_top_k/top_10_categorical_accuracy: 0.2702 - factorized_top_k/top_50_categorical_accuracy: 0.4623 - factorized_top_k/top_100_categorical_accuracy: 0.5563 - loss: 63.2217 - regularization_loss: 0.0000e+00 - total_loss: 63.2217\n",
            "Epoch 9/50\n",
            "24/24 [==============================] - 4s 162ms/step - factorized_top_k/top_1_categorical_accuracy: 0.1404 - factorized_top_k/top_5_categorical_accuracy: 0.2172 - factorized_top_k/top_10_categorical_accuracy: 0.2795 - factorized_top_k/top_50_categorical_accuracy: 0.4450 - factorized_top_k/top_100_categorical_accuracy: 0.5603 - loss: 62.3403 - regularization_loss: 0.0000e+00 - total_loss: 62.3403\n",
            "Epoch 10/50\n",
            "24/24 [==============================] - 5s 215ms/step - factorized_top_k/top_1_categorical_accuracy: 0.1497 - factorized_top_k/top_5_categorical_accuracy: 0.2265 - factorized_top_k/top_10_categorical_accuracy: 0.2781 - factorized_top_k/top_50_categorical_accuracy: 0.4503 - factorized_top_k/top_100_categorical_accuracy: 0.5748 - loss: 61.5731 - regularization_loss: 0.0000e+00 - total_loss: 61.5731\n",
            "Epoch 11/50\n",
            "24/24 [==============================] - 3s 104ms/step - factorized_top_k/top_1_categorical_accuracy: 0.1417 - factorized_top_k/top_5_categorical_accuracy: 0.2252 - factorized_top_k/top_10_categorical_accuracy: 0.2728 - factorized_top_k/top_50_categorical_accuracy: 0.4570 - factorized_top_k/top_100_categorical_accuracy: 0.5854 - loss: 61.4475 - regularization_loss: 0.0000e+00 - total_loss: 61.4475\n",
            "Epoch 12/50\n",
            "24/24 [==============================] - 2s 99ms/step - factorized_top_k/top_1_categorical_accuracy: 0.1245 - factorized_top_k/top_5_categorical_accuracy: 0.2040 - factorized_top_k/top_10_categorical_accuracy: 0.2636 - factorized_top_k/top_50_categorical_accuracy: 0.4662 - factorized_top_k/top_100_categorical_accuracy: 0.5775 - loss: 60.8515 - regularization_loss: 0.0000e+00 - total_loss: 60.8515\n",
            "Epoch 13/50\n",
            "24/24 [==============================] - 4s 160ms/step - factorized_top_k/top_1_categorical_accuracy: 0.1377 - factorized_top_k/top_5_categorical_accuracy: 0.2331 - factorized_top_k/top_10_categorical_accuracy: 0.2742 - factorized_top_k/top_50_categorical_accuracy: 0.4649 - factorized_top_k/top_100_categorical_accuracy: 0.5497 - loss: 60.2935 - regularization_loss: 0.0000e+00 - total_loss: 60.2935\n",
            "Epoch 14/50\n",
            "24/24 [==============================] - 2s 97ms/step - factorized_top_k/top_1_categorical_accuracy: 0.1457 - factorized_top_k/top_5_categorical_accuracy: 0.2318 - factorized_top_k/top_10_categorical_accuracy: 0.2901 - factorized_top_k/top_50_categorical_accuracy: 0.4556 - factorized_top_k/top_100_categorical_accuracy: 0.5695 - loss: 60.3838 - regularization_loss: 0.0000e+00 - total_loss: 60.3838\n",
            "Epoch 15/50\n",
            "24/24 [==============================] - 2s 98ms/step - factorized_top_k/top_1_categorical_accuracy: 0.1298 - factorized_top_k/top_5_categorical_accuracy: 0.2305 - factorized_top_k/top_10_categorical_accuracy: 0.2795 - factorized_top_k/top_50_categorical_accuracy: 0.4689 - factorized_top_k/top_100_categorical_accuracy: 0.5748 - loss: 60.1760 - regularization_loss: 0.0000e+00 - total_loss: 60.1760\n",
            "Epoch 16/50\n",
            "24/24 [==============================] - 2s 95ms/step - factorized_top_k/top_1_categorical_accuracy: 0.1258 - factorized_top_k/top_5_categorical_accuracy: 0.2159 - factorized_top_k/top_10_categorical_accuracy: 0.2596 - factorized_top_k/top_50_categorical_accuracy: 0.4530 - factorized_top_k/top_100_categorical_accuracy: 0.5735 - loss: 59.5672 - regularization_loss: 0.0000e+00 - total_loss: 59.5672\n",
            "Epoch 17/50\n",
            "24/24 [==============================] - 2s 97ms/step - factorized_top_k/top_1_categorical_accuracy: 0.1695 - factorized_top_k/top_5_categorical_accuracy: 0.2570 - factorized_top_k/top_10_categorical_accuracy: 0.2861 - factorized_top_k/top_50_categorical_accuracy: 0.4967 - factorized_top_k/top_100_categorical_accuracy: 0.5868 - loss: 59.7254 - regularization_loss: 0.0000e+00 - total_loss: 59.7254\n",
            "Epoch 18/50\n",
            "24/24 [==============================] - 4s 153ms/step - factorized_top_k/top_1_categorical_accuracy: 0.1364 - factorized_top_k/top_5_categorical_accuracy: 0.2132 - factorized_top_k/top_10_categorical_accuracy: 0.2662 - factorized_top_k/top_50_categorical_accuracy: 0.4530 - factorized_top_k/top_100_categorical_accuracy: 0.5603 - loss: 58.7274 - regularization_loss: 0.0000e+00 - total_loss: 58.7274\n",
            "Epoch 19/50\n",
            "24/24 [==============================] - 3s 109ms/step - factorized_top_k/top_1_categorical_accuracy: 0.1536 - factorized_top_k/top_5_categorical_accuracy: 0.2225 - factorized_top_k/top_10_categorical_accuracy: 0.2636 - factorized_top_k/top_50_categorical_accuracy: 0.4623 - factorized_top_k/top_100_categorical_accuracy: 0.5563 - loss: 58.7723 - regularization_loss: 0.0000e+00 - total_loss: 58.7723\n",
            "Epoch 20/50\n",
            "24/24 [==============================] - 2s 97ms/step - factorized_top_k/top_1_categorical_accuracy: 0.1325 - factorized_top_k/top_5_categorical_accuracy: 0.2424 - factorized_top_k/top_10_categorical_accuracy: 0.2901 - factorized_top_k/top_50_categorical_accuracy: 0.4583 - factorized_top_k/top_100_categorical_accuracy: 0.5470 - loss: 58.9986 - regularization_loss: 0.0000e+00 - total_loss: 58.9986\n",
            "Epoch 21/50\n",
            "24/24 [==============================] - 2s 99ms/step - factorized_top_k/top_1_categorical_accuracy: 0.1258 - factorized_top_k/top_5_categorical_accuracy: 0.2358 - factorized_top_k/top_10_categorical_accuracy: 0.2834 - factorized_top_k/top_50_categorical_accuracy: 0.4556 - factorized_top_k/top_100_categorical_accuracy: 0.5576 - loss: 59.4580 - regularization_loss: 0.0000e+00 - total_loss: 59.4580\n",
            "Epoch 22/50\n",
            "24/24 [==============================] - 2s 95ms/step - factorized_top_k/top_1_categorical_accuracy: 0.1377 - factorized_top_k/top_5_categorical_accuracy: 0.2450 - factorized_top_k/top_10_categorical_accuracy: 0.2795 - factorized_top_k/top_50_categorical_accuracy: 0.4636 - factorized_top_k/top_100_categorical_accuracy: 0.5629 - loss: 58.9614 - regularization_loss: 0.0000e+00 - total_loss: 58.9614\n",
            "Epoch 23/50\n",
            "24/24 [==============================] - 3s 134ms/step - factorized_top_k/top_1_categorical_accuracy: 0.1298 - factorized_top_k/top_5_categorical_accuracy: 0.2477 - factorized_top_k/top_10_categorical_accuracy: 0.2808 - factorized_top_k/top_50_categorical_accuracy: 0.4464 - factorized_top_k/top_100_categorical_accuracy: 0.5603 - loss: 57.6989 - regularization_loss: 0.0000e+00 - total_loss: 57.6989\n",
            "Epoch 24/50\n",
            "24/24 [==============================] - 2s 97ms/step - factorized_top_k/top_1_categorical_accuracy: 0.1444 - factorized_top_k/top_5_categorical_accuracy: 0.2185 - factorized_top_k/top_10_categorical_accuracy: 0.2530 - factorized_top_k/top_50_categorical_accuracy: 0.4662 - factorized_top_k/top_100_categorical_accuracy: 0.5788 - loss: 58.4744 - regularization_loss: 0.0000e+00 - total_loss: 58.4744\n",
            "Epoch 25/50\n",
            "24/24 [==============================] - 2s 99ms/step - factorized_top_k/top_1_categorical_accuracy: 0.1417 - factorized_top_k/top_5_categorical_accuracy: 0.2318 - factorized_top_k/top_10_categorical_accuracy: 0.2728 - factorized_top_k/top_50_categorical_accuracy: 0.4543 - factorized_top_k/top_100_categorical_accuracy: 0.5550 - loss: 57.9236 - regularization_loss: 0.0000e+00 - total_loss: 57.9236\n",
            "Epoch 26/50\n",
            "24/24 [==============================] - 2s 98ms/step - factorized_top_k/top_1_categorical_accuracy: 0.1351 - factorized_top_k/top_5_categorical_accuracy: 0.2172 - factorized_top_k/top_10_categorical_accuracy: 0.2596 - factorized_top_k/top_50_categorical_accuracy: 0.4556 - factorized_top_k/top_100_categorical_accuracy: 0.5616 - loss: 59.0466 - regularization_loss: 0.0000e+00 - total_loss: 59.0466\n",
            "Epoch 27/50\n",
            "24/24 [==============================] - 3s 104ms/step - factorized_top_k/top_1_categorical_accuracy: 0.1232 - factorized_top_k/top_5_categorical_accuracy: 0.2132 - factorized_top_k/top_10_categorical_accuracy: 0.2570 - factorized_top_k/top_50_categorical_accuracy: 0.4437 - factorized_top_k/top_100_categorical_accuracy: 0.5351 - loss: 57.4332 - regularization_loss: 0.0000e+00 - total_loss: 57.4332\n",
            "Epoch 28/50\n",
            "24/24 [==============================] - 4s 160ms/step - factorized_top_k/top_1_categorical_accuracy: 0.1377 - factorized_top_k/top_5_categorical_accuracy: 0.2199 - factorized_top_k/top_10_categorical_accuracy: 0.2596 - factorized_top_k/top_50_categorical_accuracy: 0.4662 - factorized_top_k/top_100_categorical_accuracy: 0.5801 - loss: 57.4536 - regularization_loss: 0.0000e+00 - total_loss: 57.4536\n",
            "Epoch 29/50\n",
            "24/24 [==============================] - 2s 102ms/step - factorized_top_k/top_1_categorical_accuracy: 0.1285 - factorized_top_k/top_5_categorical_accuracy: 0.2185 - factorized_top_k/top_10_categorical_accuracy: 0.2742 - factorized_top_k/top_50_categorical_accuracy: 0.4662 - factorized_top_k/top_100_categorical_accuracy: 0.5616 - loss: 58.3796 - regularization_loss: 0.0000e+00 - total_loss: 58.3796\n",
            "Epoch 30/50\n",
            "24/24 [==============================] - 3s 102ms/step - factorized_top_k/top_1_categorical_accuracy: 0.1417 - factorized_top_k/top_5_categorical_accuracy: 0.2305 - factorized_top_k/top_10_categorical_accuracy: 0.2808 - factorized_top_k/top_50_categorical_accuracy: 0.4768 - factorized_top_k/top_100_categorical_accuracy: 0.5603 - loss: 57.8489 - regularization_loss: 0.0000e+00 - total_loss: 57.8489\n",
            "Epoch 31/50\n",
            "24/24 [==============================] - 3s 102ms/step - factorized_top_k/top_1_categorical_accuracy: 0.1444 - factorized_top_k/top_5_categorical_accuracy: 0.2477 - factorized_top_k/top_10_categorical_accuracy: 0.2861 - factorized_top_k/top_50_categorical_accuracy: 0.4940 - factorized_top_k/top_100_categorical_accuracy: 0.5987 - loss: 57.9794 - regularization_loss: 0.0000e+00 - total_loss: 57.9794\n",
            "Epoch 32/50\n",
            "24/24 [==============================] - 3s 111ms/step - factorized_top_k/top_1_categorical_accuracy: 0.1258 - factorized_top_k/top_5_categorical_accuracy: 0.2040 - factorized_top_k/top_10_categorical_accuracy: 0.2503 - factorized_top_k/top_50_categorical_accuracy: 0.4583 - factorized_top_k/top_100_categorical_accuracy: 0.5629 - loss: 58.3089 - regularization_loss: 0.0000e+00 - total_loss: 58.3089\n",
            "Epoch 33/50\n",
            "24/24 [==============================] - 3s 111ms/step - factorized_top_k/top_1_categorical_accuracy: 0.1550 - factorized_top_k/top_5_categorical_accuracy: 0.2331 - factorized_top_k/top_10_categorical_accuracy: 0.2874 - factorized_top_k/top_50_categorical_accuracy: 0.4914 - factorized_top_k/top_100_categorical_accuracy: 0.6053 - loss: 58.2602 - regularization_loss: 0.0000e+00 - total_loss: 58.2602\n",
            "Epoch 34/50\n",
            "24/24 [==============================] - 2s 102ms/step - factorized_top_k/top_1_categorical_accuracy: 0.1881 - factorized_top_k/top_5_categorical_accuracy: 0.2609 - factorized_top_k/top_10_categorical_accuracy: 0.3113 - factorized_top_k/top_50_categorical_accuracy: 0.4874 - factorized_top_k/top_100_categorical_accuracy: 0.5841 - loss: 57.6949 - regularization_loss: 0.0000e+00 - total_loss: 57.6949\n",
            "Epoch 35/50\n",
            "24/24 [==============================] - 3s 104ms/step - factorized_top_k/top_1_categorical_accuracy: 0.1483 - factorized_top_k/top_5_categorical_accuracy: 0.2305 - factorized_top_k/top_10_categorical_accuracy: 0.2755 - factorized_top_k/top_50_categorical_accuracy: 0.4371 - factorized_top_k/top_100_categorical_accuracy: 0.5616 - loss: 57.0867 - regularization_loss: 0.0000e+00 - total_loss: 57.0867\n",
            "Epoch 36/50\n",
            "24/24 [==============================] - 3s 128ms/step - factorized_top_k/top_1_categorical_accuracy: 0.1377 - factorized_top_k/top_5_categorical_accuracy: 0.2450 - factorized_top_k/top_10_categorical_accuracy: 0.2940 - factorized_top_k/top_50_categorical_accuracy: 0.4901 - factorized_top_k/top_100_categorical_accuracy: 0.6119 - loss: 57.6881 - regularization_loss: 0.0000e+00 - total_loss: 57.6881\n",
            "Epoch 37/50\n",
            "24/24 [==============================] - 2s 102ms/step - factorized_top_k/top_1_categorical_accuracy: 0.1417 - factorized_top_k/top_5_categorical_accuracy: 0.2344 - factorized_top_k/top_10_categorical_accuracy: 0.2940 - factorized_top_k/top_50_categorical_accuracy: 0.4848 - factorized_top_k/top_100_categorical_accuracy: 0.5735 - loss: 57.7708 - regularization_loss: 0.0000e+00 - total_loss: 57.7708\n",
            "Epoch 38/50\n",
            "24/24 [==============================] - 2s 99ms/step - factorized_top_k/top_1_categorical_accuracy: 0.1325 - factorized_top_k/top_5_categorical_accuracy: 0.2371 - factorized_top_k/top_10_categorical_accuracy: 0.2808 - factorized_top_k/top_50_categorical_accuracy: 0.4530 - factorized_top_k/top_100_categorical_accuracy: 0.5616 - loss: 57.0652 - regularization_loss: 0.0000e+00 - total_loss: 57.0652\n",
            "Epoch 39/50\n",
            "24/24 [==============================] - 3s 119ms/step - factorized_top_k/top_1_categorical_accuracy: 0.1338 - factorized_top_k/top_5_categorical_accuracy: 0.2318 - factorized_top_k/top_10_categorical_accuracy: 0.2675 - factorized_top_k/top_50_categorical_accuracy: 0.4649 - factorized_top_k/top_100_categorical_accuracy: 0.5762 - loss: 57.5834 - regularization_loss: 0.0000e+00 - total_loss: 57.5834\n",
            "Epoch 40/50\n",
            "24/24 [==============================] - 3s 107ms/step - factorized_top_k/top_1_categorical_accuracy: 0.1523 - factorized_top_k/top_5_categorical_accuracy: 0.2331 - factorized_top_k/top_10_categorical_accuracy: 0.2887 - factorized_top_k/top_50_categorical_accuracy: 0.4795 - factorized_top_k/top_100_categorical_accuracy: 0.5894 - loss: 59.1069 - regularization_loss: 0.0000e+00 - total_loss: 59.1069\n",
            "Epoch 41/50\n",
            "24/24 [==============================] - 2s 99ms/step - factorized_top_k/top_1_categorical_accuracy: 0.1404 - factorized_top_k/top_5_categorical_accuracy: 0.2212 - factorized_top_k/top_10_categorical_accuracy: 0.2715 - factorized_top_k/top_50_categorical_accuracy: 0.4662 - factorized_top_k/top_100_categorical_accuracy: 0.5709 - loss: 57.4923 - regularization_loss: 0.0000e+00 - total_loss: 57.4923\n",
            "Epoch 42/50\n",
            "24/24 [==============================] - 2s 96ms/step - factorized_top_k/top_1_categorical_accuracy: 0.1338 - factorized_top_k/top_5_categorical_accuracy: 0.2199 - factorized_top_k/top_10_categorical_accuracy: 0.2570 - factorized_top_k/top_50_categorical_accuracy: 0.4517 - factorized_top_k/top_100_categorical_accuracy: 0.5656 - loss: 57.7738 - regularization_loss: 0.0000e+00 - total_loss: 57.7738\n",
            "Epoch 43/50\n",
            "24/24 [==============================] - 4s 147ms/step - factorized_top_k/top_1_categorical_accuracy: 0.1232 - factorized_top_k/top_5_categorical_accuracy: 0.1974 - factorized_top_k/top_10_categorical_accuracy: 0.2437 - factorized_top_k/top_50_categorical_accuracy: 0.4291 - factorized_top_k/top_100_categorical_accuracy: 0.5470 - loss: 57.2828 - regularization_loss: 0.0000e+00 - total_loss: 57.2828\n",
            "Epoch 44/50\n",
            "24/24 [==============================] - 2s 100ms/step - factorized_top_k/top_1_categorical_accuracy: 0.1377 - factorized_top_k/top_5_categorical_accuracy: 0.2411 - factorized_top_k/top_10_categorical_accuracy: 0.2914 - factorized_top_k/top_50_categorical_accuracy: 0.4781 - factorized_top_k/top_100_categorical_accuracy: 0.5907 - loss: 57.1642 - regularization_loss: 0.0000e+00 - total_loss: 57.1642\n",
            "Epoch 45/50\n",
            "24/24 [==============================] - 2s 96ms/step - factorized_top_k/top_1_categorical_accuracy: 0.1523 - factorized_top_k/top_5_categorical_accuracy: 0.2384 - factorized_top_k/top_10_categorical_accuracy: 0.2967 - factorized_top_k/top_50_categorical_accuracy: 0.4821 - factorized_top_k/top_100_categorical_accuracy: 0.5762 - loss: 57.6830 - regularization_loss: 0.0000e+00 - total_loss: 57.6830\n",
            "Epoch 46/50\n",
            "24/24 [==============================] - 2s 99ms/step - factorized_top_k/top_1_categorical_accuracy: 0.1325 - factorized_top_k/top_5_categorical_accuracy: 0.2159 - factorized_top_k/top_10_categorical_accuracy: 0.2702 - factorized_top_k/top_50_categorical_accuracy: 0.4728 - factorized_top_k/top_100_categorical_accuracy: 0.5709 - loss: 57.1903 - regularization_loss: 0.0000e+00 - total_loss: 57.1903\n",
            "Epoch 47/50\n",
            "24/24 [==============================] - 2s 102ms/step - factorized_top_k/top_1_categorical_accuracy: 0.1404 - factorized_top_k/top_5_categorical_accuracy: 0.2371 - factorized_top_k/top_10_categorical_accuracy: 0.2861 - factorized_top_k/top_50_categorical_accuracy: 0.4954 - factorized_top_k/top_100_categorical_accuracy: 0.5828 - loss: 56.9306 - regularization_loss: 0.0000e+00 - total_loss: 56.9306\n",
            "Epoch 48/50\n",
            "24/24 [==============================] - 4s 158ms/step - factorized_top_k/top_1_categorical_accuracy: 0.1325 - factorized_top_k/top_5_categorical_accuracy: 0.2265 - factorized_top_k/top_10_categorical_accuracy: 0.2689 - factorized_top_k/top_50_categorical_accuracy: 0.4675 - factorized_top_k/top_100_categorical_accuracy: 0.5722 - loss: 56.9329 - regularization_loss: 0.0000e+00 - total_loss: 56.9329\n",
            "Epoch 49/50\n",
            "24/24 [==============================] - 2s 101ms/step - factorized_top_k/top_1_categorical_accuracy: 0.1589 - factorized_top_k/top_5_categorical_accuracy: 0.2464 - factorized_top_k/top_10_categorical_accuracy: 0.2980 - factorized_top_k/top_50_categorical_accuracy: 0.4636 - factorized_top_k/top_100_categorical_accuracy: 0.5709 - loss: 57.1678 - regularization_loss: 0.0000e+00 - total_loss: 57.1678\n",
            "Epoch 50/50\n",
            "24/24 [==============================] - 3s 105ms/step - factorized_top_k/top_1_categorical_accuracy: 0.1311 - factorized_top_k/top_5_categorical_accuracy: 0.2252 - factorized_top_k/top_10_categorical_accuracy: 0.2742 - factorized_top_k/top_50_categorical_accuracy: 0.4636 - factorized_top_k/top_100_categorical_accuracy: 0.5722 - loss: 57.4996 - regularization_loss: 0.0000e+00 - total_loss: 57.4996\n",
            "24/24 [==============================] - 3s 103ms/step - factorized_top_k/top_1_categorical_accuracy: 0.0980 - factorized_top_k/top_5_categorical_accuracy: 0.1974 - factorized_top_k/top_10_categorical_accuracy: 0.2318 - factorized_top_k/top_50_categorical_accuracy: 0.4358 - factorized_top_k/top_100_categorical_accuracy: 0.5682 - loss: 56.1977 - regularization_loss: 0.0000e+00 - total_loss: 56.1977\n",
            "6/6 [==============================] - 1s 105ms/step - factorized_top_k/top_1_categorical_accuracy: 0.0423 - factorized_top_k/top_5_categorical_accuracy: 0.0899 - factorized_top_k/top_10_categorical_accuracy: 0.0952 - factorized_top_k/top_50_categorical_accuracy: 0.2116 - factorized_top_k/top_100_categorical_accuracy: 0.3651 - loss: 90.9895 - regularization_loss: 0.0000e+00 - total_loss: 90.9895\n",
            "Top-100 accuracy (train): 0.57.\n",
            "Top-100 accuracy (test): 0.37.\n"
          ]
        }
      ],
      "source": [
        "for i in range(5):\n",
        "\n",
        "\n",
        "  tf.random.set_seed(1234)\n",
        "  shuffled = dataset.shuffle(944, seed=42, reshuffle_each_iteration=False)\n",
        "  train = shuffled.take(755)\n",
        "  test = shuffled.skip(755).take(189)\n",
        "  cached_train = train.shuffle(755).batch(32)\n",
        "  cached_test = test.batch(32).cache()\n",
        "\n",
        "\n",
        "  model = MainModel([32])\n",
        "  model.compile(optimizer=tf.keras.optimizers.Adagrad(0.1))\n",
        "\n",
        "  one_layer_history=model.fit(cached_train, epochs=50)\n",
        "\n",
        "  train_accuracy = model.evaluate(\n",
        "      cached_train, return_dict=True)[\"factorized_top_k/top_100_categorical_accuracy\"]\n",
        "  test_accuracy = model.evaluate(\n",
        "      cached_test, return_dict=True)[\"factorized_top_k/top_100_categorical_accuracy\"]\n",
        "\n",
        "  print(f\"Top-100 accuracy (train): {train_accuracy:.2f}.\")\n",
        "  print(f\"Top-100 accuracy (test): {test_accuracy:.2f}.\")\n"
      ]
    },
    {
      "cell_type": "code",
      "execution_count": 84,
      "metadata": {
        "application/vnd.databricks.v1+cell": {
          "cellMetadata": {
            "byteLimit": 2048000,
            "rowLimit": 10000
          },
          "inputWidgets": {},
          "nuid": "f507d53d-089a-456e-adc5-4dd75a6a4402",
          "showTitle": false,
          "title": ""
        },
        "colab": {
          "base_uri": "https://localhost:8080/"
        },
        "id": "vZ93ynZ9BEh1",
        "outputId": "ca915527-f699-4c2c-8a37-d125206c02b2"
      },
      "outputs": [
        {
          "output_type": "stream",
          "name": "stderr",
          "text": [
            "<ipython-input-84-444997ff90a3>:3: MatplotlibDeprecationWarning: The seaborn styles shipped by Matplotlib are deprecated since 3.6, as they no longer correspond to the styles shipped by seaborn. However, they will remain available as 'seaborn-v0_8-<style>'. Alternatively, directly use the seaborn API instead.\n",
            "  plt.style.use('seaborn-whitegrid')\n"
          ]
        }
      ],
      "source": [
        "%matplotlib inline\n",
        "import matplotlib.pyplot as plt\n",
        "plt.style.use('seaborn-whitegrid')"
      ]
    },
    {
      "cell_type": "code",
      "execution_count": 85,
      "metadata": {
        "application/vnd.databricks.v1+cell": {
          "cellMetadata": {
            "byteLimit": 2048000,
            "rowLimit": 10000
          },
          "inputWidgets": {},
          "nuid": "143ccd99-e062-4a4d-af5d-c509ca1fe617",
          "showTitle": false,
          "title": ""
        },
        "colab": {
          "base_uri": "https://localhost:8080/",
          "height": 556
        },
        "id": "7aXMYJUKBEh1",
        "outputId": "90eef20b-005b-41aa-c11a-6789a8c84e93"
      },
      "outputs": [
        {
          "output_type": "stream",
          "name": "stderr",
          "text": [
            "WARNING:matplotlib.legend:No artists with labels found to put in legend.  Note that artists whose label start with an underscore are ignored when legend() is called with no argument.\n"
          ]
        },
        {
          "output_type": "stream",
          "name": "stdout",
          "text": [
            "[0.2105960249900818, 0.3708609342575073, 0.4251655638217926, 0.5152317881584167, 0.5629138946533203, 0.5589404106140137, 0.5337748527526855, 0.556291401386261, 0.5602648854255676, 0.5748344659805298, 0.5854304432868958, 0.5774834156036377, 0.5496688485145569, 0.5695364475250244, 0.5748344659805298, 0.573509931564331, 0.5867549777030945, 0.5602648854255676, 0.556291401386261, 0.5470198392868042, 0.5576158761978149, 0.5629138946533203, 0.5602648854255676, 0.5788079500198364, 0.5549668669700623, 0.5615894198417664, 0.5350993275642395, 0.5801324248313904, 0.5615894198417664, 0.5602648854255676, 0.5986754894256592, 0.5629138946533203, 0.6052980422973633, 0.5841059684753418, 0.5615894198417664, 0.6119205355644226, 0.573509931564331, 0.5615894198417664, 0.5761589407920837, 0.5894039869308472, 0.5708609223365784, 0.565562903881073, 0.5470198392868042, 0.5907284617424011, 0.5761589407920837, 0.5708609223365784, 0.5827814340591431, 0.5721854567527771, 0.5708609223365784, 0.5721854567527771]\n",
            "50\n"
          ]
        },
        {
          "output_type": "execute_result",
          "data": {
            "text/plain": [
              "<matplotlib.legend.Legend at 0x7cd9e83f36a0>"
            ]
          },
          "metadata": {},
          "execution_count": 85
        },
        {
          "output_type": "display_data",
          "data": {
            "text/plain": [
              "<Figure size 640x480 with 1 Axes>"
            ],
            "image/png": "[encoded data removed]"
          },
          "metadata": {}
        }
      ],
      "source": [
        "num_validation_runs = len(one_layer_history.history[\"factorized_top_k/top_100_categorical_accuracy\"])\n",
        "epochs = [(x + 1) for x in range(num_validation_runs)]\n",
        "print(one_layer_history.history[\"factorized_top_k/top_100_categorical_accuracy\"])\n",
        "plt.plot(epochs, one_layer_history.history[\"factorized_top_k/top_100_categorical_accuracy\"])\n",
        "print(num_validation_runs)\n",
        "plt.title(\"Accuracy vs epoch\")\n",
        "plt.xlabel(\"epoch\")\n",
        "plt.ylabel(\"Top-100 Train accuracy\")\n",
        "plt.legend()"
      ]
    }
  ],
  "metadata": {
    "application/vnd.databricks.v1+notebook": {
      "dashboards": [],
      "language": "python",
      "notebookMetadata": {
        "mostRecentlyExecutedCommandWithImplicitDF": {
          "commandId": 35111657017712,
          "dataframes": [
            "_sqldf"
          ]
        },
        "pythonIndentUnit": 4
      },
      "notebookName": "2023-06-15 - Discover_Nonprod",
      "widgets": {}
    },
    "colab": {
      "provenance": []
    },
    "language_info": {
      "name": "python"
    },
    "kernelspec": {
      "name": "python3",
      "display_name": "Python 3"
    }
  },
  "nbformat": 4,
  "nbformat_minor": 0
}