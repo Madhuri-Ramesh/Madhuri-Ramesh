{
  "cells": [
    {
      "cell_type": "markdown",
      "metadata": {
        "application/vnd.databricks.v1+cell": {
          "cellMetadata": {
            "byteLimit": 2048000,
            "rowLimit": 10000
          },
          "inputWidgets": {},
          "nuid": "96816ed7-b08a-4ca3-abb9-f99880c3535d",
          "showTitle": false,
          "title": ""
        },
        "id": "BTUhLzxDBEhu"
      },
      "source": [
        "\n",
        "## Overview\n",
        "\n",
        "This notebook will show you how to create and query a table or DataFrame that you uploaded to DBFS. [DBFS](https://docs.databricks.com/user-guide/dbfs-databricks-file-system.html) is a Databricks File System that allows you to store data for querying inside of Databricks. This notebook assumes that you have a file already inside of DBFS that you would like to read from.\n",
        "\n",
        "This notebook is written in **Python** so the default cell type is Python. However, you can use different languages by using the `%LANGUAGE` syntax. Python, Scala, SQL, and R are all supported."
      ]
    },
    {
      "cell_type": "code",
      "execution_count": 86,
      "metadata": {
        "application/vnd.databricks.v1+cell": {
          "cellMetadata": {
            "byteLimit": 2048000,
            "rowLimit": 10000
          },
          "inputWidgets": {},
          "nuid": "661def2a-22d2-4fac-b186-d26851dd6a62",
          "showTitle": false,
          "title": ""
        },
        "colab": {
          "base_uri": "https://localhost:8080/"
        },
        "id": "HmQ37nS4BEhx",
        "outputId": "a284a1ae-0262-4600-9941-ebd5bbe91dc1"
      },
      "outputs": [
        {
          "output_type": "stream",
          "name": "stdout",
          "text": [
            "Requirement already satisfied: pip in /usr/local/lib/python3.10/dist-packages (23.2.1)\n",
            "\u001b[33mWARNING: Running pip as the 'root' user can result in broken permissions and conflicting behaviour with the system package manager. It is recommended to use a virtual environment instead: https://pip.pypa.io/warnings/venv\u001b[0m\u001b[33m\n",
            "\u001b[0m"
          ]
        }
      ],
      "source": [
        "!pip install --upgrade pip"
      ]
    },
    {
      "cell_type": "code",
      "execution_count": 87,
      "metadata": {
        "application/vnd.databricks.v1+cell": {
          "cellMetadata": {
            "byteLimit": 2048000,
            "rowLimit": 10000
          },
          "inputWidgets": {},
          "nuid": "6324f8c3-d08a-4cbc-836b-c6c9897d23b9",
          "showTitle": false,
          "title": ""
        },
        "colab": {
          "base_uri": "https://localhost:8080/"
        },
        "id": "GZYr98P5BEhy",
        "outputId": "28159ec7-c9dc-480d-9fbe-b43c98b1eb9e"
      },
      "outputs": [
        {
          "output_type": "stream",
          "name": "stdout",
          "text": [
            "\u001b[33mWARNING: Running pip as the 'root' user can result in broken permissions and conflicting behaviour with the system package manager. It is recommended to use a virtual environment instead: https://pip.pypa.io/warnings/venv\u001b[0m\u001b[33m\n",
            "\u001b[0m"
          ]
        }
      ],
      "source": [
        "!pip install -q tensorflow-recommenders\n"
      ]
    },
    {
      "cell_type": "code",
      "execution_count": 88,
      "metadata": {
        "application/vnd.databricks.v1+cell": {
          "cellMetadata": {
            "byteLimit": 2048000,
            "rowLimit": 10000
          },
          "inputWidgets": {},
          "nuid": "a3bd3f6e-cbd5-45ad-82cd-924d55ac04f2",
          "showTitle": false,
          "title": ""
        },
        "id": "JK5hDokGBEhz"
      },
      "outputs": [],
      "source": [
        "import tensorflow as tf\n",
        "import pandas as pd\n",
        "import numpy as np\n",
        "import tensorflow_recommenders as tfrs\n",
        "from tensorflow.keras import regularizers\n",
        "import os\n",
        "import tempfile\n",
        "import sys\n",
        "import numpy\n",
        "import matplotlib\n"
      ]
    },
    {
      "cell_type": "code",
      "source": [
        "from google.colab import drive\n",
        "drive.mount('/content/drive')\n",
        "import os\n",
        "\n",
        "os.chdir('/content/drive/MyDrive/')"
      ],
      "metadata": {
        "colab": {
          "base_uri": "https://localhost:8080/"
        },
        "id": "X5mGVLvYDH3b",
        "outputId": "3d5e50d4-70cb-45d2-937d-861a315a9cf5"
      },
      "execution_count": 89,
      "outputs": [
        {
          "output_type": "stream",
          "name": "stdout",
          "text": [
            "Drive already mounted at /content/drive; to attempt to forcibly remount, call drive.mount(\"/content/drive\", force_remount=True).\n"
          ]
        }
      ]
    },
    {
      "cell_type": "code",
      "execution_count": 90,
      "metadata": {
        "application/vnd.databricks.v1+cell": {
          "cellMetadata": {
            "byteLimit": 2048000,
            "rowLimit": 10000
          },
          "inputWidgets": {},
          "nuid": "6482be4c-f067-47c9-b0ac-35c938b94601",
          "showTitle": false,
          "title": ""
        },
        "colab": {
          "base_uri": "https://localhost:8080/"
        },
        "id": "PBDxsinzBEhz",
        "outputId": "f533ca88-6931-4f6e-b2fb-4f5c7e1abe1c"
      },
      "outputs": [
        {
          "output_type": "stream",
          "name": "stdout",
          "text": [
            "944\n"
          ]
        }
      ],
      "source": [
        "df = pd.read_csv('/content/drive/MyDrive/Book2.csv')\n",
        "feature_names = ['identifier','poi','event_ts','fueltype','day']\n",
        "features = df[feature_names].astype(str)\n",
        "dataset = tf.data.Dataset.from_tensor_slices(dict(features))\n",
        "poi_dataset = dataset.map(lambda x: x[\"poi\"])\n",
        "dataset = dataset.map(lambda x: {\n",
        "    \"identifier\": (x[\"identifier\"]),\n",
        "    \"poi\": (x[\"poi\"]),\n",
        "    \"event_ts\": int(x[\"event_ts\"]),\n",
        "    \"fueltype\": (x[\"fueltype\"]),\n",
        "    \"day\": (x[\"day\"]),\n",
        " })\n",
        "\n",
        "print(len(dataset))\n",
        "\n",
        "\n"
      ]
    },
    {
      "cell_type": "code",
      "execution_count": 91,
      "metadata": {
        "application/vnd.databricks.v1+cell": {
          "cellMetadata": {
            "byteLimit": 2048000,
            "rowLimit": 10000
          },
          "inputWidgets": {},
          "nuid": "b5749363-c98a-43ed-911f-24cf39c33b4c",
          "showTitle": false,
          "title": ""
        },
        "id": "a5ea75RuBEhz"
      },
      "outputs": [],
      "source": [
        "timestamps = np.concatenate(list(dataset.map(lambda x: x[\"event_ts\"]).batch(100)))\n",
        "max_timestamp = timestamps.max()\n",
        "min_timestamp = timestamps.min()\n",
        "timestamp_buckets = np.linspace(\n",
        "    min_timestamp, max_timestamp, num=1000,)\n",
        "unique_user_ids = np.unique(np.concatenate(list(dataset.batch(1_000).map(\n",
        "    lambda x: x[\"identifier\"]))))\n",
        "unique_fueltype_ids = np.unique(np.concatenate(list(dataset.batch(1_000).map(\n",
        "    lambda x: x[\"fueltype\"]))))\n",
        "unique_day_ids = np.unique(np.concatenate(list(dataset.batch(1_000).map(\n",
        "    lambda x: x[\"day\"]))))\n",
        "unique_poi_ids = np.unique(np.concatenate(list(poi_dataset.batch(1_000))))\n"
      ]
    },
    {
      "cell_type": "code",
      "execution_count": 92,
      "metadata": {
        "application/vnd.databricks.v1+cell": {
          "cellMetadata": {
            "byteLimit": 2048000,
            "rowLimit": 10000
          },
          "inputWidgets": {},
          "nuid": "c6769647-9494-46d6-99c5-fe53d3280a11",
          "showTitle": false,
          "title": ""
        },
        "id": "DIcyNqE7BEhz"
      },
      "outputs": [],
      "source": [
        "class PoiModel(tf.keras.Model):\n",
        "\n",
        "  def __init__(self):\n",
        "    super().__init__()\n",
        "\n",
        "    max_tokens = 10_000\n",
        "\n",
        "    self.poi_embedding = tf.keras.Sequential([\n",
        "      tf.keras.layers.StringLookup(\n",
        "          vocabulary=unique_poi_ids, mask_token=None),\n",
        "      tf.keras.layers.Embedding(len(unique_poi_ids) + 1, 32)\n",
        "    ])\n",
        "\n",
        "  def call(self,titles):\n",
        "\n",
        "    return self.poi_embedding(titles)"
      ]
    },
    {
      "cell_type": "code",
      "execution_count": 93,
      "metadata": {
        "application/vnd.databricks.v1+cell": {
          "cellMetadata": {
            "byteLimit": 2048000,
            "rowLimit": 10000
          },
          "inputWidgets": {},
          "nuid": "79527b9b-09d8-4460-8efe-6a84e839ac1b",
          "showTitle": false,
          "title": ""
        },
        "id": "94obYi5VBEh0"
      },
      "outputs": [],
      "source": [
        "class UserModel(tf.keras.Model):\n",
        "\n",
        "    def __init__(self):\n",
        "        super().__init__()\n",
        "\n",
        "        self.user_embedding = tf.keras.Sequential([\n",
        "            tf.keras.layers.StringLookup(\n",
        "                vocabulary=unique_user_ids, mask_token=None),\n",
        "            tf.keras.layers.Embedding(len(unique_user_ids) + 1, 32),\n",
        "        ])\n",
        "\n",
        "        #self.day_embedding = tf.keras.Sequential([\n",
        "            #tf.keras.layers.StringLookup(\n",
        "                #vocabulary=unique_day_ids, mask_token=None),\n",
        "            #tf.keras.layers.Embedding(len(unique_day_ids) + 1, 32),\n",
        "        #])\n",
        "\n",
        "        #self.fueltype_embedding = tf.keras.Sequential([\n",
        "            #tf.keras.layers.StringLookup(\n",
        "                #vocabulary=unique_fueltype_ids, mask_token=None),\n",
        "\n",
        "            #tf.keras.layers.Embedding(len(unique_fueltype_ids) + 1, 32),\n",
        "        #])\n",
        "\n",
        "        self.timestamp_embedding = tf.keras.Sequential([\n",
        "            tf.keras.layers.Discretization(timestamp_buckets.tolist()),\n",
        "            tf.keras.layers.Embedding(len(timestamp_buckets) + 1, 32),\n",
        "        ])\n",
        "        self.normalized_timestamp = tf.keras.layers.Normalization(axis=None)\n",
        "\n",
        "        self.normalized_timestamp.adapt(timestamps)\n",
        "\n",
        "    def call(self, inputs):\n",
        "\n",
        "       return tf.concat([\n",
        "        self.user_embedding(inputs[\"identifier\"]),\n",
        "        #self.day_embedding(inputs[\"day\"]),\n",
        "        #self.fueltype_embedding(inputs[\"fueltype\"]),\n",
        "        self.timestamp_embedding(inputs[\"event_ts\"]),\n",
        "        tf.reshape(self.normalized_timestamp(inputs[\"event_ts\"]), (-1, 1)),\n",
        "        ], axis=1)\n",
        ""
      ]
    },
    {
      "cell_type": "code",
      "execution_count": 94,
      "metadata": {
        "application/vnd.databricks.v1+cell": {
          "cellMetadata": {
            "byteLimit": 2048000,
            "rowLimit": 10000
          },
          "inputWidgets": {},
          "nuid": "d73be0d2-c38f-4dfb-b4a0-b05f430a61d1",
          "showTitle": false,
          "title": ""
        },
        "id": "4YN-N1SpBEh0"
      },
      "outputs": [],
      "source": [
        "class QueryModel(tf.keras.Model):\n",
        " def __init__(self, layer_sizes):\n",
        "\n",
        "  super().__init__()\n",
        "\n",
        "\n",
        "  self.embedding_model = UserModel()\n",
        "\n",
        "\n",
        "  self.dense_layers = tf.keras.Sequential()\n",
        "\n",
        "\n",
        "  for layer_size in layer_sizes[:-1]:\n",
        "\n",
        "\n",
        "      self.dense_layers.add(tf.keras.layers.Dense(layer_size, activation=\"relu\"))\n",
        "\n",
        "\n",
        "  for layer_size in layer_sizes[-1:]:\n",
        "      self.dense_layers.add(tf.keras.layers.Dense(layer_size))\n",
        "\n",
        " def call(self, inputs):\n",
        "    feature_embedding = self.embedding_model(inputs)\n",
        "    return self.dense_layers(feature_embedding)"
      ]
    },
    {
      "cell_type": "code",
      "execution_count": 95,
      "metadata": {
        "application/vnd.databricks.v1+cell": {
          "cellMetadata": {
            "byteLimit": 2048000,
            "rowLimit": 10000
          },
          "inputWidgets": {},
          "nuid": "ce2467f8-9b83-45fe-b598-a2555896ef33",
          "showTitle": false,
          "title": ""
        },
        "id": "oo1waGEgBEh0"
      },
      "outputs": [],
      "source": [
        "class CandidateModel(tf.keras.Model):\n",
        "\n",
        "\n",
        "  def __init__(self, layer_sizes):\n",
        "\n",
        "    super().__init__()\n",
        "\n",
        "    self.embedding_model = PoiModel()\n",
        "\n",
        "\n",
        "    self.dense_layers = tf.keras.Sequential()\n",
        "\n",
        "\n",
        "    for layer_size in layer_sizes[:-1]:\n",
        "\n",
        "      self.dense_layers.add(tf.keras.layers.Dense(layer_size, activation=\"relu\"))\n",
        "\n",
        "\n",
        "    for layer_size in layer_sizes[-1:]:\n",
        "      self.dense_layers.add(tf.keras.layers.Dense(layer_size))\n",
        "\n",
        "  def call(self, inputs):\n",
        "    feature_embedding = self.embedding_model(inputs)\n",
        "    return self.dense_layers(feature_embedding)"
      ]
    },
    {
      "cell_type": "code",
      "execution_count": 96,
      "metadata": {
        "application/vnd.databricks.v1+cell": {
          "cellMetadata": {
            "byteLimit": 2048000,
            "rowLimit": 10000
          },
          "inputWidgets": {},
          "nuid": "d98ae2db-39f3-46fb-9017-5b3ba9d87042",
          "showTitle": false,
          "title": ""
        },
        "id": "HaC6jIR7BEh0"
      },
      "outputs": [],
      "source": [
        "class MainModel(tfrs.models.Model):\n",
        "\n",
        "\n",
        "    def __init__(self, layer_sizes):\n",
        "      super().__init__()\n",
        "      self.query_model = QueryModel(layer_sizes)\n",
        "      self.candidate_model = CandidateModel(layer_sizes)\n",
        "\n",
        "      self.task = tfrs.tasks.Retrieval(\n",
        "        metrics=tfrs.metrics.FactorizedTopK(\n",
        "            candidates=poi_dataset.batch(128).map(self.candidate_model),\n",
        "        ),\n",
        "    )\n",
        "\n",
        "    def compute_loss(self, features, training=False):\n",
        "\n",
        "     query_embeddings = self.query_model({\n",
        "        \"identifier\":features[\"identifier\"],\n",
        "        \"event_ts\":features[\"event_ts\"],\n",
        "        #\"fueltype\":features[\"fueltype\"],\n",
        "        #\"day\":features[\"day\"],\n",
        "      })\n",
        "\n",
        "     poi_embeddings = self.candidate_model(\n",
        "       features[\"poi\"]\n",
        "         )\n",
        "\n",
        "\n",
        "     return self.task(query_embeddings,poi_embeddings)"
      ]
    },
    {
      "cell_type": "code",
      "execution_count": 97,
      "metadata": {
        "application/vnd.databricks.v1+cell": {
          "cellMetadata": {
            "byteLimit": 2048000,
            "rowLimit": 10000
          },
          "inputWidgets": {},
          "nuid": "5d96cd92-a78f-48c2-b693-f07fbf019751",
          "showTitle": false,
          "title": ""
        },
        "colab": {
          "base_uri": "https://localhost:8080/"
        },
        "id": "vNl6cZtFBEh1",
        "outputId": "346f91f1-c59c-4928-d8fa-5397be4f22c1"
      },
      "outputs": [
        {
          "output_type": "stream",
          "name": "stdout",
          "text": [
            "Epoch 1/50\n",
            "24/24 [==============================] - 4s 126ms/step - factorized_top_k/top_1_categorical_accuracy: 0.1086 - factorized_top_k/top_5_categorical_accuracy: 0.1099 - factorized_top_k/top_10_categorical_accuracy: 0.1219 - factorized_top_k/top_50_categorical_accuracy: 0.1960 - factorized_top_k/top_100_categorical_accuracy: 0.2702 - loss: 89.1149 - regularization_loss: 0.0000e+00 - total_loss: 89.1149\n",
            "Epoch 2/50\n",
            "24/24 [==============================] - 7s 281ms/step - factorized_top_k/top_1_categorical_accuracy: 0.1775 - factorized_top_k/top_5_categorical_accuracy: 0.1841 - factorized_top_k/top_10_categorical_accuracy: 0.2040 - factorized_top_k/top_50_categorical_accuracy: 0.3311 - factorized_top_k/top_100_categorical_accuracy: 0.4821 - loss: 72.5255 - regularization_loss: 0.0000e+00 - total_loss: 72.5255\n",
            "Epoch 3/50\n",
            "24/24 [==============================] - 5s 192ms/step - factorized_top_k/top_1_categorical_accuracy: 0.1656 - factorized_top_k/top_5_categorical_accuracy: 0.2013 - factorized_top_k/top_10_categorical_accuracy: 0.2358 - factorized_top_k/top_50_categorical_accuracy: 0.4185 - factorized_top_k/top_100_categorical_accuracy: 0.5682 - loss: 62.0122 - regularization_loss: 0.0000e+00 - total_loss: 62.0122\n",
            "Epoch 4/50\n",
            "24/24 [==============================] - 6s 266ms/step - factorized_top_k/top_1_categorical_accuracy: 0.1550 - factorized_top_k/top_5_categorical_accuracy: 0.2344 - factorized_top_k/top_10_categorical_accuracy: 0.2874 - factorized_top_k/top_50_categorical_accuracy: 0.5338 - factorized_top_k/top_100_categorical_accuracy: 0.6901 - loss: 54.8503 - regularization_loss: 0.0000e+00 - total_loss: 54.8503\n",
            "Epoch 5/50\n",
            "24/24 [==============================] - 3s 126ms/step - factorized_top_k/top_1_categorical_accuracy: 0.2066 - factorized_top_k/top_5_categorical_accuracy: 0.2821 - factorized_top_k/top_10_categorical_accuracy: 0.3338 - factorized_top_k/top_50_categorical_accuracy: 0.5444 - factorized_top_k/top_100_categorical_accuracy: 0.7033 - loss: 50.7223 - regularization_loss: 0.0000e+00 - total_loss: 50.7223\n",
            "Epoch 6/50\n",
            "24/24 [==============================] - 2s 98ms/step - factorized_top_k/top_1_categorical_accuracy: 0.2132 - factorized_top_k/top_5_categorical_accuracy: 0.2927 - factorized_top_k/top_10_categorical_accuracy: 0.3603 - factorized_top_k/top_50_categorical_accuracy: 0.5735 - factorized_top_k/top_100_categorical_accuracy: 0.7219 - loss: 46.9819 - regularization_loss: 0.0000e+00 - total_loss: 46.9819\n",
            "Epoch 7/50\n",
            "24/24 [==============================] - 3s 140ms/step - factorized_top_k/top_1_categorical_accuracy: 0.2477 - factorized_top_k/top_5_categorical_accuracy: 0.3536 - factorized_top_k/top_10_categorical_accuracy: 0.4159 - factorized_top_k/top_50_categorical_accuracy: 0.6013 - factorized_top_k/top_100_categorical_accuracy: 0.7351 - loss: 43.9937 - regularization_loss: 0.0000e+00 - total_loss: 43.9937\n",
            "Epoch 8/50\n",
            "24/24 [==============================] - 2s 85ms/step - factorized_top_k/top_1_categorical_accuracy: 0.2384 - factorized_top_k/top_5_categorical_accuracy: 0.3364 - factorized_top_k/top_10_categorical_accuracy: 0.3841 - factorized_top_k/top_50_categorical_accuracy: 0.6159 - factorized_top_k/top_100_categorical_accuracy: 0.7470 - loss: 44.0589 - regularization_loss: 0.0000e+00 - total_loss: 44.0589\n",
            "Epoch 9/50\n",
            "24/24 [==============================] - 2s 80ms/step - factorized_top_k/top_1_categorical_accuracy: 0.2715 - factorized_top_k/top_5_categorical_accuracy: 0.3483 - factorized_top_k/top_10_categorical_accuracy: 0.3987 - factorized_top_k/top_50_categorical_accuracy: 0.6252 - factorized_top_k/top_100_categorical_accuracy: 0.7616 - loss: 41.5839 - regularization_loss: 0.0000e+00 - total_loss: 41.5839\n",
            "Epoch 10/50\n",
            "24/24 [==============================] - 2s 82ms/step - factorized_top_k/top_1_categorical_accuracy: 0.2675 - factorized_top_k/top_5_categorical_accuracy: 0.3669 - factorized_top_k/top_10_categorical_accuracy: 0.4212 - factorized_top_k/top_50_categorical_accuracy: 0.6265 - factorized_top_k/top_100_categorical_accuracy: 0.7722 - loss: 42.2168 - regularization_loss: 0.0000e+00 - total_loss: 42.2168\n",
            "Epoch 11/50\n",
            "24/24 [==============================] - 3s 140ms/step - factorized_top_k/top_1_categorical_accuracy: 0.2596 - factorized_top_k/top_5_categorical_accuracy: 0.3603 - factorized_top_k/top_10_categorical_accuracy: 0.4040 - factorized_top_k/top_50_categorical_accuracy: 0.6146 - factorized_top_k/top_100_categorical_accuracy: 0.7709 - loss: 40.6418 - regularization_loss: 0.0000e+00 - total_loss: 40.6418\n",
            "Epoch 12/50\n",
            "24/24 [==============================] - 3s 122ms/step - factorized_top_k/top_1_categorical_accuracy: 0.2344 - factorized_top_k/top_5_categorical_accuracy: 0.3285 - factorized_top_k/top_10_categorical_accuracy: 0.3868 - factorized_top_k/top_50_categorical_accuracy: 0.6278 - factorized_top_k/top_100_categorical_accuracy: 0.7669 - loss: 40.3671 - regularization_loss: 0.0000e+00 - total_loss: 40.3671\n",
            "Epoch 13/50\n",
            "24/24 [==============================] - 2s 80ms/step - factorized_top_k/top_1_categorical_accuracy: 0.2993 - factorized_top_k/top_5_categorical_accuracy: 0.4079 - factorized_top_k/top_10_categorical_accuracy: 0.4464 - factorized_top_k/top_50_categorical_accuracy: 0.6689 - factorized_top_k/top_100_categorical_accuracy: 0.7907 - loss: 39.4408 - regularization_loss: 0.0000e+00 - total_loss: 39.4408\n",
            "Epoch 14/50\n",
            "24/24 [==============================] - 2s 82ms/step - factorized_top_k/top_1_categorical_accuracy: 0.2702 - factorized_top_k/top_5_categorical_accuracy: 0.3709 - factorized_top_k/top_10_categorical_accuracy: 0.4159 - factorized_top_k/top_50_categorical_accuracy: 0.6291 - factorized_top_k/top_100_categorical_accuracy: 0.7576 - loss: 39.8986 - regularization_loss: 0.0000e+00 - total_loss: 39.8986\n",
            "Epoch 15/50\n",
            "24/24 [==============================] - 2s 78ms/step - factorized_top_k/top_1_categorical_accuracy: 0.2623 - factorized_top_k/top_5_categorical_accuracy: 0.3788 - factorized_top_k/top_10_categorical_accuracy: 0.4358 - factorized_top_k/top_50_categorical_accuracy: 0.6583 - factorized_top_k/top_100_categorical_accuracy: 0.7828 - loss: 38.9938 - regularization_loss: 0.0000e+00 - total_loss: 38.9938\n",
            "Epoch 16/50\n",
            "24/24 [==============================] - 2s 81ms/step - factorized_top_k/top_1_categorical_accuracy: 0.2848 - factorized_top_k/top_5_categorical_accuracy: 0.3801 - factorized_top_k/top_10_categorical_accuracy: 0.4358 - factorized_top_k/top_50_categorical_accuracy: 0.6291 - factorized_top_k/top_100_categorical_accuracy: 0.7695 - loss: 38.9013 - regularization_loss: 0.0000e+00 - total_loss: 38.9013\n",
            "Epoch 17/50\n",
            "24/24 [==============================] - 3s 125ms/step - factorized_top_k/top_1_categorical_accuracy: 0.2927 - factorized_top_k/top_5_categorical_accuracy: 0.3775 - factorized_top_k/top_10_categorical_accuracy: 0.4265 - factorized_top_k/top_50_categorical_accuracy: 0.6583 - factorized_top_k/top_100_categorical_accuracy: 0.7960 - loss: 38.6048 - regularization_loss: 0.0000e+00 - total_loss: 38.6048\n",
            "Epoch 18/50\n",
            "24/24 [==============================] - 2s 83ms/step - factorized_top_k/top_1_categorical_accuracy: 0.2596 - factorized_top_k/top_5_categorical_accuracy: 0.3563 - factorized_top_k/top_10_categorical_accuracy: 0.4053 - factorized_top_k/top_50_categorical_accuracy: 0.6265 - factorized_top_k/top_100_categorical_accuracy: 0.7709 - loss: 38.1935 - regularization_loss: 0.0000e+00 - total_loss: 38.1935\n",
            "Epoch 19/50\n",
            "24/24 [==============================] - 2s 80ms/step - factorized_top_k/top_1_categorical_accuracy: 0.2887 - factorized_top_k/top_5_categorical_accuracy: 0.3762 - factorized_top_k/top_10_categorical_accuracy: 0.4172 - factorized_top_k/top_50_categorical_accuracy: 0.6411 - factorized_top_k/top_100_categorical_accuracy: 0.7894 - loss: 38.3593 - regularization_loss: 0.0000e+00 - total_loss: 38.3593\n",
            "Epoch 20/50\n",
            "24/24 [==============================] - 2s 83ms/step - factorized_top_k/top_1_categorical_accuracy: 0.2861 - factorized_top_k/top_5_categorical_accuracy: 0.3841 - factorized_top_k/top_10_categorical_accuracy: 0.4411 - factorized_top_k/top_50_categorical_accuracy: 0.6437 - factorized_top_k/top_100_categorical_accuracy: 0.7841 - loss: 38.1832 - regularization_loss: 0.0000e+00 - total_loss: 38.1832\n",
            "Epoch 21/50\n",
            "24/24 [==============================] - 2s 82ms/step - factorized_top_k/top_1_categorical_accuracy: 0.2728 - factorized_top_k/top_5_categorical_accuracy: 0.3748 - factorized_top_k/top_10_categorical_accuracy: 0.4265 - factorized_top_k/top_50_categorical_accuracy: 0.6543 - factorized_top_k/top_100_categorical_accuracy: 0.7907 - loss: 37.8260 - regularization_loss: 0.0000e+00 - total_loss: 37.8260\n",
            "Epoch 22/50\n",
            "24/24 [==============================] - 3s 118ms/step - factorized_top_k/top_1_categorical_accuracy: 0.2874 - factorized_top_k/top_5_categorical_accuracy: 0.3974 - factorized_top_k/top_10_categorical_accuracy: 0.4556 - factorized_top_k/top_50_categorical_accuracy: 0.6477 - factorized_top_k/top_100_categorical_accuracy: 0.7854 - loss: 37.3952 - regularization_loss: 0.0000e+00 - total_loss: 37.3952\n",
            "Epoch 23/50\n",
            "24/24 [==============================] - 2s 82ms/step - factorized_top_k/top_1_categorical_accuracy: 0.2570 - factorized_top_k/top_5_categorical_accuracy: 0.3497 - factorized_top_k/top_10_categorical_accuracy: 0.4172 - factorized_top_k/top_50_categorical_accuracy: 0.6172 - factorized_top_k/top_100_categorical_accuracy: 0.7695 - loss: 36.7673 - regularization_loss: 0.0000e+00 - total_loss: 36.7673\n",
            "Epoch 24/50\n",
            "24/24 [==============================] - 2s 84ms/step - factorized_top_k/top_1_categorical_accuracy: 0.3020 - factorized_top_k/top_5_categorical_accuracy: 0.3894 - factorized_top_k/top_10_categorical_accuracy: 0.4437 - factorized_top_k/top_50_categorical_accuracy: 0.6530 - factorized_top_k/top_100_categorical_accuracy: 0.7881 - loss: 37.3679 - regularization_loss: 0.0000e+00 - total_loss: 37.3679\n",
            "Epoch 25/50\n",
            "24/24 [==============================] - 2s 82ms/step - factorized_top_k/top_1_categorical_accuracy: 0.3086 - factorized_top_k/top_5_categorical_accuracy: 0.3894 - factorized_top_k/top_10_categorical_accuracy: 0.4517 - factorized_top_k/top_50_categorical_accuracy: 0.6755 - factorized_top_k/top_100_categorical_accuracy: 0.7934 - loss: 38.1409 - regularization_loss: 0.0000e+00 - total_loss: 38.1409\n",
            "Epoch 26/50\n",
            "24/24 [==============================] - 2s 84ms/step - factorized_top_k/top_1_categorical_accuracy: 0.2768 - factorized_top_k/top_5_categorical_accuracy: 0.3828 - factorized_top_k/top_10_categorical_accuracy: 0.4358 - factorized_top_k/top_50_categorical_accuracy: 0.6437 - factorized_top_k/top_100_categorical_accuracy: 0.7881 - loss: 38.5831 - regularization_loss: 0.0000e+00 - total_loss: 38.5831\n",
            "Epoch 27/50\n",
            "24/24 [==============================] - 3s 134ms/step - factorized_top_k/top_1_categorical_accuracy: 0.2503 - factorized_top_k/top_5_categorical_accuracy: 0.3523 - factorized_top_k/top_10_categorical_accuracy: 0.4066 - factorized_top_k/top_50_categorical_accuracy: 0.6384 - factorized_top_k/top_100_categorical_accuracy: 0.7642 - loss: 36.1676 - regularization_loss: 0.0000e+00 - total_loss: 36.1676\n",
            "Epoch 28/50\n",
            "24/24 [==============================] - 2s 85ms/step - factorized_top_k/top_1_categorical_accuracy: 0.2596 - factorized_top_k/top_5_categorical_accuracy: 0.3430 - factorized_top_k/top_10_categorical_accuracy: 0.4013 - factorized_top_k/top_50_categorical_accuracy: 0.6278 - factorized_top_k/top_100_categorical_accuracy: 0.7536 - loss: 36.3715 - regularization_loss: 0.0000e+00 - total_loss: 36.3715\n",
            "Epoch 29/50\n",
            "24/24 [==============================] - 2s 83ms/step - factorized_top_k/top_1_categorical_accuracy: 0.3060 - factorized_top_k/top_5_categorical_accuracy: 0.4053 - factorized_top_k/top_10_categorical_accuracy: 0.4636 - factorized_top_k/top_50_categorical_accuracy: 0.6530 - factorized_top_k/top_100_categorical_accuracy: 0.7656 - loss: 37.6244 - regularization_loss: 0.0000e+00 - total_loss: 37.6244\n",
            "Epoch 30/50\n",
            "24/24 [==============================] - 2s 82ms/step - factorized_top_k/top_1_categorical_accuracy: 0.2755 - factorized_top_k/top_5_categorical_accuracy: 0.3735 - factorized_top_k/top_10_categorical_accuracy: 0.4238 - factorized_top_k/top_50_categorical_accuracy: 0.6424 - factorized_top_k/top_100_categorical_accuracy: 0.7881 - loss: 36.5631 - regularization_loss: 0.0000e+00 - total_loss: 36.5631\n",
            "Epoch 31/50\n",
            "24/24 [==============================] - 2s 83ms/step - factorized_top_k/top_1_categorical_accuracy: 0.2808 - factorized_top_k/top_5_categorical_accuracy: 0.3801 - factorized_top_k/top_10_categorical_accuracy: 0.4464 - factorized_top_k/top_50_categorical_accuracy: 0.6530 - factorized_top_k/top_100_categorical_accuracy: 0.7974 - loss: 37.4787 - regularization_loss: 0.0000e+00 - total_loss: 37.4787\n",
            "Epoch 32/50\n",
            "24/24 [==============================] - 4s 173ms/step - factorized_top_k/top_1_categorical_accuracy: 0.2848 - factorized_top_k/top_5_categorical_accuracy: 0.3735 - factorized_top_k/top_10_categorical_accuracy: 0.4185 - factorized_top_k/top_50_categorical_accuracy: 0.6450 - factorized_top_k/top_100_categorical_accuracy: 0.7828 - loss: 37.6543 - regularization_loss: 0.0000e+00 - total_loss: 37.6543\n",
            "Epoch 33/50\n",
            "24/24 [==============================] - 4s 181ms/step - factorized_top_k/top_1_categorical_accuracy: 0.2861 - factorized_top_k/top_5_categorical_accuracy: 0.3868 - factorized_top_k/top_10_categorical_accuracy: 0.4437 - factorized_top_k/top_50_categorical_accuracy: 0.6477 - factorized_top_k/top_100_categorical_accuracy: 0.7841 - loss: 37.6021 - regularization_loss: 0.0000e+00 - total_loss: 37.6021\n",
            "Epoch 34/50\n",
            "24/24 [==============================] - 2s 83ms/step - factorized_top_k/top_1_categorical_accuracy: 0.2940 - factorized_top_k/top_5_categorical_accuracy: 0.3881 - factorized_top_k/top_10_categorical_accuracy: 0.4437 - factorized_top_k/top_50_categorical_accuracy: 0.6437 - factorized_top_k/top_100_categorical_accuracy: 0.7841 - loss: 36.9469 - regularization_loss: 0.0000e+00 - total_loss: 36.9469\n",
            "Epoch 35/50\n",
            "24/24 [==============================] - 2s 84ms/step - factorized_top_k/top_1_categorical_accuracy: 0.2927 - factorized_top_k/top_5_categorical_accuracy: 0.3868 - factorized_top_k/top_10_categorical_accuracy: 0.4384 - factorized_top_k/top_50_categorical_accuracy: 0.6517 - factorized_top_k/top_100_categorical_accuracy: 0.7921 - loss: 35.7011 - regularization_loss: 0.0000e+00 - total_loss: 35.7011\n",
            "Epoch 36/50\n",
            "24/24 [==============================] - 2s 88ms/step - factorized_top_k/top_1_categorical_accuracy: 0.3099 - factorized_top_k/top_5_categorical_accuracy: 0.4079 - factorized_top_k/top_10_categorical_accuracy: 0.4543 - factorized_top_k/top_50_categorical_accuracy: 0.6662 - factorized_top_k/top_100_categorical_accuracy: 0.8040 - loss: 36.7180 - regularization_loss: 0.0000e+00 - total_loss: 36.7180\n",
            "Epoch 37/50\n",
            "24/24 [==============================] - 3s 109ms/step - factorized_top_k/top_1_categorical_accuracy: 0.2887 - factorized_top_k/top_5_categorical_accuracy: 0.3868 - factorized_top_k/top_10_categorical_accuracy: 0.4450 - factorized_top_k/top_50_categorical_accuracy: 0.6795 - factorized_top_k/top_100_categorical_accuracy: 0.8000 - loss: 36.9272 - regularization_loss: 0.0000e+00 - total_loss: 36.9272\n",
            "Epoch 38/50\n",
            "24/24 [==============================] - 4s 157ms/step - factorized_top_k/top_1_categorical_accuracy: 0.2848 - factorized_top_k/top_5_categorical_accuracy: 0.3828 - factorized_top_k/top_10_categorical_accuracy: 0.4291 - factorized_top_k/top_50_categorical_accuracy: 0.6609 - factorized_top_k/top_100_categorical_accuracy: 0.7815 - loss: 35.6242 - regularization_loss: 0.0000e+00 - total_loss: 35.6242\n",
            "Epoch 39/50\n",
            "24/24 [==============================] - 2s 84ms/step - factorized_top_k/top_1_categorical_accuracy: 0.2636 - factorized_top_k/top_5_categorical_accuracy: 0.3656 - factorized_top_k/top_10_categorical_accuracy: 0.4212 - factorized_top_k/top_50_categorical_accuracy: 0.6318 - factorized_top_k/top_100_categorical_accuracy: 0.7669 - loss: 36.1922 - regularization_loss: 0.0000e+00 - total_loss: 36.1922\n",
            "Epoch 40/50\n",
            "24/24 [==============================] - 2s 89ms/step - factorized_top_k/top_1_categorical_accuracy: 0.2914 - factorized_top_k/top_5_categorical_accuracy: 0.3921 - factorized_top_k/top_10_categorical_accuracy: 0.4344 - factorized_top_k/top_50_categorical_accuracy: 0.6583 - factorized_top_k/top_100_categorical_accuracy: 0.7841 - loss: 37.0587 - regularization_loss: 0.0000e+00 - total_loss: 37.0587\n",
            "Epoch 41/50\n",
            "24/24 [==============================] - 3s 108ms/step - factorized_top_k/top_1_categorical_accuracy: 0.3099 - factorized_top_k/top_5_categorical_accuracy: 0.4159 - factorized_top_k/top_10_categorical_accuracy: 0.4689 - factorized_top_k/top_50_categorical_accuracy: 0.6649 - factorized_top_k/top_100_categorical_accuracy: 0.7907 - loss: 37.2200 - regularization_loss: 0.0000e+00 - total_loss: 37.2200\n",
            "Epoch 42/50\n",
            "24/24 [==============================] - 2s 85ms/step - factorized_top_k/top_1_categorical_accuracy: 0.2901 - factorized_top_k/top_5_categorical_accuracy: 0.3987 - factorized_top_k/top_10_categorical_accuracy: 0.4596 - factorized_top_k/top_50_categorical_accuracy: 0.6768 - factorized_top_k/top_100_categorical_accuracy: 0.8053 - loss: 35.5339 - regularization_loss: 0.0000e+00 - total_loss: 35.5339\n",
            "Epoch 43/50\n",
            "24/24 [==============================] - 2s 87ms/step - factorized_top_k/top_1_categorical_accuracy: 0.2954 - factorized_top_k/top_5_categorical_accuracy: 0.3934 - factorized_top_k/top_10_categorical_accuracy: 0.4636 - factorized_top_k/top_50_categorical_accuracy: 0.6623 - factorized_top_k/top_100_categorical_accuracy: 0.7841 - loss: 36.5791 - regularization_loss: 0.0000e+00 - total_loss: 36.5791\n",
            "Epoch 44/50\n",
            "24/24 [==============================] - 2s 83ms/step - factorized_top_k/top_1_categorical_accuracy: 0.2967 - factorized_top_k/top_5_categorical_accuracy: 0.3934 - factorized_top_k/top_10_categorical_accuracy: 0.4464 - factorized_top_k/top_50_categorical_accuracy: 0.6755 - factorized_top_k/top_100_categorical_accuracy: 0.8066 - loss: 35.4100 - regularization_loss: 0.0000e+00 - total_loss: 35.4100\n",
            "Epoch 45/50\n",
            "24/24 [==============================] - 2s 84ms/step - factorized_top_k/top_1_categorical_accuracy: 0.3007 - factorized_top_k/top_5_categorical_accuracy: 0.3921 - factorized_top_k/top_10_categorical_accuracy: 0.4543 - factorized_top_k/top_50_categorical_accuracy: 0.6424 - factorized_top_k/top_100_categorical_accuracy: 0.7921 - loss: 35.2010 - regularization_loss: 0.0000e+00 - total_loss: 35.2010\n",
            "Epoch 46/50\n",
            "24/24 [==============================] - 4s 145ms/step - factorized_top_k/top_1_categorical_accuracy: 0.2808 - factorized_top_k/top_5_categorical_accuracy: 0.3921 - factorized_top_k/top_10_categorical_accuracy: 0.4517 - factorized_top_k/top_50_categorical_accuracy: 0.6490 - factorized_top_k/top_100_categorical_accuracy: 0.7841 - loss: 35.4276 - regularization_loss: 0.0000e+00 - total_loss: 35.4276\n",
            "Epoch 47/50\n",
            "24/24 [==============================] - 2s 87ms/step - factorized_top_k/top_1_categorical_accuracy: 0.2702 - factorized_top_k/top_5_categorical_accuracy: 0.3709 - factorized_top_k/top_10_categorical_accuracy: 0.4318 - factorized_top_k/top_50_categorical_accuracy: 0.6397 - factorized_top_k/top_100_categorical_accuracy: 0.7815 - loss: 35.3920 - regularization_loss: 0.0000e+00 - total_loss: 35.3920\n",
            "Epoch 48/50\n",
            "24/24 [==============================] - 2s 88ms/step - factorized_top_k/top_1_categorical_accuracy: 0.2954 - factorized_top_k/top_5_categorical_accuracy: 0.3907 - factorized_top_k/top_10_categorical_accuracy: 0.4556 - factorized_top_k/top_50_categorical_accuracy: 0.6556 - factorized_top_k/top_100_categorical_accuracy: 0.8013 - loss: 36.3286 - regularization_loss: 0.0000e+00 - total_loss: 36.3286\n",
            "Epoch 49/50\n",
            "24/24 [==============================] - 2s 89ms/step - factorized_top_k/top_1_categorical_accuracy: 0.2821 - factorized_top_k/top_5_categorical_accuracy: 0.3828 - factorized_top_k/top_10_categorical_accuracy: 0.4371 - factorized_top_k/top_50_categorical_accuracy: 0.6530 - factorized_top_k/top_100_categorical_accuracy: 0.7828 - loss: 36.6701 - regularization_loss: 0.0000e+00 - total_loss: 36.6701\n",
            "Epoch 50/50\n",
            "24/24 [==============================] - 2s 86ms/step - factorized_top_k/top_1_categorical_accuracy: 0.2623 - factorized_top_k/top_5_categorical_accuracy: 0.3682 - factorized_top_k/top_10_categorical_accuracy: 0.4291 - factorized_top_k/top_50_categorical_accuracy: 0.6570 - factorized_top_k/top_100_categorical_accuracy: 0.7934 - loss: 36.1533 - regularization_loss: 0.0000e+00 - total_loss: 36.1533\n",
            "24/24 [==============================] - 4s 144ms/step - factorized_top_k/top_1_categorical_accuracy: 0.4358 - factorized_top_k/top_5_categorical_accuracy: 0.5099 - factorized_top_k/top_10_categorical_accuracy: 0.5762 - factorized_top_k/top_50_categorical_accuracy: 0.7762 - factorized_top_k/top_100_categorical_accuracy: 0.8887 - loss: 35.3351 - regularization_loss: 0.0000e+00 - total_loss: 35.3351\n",
            "6/6 [==============================] - 1s 125ms/step - factorized_top_k/top_1_categorical_accuracy: 0.2540 - factorized_top_k/top_5_categorical_accuracy: 0.2804 - factorized_top_k/top_10_categorical_accuracy: 0.3122 - factorized_top_k/top_50_categorical_accuracy: 0.4339 - factorized_top_k/top_100_categorical_accuracy: 0.5450 - loss: 96.7440 - regularization_loss: 0.0000e+00 - total_loss: 96.7440\n",
            "Top-100 accuracy (train): 0.89.\n",
            "Top-100 accuracy (test): 0.54.\n",
            "Epoch 1/50\n",
            "24/24 [==============================] - 3s 86ms/step - factorized_top_k/top_1_categorical_accuracy: 0.1126 - factorized_top_k/top_5_categorical_accuracy: 0.1126 - factorized_top_k/top_10_categorical_accuracy: 0.1245 - factorized_top_k/top_50_categorical_accuracy: 0.2066 - factorized_top_k/top_100_categorical_accuracy: 0.2834 - loss: 89.0494 - regularization_loss: 0.0000e+00 - total_loss: 89.0494\n",
            "Epoch 2/50\n",
            "24/24 [==============================] - 2s 91ms/step - factorized_top_k/top_1_categorical_accuracy: 0.1762 - factorized_top_k/top_5_categorical_accuracy: 0.1921 - factorized_top_k/top_10_categorical_accuracy: 0.2132 - factorized_top_k/top_50_categorical_accuracy: 0.3815 - factorized_top_k/top_100_categorical_accuracy: 0.5086 - loss: 71.2298 - regularization_loss: 0.0000e+00 - total_loss: 71.2298\n",
            "Epoch 3/50\n",
            "24/24 [==============================] - 2s 91ms/step - factorized_top_k/top_1_categorical_accuracy: 0.1748 - factorized_top_k/top_5_categorical_accuracy: 0.2013 - factorized_top_k/top_10_categorical_accuracy: 0.2503 - factorized_top_k/top_50_categorical_accuracy: 0.4556 - factorized_top_k/top_100_categorical_accuracy: 0.6026 - loss: 59.5346 - regularization_loss: 0.0000e+00 - total_loss: 59.5346\n",
            "Epoch 4/50\n",
            "24/24 [==============================] - 3s 115ms/step - factorized_top_k/top_1_categorical_accuracy: 0.2146 - factorized_top_k/top_5_categorical_accuracy: 0.2755 - factorized_top_k/top_10_categorical_accuracy: 0.3272 - factorized_top_k/top_50_categorical_accuracy: 0.5682 - factorized_top_k/top_100_categorical_accuracy: 0.7020 - loss: 53.3165 - regularization_loss: 0.0000e+00 - total_loss: 53.3165\n",
            "Epoch 5/50\n",
            "24/24 [==============================] - 2s 92ms/step - factorized_top_k/top_1_categorical_accuracy: 0.2331 - factorized_top_k/top_5_categorical_accuracy: 0.3113 - factorized_top_k/top_10_categorical_accuracy: 0.3642 - factorized_top_k/top_50_categorical_accuracy: 0.5841 - factorized_top_k/top_100_categorical_accuracy: 0.7298 - loss: 48.5638 - regularization_loss: 0.0000e+00 - total_loss: 48.5638\n",
            "Epoch 6/50\n",
            "24/24 [==============================] - 2s 89ms/step - factorized_top_k/top_1_categorical_accuracy: 0.2305 - factorized_top_k/top_5_categorical_accuracy: 0.3179 - factorized_top_k/top_10_categorical_accuracy: 0.3682 - factorized_top_k/top_50_categorical_accuracy: 0.5907 - factorized_top_k/top_100_categorical_accuracy: 0.7457 - loss: 46.2220 - regularization_loss: 0.0000e+00 - total_loss: 46.2220\n",
            "Epoch 7/50\n",
            "24/24 [==============================] - 2s 93ms/step - factorized_top_k/top_1_categorical_accuracy: 0.2411 - factorized_top_k/top_5_categorical_accuracy: 0.3377 - factorized_top_k/top_10_categorical_accuracy: 0.4040 - factorized_top_k/top_50_categorical_accuracy: 0.6079 - factorized_top_k/top_100_categorical_accuracy: 0.7417 - loss: 42.7654 - regularization_loss: 0.0000e+00 - total_loss: 42.7654\n",
            "Epoch 8/50\n",
            "24/24 [==============================] - 2s 90ms/step - factorized_top_k/top_1_categorical_accuracy: 0.2530 - factorized_top_k/top_5_categorical_accuracy: 0.3497 - factorized_top_k/top_10_categorical_accuracy: 0.4013 - factorized_top_k/top_50_categorical_accuracy: 0.6265 - factorized_top_k/top_100_categorical_accuracy: 0.7576 - loss: 43.5422 - regularization_loss: 0.0000e+00 - total_loss: 43.5422\n",
            "Epoch 9/50\n",
            "24/24 [==============================] - 3s 140ms/step - factorized_top_k/top_1_categorical_accuracy: 0.2940 - factorized_top_k/top_5_categorical_accuracy: 0.3788 - factorized_top_k/top_10_categorical_accuracy: 0.4265 - factorized_top_k/top_50_categorical_accuracy: 0.6397 - factorized_top_k/top_100_categorical_accuracy: 0.7788 - loss: 40.8128 - regularization_loss: 0.0000e+00 - total_loss: 40.8128\n",
            "Epoch 10/50\n",
            "24/24 [==============================] - 2s 90ms/step - factorized_top_k/top_1_categorical_accuracy: 0.2675 - factorized_top_k/top_5_categorical_accuracy: 0.3616 - factorized_top_k/top_10_categorical_accuracy: 0.4119 - factorized_top_k/top_50_categorical_accuracy: 0.6132 - factorized_top_k/top_100_categorical_accuracy: 0.7536 - loss: 41.1704 - regularization_loss: 0.0000e+00 - total_loss: 41.1704\n",
            "Epoch 11/50\n",
            "24/24 [==============================] - 2s 90ms/step - factorized_top_k/top_1_categorical_accuracy: 0.2821 - factorized_top_k/top_5_categorical_accuracy: 0.3735 - factorized_top_k/top_10_categorical_accuracy: 0.4238 - factorized_top_k/top_50_categorical_accuracy: 0.6225 - factorized_top_k/top_100_categorical_accuracy: 0.7695 - loss: 40.0166 - regularization_loss: 0.0000e+00 - total_loss: 40.0166\n",
            "Epoch 12/50\n",
            "24/24 [==============================] - 2s 91ms/step - factorized_top_k/top_1_categorical_accuracy: 0.2808 - factorized_top_k/top_5_categorical_accuracy: 0.3748 - factorized_top_k/top_10_categorical_accuracy: 0.4252 - factorized_top_k/top_50_categorical_accuracy: 0.6702 - factorized_top_k/top_100_categorical_accuracy: 0.7987 - loss: 39.6540 - regularization_loss: 0.0000e+00 - total_loss: 39.6540\n",
            "Epoch 13/50\n",
            "24/24 [==============================] - 2s 90ms/step - factorized_top_k/top_1_categorical_accuracy: 0.2834 - factorized_top_k/top_5_categorical_accuracy: 0.3695 - factorized_top_k/top_10_categorical_accuracy: 0.4278 - factorized_top_k/top_50_categorical_accuracy: 0.6424 - factorized_top_k/top_100_categorical_accuracy: 0.7603 - loss: 38.9463 - regularization_loss: 0.0000e+00 - total_loss: 38.9463\n",
            "Epoch 14/50\n",
            "24/24 [==============================] - 3s 138ms/step - factorized_top_k/top_1_categorical_accuracy: 0.2649 - factorized_top_k/top_5_categorical_accuracy: 0.3616 - factorized_top_k/top_10_categorical_accuracy: 0.4119 - factorized_top_k/top_50_categorical_accuracy: 0.6265 - factorized_top_k/top_100_categorical_accuracy: 0.7576 - loss: 38.9202 - regularization_loss: 0.0000e+00 - total_loss: 38.9202\n",
            "Epoch 15/50\n",
            "24/24 [==============================] - 2s 88ms/step - factorized_top_k/top_1_categorical_accuracy: 0.2834 - factorized_top_k/top_5_categorical_accuracy: 0.3841 - factorized_top_k/top_10_categorical_accuracy: 0.4437 - factorized_top_k/top_50_categorical_accuracy: 0.6411 - factorized_top_k/top_100_categorical_accuracy: 0.7788 - loss: 38.6548 - regularization_loss: 0.0000e+00 - total_loss: 38.6548\n",
            "Epoch 16/50\n",
            "24/24 [==============================] - 2s 89ms/step - factorized_top_k/top_1_categorical_accuracy: 0.2517 - factorized_top_k/top_5_categorical_accuracy: 0.3444 - factorized_top_k/top_10_categorical_accuracy: 0.3921 - factorized_top_k/top_50_categorical_accuracy: 0.6106 - factorized_top_k/top_100_categorical_accuracy: 0.7483 - loss: 38.0262 - regularization_loss: 0.0000e+00 - total_loss: 38.0262\n",
            "Epoch 17/50\n",
            "24/24 [==============================] - 2s 89ms/step - factorized_top_k/top_1_categorical_accuracy: 0.2662 - factorized_top_k/top_5_categorical_accuracy: 0.3735 - factorized_top_k/top_10_categorical_accuracy: 0.4199 - factorized_top_k/top_50_categorical_accuracy: 0.6411 - factorized_top_k/top_100_categorical_accuracy: 0.7894 - loss: 38.0873 - regularization_loss: 0.0000e+00 - total_loss: 38.0873\n",
            "Epoch 18/50\n",
            "24/24 [==============================] - 2s 90ms/step - factorized_top_k/top_1_categorical_accuracy: 0.2649 - factorized_top_k/top_5_categorical_accuracy: 0.3629 - factorized_top_k/top_10_categorical_accuracy: 0.4225 - factorized_top_k/top_50_categorical_accuracy: 0.6450 - factorized_top_k/top_100_categorical_accuracy: 0.7815 - loss: 37.7055 - regularization_loss: 0.0000e+00 - total_loss: 37.7055\n",
            "Epoch 19/50\n",
            "24/24 [==============================] - 4s 147ms/step - factorized_top_k/top_1_categorical_accuracy: 0.2795 - factorized_top_k/top_5_categorical_accuracy: 0.3682 - factorized_top_k/top_10_categorical_accuracy: 0.4146 - factorized_top_k/top_50_categorical_accuracy: 0.6397 - factorized_top_k/top_100_categorical_accuracy: 0.7828 - loss: 38.2456 - regularization_loss: 0.0000e+00 - total_loss: 38.2456\n",
            "Epoch 20/50\n",
            "24/24 [==============================] - 2s 94ms/step - factorized_top_k/top_1_categorical_accuracy: 0.3099 - factorized_top_k/top_5_categorical_accuracy: 0.4026 - factorized_top_k/top_10_categorical_accuracy: 0.4503 - factorized_top_k/top_50_categorical_accuracy: 0.6623 - factorized_top_k/top_100_categorical_accuracy: 0.7934 - loss: 37.9552 - regularization_loss: 0.0000e+00 - total_loss: 37.9552\n",
            "Epoch 21/50\n",
            "24/24 [==============================] - 2s 90ms/step - factorized_top_k/top_1_categorical_accuracy: 0.2980 - factorized_top_k/top_5_categorical_accuracy: 0.3868 - factorized_top_k/top_10_categorical_accuracy: 0.4358 - factorized_top_k/top_50_categorical_accuracy: 0.6517 - factorized_top_k/top_100_categorical_accuracy: 0.7974 - loss: 37.6419 - regularization_loss: 0.0000e+00 - total_loss: 37.6419\n",
            "Epoch 22/50\n",
            "24/24 [==============================] - 2s 92ms/step - factorized_top_k/top_1_categorical_accuracy: 0.2530 - factorized_top_k/top_5_categorical_accuracy: 0.3576 - factorized_top_k/top_10_categorical_accuracy: 0.4159 - factorized_top_k/top_50_categorical_accuracy: 0.6185 - factorized_top_k/top_100_categorical_accuracy: 0.7656 - loss: 37.1613 - regularization_loss: 0.0000e+00 - total_loss: 37.1613\n",
            "Epoch 23/50\n",
            "24/24 [==============================] - 2s 99ms/step - factorized_top_k/top_1_categorical_accuracy: 0.2715 - factorized_top_k/top_5_categorical_accuracy: 0.3576 - factorized_top_k/top_10_categorical_accuracy: 0.4291 - factorized_top_k/top_50_categorical_accuracy: 0.6278 - factorized_top_k/top_100_categorical_accuracy: 0.7709 - loss: 36.3379 - regularization_loss: 0.0000e+00 - total_loss: 36.3379\n",
            "Epoch 24/50\n",
            "24/24 [==============================] - 4s 148ms/step - factorized_top_k/top_1_categorical_accuracy: 0.2927 - factorized_top_k/top_5_categorical_accuracy: 0.3775 - factorized_top_k/top_10_categorical_accuracy: 0.4384 - factorized_top_k/top_50_categorical_accuracy: 0.6517 - factorized_top_k/top_100_categorical_accuracy: 0.7748 - loss: 37.3351 - regularization_loss: 0.0000e+00 - total_loss: 37.3351\n",
            "Epoch 25/50\n",
            "24/24 [==============================] - 2s 92ms/step - factorized_top_k/top_1_categorical_accuracy: 0.2914 - factorized_top_k/top_5_categorical_accuracy: 0.3974 - factorized_top_k/top_10_categorical_accuracy: 0.4556 - factorized_top_k/top_50_categorical_accuracy: 0.6609 - factorized_top_k/top_100_categorical_accuracy: 0.7881 - loss: 37.8971 - regularization_loss: 0.0000e+00 - total_loss: 37.8971\n",
            "Epoch 26/50\n",
            "24/24 [==============================] - 2s 90ms/step - factorized_top_k/top_1_categorical_accuracy: 0.2887 - factorized_top_k/top_5_categorical_accuracy: 0.3907 - factorized_top_k/top_10_categorical_accuracy: 0.4371 - factorized_top_k/top_50_categorical_accuracy: 0.6490 - factorized_top_k/top_100_categorical_accuracy: 0.7921 - loss: 38.2965 - regularization_loss: 0.0000e+00 - total_loss: 38.2965\n",
            "Epoch 27/50\n",
            "24/24 [==============================] - 2s 94ms/step - factorized_top_k/top_1_categorical_accuracy: 0.2821 - factorized_top_k/top_5_categorical_accuracy: 0.4000 - factorized_top_k/top_10_categorical_accuracy: 0.4464 - factorized_top_k/top_50_categorical_accuracy: 0.6675 - factorized_top_k/top_100_categorical_accuracy: 0.7921 - loss: 35.9986 - regularization_loss: 0.0000e+00 - total_loss: 35.9986\n",
            "Epoch 28/50\n",
            "24/24 [==============================] - 2s 100ms/step - factorized_top_k/top_1_categorical_accuracy: 0.2543 - factorized_top_k/top_5_categorical_accuracy: 0.3417 - factorized_top_k/top_10_categorical_accuracy: 0.4026 - factorized_top_k/top_50_categorical_accuracy: 0.6450 - factorized_top_k/top_100_categorical_accuracy: 0.7669 - loss: 35.9538 - regularization_loss: 0.0000e+00 - total_loss: 35.9538\n",
            "Epoch 29/50\n",
            "24/24 [==============================] - 4s 147ms/step - factorized_top_k/top_1_categorical_accuracy: 0.2874 - factorized_top_k/top_5_categorical_accuracy: 0.3960 - factorized_top_k/top_10_categorical_accuracy: 0.4623 - factorized_top_k/top_50_categorical_accuracy: 0.6490 - factorized_top_k/top_100_categorical_accuracy: 0.7656 - loss: 37.3364 - regularization_loss: 0.0000e+00 - total_loss: 37.3364\n",
            "Epoch 30/50\n",
            "24/24 [==============================] - 2s 92ms/step - factorized_top_k/top_1_categorical_accuracy: 0.2556 - factorized_top_k/top_5_categorical_accuracy: 0.3576 - factorized_top_k/top_10_categorical_accuracy: 0.4079 - factorized_top_k/top_50_categorical_accuracy: 0.6331 - factorized_top_k/top_100_categorical_accuracy: 0.7695 - loss: 36.3217 - regularization_loss: 0.0000e+00 - total_loss: 36.3217\n",
            "Epoch 31/50\n",
            "24/24 [==============================] - 2s 91ms/step - factorized_top_k/top_1_categorical_accuracy: 0.2940 - factorized_top_k/top_5_categorical_accuracy: 0.4093 - factorized_top_k/top_10_categorical_accuracy: 0.4702 - factorized_top_k/top_50_categorical_accuracy: 0.6689 - factorized_top_k/top_100_categorical_accuracy: 0.8079 - loss: 37.1897 - regularization_loss: 0.0000e+00 - total_loss: 37.1897\n",
            "Epoch 32/50\n",
            "24/24 [==============================] - 2s 91ms/step - factorized_top_k/top_1_categorical_accuracy: 0.2689 - factorized_top_k/top_5_categorical_accuracy: 0.3576 - factorized_top_k/top_10_categorical_accuracy: 0.4106 - factorized_top_k/top_50_categorical_accuracy: 0.6238 - factorized_top_k/top_100_categorical_accuracy: 0.7603 - loss: 37.2678 - regularization_loss: 0.0000e+00 - total_loss: 37.2678\n",
            "Epoch 33/50\n",
            "24/24 [==============================] - 2s 94ms/step - factorized_top_k/top_1_categorical_accuracy: 0.3046 - factorized_top_k/top_5_categorical_accuracy: 0.3987 - factorized_top_k/top_10_categorical_accuracy: 0.4596 - factorized_top_k/top_50_categorical_accuracy: 0.6636 - factorized_top_k/top_100_categorical_accuracy: 0.8053 - loss: 37.4721 - regularization_loss: 0.0000e+00 - total_loss: 37.4721\n",
            "Epoch 34/50\n",
            "24/24 [==============================] - 4s 144ms/step - factorized_top_k/top_1_categorical_accuracy: 0.3073 - factorized_top_k/top_5_categorical_accuracy: 0.3947 - factorized_top_k/top_10_categorical_accuracy: 0.4424 - factorized_top_k/top_50_categorical_accuracy: 0.6530 - factorized_top_k/top_100_categorical_accuracy: 0.7868 - loss: 36.9209 - regularization_loss: 0.0000e+00 - total_loss: 36.9209\n",
            "Epoch 35/50\n",
            "24/24 [==============================] - 2s 91ms/step - factorized_top_k/top_1_categorical_accuracy: 0.3020 - factorized_top_k/top_5_categorical_accuracy: 0.4000 - factorized_top_k/top_10_categorical_accuracy: 0.4477 - factorized_top_k/top_50_categorical_accuracy: 0.6649 - factorized_top_k/top_100_categorical_accuracy: 0.7907 - loss: 35.4149 - regularization_loss: 0.0000e+00 - total_loss: 35.4149\n",
            "Epoch 36/50\n",
            "24/24 [==============================] - 2s 93ms/step - factorized_top_k/top_1_categorical_accuracy: 0.3099 - factorized_top_k/top_5_categorical_accuracy: 0.4040 - factorized_top_k/top_10_categorical_accuracy: 0.4517 - factorized_top_k/top_50_categorical_accuracy: 0.6530 - factorized_top_k/top_100_categorical_accuracy: 0.8000 - loss: 36.5966 - regularization_loss: 0.0000e+00 - total_loss: 36.5966\n",
            "Epoch 37/50\n",
            "24/24 [==============================] - 2s 96ms/step - factorized_top_k/top_1_categorical_accuracy: 0.2649 - factorized_top_k/top_5_categorical_accuracy: 0.3722 - factorized_top_k/top_10_categorical_accuracy: 0.4344 - factorized_top_k/top_50_categorical_accuracy: 0.6543 - factorized_top_k/top_100_categorical_accuracy: 0.7788 - loss: 36.5175 - regularization_loss: 0.0000e+00 - total_loss: 36.5175\n",
            "Epoch 38/50\n",
            "24/24 [==============================] - 3s 113ms/step - factorized_top_k/top_1_categorical_accuracy: 0.2570 - factorized_top_k/top_5_categorical_accuracy: 0.3616 - factorized_top_k/top_10_categorical_accuracy: 0.4066 - factorized_top_k/top_50_categorical_accuracy: 0.6490 - factorized_top_k/top_100_categorical_accuracy: 0.7801 - loss: 35.6084 - regularization_loss: 0.0000e+00 - total_loss: 35.6084\n",
            "Epoch 39/50\n",
            "24/24 [==============================] - 2s 88ms/step - factorized_top_k/top_1_categorical_accuracy: 0.2702 - factorized_top_k/top_5_categorical_accuracy: 0.3695 - factorized_top_k/top_10_categorical_accuracy: 0.4318 - factorized_top_k/top_50_categorical_accuracy: 0.6371 - factorized_top_k/top_100_categorical_accuracy: 0.7762 - loss: 36.1458 - regularization_loss: 0.0000e+00 - total_loss: 36.1458\n",
            "Epoch 40/50\n",
            "24/24 [==============================] - 2s 91ms/step - factorized_top_k/top_1_categorical_accuracy: 0.2623 - factorized_top_k/top_5_categorical_accuracy: 0.3695 - factorized_top_k/top_10_categorical_accuracy: 0.4119 - factorized_top_k/top_50_categorical_accuracy: 0.6477 - factorized_top_k/top_100_categorical_accuracy: 0.7775 - loss: 36.9652 - regularization_loss: 0.0000e+00 - total_loss: 36.9652\n",
            "Epoch 41/50\n",
            "24/24 [==============================] - 2s 91ms/step - factorized_top_k/top_1_categorical_accuracy: 0.3033 - factorized_top_k/top_5_categorical_accuracy: 0.4132 - factorized_top_k/top_10_categorical_accuracy: 0.4662 - factorized_top_k/top_50_categorical_accuracy: 0.6609 - factorized_top_k/top_100_categorical_accuracy: 0.7921 - loss: 37.1209 - regularization_loss: 0.0000e+00 - total_loss: 37.1209\n",
            "Epoch 42/50\n",
            "24/24 [==============================] - 2s 89ms/step - factorized_top_k/top_1_categorical_accuracy: 0.3060 - factorized_top_k/top_5_categorical_accuracy: 0.3974 - factorized_top_k/top_10_categorical_accuracy: 0.4570 - factorized_top_k/top_50_categorical_accuracy: 0.6768 - factorized_top_k/top_100_categorical_accuracy: 0.8066 - loss: 35.2915 - regularization_loss: 0.0000e+00 - total_loss: 35.2915\n",
            "Epoch 43/50\n",
            "24/24 [==============================] - 3s 143ms/step - factorized_top_k/top_1_categorical_accuracy: 0.3007 - factorized_top_k/top_5_categorical_accuracy: 0.4026 - factorized_top_k/top_10_categorical_accuracy: 0.4623 - factorized_top_k/top_50_categorical_accuracy: 0.6781 - factorized_top_k/top_100_categorical_accuracy: 0.8000 - loss: 36.4726 - regularization_loss: 0.0000e+00 - total_loss: 36.4726\n",
            "Epoch 44/50\n",
            "24/24 [==============================] - 2s 89ms/step - factorized_top_k/top_1_categorical_accuracy: 0.2702 - factorized_top_k/top_5_categorical_accuracy: 0.3775 - factorized_top_k/top_10_categorical_accuracy: 0.4344 - factorized_top_k/top_50_categorical_accuracy: 0.6411 - factorized_top_k/top_100_categorical_accuracy: 0.7828 - loss: 35.2611 - regularization_loss: 0.0000e+00 - total_loss: 35.2611\n",
            "Epoch 45/50\n",
            "24/24 [==============================] - 2s 93ms/step - factorized_top_k/top_1_categorical_accuracy: 0.3033 - factorized_top_k/top_5_categorical_accuracy: 0.3907 - factorized_top_k/top_10_categorical_accuracy: 0.4556 - factorized_top_k/top_50_categorical_accuracy: 0.6503 - factorized_top_k/top_100_categorical_accuracy: 0.8040 - loss: 35.1713 - regularization_loss: 0.0000e+00 - total_loss: 35.1713\n",
            "Epoch 46/50\n",
            "24/24 [==============================] - 2s 92ms/step - factorized_top_k/top_1_categorical_accuracy: 0.3046 - factorized_top_k/top_5_categorical_accuracy: 0.4053 - factorized_top_k/top_10_categorical_accuracy: 0.4689 - factorized_top_k/top_50_categorical_accuracy: 0.6675 - factorized_top_k/top_100_categorical_accuracy: 0.8066 - loss: 35.3684 - regularization_loss: 0.0000e+00 - total_loss: 35.3684\n",
            "Epoch 47/50\n",
            "24/24 [==============================] - 2s 89ms/step - factorized_top_k/top_1_categorical_accuracy: 0.2702 - factorized_top_k/top_5_categorical_accuracy: 0.3815 - factorized_top_k/top_10_categorical_accuracy: 0.4371 - factorized_top_k/top_50_categorical_accuracy: 0.6543 - factorized_top_k/top_100_categorical_accuracy: 0.8000 - loss: 35.2709 - regularization_loss: 0.0000e+00 - total_loss: 35.2709\n",
            "Epoch 48/50\n",
            "24/24 [==============================] - 3s 138ms/step - factorized_top_k/top_1_categorical_accuracy: 0.2874 - factorized_top_k/top_5_categorical_accuracy: 0.3735 - factorized_top_k/top_10_categorical_accuracy: 0.4450 - factorized_top_k/top_50_categorical_accuracy: 0.6371 - factorized_top_k/top_100_categorical_accuracy: 0.7709 - loss: 36.2161 - regularization_loss: 0.0000e+00 - total_loss: 36.2161\n",
            "Epoch 49/50\n",
            "24/24 [==============================] - 2s 91ms/step - factorized_top_k/top_1_categorical_accuracy: 0.2901 - factorized_top_k/top_5_categorical_accuracy: 0.3828 - factorized_top_k/top_10_categorical_accuracy: 0.4411 - factorized_top_k/top_50_categorical_accuracy: 0.6530 - factorized_top_k/top_100_categorical_accuracy: 0.7735 - loss: 36.4994 - regularization_loss: 0.0000e+00 - total_loss: 36.4994\n",
            "Epoch 50/50\n",
            "24/24 [==============================] - 2s 91ms/step - factorized_top_k/top_1_categorical_accuracy: 0.2768 - factorized_top_k/top_5_categorical_accuracy: 0.3722 - factorized_top_k/top_10_categorical_accuracy: 0.4358 - factorized_top_k/top_50_categorical_accuracy: 0.6570 - factorized_top_k/top_100_categorical_accuracy: 0.7828 - loss: 35.8840 - regularization_loss: 0.0000e+00 - total_loss: 35.8840\n",
            "24/24 [==============================] - 2s 85ms/step - factorized_top_k/top_1_categorical_accuracy: 0.4000 - factorized_top_k/top_5_categorical_accuracy: 0.4742 - factorized_top_k/top_10_categorical_accuracy: 0.5404 - factorized_top_k/top_50_categorical_accuracy: 0.7629 - factorized_top_k/top_100_categorical_accuracy: 0.8715 - loss: 35.1887 - regularization_loss: 0.0000e+00 - total_loss: 35.1887\n",
            "6/6 [==============================] - 1s 87ms/step - factorized_top_k/top_1_categorical_accuracy: 0.2593 - factorized_top_k/top_5_categorical_accuracy: 0.2963 - factorized_top_k/top_10_categorical_accuracy: 0.3175 - factorized_top_k/top_50_categorical_accuracy: 0.4444 - factorized_top_k/top_100_categorical_accuracy: 0.5714 - loss: 96.1636 - regularization_loss: 0.0000e+00 - total_loss: 96.1636\n",
            "Top-100 accuracy (train): 0.87.\n",
            "Top-100 accuracy (test): 0.57.\n",
            "Epoch 1/50\n",
            "24/24 [==============================] - 5s 148ms/step - factorized_top_k/top_1_categorical_accuracy: 0.1007 - factorized_top_k/top_5_categorical_accuracy: 0.1007 - factorized_top_k/top_10_categorical_accuracy: 0.1126 - factorized_top_k/top_50_categorical_accuracy: 0.1815 - factorized_top_k/top_100_categorical_accuracy: 0.2517 - loss: 89.6073 - regularization_loss: 0.0000e+00 - total_loss: 89.6073\n",
            "Epoch 2/50\n",
            "24/24 [==============================] - 2s 86ms/step - factorized_top_k/top_1_categorical_accuracy: 0.1576 - factorized_top_k/top_5_categorical_accuracy: 0.1656 - factorized_top_k/top_10_categorical_accuracy: 0.2026 - factorized_top_k/top_50_categorical_accuracy: 0.3550 - factorized_top_k/top_100_categorical_accuracy: 0.4887 - loss: 72.2330 - regularization_loss: 0.0000e+00 - total_loss: 72.2330\n",
            "Epoch 3/50\n",
            "24/24 [==============================] - 2s 84ms/step - factorized_top_k/top_1_categorical_accuracy: 0.1576 - factorized_top_k/top_5_categorical_accuracy: 0.1907 - factorized_top_k/top_10_categorical_accuracy: 0.2344 - factorized_top_k/top_50_categorical_accuracy: 0.4411 - factorized_top_k/top_100_categorical_accuracy: 0.5907 - loss: 59.6245 - regularization_loss: 0.0000e+00 - total_loss: 59.6245\n",
            "Epoch 4/50\n",
            "24/24 [==============================] - 2s 86ms/step - factorized_top_k/top_1_categorical_accuracy: 0.2000 - factorized_top_k/top_5_categorical_accuracy: 0.2795 - factorized_top_k/top_10_categorical_accuracy: 0.3338 - factorized_top_k/top_50_categorical_accuracy: 0.5695 - factorized_top_k/top_100_categorical_accuracy: 0.7099 - loss: 52.6156 - regularization_loss: 0.0000e+00 - total_loss: 52.6156\n",
            "Epoch 5/50\n",
            "24/24 [==============================] - 2s 89ms/step - factorized_top_k/top_1_categorical_accuracy: 0.1907 - factorized_top_k/top_5_categorical_accuracy: 0.2861 - factorized_top_k/top_10_categorical_accuracy: 0.3417 - factorized_top_k/top_50_categorical_accuracy: 0.5669 - factorized_top_k/top_100_categorical_accuracy: 0.7166 - loss: 48.4362 - regularization_loss: 0.0000e+00 - total_loss: 48.4362\n",
            "Epoch 6/50\n",
            "24/24 [==============================] - 4s 144ms/step - factorized_top_k/top_1_categorical_accuracy: 0.2424 - factorized_top_k/top_5_categorical_accuracy: 0.3325 - factorized_top_k/top_10_categorical_accuracy: 0.3881 - factorized_top_k/top_50_categorical_accuracy: 0.5921 - factorized_top_k/top_100_categorical_accuracy: 0.7722 - loss: 46.5555 - regularization_loss: 0.0000e+00 - total_loss: 46.5555\n",
            "Epoch 7/50\n",
            "24/24 [==============================] - 2s 92ms/step - factorized_top_k/top_1_categorical_accuracy: 0.2437 - factorized_top_k/top_5_categorical_accuracy: 0.3338 - factorized_top_k/top_10_categorical_accuracy: 0.4026 - factorized_top_k/top_50_categorical_accuracy: 0.6066 - factorized_top_k/top_100_categorical_accuracy: 0.7550 - loss: 42.6538 - regularization_loss: 0.0000e+00 - total_loss: 42.6538\n",
            "Epoch 8/50\n",
            "24/24 [==============================] - 2s 87ms/step - factorized_top_k/top_1_categorical_accuracy: 0.2636 - factorized_top_k/top_5_categorical_accuracy: 0.3603 - factorized_top_k/top_10_categorical_accuracy: 0.4185 - factorized_top_k/top_50_categorical_accuracy: 0.6371 - factorized_top_k/top_100_categorical_accuracy: 0.7682 - loss: 43.1937 - regularization_loss: 0.0000e+00 - total_loss: 43.1937\n",
            "Epoch 9/50\n",
            "24/24 [==============================] - 2s 90ms/step - factorized_top_k/top_1_categorical_accuracy: 0.2795 - factorized_top_k/top_5_categorical_accuracy: 0.3642 - factorized_top_k/top_10_categorical_accuracy: 0.4252 - factorized_top_k/top_50_categorical_accuracy: 0.6424 - factorized_top_k/top_100_categorical_accuracy: 0.7775 - loss: 40.7161 - regularization_loss: 0.0000e+00 - total_loss: 40.7161\n",
            "Epoch 10/50\n",
            "24/24 [==============================] - 2s 89ms/step - factorized_top_k/top_1_categorical_accuracy: 0.2556 - factorized_top_k/top_5_categorical_accuracy: 0.3603 - factorized_top_k/top_10_categorical_accuracy: 0.4172 - factorized_top_k/top_50_categorical_accuracy: 0.6278 - factorized_top_k/top_100_categorical_accuracy: 0.7669 - loss: 41.2472 - regularization_loss: 0.0000e+00 - total_loss: 41.2472\n",
            "Epoch 11/50\n",
            "24/24 [==============================] - 4s 145ms/step - factorized_top_k/top_1_categorical_accuracy: 0.2755 - factorized_top_k/top_5_categorical_accuracy: 0.3775 - factorized_top_k/top_10_categorical_accuracy: 0.4384 - factorized_top_k/top_50_categorical_accuracy: 0.6397 - factorized_top_k/top_100_categorical_accuracy: 0.7828 - loss: 39.6204 - regularization_loss: 0.0000e+00 - total_loss: 39.6204\n",
            "Epoch 12/50\n",
            "24/24 [==============================] - 2s 91ms/step - factorized_top_k/top_1_categorical_accuracy: 0.2411 - factorized_top_k/top_5_categorical_accuracy: 0.3391 - factorized_top_k/top_10_categorical_accuracy: 0.4013 - factorized_top_k/top_50_categorical_accuracy: 0.6225 - factorized_top_k/top_100_categorical_accuracy: 0.7682 - loss: 39.7910 - regularization_loss: 0.0000e+00 - total_loss: 39.7910\n",
            "Epoch 13/50\n",
            "24/24 [==============================] - 2s 94ms/step - factorized_top_k/top_1_categorical_accuracy: 0.2596 - factorized_top_k/top_5_categorical_accuracy: 0.3642 - factorized_top_k/top_10_categorical_accuracy: 0.4238 - factorized_top_k/top_50_categorical_accuracy: 0.6384 - factorized_top_k/top_100_categorical_accuracy: 0.7629 - loss: 39.0901 - regularization_loss: 0.0000e+00 - total_loss: 39.0901\n",
            "Epoch 14/50\n",
            "24/24 [==============================] - 2s 93ms/step - factorized_top_k/top_1_categorical_accuracy: 0.2649 - factorized_top_k/top_5_categorical_accuracy: 0.3589 - factorized_top_k/top_10_categorical_accuracy: 0.4132 - factorized_top_k/top_50_categorical_accuracy: 0.6252 - factorized_top_k/top_100_categorical_accuracy: 0.7589 - loss: 38.8750 - regularization_loss: 0.0000e+00 - total_loss: 38.8750\n",
            "Epoch 15/50\n",
            "24/24 [==============================] - 3s 137ms/step - factorized_top_k/top_1_categorical_accuracy: 0.2530 - factorized_top_k/top_5_categorical_accuracy: 0.3629 - factorized_top_k/top_10_categorical_accuracy: 0.4278 - factorized_top_k/top_50_categorical_accuracy: 0.6424 - factorized_top_k/top_100_categorical_accuracy: 0.7801 - loss: 38.3895 - regularization_loss: 0.0000e+00 - total_loss: 38.3895\n",
            "Epoch 16/50\n",
            "24/24 [==============================] - 4s 172ms/step - factorized_top_k/top_1_categorical_accuracy: 0.2795 - factorized_top_k/top_5_categorical_accuracy: 0.3709 - factorized_top_k/top_10_categorical_accuracy: 0.4265 - factorized_top_k/top_50_categorical_accuracy: 0.6371 - factorized_top_k/top_100_categorical_accuracy: 0.7669 - loss: 38.1392 - regularization_loss: 0.0000e+00 - total_loss: 38.1392\n",
            "Epoch 17/50\n",
            "24/24 [==============================] - 2s 91ms/step - factorized_top_k/top_1_categorical_accuracy: 0.2742 - factorized_top_k/top_5_categorical_accuracy: 0.3735 - factorized_top_k/top_10_categorical_accuracy: 0.4146 - factorized_top_k/top_50_categorical_accuracy: 0.6397 - factorized_top_k/top_100_categorical_accuracy: 0.7881 - loss: 38.0753 - regularization_loss: 0.0000e+00 - total_loss: 38.0753\n",
            "Epoch 18/50\n",
            "24/24 [==============================] - 2s 94ms/step - factorized_top_k/top_1_categorical_accuracy: 0.2742 - factorized_top_k/top_5_categorical_accuracy: 0.3563 - factorized_top_k/top_10_categorical_accuracy: 0.4172 - factorized_top_k/top_50_categorical_accuracy: 0.6159 - factorized_top_k/top_100_categorical_accuracy: 0.7603 - loss: 37.5960 - regularization_loss: 0.0000e+00 - total_loss: 37.5960\n",
            "Epoch 19/50\n",
            "24/24 [==============================] - 2s 93ms/step - factorized_top_k/top_1_categorical_accuracy: 0.2662 - factorized_top_k/top_5_categorical_accuracy: 0.3576 - factorized_top_k/top_10_categorical_accuracy: 0.4199 - factorized_top_k/top_50_categorical_accuracy: 0.6530 - factorized_top_k/top_100_categorical_accuracy: 0.7722 - loss: 37.9569 - regularization_loss: 0.0000e+00 - total_loss: 37.9569\n",
            "Epoch 20/50\n",
            "24/24 [==============================] - 3s 103ms/step - factorized_top_k/top_1_categorical_accuracy: 0.2887 - factorized_top_k/top_5_categorical_accuracy: 0.3934 - factorized_top_k/top_10_categorical_accuracy: 0.4437 - factorized_top_k/top_50_categorical_accuracy: 0.6543 - factorized_top_k/top_100_categorical_accuracy: 0.7921 - loss: 37.7589 - regularization_loss: 0.0000e+00 - total_loss: 37.7589\n",
            "Epoch 21/50\n",
            "24/24 [==============================] - 4s 157ms/step - factorized_top_k/top_1_categorical_accuracy: 0.2768 - factorized_top_k/top_5_categorical_accuracy: 0.3722 - factorized_top_k/top_10_categorical_accuracy: 0.4172 - factorized_top_k/top_50_categorical_accuracy: 0.6450 - factorized_top_k/top_100_categorical_accuracy: 0.7881 - loss: 37.8002 - regularization_loss: 0.0000e+00 - total_loss: 37.8002\n",
            "Epoch 22/50\n",
            "24/24 [==============================] - 3s 99ms/step - factorized_top_k/top_1_categorical_accuracy: 0.2940 - factorized_top_k/top_5_categorical_accuracy: 0.3907 - factorized_top_k/top_10_categorical_accuracy: 0.4424 - factorized_top_k/top_50_categorical_accuracy: 0.6477 - factorized_top_k/top_100_categorical_accuracy: 0.7947 - loss: 36.9200 - regularization_loss: 0.0000e+00 - total_loss: 36.9200\n",
            "Epoch 23/50\n",
            "24/24 [==============================] - 2s 93ms/step - factorized_top_k/top_1_categorical_accuracy: 0.2702 - factorized_top_k/top_5_categorical_accuracy: 0.3722 - factorized_top_k/top_10_categorical_accuracy: 0.4411 - factorized_top_k/top_50_categorical_accuracy: 0.6358 - factorized_top_k/top_100_categorical_accuracy: 0.7801 - loss: 36.1219 - regularization_loss: 0.0000e+00 - total_loss: 36.1219\n",
            "Epoch 24/50\n",
            "24/24 [==============================] - 2s 96ms/step - factorized_top_k/top_1_categorical_accuracy: 0.3166 - factorized_top_k/top_5_categorical_accuracy: 0.4066 - factorized_top_k/top_10_categorical_accuracy: 0.4623 - factorized_top_k/top_50_categorical_accuracy: 0.6609 - factorized_top_k/top_100_categorical_accuracy: 0.8013 - loss: 37.0783 - regularization_loss: 0.0000e+00 - total_loss: 37.0783\n",
            "Epoch 25/50\n",
            "24/24 [==============================] - 2s 94ms/step - factorized_top_k/top_1_categorical_accuracy: 0.2596 - factorized_top_k/top_5_categorical_accuracy: 0.3510 - factorized_top_k/top_10_categorical_accuracy: 0.4225 - factorized_top_k/top_50_categorical_accuracy: 0.6477 - factorized_top_k/top_100_categorical_accuracy: 0.7748 - loss: 37.6383 - regularization_loss: 0.0000e+00 - total_loss: 37.6383\n",
            "Epoch 26/50\n",
            "24/24 [==============================] - 4s 147ms/step - factorized_top_k/top_1_categorical_accuracy: 0.2927 - factorized_top_k/top_5_categorical_accuracy: 0.3894 - factorized_top_k/top_10_categorical_accuracy: 0.4411 - factorized_top_k/top_50_categorical_accuracy: 0.6609 - factorized_top_k/top_100_categorical_accuracy: 0.7921 - loss: 38.1777 - regularization_loss: 0.0000e+00 - total_loss: 38.1777\n",
            "Epoch 27/50\n",
            "24/24 [==============================] - 3s 125ms/step - factorized_top_k/top_1_categorical_accuracy: 0.3086 - factorized_top_k/top_5_categorical_accuracy: 0.4185 - factorized_top_k/top_10_categorical_accuracy: 0.4715 - factorized_top_k/top_50_categorical_accuracy: 0.6861 - factorized_top_k/top_100_categorical_accuracy: 0.8119 - loss: 35.9093 - regularization_loss: 0.0000e+00 - total_loss: 35.9093\n",
            "Epoch 28/50\n",
            "24/24 [==============================] - 2s 95ms/step - factorized_top_k/top_1_categorical_accuracy: 0.2437 - factorized_top_k/top_5_categorical_accuracy: 0.3325 - factorized_top_k/top_10_categorical_accuracy: 0.3974 - factorized_top_k/top_50_categorical_accuracy: 0.6318 - factorized_top_k/top_100_categorical_accuracy: 0.7669 - loss: 36.0357 - regularization_loss: 0.0000e+00 - total_loss: 36.0357\n",
            "Epoch 29/50\n",
            "24/24 [==============================] - 2s 92ms/step - factorized_top_k/top_1_categorical_accuracy: 0.3179 - factorized_top_k/top_5_categorical_accuracy: 0.4199 - factorized_top_k/top_10_categorical_accuracy: 0.4768 - factorized_top_k/top_50_categorical_accuracy: 0.6662 - factorized_top_k/top_100_categorical_accuracy: 0.7854 - loss: 37.1603 - regularization_loss: 0.0000e+00 - total_loss: 37.1603\n",
            "Epoch 30/50\n",
            "24/24 [==============================] - 2s 98ms/step - factorized_top_k/top_1_categorical_accuracy: 0.2702 - factorized_top_k/top_5_categorical_accuracy: 0.3709 - factorized_top_k/top_10_categorical_accuracy: 0.4185 - factorized_top_k/top_50_categorical_accuracy: 0.6450 - factorized_top_k/top_100_categorical_accuracy: 0.7854 - loss: 36.2445 - regularization_loss: 0.0000e+00 - total_loss: 36.2445\n",
            "Epoch 31/50\n",
            "24/24 [==============================] - 4s 148ms/step - factorized_top_k/top_1_categorical_accuracy: 0.3033 - factorized_top_k/top_5_categorical_accuracy: 0.4066 - factorized_top_k/top_10_categorical_accuracy: 0.4636 - factorized_top_k/top_50_categorical_accuracy: 0.6675 - factorized_top_k/top_100_categorical_accuracy: 0.8013 - loss: 37.2048 - regularization_loss: 0.0000e+00 - total_loss: 37.2048\n",
            "Epoch 32/50\n",
            "24/24 [==============================] - 2s 94ms/step - factorized_top_k/top_1_categorical_accuracy: 0.2887 - factorized_top_k/top_5_categorical_accuracy: 0.3735 - factorized_top_k/top_10_categorical_accuracy: 0.4225 - factorized_top_k/top_50_categorical_accuracy: 0.6464 - factorized_top_k/top_100_categorical_accuracy: 0.7775 - loss: 37.1895 - regularization_loss: 0.0000e+00 - total_loss: 37.1895\n",
            "Epoch 33/50\n",
            "24/24 [==============================] - 2s 95ms/step - factorized_top_k/top_1_categorical_accuracy: 0.2940 - factorized_top_k/top_5_categorical_accuracy: 0.3841 - factorized_top_k/top_10_categorical_accuracy: 0.4477 - factorized_top_k/top_50_categorical_accuracy: 0.6623 - factorized_top_k/top_100_categorical_accuracy: 0.8000 - loss: 37.4278 - regularization_loss: 0.0000e+00 - total_loss: 37.4278\n",
            "Epoch 34/50\n",
            "24/24 [==============================] - 2s 92ms/step - factorized_top_k/top_1_categorical_accuracy: 0.2675 - factorized_top_k/top_5_categorical_accuracy: 0.3669 - factorized_top_k/top_10_categorical_accuracy: 0.4199 - factorized_top_k/top_50_categorical_accuracy: 0.6172 - factorized_top_k/top_100_categorical_accuracy: 0.7603 - loss: 36.7287 - regularization_loss: 0.0000e+00 - total_loss: 36.7287\n",
            "Epoch 35/50\n",
            "24/24 [==============================] - 2s 92ms/step - factorized_top_k/top_1_categorical_accuracy: 0.3007 - factorized_top_k/top_5_categorical_accuracy: 0.4040 - factorized_top_k/top_10_categorical_accuracy: 0.4596 - factorized_top_k/top_50_categorical_accuracy: 0.6596 - factorized_top_k/top_100_categorical_accuracy: 0.7881 - loss: 35.3838 - regularization_loss: 0.0000e+00 - total_loss: 35.3838\n",
            "Epoch 36/50\n",
            "24/24 [==============================] - 4s 150ms/step - factorized_top_k/top_1_categorical_accuracy: 0.2834 - factorized_top_k/top_5_categorical_accuracy: 0.3815 - factorized_top_k/top_10_categorical_accuracy: 0.4318 - factorized_top_k/top_50_categorical_accuracy: 0.6477 - factorized_top_k/top_100_categorical_accuracy: 0.7921 - loss: 36.3564 - regularization_loss: 0.0000e+00 - total_loss: 36.3564\n",
            "Epoch 37/50\n",
            "24/24 [==============================] - 2s 93ms/step - factorized_top_k/top_1_categorical_accuracy: 0.2848 - factorized_top_k/top_5_categorical_accuracy: 0.3788 - factorized_top_k/top_10_categorical_accuracy: 0.4318 - factorized_top_k/top_50_categorical_accuracy: 0.6609 - factorized_top_k/top_100_categorical_accuracy: 0.7921 - loss: 36.4964 - regularization_loss: 0.0000e+00 - total_loss: 36.4964\n",
            "Epoch 38/50\n",
            "24/24 [==============================] - 2s 96ms/step - factorized_top_k/top_1_categorical_accuracy: 0.2543 - factorized_top_k/top_5_categorical_accuracy: 0.3629 - factorized_top_k/top_10_categorical_accuracy: 0.4146 - factorized_top_k/top_50_categorical_accuracy: 0.6503 - factorized_top_k/top_100_categorical_accuracy: 0.7722 - loss: 35.6832 - regularization_loss: 0.0000e+00 - total_loss: 35.6832\n",
            "Epoch 39/50\n",
            "24/24 [==============================] - 2s 94ms/step - factorized_top_k/top_1_categorical_accuracy: 0.2993 - factorized_top_k/top_5_categorical_accuracy: 0.4000 - factorized_top_k/top_10_categorical_accuracy: 0.4556 - factorized_top_k/top_50_categorical_accuracy: 0.6636 - factorized_top_k/top_100_categorical_accuracy: 0.8053 - loss: 36.1134 - regularization_loss: 0.0000e+00 - total_loss: 36.1134\n",
            "Epoch 40/50\n",
            "24/24 [==============================] - 2s 96ms/step - factorized_top_k/top_1_categorical_accuracy: 0.2914 - factorized_top_k/top_5_categorical_accuracy: 0.3921 - factorized_top_k/top_10_categorical_accuracy: 0.4344 - factorized_top_k/top_50_categorical_accuracy: 0.6675 - factorized_top_k/top_100_categorical_accuracy: 0.7854 - loss: 36.8122 - regularization_loss: 0.0000e+00 - total_loss: 36.8122\n",
            "Epoch 41/50\n",
            "24/24 [==============================] - 4s 159ms/step - factorized_top_k/top_1_categorical_accuracy: 0.2914 - factorized_top_k/top_5_categorical_accuracy: 0.3960 - factorized_top_k/top_10_categorical_accuracy: 0.4543 - factorized_top_k/top_50_categorical_accuracy: 0.6450 - factorized_top_k/top_100_categorical_accuracy: 0.7748 - loss: 37.0915 - regularization_loss: 0.0000e+00 - total_loss: 37.0915\n",
            "Epoch 42/50\n",
            "24/24 [==============================] - 2s 92ms/step - factorized_top_k/top_1_categorical_accuracy: 0.2967 - factorized_top_k/top_5_categorical_accuracy: 0.4000 - factorized_top_k/top_10_categorical_accuracy: 0.4596 - factorized_top_k/top_50_categorical_accuracy: 0.6768 - factorized_top_k/top_100_categorical_accuracy: 0.8119 - loss: 35.3059 - regularization_loss: 0.0000e+00 - total_loss: 35.3059\n",
            "Epoch 43/50\n",
            "24/24 [==============================] - 2s 94ms/step - factorized_top_k/top_1_categorical_accuracy: 0.2927 - factorized_top_k/top_5_categorical_accuracy: 0.3947 - factorized_top_k/top_10_categorical_accuracy: 0.4636 - factorized_top_k/top_50_categorical_accuracy: 0.6662 - factorized_top_k/top_100_categorical_accuracy: 0.7881 - loss: 36.3978 - regularization_loss: 0.0000e+00 - total_loss: 36.3978\n",
            "Epoch 44/50\n",
            "24/24 [==============================] - 2s 94ms/step - factorized_top_k/top_1_categorical_accuracy: 0.2556 - factorized_top_k/top_5_categorical_accuracy: 0.3642 - factorized_top_k/top_10_categorical_accuracy: 0.4265 - factorized_top_k/top_50_categorical_accuracy: 0.6450 - factorized_top_k/top_100_categorical_accuracy: 0.7868 - loss: 35.1581 - regularization_loss: 0.0000e+00 - total_loss: 35.1581\n",
            "Epoch 45/50\n",
            "24/24 [==============================] - 3s 107ms/step - factorized_top_k/top_1_categorical_accuracy: 0.3033 - factorized_top_k/top_5_categorical_accuracy: 0.4053 - factorized_top_k/top_10_categorical_accuracy: 0.4768 - factorized_top_k/top_50_categorical_accuracy: 0.6596 - factorized_top_k/top_100_categorical_accuracy: 0.8079 - loss: 35.1765 - regularization_loss: 0.0000e+00 - total_loss: 35.1765\n",
            "Epoch 46/50\n",
            "24/24 [==============================] - 4s 153ms/step - factorized_top_k/top_1_categorical_accuracy: 0.2689 - factorized_top_k/top_5_categorical_accuracy: 0.3748 - factorized_top_k/top_10_categorical_accuracy: 0.4411 - factorized_top_k/top_50_categorical_accuracy: 0.6517 - factorized_top_k/top_100_categorical_accuracy: 0.7775 - loss: 35.3009 - regularization_loss: 0.0000e+00 - total_loss: 35.3009\n",
            "Epoch 47/50\n",
            "24/24 [==============================] - 3s 101ms/step - factorized_top_k/top_1_categorical_accuracy: 0.2901 - factorized_top_k/top_5_categorical_accuracy: 0.3881 - factorized_top_k/top_10_categorical_accuracy: 0.4450 - factorized_top_k/top_50_categorical_accuracy: 0.6662 - factorized_top_k/top_100_categorical_accuracy: 0.8013 - loss: 35.2525 - regularization_loss: 0.0000e+00 - total_loss: 35.2525\n",
            "Epoch 48/50\n",
            "24/24 [==============================] - 2s 95ms/step - factorized_top_k/top_1_categorical_accuracy: 0.3152 - factorized_top_k/top_5_categorical_accuracy: 0.4013 - factorized_top_k/top_10_categorical_accuracy: 0.4649 - factorized_top_k/top_50_categorical_accuracy: 0.6636 - factorized_top_k/top_100_categorical_accuracy: 0.8053 - loss: 36.1849 - regularization_loss: 0.0000e+00 - total_loss: 36.1849\n",
            "Epoch 49/50\n",
            "24/24 [==============================] - 2s 96ms/step - factorized_top_k/top_1_categorical_accuracy: 0.3046 - factorized_top_k/top_5_categorical_accuracy: 0.4026 - factorized_top_k/top_10_categorical_accuracy: 0.4596 - factorized_top_k/top_50_categorical_accuracy: 0.6570 - factorized_top_k/top_100_categorical_accuracy: 0.7854 - loss: 36.4847 - regularization_loss: 0.0000e+00 - total_loss: 36.4847\n",
            "Epoch 50/50\n",
            "24/24 [==============================] - 2s 94ms/step - factorized_top_k/top_1_categorical_accuracy: 0.2742 - factorized_top_k/top_5_categorical_accuracy: 0.3682 - factorized_top_k/top_10_categorical_accuracy: 0.4291 - factorized_top_k/top_50_categorical_accuracy: 0.6477 - factorized_top_k/top_100_categorical_accuracy: 0.7868 - loss: 35.8503 - regularization_loss: 0.0000e+00 - total_loss: 35.8503\n",
            "24/24 [==============================] - 4s 138ms/step - factorized_top_k/top_1_categorical_accuracy: 0.4225 - factorized_top_k/top_5_categorical_accuracy: 0.4967 - factorized_top_k/top_10_categorical_accuracy: 0.5616 - factorized_top_k/top_50_categorical_accuracy: 0.7775 - factorized_top_k/top_100_categorical_accuracy: 0.8848 - loss: 35.2089 - regularization_loss: 0.0000e+00 - total_loss: 35.2089\n",
            "6/6 [==============================] - 1s 151ms/step - factorized_top_k/top_1_categorical_accuracy: 0.2381 - factorized_top_k/top_5_categorical_accuracy: 0.2804 - factorized_top_k/top_10_categorical_accuracy: 0.3122 - factorized_top_k/top_50_categorical_accuracy: 0.4444 - factorized_top_k/top_100_categorical_accuracy: 0.5979 - loss: 95.9637 - regularization_loss: 0.0000e+00 - total_loss: 95.9637\n",
            "Top-100 accuracy (train): 0.88.\n",
            "Top-100 accuracy (test): 0.60.\n",
            "Epoch 1/50\n",
            "24/24 [==============================] - 4s 96ms/step - factorized_top_k/top_1_categorical_accuracy: 0.1139 - factorized_top_k/top_5_categorical_accuracy: 0.1152 - factorized_top_k/top_10_categorical_accuracy: 0.1219 - factorized_top_k/top_50_categorical_accuracy: 0.1921 - factorized_top_k/top_100_categorical_accuracy: 0.2543 - loss: 89.9041 - regularization_loss: 0.0000e+00 - total_loss: 89.9041\n",
            "Epoch 2/50\n",
            "24/24 [==============================] - 2s 100ms/step - factorized_top_k/top_1_categorical_accuracy: 0.1709 - factorized_top_k/top_5_categorical_accuracy: 0.1775 - factorized_top_k/top_10_categorical_accuracy: 0.2093 - factorized_top_k/top_50_categorical_accuracy: 0.3695 - factorized_top_k/top_100_categorical_accuracy: 0.4728 - loss: 73.2835 - regularization_loss: 0.0000e+00 - total_loss: 73.2835\n",
            "Epoch 3/50\n",
            "24/24 [==============================] - 2s 97ms/step - factorized_top_k/top_1_categorical_accuracy: 0.1722 - factorized_top_k/top_5_categorical_accuracy: 0.1974 - factorized_top_k/top_10_categorical_accuracy: 0.2450 - factorized_top_k/top_50_categorical_accuracy: 0.4384 - factorized_top_k/top_100_categorical_accuracy: 0.5987 - loss: 60.6013 - regularization_loss: 0.0000e+00 - total_loss: 60.6013\n",
            "Epoch 4/50\n",
            "24/24 [==============================] - 3s 119ms/step - factorized_top_k/top_1_categorical_accuracy: 0.1815 - factorized_top_k/top_5_categorical_accuracy: 0.2371 - factorized_top_k/top_10_categorical_accuracy: 0.3033 - factorized_top_k/top_50_categorical_accuracy: 0.5470 - factorized_top_k/top_100_categorical_accuracy: 0.6874 - loss: 53.1753 - regularization_loss: 0.0000e+00 - total_loss: 53.1753\n",
            "Epoch 5/50\n",
            "24/24 [==============================] - 2s 93ms/step - factorized_top_k/top_1_categorical_accuracy: 0.1960 - factorized_top_k/top_5_categorical_accuracy: 0.2821 - factorized_top_k/top_10_categorical_accuracy: 0.3232 - factorized_top_k/top_50_categorical_accuracy: 0.5709 - factorized_top_k/top_100_categorical_accuracy: 0.7139 - loss: 48.2198 - regularization_loss: 0.0000e+00 - total_loss: 48.2198\n",
            "Epoch 6/50\n",
            "24/24 [==============================] - 2s 92ms/step - factorized_top_k/top_1_categorical_accuracy: 0.2609 - factorized_top_k/top_5_categorical_accuracy: 0.3404 - factorized_top_k/top_10_categorical_accuracy: 0.3974 - factorized_top_k/top_50_categorical_accuracy: 0.6119 - factorized_top_k/top_100_categorical_accuracy: 0.7656 - loss: 45.4558 - regularization_loss: 0.0000e+00 - total_loss: 45.4558\n",
            "Epoch 7/50\n",
            "24/24 [==============================] - 2s 94ms/step - factorized_top_k/top_1_categorical_accuracy: 0.2252 - factorized_top_k/top_5_categorical_accuracy: 0.3126 - factorized_top_k/top_10_categorical_accuracy: 0.3815 - factorized_top_k/top_50_categorical_accuracy: 0.5788 - factorized_top_k/top_100_categorical_accuracy: 0.7325 - loss: 43.4506 - regularization_loss: 0.0000e+00 - total_loss: 43.4506\n",
            "Epoch 8/50\n",
            "24/24 [==============================] - 2s 93ms/step - factorized_top_k/top_1_categorical_accuracy: 0.2358 - factorized_top_k/top_5_categorical_accuracy: 0.3298 - factorized_top_k/top_10_categorical_accuracy: 0.3828 - factorized_top_k/top_50_categorical_accuracy: 0.6172 - factorized_top_k/top_100_categorical_accuracy: 0.7589 - loss: 43.4231 - regularization_loss: 0.0000e+00 - total_loss: 43.4231\n",
            "Epoch 9/50\n",
            "24/24 [==============================] - 3s 142ms/step - factorized_top_k/top_1_categorical_accuracy: 0.2715 - factorized_top_k/top_5_categorical_accuracy: 0.3642 - factorized_top_k/top_10_categorical_accuracy: 0.4238 - factorized_top_k/top_50_categorical_accuracy: 0.6437 - factorized_top_k/top_100_categorical_accuracy: 0.7894 - loss: 40.9453 - regularization_loss: 0.0000e+00 - total_loss: 40.9453\n",
            "Epoch 10/50\n",
            "24/24 [==============================] - 2s 97ms/step - factorized_top_k/top_1_categorical_accuracy: 0.2649 - factorized_top_k/top_5_categorical_accuracy: 0.3748 - factorized_top_k/top_10_categorical_accuracy: 0.4225 - factorized_top_k/top_50_categorical_accuracy: 0.6238 - factorized_top_k/top_100_categorical_accuracy: 0.7523 - loss: 41.7719 - regularization_loss: 0.0000e+00 - total_loss: 41.7719\n",
            "Epoch 11/50\n",
            "24/24 [==============================] - 2s 95ms/step - factorized_top_k/top_1_categorical_accuracy: 0.2795 - factorized_top_k/top_5_categorical_accuracy: 0.3894 - factorized_top_k/top_10_categorical_accuracy: 0.4464 - factorized_top_k/top_50_categorical_accuracy: 0.6450 - factorized_top_k/top_100_categorical_accuracy: 0.7775 - loss: 40.1627 - regularization_loss: 0.0000e+00 - total_loss: 40.1627\n",
            "Epoch 12/50\n",
            "24/24 [==============================] - 2s 94ms/step - factorized_top_k/top_1_categorical_accuracy: 0.2623 - factorized_top_k/top_5_categorical_accuracy: 0.3510 - factorized_top_k/top_10_categorical_accuracy: 0.4040 - factorized_top_k/top_50_categorical_accuracy: 0.6437 - factorized_top_k/top_100_categorical_accuracy: 0.7788 - loss: 39.8730 - regularization_loss: 0.0000e+00 - total_loss: 39.8730\n",
            "Epoch 13/50\n",
            "24/24 [==============================] - 2s 93ms/step - factorized_top_k/top_1_categorical_accuracy: 0.2993 - factorized_top_k/top_5_categorical_accuracy: 0.4093 - factorized_top_k/top_10_categorical_accuracy: 0.4583 - factorized_top_k/top_50_categorical_accuracy: 0.6689 - factorized_top_k/top_100_categorical_accuracy: 0.7801 - loss: 38.9523 - regularization_loss: 0.0000e+00 - total_loss: 38.9523\n",
            "Epoch 14/50\n",
            "24/24 [==============================] - 4s 156ms/step - factorized_top_k/top_1_categorical_accuracy: 0.2768 - factorized_top_k/top_5_categorical_accuracy: 0.3589 - factorized_top_k/top_10_categorical_accuracy: 0.4159 - factorized_top_k/top_50_categorical_accuracy: 0.6212 - factorized_top_k/top_100_categorical_accuracy: 0.7483 - loss: 39.3040 - regularization_loss: 0.0000e+00 - total_loss: 39.3040\n",
            "Epoch 15/50\n",
            "24/24 [==============================] - 2s 96ms/step - factorized_top_k/top_1_categorical_accuracy: 0.2649 - factorized_top_k/top_5_categorical_accuracy: 0.3656 - factorized_top_k/top_10_categorical_accuracy: 0.4172 - factorized_top_k/top_50_categorical_accuracy: 0.6371 - factorized_top_k/top_100_categorical_accuracy: 0.7788 - loss: 38.7368 - regularization_loss: 0.0000e+00 - total_loss: 38.7368\n",
            "Epoch 16/50\n",
            "24/24 [==============================] - 2s 93ms/step - factorized_top_k/top_1_categorical_accuracy: 0.2834 - factorized_top_k/top_5_categorical_accuracy: 0.3801 - factorized_top_k/top_10_categorical_accuracy: 0.4265 - factorized_top_k/top_50_categorical_accuracy: 0.6424 - factorized_top_k/top_100_categorical_accuracy: 0.7841 - loss: 38.3208 - regularization_loss: 0.0000e+00 - total_loss: 38.3208\n",
            "Epoch 17/50\n",
            "24/24 [==============================] - 2s 92ms/step - factorized_top_k/top_1_categorical_accuracy: 0.2808 - factorized_top_k/top_5_categorical_accuracy: 0.3868 - factorized_top_k/top_10_categorical_accuracy: 0.4384 - factorized_top_k/top_50_categorical_accuracy: 0.6517 - factorized_top_k/top_100_categorical_accuracy: 0.7841 - loss: 38.3537 - regularization_loss: 0.0000e+00 - total_loss: 38.3537\n",
            "Epoch 18/50\n",
            "24/24 [==============================] - 2s 100ms/step - factorized_top_k/top_1_categorical_accuracy: 0.2781 - factorized_top_k/top_5_categorical_accuracy: 0.3762 - factorized_top_k/top_10_categorical_accuracy: 0.4331 - factorized_top_k/top_50_categorical_accuracy: 0.6450 - factorized_top_k/top_100_categorical_accuracy: 0.7801 - loss: 37.9260 - regularization_loss: 0.0000e+00 - total_loss: 37.9260\n",
            "Epoch 19/50\n",
            "24/24 [==============================] - 4s 156ms/step - factorized_top_k/top_1_categorical_accuracy: 0.2848 - factorized_top_k/top_5_categorical_accuracy: 0.3868 - factorized_top_k/top_10_categorical_accuracy: 0.4318 - factorized_top_k/top_50_categorical_accuracy: 0.6570 - factorized_top_k/top_100_categorical_accuracy: 0.7987 - loss: 38.4142 - regularization_loss: 0.0000e+00 - total_loss: 38.4142\n",
            "Epoch 20/50\n",
            "24/24 [==============================] - 2s 93ms/step - factorized_top_k/top_1_categorical_accuracy: 0.2874 - factorized_top_k/top_5_categorical_accuracy: 0.3881 - factorized_top_k/top_10_categorical_accuracy: 0.4291 - factorized_top_k/top_50_categorical_accuracy: 0.6265 - factorized_top_k/top_100_categorical_accuracy: 0.7669 - loss: 38.1375 - regularization_loss: 0.0000e+00 - total_loss: 38.1375\n",
            "Epoch 21/50\n",
            "24/24 [==============================] - 2s 97ms/step - factorized_top_k/top_1_categorical_accuracy: 0.2980 - factorized_top_k/top_5_categorical_accuracy: 0.3894 - factorized_top_k/top_10_categorical_accuracy: 0.4424 - factorized_top_k/top_50_categorical_accuracy: 0.6636 - factorized_top_k/top_100_categorical_accuracy: 0.8000 - loss: 37.8965 - regularization_loss: 0.0000e+00 - total_loss: 37.8965\n",
            "Epoch 22/50\n",
            "24/24 [==============================] - 2s 99ms/step - factorized_top_k/top_1_categorical_accuracy: 0.2662 - factorized_top_k/top_5_categorical_accuracy: 0.3629 - factorized_top_k/top_10_categorical_accuracy: 0.4238 - factorized_top_k/top_50_categorical_accuracy: 0.6305 - factorized_top_k/top_100_categorical_accuracy: 0.7576 - loss: 37.1093 - regularization_loss: 0.0000e+00 - total_loss: 37.1093\n",
            "Epoch 23/50\n",
            "24/24 [==============================] - 3s 112ms/step - factorized_top_k/top_1_categorical_accuracy: 0.2649 - factorized_top_k/top_5_categorical_accuracy: 0.3788 - factorized_top_k/top_10_categorical_accuracy: 0.4424 - factorized_top_k/top_50_categorical_accuracy: 0.6291 - factorized_top_k/top_100_categorical_accuracy: 0.7735 - loss: 36.3868 - regularization_loss: 0.0000e+00 - total_loss: 36.3868\n",
            "Epoch 24/50\n",
            "24/24 [==============================] - 2s 96ms/step - factorized_top_k/top_1_categorical_accuracy: 0.3033 - factorized_top_k/top_5_categorical_accuracy: 0.3974 - factorized_top_k/top_10_categorical_accuracy: 0.4556 - factorized_top_k/top_50_categorical_accuracy: 0.6543 - factorized_top_k/top_100_categorical_accuracy: 0.7801 - loss: 37.1795 - regularization_loss: 0.0000e+00 - total_loss: 37.1795\n",
            "Epoch 25/50\n",
            "24/24 [==============================] - 2s 98ms/step - factorized_top_k/top_1_categorical_accuracy: 0.2954 - factorized_top_k/top_5_categorical_accuracy: 0.3894 - factorized_top_k/top_10_categorical_accuracy: 0.4530 - factorized_top_k/top_50_categorical_accuracy: 0.6702 - factorized_top_k/top_100_categorical_accuracy: 0.7868 - loss: 37.7998 - regularization_loss: 0.0000e+00 - total_loss: 37.7998\n",
            "Epoch 26/50\n",
            "24/24 [==============================] - 2s 96ms/step - factorized_top_k/top_1_categorical_accuracy: 0.2834 - factorized_top_k/top_5_categorical_accuracy: 0.3934 - factorized_top_k/top_10_categorical_accuracy: 0.4371 - factorized_top_k/top_50_categorical_accuracy: 0.6450 - factorized_top_k/top_100_categorical_accuracy: 0.7828 - loss: 38.3817 - regularization_loss: 0.0000e+00 - total_loss: 38.3817\n",
            "Epoch 27/50\n",
            "24/24 [==============================] - 2s 94ms/step - factorized_top_k/top_1_categorical_accuracy: 0.2768 - factorized_top_k/top_5_categorical_accuracy: 0.3894 - factorized_top_k/top_10_categorical_accuracy: 0.4358 - factorized_top_k/top_50_categorical_accuracy: 0.6649 - factorized_top_k/top_100_categorical_accuracy: 0.7801 - loss: 35.9948 - regularization_loss: 0.0000e+00 - total_loss: 35.9948\n",
            "Epoch 28/50\n",
            "24/24 [==============================] - 4s 154ms/step - factorized_top_k/top_1_categorical_accuracy: 0.2662 - factorized_top_k/top_5_categorical_accuracy: 0.3444 - factorized_top_k/top_10_categorical_accuracy: 0.4040 - factorized_top_k/top_50_categorical_accuracy: 0.6344 - factorized_top_k/top_100_categorical_accuracy: 0.7695 - loss: 36.0868 - regularization_loss: 0.0000e+00 - total_loss: 36.0868\n",
            "Epoch 29/50\n",
            "24/24 [==============================] - 2s 93ms/step - factorized_top_k/top_1_categorical_accuracy: 0.3046 - factorized_top_k/top_5_categorical_accuracy: 0.4066 - factorized_top_k/top_10_categorical_accuracy: 0.4649 - factorized_top_k/top_50_categorical_accuracy: 0.6556 - factorized_top_k/top_100_categorical_accuracy: 0.7748 - loss: 37.5439 - regularization_loss: 0.0000e+00 - total_loss: 37.5439\n",
            "Epoch 30/50\n",
            "24/24 [==============================] - 2s 94ms/step - factorized_top_k/top_1_categorical_accuracy: 0.2662 - factorized_top_k/top_5_categorical_accuracy: 0.3656 - factorized_top_k/top_10_categorical_accuracy: 0.4185 - factorized_top_k/top_50_categorical_accuracy: 0.6238 - factorized_top_k/top_100_categorical_accuracy: 0.7748 - loss: 36.3003 - regularization_loss: 0.0000e+00 - total_loss: 36.3003\n",
            "Epoch 31/50\n",
            "24/24 [==============================] - 2s 95ms/step - factorized_top_k/top_1_categorical_accuracy: 0.2914 - factorized_top_k/top_5_categorical_accuracy: 0.4146 - factorized_top_k/top_10_categorical_accuracy: 0.4768 - factorized_top_k/top_50_categorical_accuracy: 0.6728 - factorized_top_k/top_100_categorical_accuracy: 0.8146 - loss: 37.3546 - regularization_loss: 0.0000e+00 - total_loss: 37.3546\n",
            "Epoch 32/50\n",
            "24/24 [==============================] - 2s 100ms/step - factorized_top_k/top_1_categorical_accuracy: 0.2768 - factorized_top_k/top_5_categorical_accuracy: 0.3682 - factorized_top_k/top_10_categorical_accuracy: 0.4159 - factorized_top_k/top_50_categorical_accuracy: 0.6318 - factorized_top_k/top_100_categorical_accuracy: 0.7709 - loss: 37.3613 - regularization_loss: 0.0000e+00 - total_loss: 37.3613\n",
            "Epoch 33/50\n",
            "24/24 [==============================] - 4s 153ms/step - factorized_top_k/top_1_categorical_accuracy: 0.2781 - factorized_top_k/top_5_categorical_accuracy: 0.3775 - factorized_top_k/top_10_categorical_accuracy: 0.4397 - factorized_top_k/top_50_categorical_accuracy: 0.6344 - factorized_top_k/top_100_categorical_accuracy: 0.7841 - loss: 37.4846 - regularization_loss: 0.0000e+00 - total_loss: 37.4846\n",
            "Epoch 34/50\n",
            "24/24 [==============================] - 2s 96ms/step - factorized_top_k/top_1_categorical_accuracy: 0.2702 - factorized_top_k/top_5_categorical_accuracy: 0.3775 - factorized_top_k/top_10_categorical_accuracy: 0.4318 - factorized_top_k/top_50_categorical_accuracy: 0.6450 - factorized_top_k/top_100_categorical_accuracy: 0.7682 - loss: 36.8111 - regularization_loss: 0.0000e+00 - total_loss: 36.8111\n",
            "Epoch 35/50\n",
            "24/24 [==============================] - 2s 99ms/step - factorized_top_k/top_1_categorical_accuracy: 0.3086 - factorized_top_k/top_5_categorical_accuracy: 0.4000 - factorized_top_k/top_10_categorical_accuracy: 0.4450 - factorized_top_k/top_50_categorical_accuracy: 0.6702 - factorized_top_k/top_100_categorical_accuracy: 0.8026 - loss: 35.4285 - regularization_loss: 0.0000e+00 - total_loss: 35.4285\n",
            "Epoch 36/50\n",
            "24/24 [==============================] - 2s 96ms/step - factorized_top_k/top_1_categorical_accuracy: 0.2728 - factorized_top_k/top_5_categorical_accuracy: 0.3788 - factorized_top_k/top_10_categorical_accuracy: 0.4384 - factorized_top_k/top_50_categorical_accuracy: 0.6477 - factorized_top_k/top_100_categorical_accuracy: 0.7868 - loss: 36.6966 - regularization_loss: 0.0000e+00 - total_loss: 36.6966\n",
            "Epoch 37/50\n",
            "24/24 [==============================] - 3s 107ms/step - factorized_top_k/top_1_categorical_accuracy: 0.2914 - factorized_top_k/top_5_categorical_accuracy: 0.3841 - factorized_top_k/top_10_categorical_accuracy: 0.4411 - factorized_top_k/top_50_categorical_accuracy: 0.6675 - factorized_top_k/top_100_categorical_accuracy: 0.7960 - loss: 36.6140 - regularization_loss: 0.0000e+00 - total_loss: 36.6140\n",
            "Epoch 38/50\n",
            "24/24 [==============================] - 4s 159ms/step - factorized_top_k/top_1_categorical_accuracy: 0.2675 - factorized_top_k/top_5_categorical_accuracy: 0.3682 - factorized_top_k/top_10_categorical_accuracy: 0.4291 - factorized_top_k/top_50_categorical_accuracy: 0.6503 - factorized_top_k/top_100_categorical_accuracy: 0.7907 - loss: 35.6329 - regularization_loss: 0.0000e+00 - total_loss: 35.6329\n",
            "Epoch 39/50\n",
            "24/24 [==============================] - 2s 98ms/step - factorized_top_k/top_1_categorical_accuracy: 0.2781 - factorized_top_k/top_5_categorical_accuracy: 0.3801 - factorized_top_k/top_10_categorical_accuracy: 0.4265 - factorized_top_k/top_50_categorical_accuracy: 0.6291 - factorized_top_k/top_100_categorical_accuracy: 0.7603 - loss: 36.0605 - regularization_loss: 0.0000e+00 - total_loss: 36.0605\n",
            "Epoch 40/50\n",
            "24/24 [==============================] - 2s 99ms/step - factorized_top_k/top_1_categorical_accuracy: 0.2781 - factorized_top_k/top_5_categorical_accuracy: 0.3868 - factorized_top_k/top_10_categorical_accuracy: 0.4344 - factorized_top_k/top_50_categorical_accuracy: 0.6742 - factorized_top_k/top_100_categorical_accuracy: 0.8026 - loss: 36.9494 - regularization_loss: 0.0000e+00 - total_loss: 36.9494\n",
            "Epoch 41/50\n",
            "24/24 [==============================] - 2s 99ms/step - factorized_top_k/top_1_categorical_accuracy: 0.2887 - factorized_top_k/top_5_categorical_accuracy: 0.3960 - factorized_top_k/top_10_categorical_accuracy: 0.4517 - factorized_top_k/top_50_categorical_accuracy: 0.6596 - factorized_top_k/top_100_categorical_accuracy: 0.7815 - loss: 37.1948 - regularization_loss: 0.0000e+00 - total_loss: 37.1948\n",
            "Epoch 42/50\n",
            "24/24 [==============================] - 3s 122ms/step - factorized_top_k/top_1_categorical_accuracy: 0.3046 - factorized_top_k/top_5_categorical_accuracy: 0.3974 - factorized_top_k/top_10_categorical_accuracy: 0.4503 - factorized_top_k/top_50_categorical_accuracy: 0.6768 - factorized_top_k/top_100_categorical_accuracy: 0.8053 - loss: 35.4367 - regularization_loss: 0.0000e+00 - total_loss: 35.4367\n",
            "Epoch 43/50\n",
            "24/24 [==============================] - 4s 159ms/step - factorized_top_k/top_1_categorical_accuracy: 0.2821 - factorized_top_k/top_5_categorical_accuracy: 0.3881 - factorized_top_k/top_10_categorical_accuracy: 0.4556 - factorized_top_k/top_50_categorical_accuracy: 0.6530 - factorized_top_k/top_100_categorical_accuracy: 0.7868 - loss: 36.4539 - regularization_loss: 0.0000e+00 - total_loss: 36.4539\n",
            "Epoch 44/50\n",
            "24/24 [==============================] - 2s 100ms/step - factorized_top_k/top_1_categorical_accuracy: 0.2901 - factorized_top_k/top_5_categorical_accuracy: 0.3934 - factorized_top_k/top_10_categorical_accuracy: 0.4543 - factorized_top_k/top_50_categorical_accuracy: 0.6675 - factorized_top_k/top_100_categorical_accuracy: 0.8000 - loss: 35.2234 - regularization_loss: 0.0000e+00 - total_loss: 35.2234\n",
            "Epoch 45/50\n",
            "24/24 [==============================] - 3s 102ms/step - factorized_top_k/top_1_categorical_accuracy: 0.2834 - factorized_top_k/top_5_categorical_accuracy: 0.3695 - factorized_top_k/top_10_categorical_accuracy: 0.4397 - factorized_top_k/top_50_categorical_accuracy: 0.6424 - factorized_top_k/top_100_categorical_accuracy: 0.7881 - loss: 35.2748 - regularization_loss: 0.0000e+00 - total_loss: 35.2748\n",
            "Epoch 46/50\n",
            "24/24 [==============================] - 2s 100ms/step - factorized_top_k/top_1_categorical_accuracy: 0.2954 - factorized_top_k/top_5_categorical_accuracy: 0.3907 - factorized_top_k/top_10_categorical_accuracy: 0.4623 - factorized_top_k/top_50_categorical_accuracy: 0.6649 - factorized_top_k/top_100_categorical_accuracy: 0.7974 - loss: 35.2884 - regularization_loss: 0.0000e+00 - total_loss: 35.2884\n",
            "Epoch 47/50\n",
            "24/24 [==============================] - 3s 133ms/step - factorized_top_k/top_1_categorical_accuracy: 0.2768 - factorized_top_k/top_5_categorical_accuracy: 0.3801 - factorized_top_k/top_10_categorical_accuracy: 0.4384 - factorized_top_k/top_50_categorical_accuracy: 0.6570 - factorized_top_k/top_100_categorical_accuracy: 0.7960 - loss: 35.3171 - regularization_loss: 0.0000e+00 - total_loss: 35.3171\n",
            "Epoch 48/50\n",
            "24/24 [==============================] - 3s 112ms/step - factorized_top_k/top_1_categorical_accuracy: 0.3060 - factorized_top_k/top_5_categorical_accuracy: 0.3921 - factorized_top_k/top_10_categorical_accuracy: 0.4543 - factorized_top_k/top_50_categorical_accuracy: 0.6490 - factorized_top_k/top_100_categorical_accuracy: 0.7894 - loss: 36.3561 - regularization_loss: 0.0000e+00 - total_loss: 36.3561\n",
            "Epoch 49/50\n",
            "24/24 [==============================] - 4s 160ms/step - factorized_top_k/top_1_categorical_accuracy: 0.2834 - factorized_top_k/top_5_categorical_accuracy: 0.3788 - factorized_top_k/top_10_categorical_accuracy: 0.4464 - factorized_top_k/top_50_categorical_accuracy: 0.6464 - factorized_top_k/top_100_categorical_accuracy: 0.7709 - loss: 36.6040 - regularization_loss: 0.0000e+00 - total_loss: 36.6040\n",
            "Epoch 50/50\n",
            "24/24 [==============================] - 3s 101ms/step - factorized_top_k/top_1_categorical_accuracy: 0.2623 - factorized_top_k/top_5_categorical_accuracy: 0.3629 - factorized_top_k/top_10_categorical_accuracy: 0.4344 - factorized_top_k/top_50_categorical_accuracy: 0.6609 - factorized_top_k/top_100_categorical_accuracy: 0.7828 - loss: 35.8517 - regularization_loss: 0.0000e+00 - total_loss: 35.8517\n",
            "24/24 [==============================] - 4s 154ms/step - factorized_top_k/top_1_categorical_accuracy: 0.3603 - factorized_top_k/top_5_categorical_accuracy: 0.4331 - factorized_top_k/top_10_categorical_accuracy: 0.4821 - factorized_top_k/top_50_categorical_accuracy: 0.7033 - factorized_top_k/top_100_categorical_accuracy: 0.8490 - loss: 35.1511 - regularization_loss: 0.0000e+00 - total_loss: 35.1511\n",
            "6/6 [==============================] - 1s 96ms/step - factorized_top_k/top_1_categorical_accuracy: 0.2116 - factorized_top_k/top_5_categorical_accuracy: 0.2487 - factorized_top_k/top_10_categorical_accuracy: 0.2804 - factorized_top_k/top_50_categorical_accuracy: 0.4339 - factorized_top_k/top_100_categorical_accuracy: 0.5608 - loss: 92.2794 - regularization_loss: 0.0000e+00 - total_loss: 92.2794\n",
            "Top-100 accuracy (train): 0.85.\n",
            "Top-100 accuracy (test): 0.56.\n",
            "Epoch 1/50\n",
            "24/24 [==============================] - 4s 98ms/step - factorized_top_k/top_1_categorical_accuracy: 0.1086 - factorized_top_k/top_5_categorical_accuracy: 0.1099 - factorized_top_k/top_10_categorical_accuracy: 0.1152 - factorized_top_k/top_50_categorical_accuracy: 0.2159 - factorized_top_k/top_100_categorical_accuracy: 0.2874 - loss: 88.6693 - regularization_loss: 0.0000e+00 - total_loss: 88.6693\n",
            "Epoch 2/50\n",
            "24/24 [==============================] - 3s 102ms/step - factorized_top_k/top_1_categorical_accuracy: 0.1682 - factorized_top_k/top_5_categorical_accuracy: 0.1801 - factorized_top_k/top_10_categorical_accuracy: 0.1974 - factorized_top_k/top_50_categorical_accuracy: 0.3430 - factorized_top_k/top_100_categorical_accuracy: 0.4848 - loss: 71.3881 - regularization_loss: 0.0000e+00 - total_loss: 71.3881\n",
            "Epoch 3/50\n",
            "24/24 [==============================] - 2s 101ms/step - factorized_top_k/top_1_categorical_accuracy: 0.1550 - factorized_top_k/top_5_categorical_accuracy: 0.1854 - factorized_top_k/top_10_categorical_accuracy: 0.2291 - factorized_top_k/top_50_categorical_accuracy: 0.4424 - factorized_top_k/top_100_categorical_accuracy: 0.5815 - loss: 59.9461 - regularization_loss: 0.0000e+00 - total_loss: 59.9461\n",
            "Epoch 4/50\n",
            "24/24 [==============================] - 4s 163ms/step - factorized_top_k/top_1_categorical_accuracy: 0.1947 - factorized_top_k/top_5_categorical_accuracy: 0.2755 - factorized_top_k/top_10_categorical_accuracy: 0.3351 - factorized_top_k/top_50_categorical_accuracy: 0.5722 - factorized_top_k/top_100_categorical_accuracy: 0.7033 - loss: 53.0720 - regularization_loss: 0.0000e+00 - total_loss: 53.0720\n",
            "Epoch 5/50\n",
            "24/24 [==============================] - 2s 99ms/step - factorized_top_k/top_1_categorical_accuracy: 0.2132 - factorized_top_k/top_5_categorical_accuracy: 0.2980 - factorized_top_k/top_10_categorical_accuracy: 0.3616 - factorized_top_k/top_50_categorical_accuracy: 0.5788 - factorized_top_k/top_100_categorical_accuracy: 0.7205 - loss: 48.4668 - regularization_loss: 0.0000e+00 - total_loss: 48.4668\n",
            "Epoch 6/50\n",
            "24/24 [==============================] - 2s 94ms/step - factorized_top_k/top_1_categorical_accuracy: 0.2450 - factorized_top_k/top_5_categorical_accuracy: 0.3232 - factorized_top_k/top_10_categorical_accuracy: 0.3921 - factorized_top_k/top_50_categorical_accuracy: 0.5815 - factorized_top_k/top_100_categorical_accuracy: 0.7364 - loss: 46.4447 - regularization_loss: 0.0000e+00 - total_loss: 46.4447\n",
            "Epoch 7/50\n",
            "24/24 [==============================] - 2s 98ms/step - factorized_top_k/top_1_categorical_accuracy: 0.2662 - factorized_top_k/top_5_categorical_accuracy: 0.3550 - factorized_top_k/top_10_categorical_accuracy: 0.4225 - factorized_top_k/top_50_categorical_accuracy: 0.6146 - factorized_top_k/top_100_categorical_accuracy: 0.7510 - loss: 43.2754 - regularization_loss: 0.0000e+00 - total_loss: 43.2754\n",
            "Epoch 8/50\n",
            "24/24 [==============================] - 2s 101ms/step - factorized_top_k/top_1_categorical_accuracy: 0.2225 - factorized_top_k/top_5_categorical_accuracy: 0.3020 - factorized_top_k/top_10_categorical_accuracy: 0.3603 - factorized_top_k/top_50_categorical_accuracy: 0.6013 - factorized_top_k/top_100_categorical_accuracy: 0.7470 - loss: 43.4738 - regularization_loss: 0.0000e+00 - total_loss: 43.4738\n",
            "Epoch 9/50\n",
            "24/24 [==============================] - 4s 158ms/step - factorized_top_k/top_1_categorical_accuracy: 0.2675 - factorized_top_k/top_5_categorical_accuracy: 0.3550 - factorized_top_k/top_10_categorical_accuracy: 0.3974 - factorized_top_k/top_50_categorical_accuracy: 0.6212 - factorized_top_k/top_100_categorical_accuracy: 0.7497 - loss: 41.4791 - regularization_loss: 0.0000e+00 - total_loss: 41.4791\n",
            "Epoch 10/50\n",
            "24/24 [==============================] - 2s 97ms/step - factorized_top_k/top_1_categorical_accuracy: 0.2887 - factorized_top_k/top_5_categorical_accuracy: 0.3801 - factorized_top_k/top_10_categorical_accuracy: 0.4358 - factorized_top_k/top_50_categorical_accuracy: 0.6384 - factorized_top_k/top_100_categorical_accuracy: 0.7576 - loss: 41.4168 - regularization_loss: 0.0000e+00 - total_loss: 41.4168\n",
            "Epoch 11/50\n",
            "24/24 [==============================] - 2s 96ms/step - factorized_top_k/top_1_categorical_accuracy: 0.2755 - factorized_top_k/top_5_categorical_accuracy: 0.3748 - factorized_top_k/top_10_categorical_accuracy: 0.4291 - factorized_top_k/top_50_categorical_accuracy: 0.6331 - factorized_top_k/top_100_categorical_accuracy: 0.7762 - loss: 40.0280 - regularization_loss: 0.0000e+00 - total_loss: 40.0280\n",
            "Epoch 12/50\n",
            "24/24 [==============================] - 2s 99ms/step - factorized_top_k/top_1_categorical_accuracy: 0.2543 - factorized_top_k/top_5_categorical_accuracy: 0.3377 - factorized_top_k/top_10_categorical_accuracy: 0.4013 - factorized_top_k/top_50_categorical_accuracy: 0.6331 - factorized_top_k/top_100_categorical_accuracy: 0.7642 - loss: 39.7649 - regularization_loss: 0.0000e+00 - total_loss: 39.7649\n",
            "Epoch 13/50\n",
            "24/24 [==============================] - 2s 99ms/step - factorized_top_k/top_1_categorical_accuracy: 0.3007 - factorized_top_k/top_5_categorical_accuracy: 0.3934 - factorized_top_k/top_10_categorical_accuracy: 0.4530 - factorized_top_k/top_50_categorical_accuracy: 0.6543 - factorized_top_k/top_100_categorical_accuracy: 0.7828 - loss: 39.1372 - regularization_loss: 0.0000e+00 - total_loss: 39.1372\n",
            "Epoch 14/50\n",
            "24/24 [==============================] - 4s 156ms/step - factorized_top_k/top_1_categorical_accuracy: 0.2742 - factorized_top_k/top_5_categorical_accuracy: 0.3589 - factorized_top_k/top_10_categorical_accuracy: 0.4159 - factorized_top_k/top_50_categorical_accuracy: 0.6238 - factorized_top_k/top_100_categorical_accuracy: 0.7523 - loss: 39.3648 - regularization_loss: 0.0000e+00 - total_loss: 39.3648\n",
            "Epoch 15/50\n",
            "24/24 [==============================] - 2s 98ms/step - factorized_top_k/top_1_categorical_accuracy: 0.2795 - factorized_top_k/top_5_categorical_accuracy: 0.3828 - factorized_top_k/top_10_categorical_accuracy: 0.4384 - factorized_top_k/top_50_categorical_accuracy: 0.6503 - factorized_top_k/top_100_categorical_accuracy: 0.7854 - loss: 38.6830 - regularization_loss: 0.0000e+00 - total_loss: 38.6830\n",
            "Epoch 16/50\n",
            "24/24 [==============================] - 2s 95ms/step - factorized_top_k/top_1_categorical_accuracy: 0.2662 - factorized_top_k/top_5_categorical_accuracy: 0.3682 - factorized_top_k/top_10_categorical_accuracy: 0.4291 - factorized_top_k/top_50_categorical_accuracy: 0.6371 - factorized_top_k/top_100_categorical_accuracy: 0.7722 - loss: 38.3551 - regularization_loss: 0.0000e+00 - total_loss: 38.3551\n",
            "Epoch 17/50\n",
            "24/24 [==============================] - 2s 95ms/step - factorized_top_k/top_1_categorical_accuracy: 0.2795 - factorized_top_k/top_5_categorical_accuracy: 0.3854 - factorized_top_k/top_10_categorical_accuracy: 0.4411 - factorized_top_k/top_50_categorical_accuracy: 0.6503 - factorized_top_k/top_100_categorical_accuracy: 0.7934 - loss: 38.2490 - regularization_loss: 0.0000e+00 - total_loss: 38.2490\n",
            "Epoch 18/50\n",
            "24/24 [==============================] - 3s 108ms/step - factorized_top_k/top_1_categorical_accuracy: 0.2781 - factorized_top_k/top_5_categorical_accuracy: 0.3815 - factorized_top_k/top_10_categorical_accuracy: 0.4291 - factorized_top_k/top_50_categorical_accuracy: 0.6384 - factorized_top_k/top_100_categorical_accuracy: 0.7841 - loss: 37.9938 - regularization_loss: 0.0000e+00 - total_loss: 37.9938\n",
            "Epoch 19/50\n",
            "24/24 [==============================] - 3s 100ms/step - factorized_top_k/top_1_categorical_accuracy: 0.2874 - factorized_top_k/top_5_categorical_accuracy: 0.3854 - factorized_top_k/top_10_categorical_accuracy: 0.4331 - factorized_top_k/top_50_categorical_accuracy: 0.6636 - factorized_top_k/top_100_categorical_accuracy: 0.7934 - loss: 38.3394 - regularization_loss: 0.0000e+00 - total_loss: 38.3394\n",
            "Epoch 20/50\n",
            "24/24 [==============================] - 2s 97ms/step - factorized_top_k/top_1_categorical_accuracy: 0.2768 - factorized_top_k/top_5_categorical_accuracy: 0.3682 - factorized_top_k/top_10_categorical_accuracy: 0.4172 - factorized_top_k/top_50_categorical_accuracy: 0.6384 - factorized_top_k/top_100_categorical_accuracy: 0.7762 - loss: 37.8407 - regularization_loss: 0.0000e+00 - total_loss: 37.8407\n",
            "Epoch 21/50\n",
            "24/24 [==============================] - 2s 96ms/step - factorized_top_k/top_1_categorical_accuracy: 0.2821 - factorized_top_k/top_5_categorical_accuracy: 0.3629 - factorized_top_k/top_10_categorical_accuracy: 0.4079 - factorized_top_k/top_50_categorical_accuracy: 0.6450 - factorized_top_k/top_100_categorical_accuracy: 0.7894 - loss: 37.9019 - regularization_loss: 0.0000e+00 - total_loss: 37.9019\n",
            "Epoch 22/50\n",
            "24/24 [==============================] - 2s 97ms/step - factorized_top_k/top_1_categorical_accuracy: 0.2517 - factorized_top_k/top_5_categorical_accuracy: 0.3470 - factorized_top_k/top_10_categorical_accuracy: 0.4079 - factorized_top_k/top_50_categorical_accuracy: 0.6199 - factorized_top_k/top_100_categorical_accuracy: 0.7669 - loss: 37.0198 - regularization_loss: 0.0000e+00 - total_loss: 37.0198\n",
            "Epoch 23/50\n",
            "24/24 [==============================] - 4s 152ms/step - factorized_top_k/top_1_categorical_accuracy: 0.2675 - factorized_top_k/top_5_categorical_accuracy: 0.3629 - factorized_top_k/top_10_categorical_accuracy: 0.4318 - factorized_top_k/top_50_categorical_accuracy: 0.6291 - factorized_top_k/top_100_categorical_accuracy: 0.7748 - loss: 36.4491 - regularization_loss: 0.0000e+00 - total_loss: 36.4491\n",
            "Epoch 24/50\n",
            "24/24 [==============================] - 3s 104ms/step - factorized_top_k/top_1_categorical_accuracy: 0.2901 - factorized_top_k/top_5_categorical_accuracy: 0.3709 - factorized_top_k/top_10_categorical_accuracy: 0.4331 - factorized_top_k/top_50_categorical_accuracy: 0.6490 - factorized_top_k/top_100_categorical_accuracy: 0.7815 - loss: 37.3404 - regularization_loss: 0.0000e+00 - total_loss: 37.3404\n",
            "Epoch 25/50\n",
            "24/24 [==============================] - 3s 107ms/step - factorized_top_k/top_1_categorical_accuracy: 0.2887 - factorized_top_k/top_5_categorical_accuracy: 0.3801 - factorized_top_k/top_10_categorical_accuracy: 0.4503 - factorized_top_k/top_50_categorical_accuracy: 0.6662 - factorized_top_k/top_100_categorical_accuracy: 0.7921 - loss: 37.8108 - regularization_loss: 0.0000e+00 - total_loss: 37.8108\n",
            "Epoch 26/50\n",
            "24/24 [==============================] - 3s 125ms/step - factorized_top_k/top_1_categorical_accuracy: 0.2927 - factorized_top_k/top_5_categorical_accuracy: 0.3868 - factorized_top_k/top_10_categorical_accuracy: 0.4331 - factorized_top_k/top_50_categorical_accuracy: 0.6530 - factorized_top_k/top_100_categorical_accuracy: 0.7974 - loss: 38.3219 - regularization_loss: 0.0000e+00 - total_loss: 38.3219\n",
            "Epoch 27/50\n",
            "24/24 [==============================] - 4s 174ms/step - factorized_top_k/top_1_categorical_accuracy: 0.2834 - factorized_top_k/top_5_categorical_accuracy: 0.3934 - factorized_top_k/top_10_categorical_accuracy: 0.4424 - factorized_top_k/top_50_categorical_accuracy: 0.6517 - factorized_top_k/top_100_categorical_accuracy: 0.7828 - loss: 35.9994 - regularization_loss: 0.0000e+00 - total_loss: 35.9994\n",
            "Epoch 28/50\n",
            "24/24 [==============================] - 3s 105ms/step - factorized_top_k/top_1_categorical_accuracy: 0.2596 - factorized_top_k/top_5_categorical_accuracy: 0.3338 - factorized_top_k/top_10_categorical_accuracy: 0.4013 - factorized_top_k/top_50_categorical_accuracy: 0.6371 - factorized_top_k/top_100_categorical_accuracy: 0.7695 - loss: 35.9305 - regularization_loss: 0.0000e+00 - total_loss: 35.9305\n",
            "Epoch 29/50\n",
            "24/24 [==============================] - 2s 101ms/step - factorized_top_k/top_1_categorical_accuracy: 0.2808 - factorized_top_k/top_5_categorical_accuracy: 0.3854 - factorized_top_k/top_10_categorical_accuracy: 0.4424 - factorized_top_k/top_50_categorical_accuracy: 0.6517 - factorized_top_k/top_100_categorical_accuracy: 0.7563 - loss: 37.4212 - regularization_loss: 0.0000e+00 - total_loss: 37.4212\n",
            "Epoch 30/50\n",
            "24/24 [==============================] - 3s 116ms/step - factorized_top_k/top_1_categorical_accuracy: 0.2702 - factorized_top_k/top_5_categorical_accuracy: 0.3642 - factorized_top_k/top_10_categorical_accuracy: 0.4185 - factorized_top_k/top_50_categorical_accuracy: 0.6318 - factorized_top_k/top_100_categorical_accuracy: 0.7854 - loss: 36.3301 - regularization_loss: 0.0000e+00 - total_loss: 36.3301\n",
            "Epoch 31/50\n",
            "24/24 [==============================] - 3s 102ms/step - factorized_top_k/top_1_categorical_accuracy: 0.3205 - factorized_top_k/top_5_categorical_accuracy: 0.4252 - factorized_top_k/top_10_categorical_accuracy: 0.4795 - factorized_top_k/top_50_categorical_accuracy: 0.6728 - factorized_top_k/top_100_categorical_accuracy: 0.8106 - loss: 37.2022 - regularization_loss: 0.0000e+00 - total_loss: 37.2022\n",
            "Epoch 32/50\n",
            "24/24 [==============================] - 2s 101ms/step - factorized_top_k/top_1_categorical_accuracy: 0.3007 - factorized_top_k/top_5_categorical_accuracy: 0.3841 - factorized_top_k/top_10_categorical_accuracy: 0.4464 - factorized_top_k/top_50_categorical_accuracy: 0.6490 - factorized_top_k/top_100_categorical_accuracy: 0.7815 - loss: 37.4644 - regularization_loss: 0.0000e+00 - total_loss: 37.4644\n",
            "Epoch 33/50\n",
            "24/24 [==============================] - 2s 100ms/step - factorized_top_k/top_1_categorical_accuracy: 0.2848 - factorized_top_k/top_5_categorical_accuracy: 0.3788 - factorized_top_k/top_10_categorical_accuracy: 0.4450 - factorized_top_k/top_50_categorical_accuracy: 0.6464 - factorized_top_k/top_100_categorical_accuracy: 0.7907 - loss: 37.4940 - regularization_loss: 0.0000e+00 - total_loss: 37.4940\n",
            "Epoch 34/50\n",
            "24/24 [==============================] - 4s 166ms/step - factorized_top_k/top_1_categorical_accuracy: 0.2887 - factorized_top_k/top_5_categorical_accuracy: 0.3841 - factorized_top_k/top_10_categorical_accuracy: 0.4384 - factorized_top_k/top_50_categorical_accuracy: 0.6477 - factorized_top_k/top_100_categorical_accuracy: 0.7801 - loss: 36.7569 - regularization_loss: 0.0000e+00 - total_loss: 36.7569\n",
            "Epoch 35/50\n",
            "24/24 [==============================] - 3s 122ms/step - factorized_top_k/top_1_categorical_accuracy: 0.2795 - factorized_top_k/top_5_categorical_accuracy: 0.3735 - factorized_top_k/top_10_categorical_accuracy: 0.4291 - factorized_top_k/top_50_categorical_accuracy: 0.6397 - factorized_top_k/top_100_categorical_accuracy: 0.7775 - loss: 35.4501 - regularization_loss: 0.0000e+00 - total_loss: 35.4501\n",
            "Epoch 36/50\n",
            "24/24 [==============================] - 3s 104ms/step - factorized_top_k/top_1_categorical_accuracy: 0.2980 - factorized_top_k/top_5_categorical_accuracy: 0.3974 - factorized_top_k/top_10_categorical_accuracy: 0.4411 - factorized_top_k/top_50_categorical_accuracy: 0.6517 - factorized_top_k/top_100_categorical_accuracy: 0.7907 - loss: 36.6186 - regularization_loss: 0.0000e+00 - total_loss: 36.6186\n",
            "Epoch 37/50\n",
            "24/24 [==============================] - 3s 108ms/step - factorized_top_k/top_1_categorical_accuracy: 0.2689 - factorized_top_k/top_5_categorical_accuracy: 0.3629 - factorized_top_k/top_10_categorical_accuracy: 0.4212 - factorized_top_k/top_50_categorical_accuracy: 0.6517 - factorized_top_k/top_100_categorical_accuracy: 0.7854 - loss: 36.5209 - regularization_loss: 0.0000e+00 - total_loss: 36.5209\n",
            "Epoch 38/50\n",
            "24/24 [==============================] - 4s 147ms/step - factorized_top_k/top_1_categorical_accuracy: 0.2503 - factorized_top_k/top_5_categorical_accuracy: 0.3510 - factorized_top_k/top_10_categorical_accuracy: 0.4093 - factorized_top_k/top_50_categorical_accuracy: 0.6556 - factorized_top_k/top_100_categorical_accuracy: 0.7788 - loss: 35.5000 - regularization_loss: 0.0000e+00 - total_loss: 35.5000\n",
            "Epoch 39/50\n",
            "24/24 [==============================] - 2s 100ms/step - factorized_top_k/top_1_categorical_accuracy: 0.2781 - factorized_top_k/top_5_categorical_accuracy: 0.3695 - factorized_top_k/top_10_categorical_accuracy: 0.4238 - factorized_top_k/top_50_categorical_accuracy: 0.6464 - factorized_top_k/top_100_categorical_accuracy: 0.7735 - loss: 36.1318 - regularization_loss: 0.0000e+00 - total_loss: 36.1318\n",
            "Epoch 40/50\n",
            "24/24 [==============================] - 3s 102ms/step - factorized_top_k/top_1_categorical_accuracy: 0.2755 - factorized_top_k/top_5_categorical_accuracy: 0.3828 - factorized_top_k/top_10_categorical_accuracy: 0.4265 - factorized_top_k/top_50_categorical_accuracy: 0.6490 - factorized_top_k/top_100_categorical_accuracy: 0.7815 - loss: 36.8852 - regularization_loss: 0.0000e+00 - total_loss: 36.8852\n",
            "Epoch 41/50\n",
            "24/24 [==============================] - 2s 102ms/step - factorized_top_k/top_1_categorical_accuracy: 0.3073 - factorized_top_k/top_5_categorical_accuracy: 0.4093 - factorized_top_k/top_10_categorical_accuracy: 0.4623 - factorized_top_k/top_50_categorical_accuracy: 0.6636 - factorized_top_k/top_100_categorical_accuracy: 0.7828 - loss: 37.0642 - regularization_loss: 0.0000e+00 - total_loss: 37.0642\n",
            "Epoch 42/50\n",
            "24/24 [==============================] - 2s 101ms/step - factorized_top_k/top_1_categorical_accuracy: 0.2821 - factorized_top_k/top_5_categorical_accuracy: 0.3656 - factorized_top_k/top_10_categorical_accuracy: 0.4278 - factorized_top_k/top_50_categorical_accuracy: 0.6530 - factorized_top_k/top_100_categorical_accuracy: 0.7854 - loss: 35.4218 - regularization_loss: 0.0000e+00 - total_loss: 35.4218\n",
            "Epoch 43/50\n",
            "24/24 [==============================] - 4s 158ms/step - factorized_top_k/top_1_categorical_accuracy: 0.2808 - factorized_top_k/top_5_categorical_accuracy: 0.3921 - factorized_top_k/top_10_categorical_accuracy: 0.4596 - factorized_top_k/top_50_categorical_accuracy: 0.6570 - factorized_top_k/top_100_categorical_accuracy: 0.7841 - loss: 36.4036 - regularization_loss: 0.0000e+00 - total_loss: 36.4036\n",
            "Epoch 44/50\n",
            "24/24 [==============================] - 3s 120ms/step - factorized_top_k/top_1_categorical_accuracy: 0.2887 - factorized_top_k/top_5_categorical_accuracy: 0.3907 - factorized_top_k/top_10_categorical_accuracy: 0.4530 - factorized_top_k/top_50_categorical_accuracy: 0.6636 - factorized_top_k/top_100_categorical_accuracy: 0.7987 - loss: 35.2605 - regularization_loss: 0.0000e+00 - total_loss: 35.2605\n",
            "Epoch 45/50\n",
            "24/24 [==============================] - 3s 103ms/step - factorized_top_k/top_1_categorical_accuracy: 0.2675 - factorized_top_k/top_5_categorical_accuracy: 0.3656 - factorized_top_k/top_10_categorical_accuracy: 0.4411 - factorized_top_k/top_50_categorical_accuracy: 0.6464 - factorized_top_k/top_100_categorical_accuracy: 0.7947 - loss: 35.1900 - regularization_loss: 0.0000e+00 - total_loss: 35.1900\n",
            "Epoch 46/50\n",
            "24/24 [==============================] - 2s 100ms/step - factorized_top_k/top_1_categorical_accuracy: 0.2901 - factorized_top_k/top_5_categorical_accuracy: 0.3987 - factorized_top_k/top_10_categorical_accuracy: 0.4636 - factorized_top_k/top_50_categorical_accuracy: 0.6596 - factorized_top_k/top_100_categorical_accuracy: 0.7987 - loss: 35.4130 - regularization_loss: 0.0000e+00 - total_loss: 35.4130\n",
            "Epoch 47/50\n",
            "24/24 [==============================] - 3s 103ms/step - factorized_top_k/top_1_categorical_accuracy: 0.2662 - factorized_top_k/top_5_categorical_accuracy: 0.3709 - factorized_top_k/top_10_categorical_accuracy: 0.4318 - factorized_top_k/top_50_categorical_accuracy: 0.6609 - factorized_top_k/top_100_categorical_accuracy: 0.7947 - loss: 35.3048 - regularization_loss: 0.0000e+00 - total_loss: 35.3048\n",
            "Epoch 48/50\n",
            "24/24 [==============================] - 3s 146ms/step - factorized_top_k/top_1_categorical_accuracy: 0.2795 - factorized_top_k/top_5_categorical_accuracy: 0.3682 - factorized_top_k/top_10_categorical_accuracy: 0.4358 - factorized_top_k/top_50_categorical_accuracy: 0.6477 - factorized_top_k/top_100_categorical_accuracy: 0.7894 - loss: 36.1607 - regularization_loss: 0.0000e+00 - total_loss: 36.1607\n",
            "Epoch 49/50\n",
            "24/24 [==============================] - 3s 106ms/step - factorized_top_k/top_1_categorical_accuracy: 0.2768 - factorized_top_k/top_5_categorical_accuracy: 0.3722 - factorized_top_k/top_10_categorical_accuracy: 0.4305 - factorized_top_k/top_50_categorical_accuracy: 0.6424 - factorized_top_k/top_100_categorical_accuracy: 0.7682 - loss: 36.5449 - regularization_loss: 0.0000e+00 - total_loss: 36.5449\n",
            "Epoch 50/50\n",
            "24/24 [==============================] - 3s 106ms/step - factorized_top_k/top_1_categorical_accuracy: 0.2940 - factorized_top_k/top_5_categorical_accuracy: 0.3907 - factorized_top_k/top_10_categorical_accuracy: 0.4477 - factorized_top_k/top_50_categorical_accuracy: 0.6768 - factorized_top_k/top_100_categorical_accuracy: 0.7987 - loss: 36.0030 - regularization_loss: 0.0000e+00 - total_loss: 36.0030\n",
            "24/24 [==============================] - 4s 128ms/step - factorized_top_k/top_1_categorical_accuracy: 0.4053 - factorized_top_k/top_5_categorical_accuracy: 0.4848 - factorized_top_k/top_10_categorical_accuracy: 0.5430 - factorized_top_k/top_50_categorical_accuracy: 0.7536 - factorized_top_k/top_100_categorical_accuracy: 0.8728 - loss: 35.0954 - regularization_loss: 0.0000e+00 - total_loss: 35.0954\n",
            "6/6 [==============================] - 1s 146ms/step - factorized_top_k/top_1_categorical_accuracy: 0.2222 - factorized_top_k/top_5_categorical_accuracy: 0.2487 - factorized_top_k/top_10_categorical_accuracy: 0.2751 - factorized_top_k/top_50_categorical_accuracy: 0.4127 - factorized_top_k/top_100_categorical_accuracy: 0.5714 - loss: 96.3753 - regularization_loss: 0.0000e+00 - total_loss: 96.3753\n",
            "Top-100 accuracy (train): 0.87.\n",
            "Top-100 accuracy (test): 0.57.\n"
          ]
        }
      ],
      "source": [
        "for i in range(5):\n",
        "\n",
        "\n",
        "  tf.random.set_seed(1234)\n",
        "  shuffled = dataset.shuffle(944, seed=42, reshuffle_each_iteration=False)\n",
        "  train = shuffled.take(755)\n",
        "  test = shuffled.skip(755).take(189)\n",
        "  cached_train = train.shuffle(755).batch(32)\n",
        "  cached_test = test.batch(32).cache()\n",
        "\n",
        "\n",
        "  model = MainModel([32])\n",
        "  model.compile(optimizer=tf.keras.optimizers.Adagrad(0.1))\n",
        "\n",
        "  one_layer_history=model.fit(cached_train, epochs=50)\n",
        "\n",
        "  train_accuracy = model.evaluate(\n",
        "      cached_train, return_dict=True)[\"factorized_top_k/top_100_categorical_accuracy\"]\n",
        "  test_accuracy = model.evaluate(\n",
        "      cached_test, return_dict=True)[\"factorized_top_k/top_100_categorical_accuracy\"]\n",
        "\n",
        "  print(f\"Top-100 accuracy (train): {train_accuracy:.2f}.\")\n",
        "  print(f\"Top-100 accuracy (test): {test_accuracy:.2f}.\")\n"
      ]
    },
    {
      "cell_type": "code",
      "execution_count": 98,
      "metadata": {
        "application/vnd.databricks.v1+cell": {
          "cellMetadata": {
            "byteLimit": 2048000,
            "rowLimit": 10000
          },
          "inputWidgets": {},
          "nuid": "f507d53d-089a-456e-adc5-4dd75a6a4402",
          "showTitle": false,
          "title": ""
        },
        "colab": {
          "base_uri": "https://localhost:8080/"
        },
        "id": "vZ93ynZ9BEh1",
        "outputId": "a5834ce3-95e3-475f-e237-d65cea3b4342"
      },
      "outputs": [
        {
          "output_type": "stream",
          "name": "stderr",
          "text": [
            "<ipython-input-98-444997ff90a3>:3: MatplotlibDeprecationWarning: The seaborn styles shipped by Matplotlib are deprecated since 3.6, as they no longer correspond to the styles shipped by seaborn. However, they will remain available as 'seaborn-v0_8-<style>'. Alternatively, directly use the seaborn API instead.\n",
            "  plt.style.use('seaborn-whitegrid')\n"
          ]
        }
      ],
      "source": [
        "%matplotlib inline\n",
        "import matplotlib.pyplot as plt\n",
        "plt.style.use('seaborn-whitegrid')"
      ]
    },
    {
      "cell_type": "code",
      "execution_count": 99,
      "metadata": {
        "application/vnd.databricks.v1+cell": {
          "cellMetadata": {
            "byteLimit": 2048000,
            "rowLimit": 10000
          },
          "inputWidgets": {},
          "nuid": "143ccd99-e062-4a4d-af5d-c509ca1fe617",
          "showTitle": false,
          "title": ""
        },
        "colab": {
          "base_uri": "https://localhost:8080/",
          "height": 556
        },
        "id": "7aXMYJUKBEh1",
        "outputId": "2f538a2e-5486-4c41-904d-e297531d1aaf"
      },
      "outputs": [
        {
          "output_type": "stream",
          "name": "stdout",
          "text": [
            "[0.2874172329902649, 0.48476821184158325, 0.5814569592475891, 0.7033112645149231, 0.7205297946929932, 0.7364238500595093, 0.7509933710098267, 0.74701988697052, 0.7496688961982727, 0.757615864276886, 0.7761589288711548, 0.7642384171485901, 0.7827814817428589, 0.7523179054260254, 0.7854304909706116, 0.7721854448318481, 0.7933774590492249, 0.7841059565544128, 0.7933774590492249, 0.7761589288711548, 0.7894039750099182, 0.7668874263763428, 0.7748344540596008, 0.7814569473266602, 0.7920529842376709, 0.7973510026931763, 0.7827814817428589, 0.7695364356040955, 0.756291389465332, 0.7854304909706116, 0.8105960488319397, 0.7814569473266602, 0.7907284498214722, 0.7801324725151062, 0.7774834632873535, 0.7907284498214722, 0.7854304909706116, 0.7788079380989075, 0.7735099196434021, 0.7814569473266602, 0.7827814817428589, 0.7854304909706116, 0.7841059565544128, 0.7986754775047302, 0.7947019934654236, 0.7986754775047302, 0.7947019934654236, 0.7894039750099182, 0.7682119011878967, 0.7986754775047302]\n"
          ]
        },
        {
          "output_type": "stream",
          "name": "stderr",
          "text": [
            "WARNING:matplotlib.legend:No artists with labels found to put in legend.  Note that artists whose label start with an underscore are ignored when legend() is called with no argument.\n"
          ]
        },
        {
          "output_type": "stream",
          "name": "stdout",
          "text": [
            "50\n"
          ]
        },
        {
          "output_type": "execute_result",
          "data": {
            "text/plain": [
              "<matplotlib.legend.Legend at 0x7cd9e82ea050>"
            ]
          },
          "metadata": {},
          "execution_count": 99
        },
        {
          "output_type": "display_data",
          "data": {
            "text/plain": [
              "<Figure size 640x480 with 1 Axes>"
            ],
            "image/png": "[encoded data removed]"
          },
          "metadata": {}
        }
      ],
      "source": [
        "num_validation_runs = len(one_layer_history.history[\"factorized_top_k/top_100_categorical_accuracy\"])\n",
        "epochs = [(x + 1) for x in range(num_validation_runs)]\n",
        "print(one_layer_history.history[\"factorized_top_k/top_100_categorical_accuracy\"])\n",
        "plt.plot(epochs, one_layer_history.history[\"factorized_top_k/top_100_categorical_accuracy\"])\n",
        "print(num_validation_runs)\n",
        "plt.title(\"Accuracy vs epoch\")\n",
        "plt.xlabel(\"epoch\")\n",
        "plt.ylabel(\"Top-100 Train accuracy\")\n",
        "plt.legend()"
      ]
    }
  ],
  "metadata": {
    "application/vnd.databricks.v1+notebook": {
      "dashboards": [],
      "language": "python",
      "notebookMetadata": {
        "mostRecentlyExecutedCommandWithImplicitDF": {
          "commandId": 35111657017712,
          "dataframes": [
            "_sqldf"
          ]
        },
        "pythonIndentUnit": 4
      },
      "notebookName": "2023-06-15 - Discover_Nonprod",
      "widgets": {}
    },
    "colab": {
      "provenance": []
    },
    "language_info": {
      "name": "python"
    },
    "kernelspec": {
      "name": "python3",
      "display_name": "Python 3"
    }
  },
  "nbformat": 4,
  "nbformat_minor": 0
}