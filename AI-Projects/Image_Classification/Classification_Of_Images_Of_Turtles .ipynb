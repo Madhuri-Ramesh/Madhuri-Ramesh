{
  "cells": [
    {
      "cell_type": "code",
      "execution_count": 1,
      "metadata": {
        "id": "7bT2J7FjVSUV"
      },
      "outputs": [],
      "source": [
        "import tensorflow as tf\n",
        "import numpy as np\n",
        "import tensorflow_datasets as tfds\n",
        "from tensorflow.keras.layers import Layer\n",
        "from tensorflow.keras import  Model\n",
        "import time\n",
        "import matplotlib.pyplot as plt\n",
        "import pandas as pd\n",
        "import cv2\n",
        "import glob\n",
        "import os\n",
        "from google.colab import drive\n"
      ]
    },
    {
      "cell_type": "code",
      "source": [
        "import os\n",
        "\n",
        "SOURCE_URL = 'https://storage.googleapis.com/dm-turtle-recall/images.tar'\n",
        "IMAGE_DIR = './turtle_recall/images'\n",
        "TAR_PATH = os.path.join(IMAGE_DIR, os.path.basename(SOURCE_URL))\n",
        "EXPECTED_IMAGE_COUNT = 13891\n",
        "\n",
        "%sx mkdir --parents \"{IMAGE_DIR}\"\n",
        "if len(os.listdir(IMAGE_DIR)) != EXPECTED_IMAGE_COUNT:\n",
        "  %sx wget --no-check-certificate -O \"{TAR_PATH}\" \"{SOURCE_URL}\"\n",
        "  %sx tar --extract --file=\"{TAR_PATH}\" --directory=\"{IMAGE_DIR}\"\n",
        "  %sx rm \"{TAR_PATH}\"\n",
        "\n",
        "print(f'The total number of images is: {len(os.listdir(IMAGE_DIR))}')\n",
        "#for entry in os.listdir(IMAGE_DIR):\n",
        "  #print(entry)"
      ],
      "metadata": {
        "id": "5DO8XO7oMKz7",
        "colab": {
          "base_uri": "https://localhost:8080/"
        },
        "outputId": "24083600-2d14-413c-e8a3-ef553d9c835a"
      },
      "execution_count": 2,
      "outputs": [
        {
          "output_type": "stream",
          "name": "stdout",
          "text": [
            "The total number of images is: 13891\n"
          ]
        }
      ]
    },
    {
      "cell_type": "code",
      "source": [
        "import pandas as pd\n",
        "import requests\n",
        "import io\n",
        "import urllib.parse\n",
        "\n",
        "BASE_URL = 'https://storage.googleapis.com/dm-turtle-recall/'\n",
        "\n",
        "\n",
        "def read_csv_from_web(file_name):\n",
        "  url = urllib.parse.urljoin(BASE_URL, file_name)\n",
        "  content = requests.get(url).content\n",
        "  return pd.read_csv(io.StringIO(content.decode('utf-8')))\n",
        "\n",
        "\n",
        "# Read in csv files.\n",
        "train = read_csv_from_web('train.csv')\n",
        "#print(train)\n",
        "test = read_csv_from_web('test.csv')\n",
        "#print(test)\n",
        "sample_submission = read_csv_from_web('sample_submission.csv')\n",
        "\n",
        "# Convert image_location strings to lowercase.\n",
        "for df in [train, test]:\n",
        "  #print(df)\n",
        "  df.image_location = df.image_location.apply(lambda x: x.lower())\n",
        "  #print(df.image_location)\n",
        "  assert set(df.image_location.unique()) == set(['left', 'right', 'top'])"
      ],
      "metadata": {
        "id": "fVyKypuHMQ29"
      },
      "execution_count": 3,
      "outputs": []
    },
    {
      "cell_type": "code",
      "source": [
        "turtle_ids = sorted(np.unique(train.turtle_id)) + ['new_turtle']\n",
        "#print(turtle_ids)\n",
        "labels = dict(zip(turtle_ids, np.arange(len(turtle_ids))))\n",
        "#print(labels)\n",
        "label_lookup = {v: k for k, v in labels.items()}\n",
        "#print(label_lookup)\n",
        "num_classes = len(labels)\n",
        "#print(num_classes)\n",
        "image_to_turtle = dict(zip(train.image_id, train.turtle_id))\n",
        "#print(image_to_turtle)\n",
        "\n",
        "image_files = [os.path.join(IMAGE_DIR, f) for f in os.listdir(IMAGE_DIR)\n",
        "              if f.split('.')[0] in train.image_id.values]\n",
        "#print(image_files)\n",
        "\n",
        "image_ids = [os.path.basename(f).split('.')[0] for f in image_files]\n",
        "#print(image_ids)\n",
        "image_turtle_ids = [image_to_turtle[id] for id in image_ids]\n",
        "#print(image_turtle_ids)\n",
        "keys=[]\n",
        "for tid in image_turtle_ids:              #generating labels\n",
        "  for key, vals in label_lookup.items():\n",
        "    if(tid==vals):\n",
        "      keys.append(key)\n",
        "#print(keys)\n",
        "\n",
        "\n"
      ],
      "metadata": {
        "id": "nbXzUz3WVH_d"
      },
      "execution_count": 4,
      "outputs": []
    },
    {
      "cell_type": "code",
      "source": [
        "import tqdm\n",
        "from PIL import Image \n",
        "from numpy import asarray\n",
        "def crop_and_resize(pil_img):\n",
        "  \"\"\"Crops square from center of image and resizes to (224, 224).\"\"\"\n",
        "  w, h = pil_img.size\n",
        "  crop_size = min(w, h)\n",
        "  crop = pil_img.crop(((w - crop_size) // 2, (h - crop_size) // 2,\n",
        "                       (w + crop_size) // 2, (h + crop_size) // 2))\n",
        "  return crop.resize((224, 224))\n",
        "\n",
        "\n",
        "tqdm.tqdm._instances.clear()\n",
        "loaded_images = [crop_and_resize(Image.open(f)) for f in tqdm.tqdm(image_files)]\n",
        "\n",
        "\n"
      ],
      "metadata": {
        "id": "RcqOZeIvV5oH",
        "colab": {
          "base_uri": "https://localhost:8080/"
        },
        "outputId": "63e14186-8c7b-4cf6-f0a0-bce0b346f36d"
      },
      "execution_count": 5,
      "outputs": [
        {
          "output_type": "stream",
          "name": "stderr",
          "text": [
            "100%|██████████| 2145/2145 [01:34<00:00, 22.66it/s]\n"
          ]
        }
      ]
    },
    {
      "cell_type": "code",
      "source": [
        "tensor_list=[]\n",
        "from numpy import asarray\n",
        "for x in loaded_images:\n",
        "  #print(x)\n",
        "  #x.show()\n",
        "  data = asarray(x)                             #converting PIL image to numpy array\n",
        "  t=tf.convert_to_tensor(data, dtype=tf.float32)\n",
        "  #print(t)\n",
        "  tensor_list.append(t)\n",
        "\n",
        "\n"
      ],
      "metadata": {
        "id": "qZAFJ9e6cOHF"
      },
      "execution_count": 6,
      "outputs": []
    },
    {
      "cell_type": "code",
      "source": [
        "full_ds = tf.data.Dataset.from_tensor_slices((tensor_list,keys))\n",
        "#print(new_ds)\n",
        "#for x,y in new_ds.take(4):\n",
        "  #print(x,y)\n",
        "full_ds=full_ds.map(lambda img, target: ((img, tf.one_hot(target, depth=101))))\n",
        "#full_ds = full_ds.batch(32)\n",
        "\n",
        "df = pd.read_csv('https://storage.googleapis.com/dm-turtle-recall/train.csv', delimiter= ';')\n",
        "(rows,cols) = df.shape\n",
        "\n",
        "\n",
        "train_ds = full_ds.take(int(0.6*rows))\n",
        "remaining = full_ds.skip(int(0.4*rows))\n",
        "#valid_ds = remaining.take(int(0.2*rows))\n",
        "train_ds = train_ds.batch(16)\n",
        "test_ds = remaining.take(int(0.4*rows))\n",
        "test_ds = test_ds.batch(16)\n",
        "\n",
        "#for x,y in train_ds.take(5):\n",
        "  #print(x,y)"
      ],
      "metadata": {
        "id": "eCmZY-s-hzhq"
      },
      "execution_count": 7,
      "outputs": []
    },
    {
      "cell_type": "code",
      "source": [
        "#batch_size = 32\n",
        "#AUTOTUNE = tf.data.AUTOTUNE\n",
        "\n",
        "#def prepare(ds, shuffle=False, augment=False):\n",
        "  # Resize and rescale all datasets.\n",
        "  #ds = ds.map(lambda x, y: (resize_and_rescale(x), y), \n",
        "              #num_parallel_calls=AUTOTUNE)\n",
        "\n",
        "  #if shuffle:\n",
        "    #ds = ds.shuffle(1000)\n",
        "\n",
        "  # Batch all datasets.\n",
        "  #ds = ds.batch(batch_size)\n",
        "\n",
        "  # Use data augmentation only on the training set.\n",
        "  #if augment:\n",
        "    #ds = ds.map(lambda x, y: (data_augmentation(x, training=True), y), \n",
        "                #num_parallel_calls=AUTOTUNE)\n",
        "\n",
        "  # Use buffered prefetching on all datasets.\n",
        "  #return ds.prefetch(buffer_size=AUTOTUNE)"
      ],
      "metadata": {
        "id": "Y6DSkuDh4Tob"
      },
      "execution_count": 8,
      "outputs": []
    },
    {
      "cell_type": "code",
      "source": [
        "#train_ds = prepare(train_ds, shuffle=True, augment=True)\n",
        "#val_ds = prepare(val_ds)\n",
        "#test_ds = prepare(test_ds)"
      ],
      "metadata": {
        "id": "RbHl-MAi4XT0"
      },
      "execution_count": 9,
      "outputs": []
    },
    {
      "cell_type": "code",
      "source": [
        "import numpy as np\n",
        "import time\n",
        "\n",
        "import PIL.Image as Image\n",
        "import matplotlib.pylab as plt\n",
        "\n",
        "import tensorflow as tf\n",
        "import tensorflow_hub as hub\n",
        "\n",
        "import datetime\n",
        "\n",
        "%load_ext tensorboard"
      ],
      "metadata": {
        "id": "ok7HVwKjqJyk"
      },
      "execution_count": 10,
      "outputs": []
    },
    {
      "cell_type": "code",
      "source": [
        "efficientnet = \"https://tfhub.dev/tensorflow/efficientnet/b0/feature-vector/1\"\n",
        "classifier_model = efficientnet"
      ],
      "metadata": {
        "id": "GCtgmfQ4KhI6"
      },
      "execution_count": 11,
      "outputs": []
    },
    {
      "cell_type": "code",
      "source": [
        "IMAGE_SHAPE = (224, 224)\n",
        "\n"
      ],
      "metadata": {
        "id": "x6WE539ZLxdI"
      },
      "execution_count": 12,
      "outputs": []
    },
    {
      "cell_type": "code",
      "source": [
        "normalization_layer = tf.keras.layers.Rescaling(1./255)\n",
        "train_ds = train_ds.map(lambda x, y: (normalization_layer(x), y))\n",
        "test_ds = test_ds.map(lambda x, y: (normalization_layer(x), y))\n"
      ],
      "metadata": {
        "id": "WQkuwStSM_-C"
      },
      "execution_count": 13,
      "outputs": []
    },
    {
      "cell_type": "code",
      "source": [
        "AUTOTUNE = tf.data.AUTOTUNE\n",
        "train_ds = train_ds.cache().prefetch(buffer_size=AUTOTUNE)\n",
        "test_ds = test_ds.cache().prefetch(buffer_size=AUTOTUNE)"
      ],
      "metadata": {
        "id": "YohM4lpUNRsD"
      },
      "execution_count": 14,
      "outputs": []
    },
    {
      "cell_type": "code",
      "source": [
        "class MyModel(tf.keras.Model):\n",
        "   def __init__(self):\n",
        "     super(MyModel, self).__init__()\n",
        "     self.base_model = hub.KerasLayer(classifier_model, trainable=False,input_shape=IMAGE_SHAPE + (3,))\n",
        "     #self.base_model.trainable = False\n",
        "     self.out1=tf.keras.layers.Dropout(rate=0.2)\n",
        "     self.out2=tf.keras.layers.Dense(101,kernel_regularizer=tf.keras.regularizers.l2(0.0001),activation='softmax')\n",
        "     self.input1=tf.keras.Input(shape=(224,224,3))\n",
        "\n",
        "   @tf.function\n",
        "   def call(self, inputs):\n",
        "\n",
        "\n",
        "\n",
        "\n",
        "      #x = self.input1(inputs)\n",
        "\n",
        "      x = self.base_model(inputs)\n",
        "\n",
        "      x = self.out1(x)\n",
        "\n",
        "      x = self.out2(x)\n",
        "      return x\n"
      ],
      "metadata": {
        "id": "lLRsWS6wvCab"
      },
      "execution_count": 17,
      "outputs": []
    },
    {
      "cell_type": "code",
      "source": [
        "def train_step(model, input, target, loss_function, optimizer):\n",
        "  # loss_object and optimizer_object are instances of respective tensorflow classes\n",
        "  with tf.GradientTape() as tape:\n",
        "    prediction = model(input)\n",
        "    loss = loss_function(target, prediction)\n",
        "    gradients = tape.gradient(loss, model.trainable_variables)\n",
        "  optimizer.apply_gradients(zip(gradients, model.trainable_variables))\n",
        "  return loss\n",
        "\n",
        "def test(model, test_data, loss_function):\n",
        "  # test over complete test data\n",
        "\n",
        "  test_accuracy_aggregator = []\n",
        "  test_loss_aggregator = []\n",
        "\n",
        "  for (input, target) in test_data:\n",
        "    prediction = model(input)\n",
        "    sample_test_loss = loss_function(target, prediction)\n",
        "    sample_test_accuracy =  np.argmax(target, axis=1) == np.argmax(prediction, axis=1)\n",
        "    sample_test_accuracy = np.mean(sample_test_accuracy)\n",
        "    test_loss_aggregator.append(sample_test_loss.numpy())\n",
        "    test_accuracy_aggregator.append(np.mean(sample_test_accuracy))\n",
        "\n",
        "  test_loss = tf.reduce_mean(test_loss_aggregator)\n",
        "  test_accuracy = tf.reduce_mean(test_accuracy_aggregator)\n",
        "\n",
        "  return test_loss, test_accuracy"
      ],
      "metadata": {
        "id": "x7IHgFAeJYtD"
      },
      "execution_count": 18,
      "outputs": []
    },
    {
      "cell_type": "code",
      "source": [
        "num_epochs = 50\n",
        "learning_rate = 0.001\n",
        "start = time.time()\n",
        "# Initialize the model.\n",
        "model = MyModel()\n",
        "# Initialize the loss: categorical cross entropy. Check out 'tf.keras.losses'.\n",
        "cross_entropy_loss = tf.keras.losses.CategoricalCrossentropy()\n",
        "# Initialize the optimizer: SGD with default parameters. Check out 'tf.keras.optimizers'\n",
        "optimizer = tf.keras.optimizers.Adam(learning_rate)\n",
        "\n",
        "# Initialize lists for later visualization.\n",
        "train_losses = []\n",
        "\n",
        "test_losses = []\n",
        "test_accuracies = []\n",
        "\n",
        "#testing once before we begin\n",
        "test_loss, test_accuracy = test(model, test_ds, cross_entropy_loss)\n",
        "test_losses.append(test_loss)\n",
        "test_accuracies.append(test_accuracy)\n",
        "\n",
        "\n",
        "\n",
        "train_loss, _ = test(model, train_ds, cross_entropy_loss)\n",
        "train_losses.append(train_loss)\n",
        "\n",
        "# We train for num_epochs epochs.\n",
        "for epoch in range(num_epochs):\n",
        "    print(f'Epoch: {str(epoch)} starting with accuracy {test_accuracies[-1]}')\n",
        "\n",
        "    #training (and checking in with training)\n",
        "    epoch_loss_agg = []\n",
        "    for input,target in train_ds:\n",
        "        train_loss = train_step(model, input, target, cross_entropy_loss, optimizer)\n",
        "        epoch_loss_agg.append(train_loss)\n",
        "    \n",
        "    #track training loss\n",
        "    train_losses.append(tf.reduce_mean(epoch_loss_agg))\n",
        "\n",
        "    #testing, so we can track accuracy and test loss\n",
        "    test_loss, test_accuracy = test(model, test_ds, cross_entropy_loss)\n",
        "    test_losses.append(test_loss)\n",
        "    test_accuracies.append(test_accuracy)\n",
        "    print(f' After Epoch: {str(epoch+1)} accuracy: {test_accuracies[epoch]}') \n",
        "\n",
        "\n",
        "end = time.time()\n",
        "duration = end - start\n",
        "\n",
        "\n",
        "print(f'  After Training of {str(epoch+1)} Epochs test accuracy: {test_accuracies[49]}')\n",
        "\n",
        "print('The training took ', str(int(duration / 60)), ' minutes and ', str(duration % 60), ' seconds.' )\n",
        "\n",
        "import matplotlib.pyplot as plt\n",
        "plt.figure()\n",
        "line1, = plt.plot(train_losses, linewidth = 2)\n",
        "line2, = plt.plot(test_losses, linestyle = 'dashed', linewidth = 2)\n",
        "#line3, = plt.plot(validation_losses, linewidth = 2)\n",
        "plt.xlabel(\"Training steps (epochs)\", fontsize = 12)\n",
        "plt.ylabel(\"Loss\", fontsize = 12)\n",
        "plt.legend((line1,line2),(\"Training\",\"Test\"), fontsize = 14)\n",
        "plt.title(\"Loss for training and test data\")\n",
        "plt.show()\n",
        "# One plot for training and test accuracy.\n",
        "plt.figure()\n",
        "#line1, = plt.plot(train_accuracies, linestyle = 'dashed', color = 'green', linewidth = 2)\n",
        "line3, = plt.plot(test_accuracies, color = 'red', linewidth = 2)\n",
        "#line3, = plt.plot(validation_accuracies, color = 'blue', linewidth = 2)\n",
        "plt.xlabel(\"Training steps (epochs)\", fontsize = 12)\n",
        "plt.ylabel(\"Accuracy in %\", fontsize = 12)\n",
        "plt.legend([line3],[\"Test\"], fontsize = 14)\n",
        "plt.title(\"Performance on training and test data\")\n",
        "plt.show()\n"
      ],
      "metadata": {
        "colab": {
          "base_uri": "https://localhost:8080/",
          "height": 1000
        },
        "id": "hzZkBGPQLHDw",
        "outputId": "b16765eb-6464-49e2-b76e-24a6dcfc039d"
      },
      "execution_count": 20,
      "outputs": [
        {
          "output_type": "stream",
          "name": "stdout",
          "text": [
            "Epoch: 0 starting with accuracy 0.006944444444444444\n",
            " After Epoch: 1 accuracy: 0.006944444444444444\n",
            "Epoch: 1 starting with accuracy 0.1048611111111111\n",
            " After Epoch: 2 accuracy: 0.1048611111111111\n",
            "Epoch: 2 starting with accuracy 0.17662037037037037\n",
            " After Epoch: 3 accuracy: 0.17662037037037037\n",
            "Epoch: 3 starting with accuracy 0.2611111111111111\n",
            " After Epoch: 4 accuracy: 0.2611111111111111\n",
            "Epoch: 4 starting with accuracy 0.3300925925925926\n",
            " After Epoch: 5 accuracy: 0.3300925925925926\n",
            "Epoch: 5 starting with accuracy 0.3851851851851852\n",
            " After Epoch: 6 accuracy: 0.3851851851851852\n",
            "Epoch: 6 starting with accuracy 0.4175925925925926\n",
            " After Epoch: 7 accuracy: 0.4175925925925926\n",
            "Epoch: 7 starting with accuracy 0.45046296296296295\n",
            " After Epoch: 8 accuracy: 0.45046296296296295\n",
            "Epoch: 8 starting with accuracy 0.4886574074074074\n",
            " After Epoch: 9 accuracy: 0.4886574074074074\n",
            "Epoch: 9 starting with accuracy 0.5013888888888889\n",
            " After Epoch: 10 accuracy: 0.5013888888888889\n",
            "Epoch: 10 starting with accuracy 0.524537037037037\n",
            " After Epoch: 11 accuracy: 0.524537037037037\n",
            "Epoch: 11 starting with accuracy 0.5356481481481482\n",
            " After Epoch: 12 accuracy: 0.5356481481481482\n",
            "Epoch: 12 starting with accuracy 0.5472222222222223\n",
            " After Epoch: 13 accuracy: 0.5472222222222223\n",
            "Epoch: 13 starting with accuracy 0.5541666666666667\n",
            " After Epoch: 14 accuracy: 0.5541666666666667\n",
            "Epoch: 14 starting with accuracy 0.5622685185185186\n",
            " After Epoch: 15 accuracy: 0.5622685185185186\n",
            "Epoch: 15 starting with accuracy 0.569212962962963\n",
            " After Epoch: 16 accuracy: 0.569212962962963\n",
            "Epoch: 16 starting with accuracy 0.5750000000000001\n",
            " After Epoch: 17 accuracy: 0.5750000000000001\n",
            "Epoch: 17 starting with accuracy 0.5831018518518518\n",
            " After Epoch: 18 accuracy: 0.5831018518518518\n",
            "Epoch: 18 starting with accuracy 0.5912037037037037\n",
            " After Epoch: 19 accuracy: 0.5912037037037037\n",
            "Epoch: 19 starting with accuracy 0.5923611111111111\n",
            " After Epoch: 20 accuracy: 0.5923611111111111\n",
            "Epoch: 20 starting with accuracy 0.6027777777777777\n",
            " After Epoch: 21 accuracy: 0.6027777777777777\n",
            "Epoch: 21 starting with accuracy 0.6074074074074074\n",
            " After Epoch: 22 accuracy: 0.6074074074074074\n",
            "Epoch: 22 starting with accuracy 0.6131944444444444\n",
            " After Epoch: 23 accuracy: 0.6131944444444444\n",
            "Epoch: 23 starting with accuracy 0.6166666666666666\n",
            " After Epoch: 24 accuracy: 0.6166666666666666\n",
            "Epoch: 24 starting with accuracy 0.6201388888888888\n",
            " After Epoch: 25 accuracy: 0.6201388888888888\n",
            "Epoch: 25 starting with accuracy 0.6259259259259259\n",
            " After Epoch: 26 accuracy: 0.6259259259259259\n",
            "Epoch: 26 starting with accuracy 0.6305555555555555\n",
            " After Epoch: 27 accuracy: 0.6305555555555555\n",
            "Epoch: 27 starting with accuracy 0.6317129629629629\n",
            " After Epoch: 28 accuracy: 0.6317129629629629\n",
            "Epoch: 28 starting with accuracy 0.6317129629629629\n",
            " After Epoch: 29 accuracy: 0.6317129629629629\n",
            "Epoch: 29 starting with accuracy 0.6358796296296296\n",
            " After Epoch: 30 accuracy: 0.6358796296296296\n",
            "Epoch: 30 starting with accuracy 0.637037037037037\n",
            " After Epoch: 31 accuracy: 0.637037037037037\n",
            "Epoch: 31 starting with accuracy 0.6381944444444444\n",
            " After Epoch: 32 accuracy: 0.6381944444444444\n",
            "Epoch: 32 starting with accuracy 0.637037037037037\n",
            " After Epoch: 33 accuracy: 0.637037037037037\n",
            "Epoch: 33 starting with accuracy 0.6381944444444444\n",
            " After Epoch: 34 accuracy: 0.6381944444444444\n",
            "Epoch: 34 starting with accuracy 0.6393518518518518\n",
            " After Epoch: 35 accuracy: 0.6393518518518518\n",
            "Epoch: 35 starting with accuracy 0.6416666666666666\n",
            " After Epoch: 36 accuracy: 0.6416666666666666\n",
            "Epoch: 36 starting with accuracy 0.6416666666666666\n",
            " After Epoch: 37 accuracy: 0.6416666666666666\n",
            "Epoch: 37 starting with accuracy 0.6416666666666666\n",
            " After Epoch: 38 accuracy: 0.6416666666666666\n",
            "Epoch: 38 starting with accuracy 0.642824074074074\n",
            " After Epoch: 39 accuracy: 0.642824074074074\n",
            "Epoch: 39 starting with accuracy 0.6451388888888888\n",
            " After Epoch: 40 accuracy: 0.6451388888888888\n",
            "Epoch: 40 starting with accuracy 0.6462962962962963\n",
            " After Epoch: 41 accuracy: 0.6462962962962963\n",
            "Epoch: 41 starting with accuracy 0.6474537037037037\n",
            " After Epoch: 42 accuracy: 0.6474537037037037\n",
            "Epoch: 42 starting with accuracy 0.6474537037037037\n",
            " After Epoch: 43 accuracy: 0.6474537037037037\n",
            "Epoch: 43 starting with accuracy 0.6474537037037037\n",
            " After Epoch: 44 accuracy: 0.6474537037037037\n",
            "Epoch: 44 starting with accuracy 0.6486111111111111\n",
            " After Epoch: 45 accuracy: 0.6486111111111111\n",
            "Epoch: 45 starting with accuracy 0.6486111111111111\n",
            " After Epoch: 46 accuracy: 0.6486111111111111\n",
            "Epoch: 46 starting with accuracy 0.6486111111111111\n",
            " After Epoch: 47 accuracy: 0.6486111111111111\n",
            "Epoch: 47 starting with accuracy 0.6497685185185185\n",
            " After Epoch: 48 accuracy: 0.6497685185185185\n",
            "Epoch: 48 starting with accuracy 0.6497685185185185\n",
            " After Epoch: 49 accuracy: 0.6497685185185185\n",
            "Epoch: 49 starting with accuracy 0.6474537037037037\n",
            " After Epoch: 50 accuracy: 0.6474537037037037\n",
            "  After Training of 50 Epochs test accuracy: 0.6474537037037037\n",
            "The training took  28  minutes and  22.012892961502075  seconds.\n"
          ]
        },
        {
          "output_type": "display_data",
          "data": {
            "text/plain": [
              "<Figure size 432x288 with 1 Axes>"
            ],
            "image/png": "[encoded data removed]"
          },
          "metadata": {
            "needs_background": "light"
          }
        },
        {
          "output_type": "display_data",
          "data": {
            "text/plain": [
              "<Figure size 432x288 with 1 Axes>"
            ],
            "image/png": "[encoded data removed]"
          },
          "metadata": {
            "needs_background": "light"
          }
        }
      ]
    }
  ],
  "metadata": {
    "colab": {
      "collapsed_sections": [],
      "name": "Turtles_final.ipynb",
      "provenance": []
    },
    "kernelspec": {
      "display_name": "Python 3",
      "name": "python3"
    },
    "language_info": {
      "name": "python"
    },
    "accelerator": "GPU"
  },
  "nbformat": 4,
  "nbformat_minor": 0
}